{
 "cells": [
  {
   "cell_type": "code",
   "execution_count": 1,
   "metadata": {
    "collapsed": true
   },
   "outputs": [],
   "source": [
    "import os\n",
    "import sys"
   ]
  },
  {
   "cell_type": "code",
   "execution_count": 2,
   "metadata": {
    "collapsed": true
   },
   "outputs": [],
   "source": [
    "#sys.path.insert(0, '/Users/marusy/Programming/another-fem-framework/')\n",
    "#sys.path.insert(0, '/home/lshtanko/Programming/another-fem-framework/')\n",
    "sys.path.insert(0, '/Users/leonshting/Programming/Schlumberger/fem-framework/')"
   ]
  },
  {
   "cell_type": "code",
   "execution_count": 3,
   "metadata": {
    "collapsed": true
   },
   "outputs": [],
   "source": [
    "import h5py\n",
    "import numpy as np\n",
    "from common import polynom_factory\n",
    "from operator import itemgetter\n",
    "import sympy\n",
    "from common.tests import partial_diff_test"
   ]
  },
  {
   "cell_type": "code",
   "execution_count": 4,
   "metadata": {
    "collapsed": true
   },
   "outputs": [],
   "source": [
    "f_matrices = h5py.File('../datasources/1_10_globatto_matrices.h5')"
   ]
  },
  {
   "cell_type": "code",
   "execution_count": 8,
   "metadata": {
    "collapsed": true
   },
   "outputs": [],
   "source": [
    "f_lobatto_integrated_matrices = h5py.File('../datasources/1_10_globatto_integrated.h5')"
   ]
  },
  {
   "cell_type": "code",
   "execution_count": 9,
   "metadata": {
    "collapsed": true
   },
   "outputs": [],
   "source": [
    "orders_available = f_matrices['order_range'][()]"
   ]
  },
  {
   "cell_type": "code",
   "execution_count": 10,
   "metadata": {},
   "outputs": [
    {
     "data": {
      "text/plain": [
       "<HDF5 dataset \"order_range\": shape (9,), type \"<i4\">"
      ]
     },
     "execution_count": 10,
     "metadata": {},
     "output_type": "execute_result"
    }
   ],
   "source": [
    "f_lobatto_integrated_matrices.create_group('M_maps')\n",
    "for order in orders_available:\n",
    "    f_lobatto_integrated_matrices['M_maps'].create_group('M_map_{}'.format(order))\n",
    "    X, Y, indices = [f_matrices['M_maps/M_map_{}/{}'.format(order,x)][()] for x in ['X','Y', 'indices']]\n",
    "    for s,x in zip(['X','Y', 'indices'],[X, Y, indices]):\n",
    "        f_lobatto_integrated_matrices['M_maps/M_map_{}'.format(order)].create_dataset(s,data=x)\n",
    "f_lobatto_integrated_matrices.create_dataset('order_range', data=orders_available)"
   ]
  },
  {
   "cell_type": "code",
   "execution_count": 11,
   "metadata": {},
   "outputs": [
    {
     "data": {
      "text/plain": [
       "[('M_maps', <HDF5 group \"/M_maps\" (9 members)>),\n",
       " ('grad_matrices', <HDF5 group \"/grad_matrices\" (9 members)>),\n",
       " ('mass_matrices', <HDF5 group \"/mass_matrices\" (9 members)>),\n",
       " ('order_range', <HDF5 dataset \"order_range\": shape (9,), type \"<i4\">)]"
      ]
     },
     "execution_count": 11,
     "metadata": {},
     "output_type": "execute_result"
    }
   ],
   "source": [
    "list(f_matrices.items())"
   ]
  },
  {
   "cell_type": "code",
   "execution_count": 12,
   "metadata": {},
   "outputs": [
    {
     "data": {
      "text/plain": [
       "<HDF5 group \"/grad_matrices\" (0 members)>"
      ]
     },
     "execution_count": 12,
     "metadata": {},
     "output_type": "execute_result"
    }
   ],
   "source": [
    "f_lobatto_integrated_matrices.create_group('mass_matrices')\n",
    "f_lobatto_integrated_matrices.create_group('grad_matrices')"
   ]
  },
  {
   "cell_type": "code",
   "execution_count": 13,
   "metadata": {},
   "outputs": [
    {
     "name": "stdout",
     "output_type": "stream",
     "text": [
      "order 9 done"
     ]
    }
   ],
   "source": [
    "for order in orders_available:\n",
    "    mass_lobatto = f_matrices['mass_matrices/base_M_order_{}'.format(order)][()]\n",
    "    grad_lobatto = np.zeros(mass_lobatto.shape)\n",
    "    mass_lobatto = mass_lobatto.sum(axis=1)\n",
    "    X, Y, indices = [f_matrices['M_maps/M_map_{}/{}'.format(order,x)][()] for x in ['X','Y', 'indices']]\n",
    "    func_to_eval = polynom_factory.local_gradgrad_functions(dim=2, distribution='globatto', order=order)\n",
    "    sorted_X = np.array([x for _,x in sorted(zip(indices,X))])\n",
    "    sorted_Y = np.array([y for _,y in sorted(zip(indices,Y))])\n",
    "    for ind, func in func_to_eval[0].items():\n",
    "        grad_lobatto[ind] = np.sum(\n",
    "            mass_lobatto * np.array(sympy.lambdify(modules='numpy',\n",
    "                                                   args=func_to_eval[1],\n",
    "                                                   expr=func)(sorted_X, sorted_Y))\n",
    "        )\n",
    "    f_lobatto_integrated_matrices['mass_matrices'].create_dataset(\n",
    "        'base_M_order_{}'.format(order),\n",
    "        data=np.diag(mass_lobatto)\n",
    "    )\n",
    "    f_lobatto_integrated_matrices['grad_matrices'].create_dataset(\n",
    "        'M_order_{}'.format(order),\n",
    "        data=grad_lobatto\n",
    "    )\n",
    "    print('\\rorder {} done'.format(order), end='')\n",
    "    "
   ]
  },
  {
   "cell_type": "code",
   "execution_count": 14,
   "metadata": {
    "collapsed": true
   },
   "outputs": [],
   "source": [
    "f_lobatto_integrated_matrices.close()"
   ]
  },
  {
   "cell_type": "code",
   "execution_count": null,
   "metadata": {
    "collapsed": true
   },
   "outputs": [],
   "source": []
  }
 ],
 "metadata": {
  "kernelspec": {
   "display_name": "Python 3",
   "language": "python",
   "name": "python3"
  },
  "language_info": {
   "codemirror_mode": {
    "name": "ipython",
    "version": 3
   },
   "file_extension": ".py",
   "mimetype": "text/x-python",
   "name": "python",
   "nbconvert_exporter": "python",
   "pygments_lexer": "ipython3",
   "version": "3.6.0"
  }
 },
 "nbformat": 4,
 "nbformat_minor": 2
}
