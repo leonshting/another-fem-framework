{
 "cells": [
  {
   "cell_type": "code",
   "execution_count": 1,
   "metadata": {
    "collapsed": true,
    "deletable": true,
    "editable": true
   },
   "outputs": [],
   "source": [
    "import os\n",
    "import sys"
   ]
  },
  {
   "cell_type": "code",
   "execution_count": 2,
   "metadata": {
    "collapsed": false,
    "deletable": true,
    "editable": true
   },
   "outputs": [],
   "source": [
    "#sys.path.insert(0, '/Users/marusy/Programming/another-fem-framework/')\n",
    "sys.path.insert(0, '/home/lshtanko/Programming/another-fem-framework/')\n",
    "#sys.path.insert(0, '/Users/leonshting/Programming/Schlumberger/fem-framework/')"
   ]
  },
  {
   "cell_type": "code",
   "execution_count": 3,
   "metadata": {
    "collapsed": false,
    "deletable": true,
    "editable": true
   },
   "outputs": [],
   "source": [
    "import numpy as np\n",
    "from common import polynom_factory\n",
    "import h5py"
   ]
  },
  {
   "cell_type": "code",
   "execution_count": 4,
   "metadata": {
    "collapsed": true,
    "deletable": true,
    "editable": true
   },
   "outputs": [],
   "source": [
    "limits  = (1,10)\n",
    "orders = range(*limits)\n",
    "distribution = 'globatto'\n",
    "dim = 2\n",
    "standard_size = (0,1)"
   ]
  },
  {
   "cell_type": "code",
   "execution_count": 5,
   "metadata": {
    "collapsed": true,
    "deletable": true,
    "editable": true
   },
   "outputs": [],
   "source": [
    "f = h5py.File('../datasources/{}_{}_{}_matrices.h5'.format(*limits, distribution))"
   ]
  },
  {
   "cell_type": "code",
   "execution_count": 6,
   "metadata": {
    "collapsed": true,
    "deletable": true,
    "editable": true
   },
   "outputs": [],
   "source": [
    "order_group = f.create_dataset('order_range', data=np.array(orders, dtype=np.int32))\n",
    "MM_group = f.create_group('mass_matrices')\n",
    "GG_group = f.create_group('grad_matrices')\n",
    "M_maps_group = f.create_group('M_maps')"
   ]
  },
  {
   "cell_type": "code",
   "execution_count": 7,
   "metadata": {
    "collapsed": false,
    "deletable": true,
    "editable": true
   },
   "outputs": [
    {
     "name": "stdout",
     "output_type": "stream",
     "text": [
      "9 order done "
     ]
    }
   ],
   "source": [
    "for order in orders:\n",
    "    MM_group.create_dataset(name='base_M_order_{}'.format(order),\n",
    "                            data=polynom_factory.local_funcfunc_matrix(dim=dim,\n",
    "                                                                       distribution=distribution,\n",
    "                                                                       order=order,\n",
    "                                                                       size=standard_size)\n",
    "                           )\n",
    "    print('\\r{} order done'.format(order), end=' ')"
   ]
  },
  {
   "cell_type": "code",
   "execution_count": 8,
   "metadata": {
    "collapsed": false,
    "deletable": true,
    "editable": true
   },
   "outputs": [
    {
     "name": "stdout",
     "output_type": "stream",
     "text": [
      "9 order done "
     ]
    }
   ],
   "source": [
    "for order in orders:\n",
    "    data = polynom_factory.local_gradgrad_matrix(dim=2, \n",
    "                                                 distribution=distribution,\n",
    "                                                 order=order,\n",
    "                                                 size=standard_size\n",
    "                                                )\n",
    "    GG_group.create_dataset(name='M_order_{}'.format(order),\n",
    "                            data=data[0])\n",
    "    \n",
    "    Xs = np.zeros((order + 1)**dim)\n",
    "    Ys = np.zeros((order + 1)**dim)\n",
    "    indices = np.zeros((order + 1)**dim)\n",
    "    \n",
    "    for num, (k,v) in enumerate(data[1].items()):\n",
    "        Xs[num] = k[0]\n",
    "        Ys[num] = k[1]\n",
    "        indices[num] = v\n",
    "    M_map = M_maps_group.create_group(name='M_map_{}'.format(order))\n",
    "    M_map.create_dataset('X', data=Xs)\n",
    "    M_map.create_dataset('Y', data=Ys)\n",
    "    M_map.create_dataset('indices', data=indices)\n",
    "    print('\\r{} order done'.format(order), end=' ')"
   ]
  },
  {
   "cell_type": "code",
   "execution_count": 9,
   "metadata": {
    "collapsed": true,
    "deletable": true,
    "editable": true
   },
   "outputs": [],
   "source": [
    "f.close()"
   ]
  },
  {
   "cell_type": "code",
   "execution_count": 10,
   "metadata": {
    "collapsed": true,
    "deletable": true,
    "editable": true
   },
   "outputs": [],
   "source": [
    "f = h5py.File('../datasources/{}_{}_{}_matrices.h5'.format(*limits, distribution))"
   ]
  },
  {
   "cell_type": "code",
   "execution_count": 17,
   "metadata": {
    "collapsed": false
   },
   "outputs": [],
   "source": [
    "daata = f['mass_matrices/base_M_order_3'][()]"
   ]
  },
  {
   "cell_type": "code",
   "execution_count": 20,
   "metadata": {
    "collapsed": false
   },
   "outputs": [
    {
     "data": {
      "text/plain": [
       "array([ 0.00694444,  0.03472222,  0.03472222,  0.00694444,  0.03472222,\n",
       "        0.17361113,  0.17361112,  0.03472222,  0.03472222,  0.17361112,\n",
       "        0.17361111,  0.03472221,  0.00694444,  0.03472222,  0.03472221,\n",
       "        0.00694444])"
      ]
     },
     "execution_count": 20,
     "metadata": {},
     "output_type": "execute_result"
    }
   ],
   "source": [
    "daata.sum(axis=1)"
   ]
  },
  {
   "cell_type": "code",
   "execution_count": null,
   "metadata": {
    "collapsed": true
   },
   "outputs": [],
   "source": []
  }
 ],
 "metadata": {
  "kernelspec": {
   "display_name": "Python 3",
   "language": "python",
   "name": "python3"
  },
  "language_info": {
   "codemirror_mode": {
    "name": "ipython",
    "version": 3
   },
   "file_extension": ".py",
   "mimetype": "text/x-python",
   "name": "python",
   "nbconvert_exporter": "python",
   "pygments_lexer": "ipython3",
   "version": "3.5.1"
  }
 },
 "nbformat": 4,
 "nbformat_minor": 2
}
