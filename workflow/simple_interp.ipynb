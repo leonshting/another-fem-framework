{
 "cells": [
  {
   "cell_type": "code",
   "execution_count": null,
   "metadata": {
    "collapsed": true,
    "deletable": true,
    "editable": true
   },
   "outputs": [],
   "source": [
    "import os\n",
    "import sys"
   ]
  },
  {
   "cell_type": "code",
   "execution_count": null,
   "metadata": {
    "collapsed": true,
    "deletable": true,
    "editable": true
   },
   "outputs": [],
   "source": [
    "sys.path.insert(0, '/Users/leonshting/Programming/Schlumberger/fem-framework/')"
   ]
  },
  {
   "cell_type": "code",
   "execution_count": null,
   "metadata": {
    "collapsed": true,
    "deletable": true,
    "editable": true
   },
   "outputs": [],
   "source": [
    "import numpy as np\n",
    "from matplotlib import pyplot as plt\n",
    "from common import polynom_factory\n",
    "\n",
    "from scipy import linalg\n",
    "\n",
    "%matplotlib inline\n",
    "np.set_printoptions(precision=3, linewidth=200)"
   ]
  },
  {
   "cell_type": "code",
   "execution_count": null,
   "metadata": {
    "collapsed": true,
    "deletable": true,
    "editable": true
   },
   "outputs": [],
   "source": [
    "order = 2\n",
    "interpolant = np.eye(order+1)"
   ]
  },
  {
   "cell_type": "code",
   "execution_count": null,
   "metadata": {
    "collapsed": true,
    "deletable": true,
    "editable": true
   },
   "outputs": [],
   "source": [
    "lgg = polynom_factory.local_gradgrad_matrix(dim=2, distribution='globatto', order=order)\n",
    "lgf = polynom_factory.local_gradfunc_matrix(dim=2, distribution='globatto', order=order)"
   ]
  },
  {
   "cell_type": "code",
   "execution_count": null,
   "metadata": {
    "collapsed": true,
    "deletable": true,
    "editable": true
   },
   "outputs": [],
   "source": [
    "dof_l_f = list(range((order+1)**2 - (order+1),(order+1)**2))\n",
    "F_lr = np.dot(interpolant, lgf[1][2][((order+1)**2 - (order+1)):])\n",
    "\n",
    "\n",
    "dof_r_f = list(range(order+1))\n",
    "F_rl = np.dot(interpolant, lgf[1][0][:(order+1)])"
   ]
  },
  {
   "cell_type": "code",
   "execution_count": null,
   "metadata": {
    "collapsed": true,
    "deletable": true,
    "editable": true
   },
   "outputs": [],
   "source": [
    "dist_matrix_r = np.zeros((order+1, (order+1)**2))\n",
    "for num, dof in enumerate(dof_r_f):\n",
    "    dist_matrix_r[num, dof] = 1."
   ]
  },
  {
   "cell_type": "code",
   "execution_count": null,
   "metadata": {
    "collapsed": true,
    "deletable": true,
    "editable": true
   },
   "outputs": [],
   "source": [
    "dist_matrix_l = np.zeros((order+1, (order+1)**2))\n",
    "for num, dof in enumerate(dof_l_f):\n",
    "    dist_matrix_l[num, dof] = 1."
   ]
  },
  {
   "cell_type": "code",
   "execution_count": null,
   "metadata": {
    "collapsed": true,
    "deletable": true,
    "editable": true
   },
   "outputs": [],
   "source": [
    "upper = np.hstack((lgg[0], np.dot(dist_matrix_l.T, F_rl)))\n",
    "bottom = np.hstack((np.dot(dist_matrix_r.T, F_lr), lgg[0]))"
   ]
  },
  {
   "cell_type": "code",
   "execution_count": null,
   "metadata": {
    "collapsed": true,
    "deletable": true,
    "editable": true
   },
   "outputs": [],
   "source": [
    "whole = np.vstack((upper, bottom))"
   ]
  },
  {
   "cell_type": "code",
   "execution_count": null,
   "metadata": {
    "collapsed": true,
    "deletable": true,
    "editable": true
   },
   "outputs": [],
   "source": [
    "whole_dist = np.zeros((2*(order+1)**2,2*(order+1)**2 - (order+1)))\n",
    "whole_dist_avg = np.zeros((2*(order+1)**2,2*(order+1)**2 - (order+1)))\n",
    "whole_dist_map = np.zeros((2*(order+1)**2,2*(order+1)**2))\n",
    "sum = 0\n",
    "for i in range((order+1)**2):\n",
    "    whole_dist[i,i] = 1\n",
    "    if(i>=((order+1)**2 - (order+1))):\n",
    "        whole_dist_avg[i,i] = .5\n",
    "        whole_dist_map[i,i + 1 + order] = .5\n",
    "        whole_dist_map[i,i] = .5\n",
    "    else:\n",
    "        whole_dist_avg[i,i] = 1\n",
    "        whole_dist_map[i,i] = 1\n",
    "    sum += 1\n",
    "for i in range((order+1)**2):\n",
    "    whole_dist[sum + i, sum+i-(order+1)] = 1\n",
    "    if(i<(order+1)):\n",
    "        whole_dist_avg[sum + i, sum+i-(order+1)] = .5\n",
    "        whole_dist_map[sum + i, sum+i-(order+1)] = .5\n",
    "        whole_dist_map[sum+i,sum+i] = .5\n",
    "    else:\n",
    "        whole_dist_avg[sum + i, sum+i-(order+1)] = 1\n",
    "        whole_dist_map[sum+i,sum+i] = 1"
   ]
  },
  {
   "cell_type": "code",
   "execution_count": null,
   "metadata": {
    "collapsed": true,
    "deletable": true,
    "editable": true
   },
   "outputs": [],
   "source": [
    "whole_aux = np.dot(whole_dist_map, whole)"
   ]
  },
  {
   "cell_type": "code",
   "execution_count": null,
   "metadata": {
    "collapsed": true,
    "deletable": true,
    "editable": true
   },
   "outputs": [],
   "source": [
    "whole_classic = linalg.block_diag(lgg[0], lgg[0])"
   ]
  },
  {
   "cell_type": "code",
   "execution_count": null,
   "metadata": {
    "collapsed": true,
    "deletable": true,
    "editable": true
   },
   "outputs": [],
   "source": [
    "whole_classic_glob = np.dot(whole_dist.T, np.dot(whole_classic, whole_dist))\n",
    "whole_hype_glob = np.dot(whole_dist.T, np.dot(whole, whole_dist))\n",
    "\n",
    "whole_glob = np.dot(whole_dist.T, np.dot(whole, whole_dist))"
   ]
  },
  {
   "cell_type": "code",
   "execution_count": null,
   "metadata": {
    "collapsed": true,
    "deletable": true,
    "editable": true
   },
   "outputs": [],
   "source": [
    "def partial_diff_test(pointnum, point, matrix, pointdict):\n",
    "    x_der = 0\n",
    "    xx_der = 0\n",
    "    yy_der = 0\n",
    "    y_der = 0\n",
    "    xy_der = 0\n",
    "    \n",
    "    for k,v in pointdict.items():\n",
    "        dx = point[0] - k[0]\n",
    "        dy = point[1] - k[1]\n",
    "            \n",
    "        x_der += dx*res[root,v]\n",
    "        xx_der += res[root,v]*dx**2/2\n",
    "        y_der += dy*res[root,v]\n",
    "        yy_der += dy**2/2*res[root,v]\n",
    "        xy_der += dx*dy*res[root,v]\n",
    "            \n",
    "    print('Mass coef: {}'.format(mass_matrix[root].sum()))\n",
    "    \n",
    "    print('X derivative: {}'.format(x_der))\n",
    "    print('Y derivative: {}'.format(y_der))\n",
    "    print('XX derivative: {}'.format(xx_der))\n",
    "    print('YY derivative: {}'.format(yy_der))\n",
    "    print('XY_derivative: {}'.format(xy_der), end='\\n\\n')"
   ]
  },
  {
   "cell_type": "code",
   "execution_count": null,
   "metadata": {
    "collapsed": false,
    "deletable": true,
    "editable": true
   },
   "outputs": [],
   "source": [
    "from common import polynom_factory\n",
    "import numpy as np\n",
    "from itertools import product\n",
    "sizes = [(0.,float(2**i)) for i in range(6)]\n",
    "\n",
    "for size in sizes:\n",
    "    mass_matrix = polynom_factory.local_funcfunc_matrix(order=2, dim=2, distribution='globatto', size=size)\n",
    "    gradgrad = polynom_factory.local_gradgrad_matrix(order=2, distribution='globatto', dim=2, size=size)\n",
    "    gradfunc = polynom_factory.local_gradfunc_matrix(order=2, distribution='globatto', dim=2, size=size)[1][0]\n",
    "    print(size)\n",
    "    for (point,root) in gradgrad[1].items():\n",
    "        print(point)\n",
    "        partial_diff_test(matrix=gradgrad[0], point=point, pointnum=root, pointdict=gradgrad[1])"
   ]
  },
  {
   "cell_type": "code",
   "execution_count": null,
   "metadata": {
    "collapsed": true,
    "deletable": true,
    "editable": true
   },
   "outputs": [],
   "source": [
    ""
   ]
  }
 ],
 "metadata": {
  "kernelspec": {
   "display_name": "Python 3",
   "language": "python",
   "name": "python3"
  },
  "language_info": {
   "codemirror_mode": {
    "name": "ipython",
    "version": 3.0
   },
   "file_extension": ".py",
   "mimetype": "text/x-python",
   "name": "python",
   "nbconvert_exporter": "python",
   "pygments_lexer": "ipython3",
   "version": "3.5.1"
  }
 },
 "nbformat": 4,
 "nbformat_minor": 0
}