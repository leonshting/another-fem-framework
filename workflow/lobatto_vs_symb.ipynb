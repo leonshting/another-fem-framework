{
 "cells": [
  {
   "cell_type": "code",
   "execution_count": 1,
   "metadata": {
    "collapsed": true,
    "deletable": true,
    "editable": true
   },
   "outputs": [],
   "source": [
    "import os\n",
    "import sys"
   ]
  },
  {
   "cell_type": "code",
   "execution_count": 2,
   "metadata": {
    "collapsed": true,
    "deletable": true,
    "editable": true
   },
   "outputs": [],
   "source": [
    "#sys.path.insert(0, '/Users/marusy/Programming/another-fem-framework/')\n",
    "sys.path.insert(0, '/home/lshtanko/Programming/another-fem-framework/')\n",
    "#sys.path.insert(0, '/Users/leonshting/Programming/Schlumberger/fem-framework/')"
   ]
  },
  {
   "cell_type": "code",
   "execution_count": 3,
   "metadata": {
    "collapsed": true,
    "deletable": true,
    "editable": true
   },
   "outputs": [],
   "source": [
    "import numpy as np\n",
    "from interpolant.cell_to_points import Cell2PointsConverter\n",
    "from interpolant.strict import StrictSolve\n",
    "from interpolant.opt import OptSolve\n",
    "from common.helpers import *\n",
    "from common.tests import *\n",
    "from interpolant.helpers import *\n",
    "from matplotlib import pyplot as plt\n",
    "from common import polynom_factory\n",
    "import h5py\n",
    "import sympy\n",
    "%matplotlib inline"
   ]
  },
  {
   "cell_type": "code",
   "execution_count": 4,
   "metadata": {
    "collapsed": true,
    "deletable": true,
    "editable": true
   },
   "outputs": [],
   "source": [
    "order = 5\n",
    "\n",
    "#glob_2d_weights = polynom_factory.local_funcfunc_matrix(dim=2,distribution='globatto', order=order).sum(axis=1)\n",
    "points = polynom_factory.glob_points(order=order, size=(0,1))\n",
    "points_2d = list(itertools.product(points, repeat=2))"
   ]
  },
  {
   "cell_type": "code",
   "execution_count": 5,
   "metadata": {
    "collapsed": true,
    "deletable": true,
    "editable": true
   },
   "outputs": [],
   "source": [
    "gradgrad = polynom_factory.local_gradgrad_functions(dim=2, distribution='globatto', order=order)\n",
    "grads = polynom_factory.local_gradients(dim=2, distribution='globatto', order=order)"
   ]
  },
  {
   "cell_type": "code",
   "execution_count": 15,
   "metadata": {
    "collapsed": false
   },
   "outputs": [
    {
     "name": "stdout",
     "output_type": "stream",
     "text": [
      "1295\r"
     ]
    }
   ],
   "source": [
    "matrix = np.zeros(tuple(2*[len(grads)]))\n",
    "sub_dict = [{sym: val for sym, val in zip(gradgrad[1], point)} for point in points_2d]\n",
    "for num, (ind, gg) in enumerate(gradgrad[0].items()):\n",
    "    try:\n",
    "        lmb = sympy.lambdify(gg.free_symbols, gg, 'numpy')\n",
    "        print(num, end='\\r')\n",
    "        vals = [lmb(*list(sub_d.values()))  for sub_d in sub_dict]\n",
    "        matrix[ind] = np.dot(np.array(vals).T,glob_2d_weights)\n",
    "    except:\n",
    "        print(gg, gg.free_symbols)\n",
    "        raise Exception\n",
    "    "
   ]
  },
  {
   "cell_type": "code",
   "execution_count": 16,
   "metadata": {
    "collapsed": true,
    "deletable": true,
    "editable": true
   },
   "outputs": [],
   "source": [
    "index = polynom_factory.local_index(dim=2,distribution='globatto', order=order)"
   ]
  },
  {
   "cell_type": "code",
   "execution_count": null,
   "metadata": {
    "collapsed": true,
    "deletable": true,
    "editable": true
   },
   "outputs": [],
   "source": [
    "ref_matrix, index = polynom_factory.local_gradgrad_matrix(dim=2,distribution='globatto', order=order)"
   ]
  },
  {
   "cell_type": "code",
   "execution_count": 17,
   "metadata": {
    "collapsed": false
   },
   "outputs": [],
   "source": [
    "normed = np.dot(np.diag(1/glob_2d_weights), matrix)"
   ]
  },
  {
   "cell_type": "code",
   "execution_count": 18,
   "metadata": {
    "collapsed": false,
    "deletable": true,
    "editable": true
   },
   "outputs": [
    {
     "name": "stdout",
     "output_type": "stream",
     "text": [
      "X derivative: 0.0003255479446808789\n",
      "Y derivative: -30.000260430181363\n",
      "XX derivative: -1.000008975122723\n",
      "YY derivative: -1.000031541270439\n",
      "XY_derivative: 1.277520184112797e-10\n",
      "\n",
      "\n",
      "\n",
      "\n",
      "X derivative: 5.8110362030296655e-05\n",
      "Y derivative: -9.923645033449446e-05\n",
      "XX derivative: -1.0000457434723848\n",
      "YY derivative: -1.0000131251649784\n",
      "XY_derivative: -1.7636356004666384e-09\n",
      "\n",
      "\n",
      "\n",
      "\n",
      "X derivative: -29.999741256948187\n",
      "Y derivative: 1.1850130018225493e-05\n",
      "XX derivative: -0.9999230764090633\n",
      "YY derivative: -1.0000025880365593\n",
      "XY_derivative: -1.549661703161235e-08\n",
      "\n",
      "\n",
      "\n",
      "\n",
      "X derivative: -7.655218390033749e-05\n",
      "Y derivative: -3.226402349446542e-05\n",
      "XX derivative: -1.0000377787492547\n",
      "YY derivative: -1.0000023720158133\n",
      "XY_derivative: 5.712761034919031e-10\n",
      "\n",
      "\n",
      "\n",
      "\n",
      "X derivative: 30.00011347904406\n",
      "Y derivative: 2.5288418004290997e-05\n",
      "XX derivative: -1.0000450981646036\n",
      "YY derivative: -0.9999123705454924\n",
      "XY_derivative: -2.0124237597125524e-09\n",
      "\n",
      "\n",
      "\n",
      "\n",
      "X derivative: 0.0001702192740956731\n",
      "Y derivative: -4.850458730186946e-05\n",
      "XX derivative: -0.9999543954662925\n",
      "YY derivative: -0.9999923975062232\n",
      "XY_derivative: -1.0370590587456737e-09\n",
      "\n",
      "\n",
      "\n",
      "\n",
      "X derivative: 2.2252215910249284e-05\n",
      "Y derivative: 8.771297924247077e-07\n",
      "XX derivative: -0.9999732385869307\n",
      "YY derivative: -0.9999977650323686\n",
      "XY_derivative: 5.106165133294041e-10\n",
      "\n",
      "\n",
      "\n",
      "\n",
      "X derivative: 1.9688865867264795e-05\n",
      "Y derivative: 9.291937068741064e-05\n",
      "XX derivative: -0.9999884185527397\n",
      "YY derivative: -0.9999981666862107\n",
      "XY_derivative: 1.2767930657649346e-10\n",
      "\n",
      "\n",
      "\n",
      "\n",
      "X derivative: 30.0002139377837\n",
      "Y derivative: -0.00015923449765506702\n",
      "XX derivative: -1.0000334084009874\n",
      "YY derivative: -1.000087753324898\n",
      "XY_derivative: 8.993050972390047e-09\n",
      "\n",
      "\n",
      "\n",
      "\n",
      "X derivative: -1.702923989705719e-06\n",
      "Y derivative: -5.129848564832187e-05\n",
      "XX derivative: -1.0000117079499002\n",
      "YY derivative: -1.0000277640700892\n",
      "XY_derivative: -8.722347276016354e-10\n",
      "\n",
      "\n",
      "\n",
      "\n",
      "X derivative: 29.999550241902256\n",
      "Y derivative: 0.00029668443347531697\n",
      "XX derivative: -0.999891020374047\n",
      "YY derivative: -0.9998939007891532\n",
      "XY_derivative: -6.062242201839787e-09\n",
      "\n",
      "\n",
      "\n",
      "\n",
      "X derivative: 4.418092391045292e-06\n",
      "Y derivative: -5.272197610220872e-05\n",
      "XX derivative: -1.000019065070378\n",
      "YY derivative: -0.9999937216057281\n",
      "XY_derivative: -5.019971109859379e-10\n",
      "\n",
      "\n",
      "\n",
      "\n",
      "X derivative: 2.6729061193719872e-05\n",
      "Y derivative: 3.125430613604152e-05\n",
      "XX derivative: -1.0000157586762313\n",
      "YY derivative: -0.9999723622669472\n",
      "XY_derivative: -3.938986486422548e-10\n",
      "\n",
      "\n",
      "\n",
      "\n",
      "X derivative: -29.999428369783825\n",
      "Y derivative: 29.99963039496474\n",
      "XX derivative: -0.99982058486835\n",
      "YY derivative: -1.0000058249824586\n",
      "XY_derivative: -5.292218415199115e-09\n",
      "\n",
      "\n",
      "\n",
      "\n",
      "X derivative: -29.999637696649685\n",
      "Y derivative: -2.6582399906465676e-07\n",
      "XX derivative: -0.9999551711019525\n",
      "YY derivative: -0.9999979820734446\n",
      "XY_derivative: -3.720562502417773e-09\n",
      "\n",
      "\n",
      "\n",
      "\n",
      "X derivative: 8.666318264690378e-05\n",
      "Y derivative: -29.9997684514262\n",
      "XX derivative: -1.0000074146484612\n",
      "YY derivative: -1.0000059135493566\n",
      "XY_derivative: 1.4144561144476897e-09\n",
      "\n",
      "\n",
      "\n",
      "\n",
      "X derivative: -2.3317820836466727e-05\n",
      "Y derivative: -5.600946009619815e-06\n",
      "XX derivative: -1.0000141598898848\n",
      "YY derivative: -1.0000064051997435\n",
      "XY_derivative: -4.3503595005818247e-10\n",
      "\n",
      "\n",
      "\n",
      "\n",
      "X derivative: 3.8077876192450464e-05\n",
      "Y derivative: -29.999473492501885\n",
      "XX derivative: -0.9999911715369363\n",
      "YY derivative: -0.9999821402597117\n",
      "XY_derivative: 4.45601955418909e-09\n",
      "\n",
      "\n",
      "\n",
      "\n",
      "X derivative: 0.0004213967864476516\n",
      "Y derivative: 29.99970176189997\n",
      "XX derivative: -0.999924589255677\n",
      "YY derivative: -0.9999687283819068\n",
      "XY_derivative: -2.579834055454771e-09\n",
      "\n",
      "\n",
      "\n",
      "\n",
      "X derivative: 30.000807860509575\n",
      "Y derivative: -29.9997392980816\n",
      "XX derivative: -0.9999786129081318\n",
      "YY derivative: -0.9997474423694913\n",
      "XY_derivative: -6.659195384904746e-09\n",
      "\n",
      "\n",
      "\n",
      "\n",
      "X derivative: -6.178536632423546e-05\n",
      "Y derivative: -7.018393925274649e-05\n",
      "XX derivative: -0.9999623475122776\n",
      "YY derivative: -0.9999665358129436\n",
      "XY_derivative: 2.1628072322242235e-09\n",
      "\n",
      "\n",
      "\n",
      "\n",
      "X derivative: 7.617496709448127e-05\n",
      "Y derivative: 29.999641484719433\n",
      "XX derivative: -0.9999377150690149\n",
      "YY derivative: -0.9999943412771046\n",
      "XY_derivative: 2.988626211588263e-09\n",
      "\n",
      "\n",
      "\n",
      "\n",
      "X derivative: 0.00019489746577150413\n",
      "Y derivative: -2.602126832762508e-05\n",
      "XX derivative: -0.9999675990200545\n",
      "YY derivative: -0.9999870116270567\n",
      "XY_derivative: -2.142765017406243e-09\n",
      "\n",
      "\n",
      "\n",
      "\n",
      "X derivative: 30.002188291090775\n",
      "Y derivative: 30.002291285849342\n",
      "XX derivative: -1.0001797070168112\n",
      "YY derivative: -1.0002528394723695\n",
      "XY_derivative: -6.1898395150878724e-09\n",
      "\n",
      "\n",
      "\n",
      "\n",
      "X derivative: 1.5167284544438427e-05\n",
      "Y derivative: -1.6680960635007125e-05\n",
      "XX derivative: -0.9999859774758854\n",
      "YY derivative: -0.9999892858574357\n",
      "XY_derivative: -5.877834089217611e-10\n",
      "\n",
      "\n",
      "\n",
      "\n",
      "X derivative: -4.39035102250962e-05\n",
      "Y derivative: -7.264387799467888e-05\n",
      "XX derivative: -0.9999843671898327\n",
      "YY derivative: -1.0000019593887335\n",
      "XY_derivative: -1.5559597652627018e-10\n",
      "\n",
      "\n",
      "\n",
      "\n",
      "X derivative: -30.000106608475082\n",
      "Y derivative: -0.00015808378559743088\n",
      "XX derivative: -1.0001092545670691\n",
      "YY derivative: -0.9999975557132544\n",
      "XY_derivative: 1.3695441813142e-10\n",
      "\n",
      "\n",
      "\n",
      "\n",
      "X derivative: -29.999906035801438\n",
      "Y derivative: 2.5747983483454593e-05\n",
      "XX derivative: -0.9999668580832956\n",
      "YY derivative: -1.0000021450290204\n",
      "XY_derivative: -8.370596288515992e-10\n",
      "\n",
      "\n",
      "\n",
      "\n",
      "X derivative: 30.001005966333775\n",
      "Y derivative: -0.0003460955430603097\n",
      "XX derivative: -1.0000772060361662\n",
      "YY derivative: -1.0001062454884329\n",
      "XY_derivative: 2.8449662689856646e-10\n",
      "\n",
      "\n",
      "\n",
      "\n",
      "X derivative: -30.000352831582944\n",
      "Y derivative: -29.999856196238913\n",
      "XX derivative: -1.0000216906678239\n",
      "YY derivative: -0.99999442927619\n",
      "XY_derivative: -1.926834135155812e-08\n",
      "\n",
      "\n",
      "\n",
      "\n",
      "X derivative: 3.2119127488188845e-05\n",
      "Y derivative: 0.00014835218050078376\n",
      "XX derivative: -1.0000325370863805\n",
      "YY derivative: -1.0000077401026053\n",
      "XY_derivative: 1.1455999831645233e-09\n",
      "\n",
      "\n",
      "\n",
      "\n",
      "X derivative: 5.2891173462145444e-05\n",
      "Y derivative: 29.999888081928006\n",
      "XX derivative: -1.000075551209457\n",
      "YY derivative: -1.0000181115059719\n",
      "XY_derivative: 7.410491391355804e-10\n",
      "\n",
      "\n",
      "\n",
      "\n",
      "X derivative: -0.00019135308372380153\n",
      "Y derivative: 30.000368838016165\n",
      "XX derivative: -1.0000624099541835\n",
      "YY derivative: -1.0000797325289532\n",
      "XY_derivative: 1.2428500660874274e-09\n",
      "\n",
      "\n",
      "\n",
      "\n",
      "X derivative: -8.980284940077024e-05\n",
      "Y derivative: -29.999714841478685\n",
      "XX derivative: -0.9999927123656042\n",
      "YY derivative: -0.9999205339952281\n",
      "XY_derivative: 4.364413947947632e-10\n",
      "\n",
      "\n",
      "\n",
      "\n",
      "X derivative: -0.00011387529378154564\n",
      "Y derivative: -1.938962685715671e-05\n",
      "XX derivative: -1.0000268868353397\n",
      "YY derivative: -1.0000336016472715\n",
      "XY_derivative: 5.29834265379816e-10\n",
      "\n",
      "\n",
      "\n",
      "\n",
      "X derivative: -4.59267522829259e-07\n",
      "Y derivative: 4.226921563556673e-05\n",
      "XX derivative: -0.9999810714253772\n",
      "YY derivative: -1.0000108403852457\n",
      "XY_derivative: -1.3298023629730717e-10\n",
      "\n",
      "\n",
      "\n",
      "\n"
     ]
    }
   ],
   "source": [
    "for point, num in index.items():\n",
    "    partial_diff_test(matrix=normed, point=point, pointnum=num, pointdict=index, multiple_dofs_on_point=False)\n",
    "    #partial_diff_test(matrix=ref_matrix, point=point, pointnum=num, pointdict=index, multiple_dofs_on_point=False)\n",
    "    \n",
    "    print('\\n\\n')"
   ]
  },
  {
   "cell_type": "code",
   "execution_count": 7,
   "metadata": {
    "collapsed": true
   },
   "outputs": [],
   "source": [
    "f = h5py.File('../datasources/5_6_globatto_matrices.h5', mode='r')"
   ]
  },
  {
   "cell_type": "code",
   "execution_count": 8,
   "metadata": {
    "collapsed": false
   },
   "outputs": [],
   "source": [
    "mass_5 = f['mass_matrices']['base_M_order_5'][()]"
   ]
  },
  {
   "cell_type": "code",
   "execution_count": 9,
   "metadata": {
    "collapsed": true
   },
   "outputs": [],
   "source": [
    "mass_5_d = np.diag(mass_5.sum(axis=1))"
   ]
  },
  {
   "cell_type": "code",
   "execution_count": 10,
   "metadata": {
    "collapsed": false
   },
   "outputs": [],
   "source": [
    "mass_5_flat = mass_5.sum(axis=1)\n",
    "glob_2d_weights = mass_5_flat"
   ]
  },
  {
   "cell_type": "code",
   "execution_count": 20,
   "metadata": {
    "collapsed": true
   },
   "outputs": [],
   "source": [
    "np.save(arr=mass_5_d, file='../datasources/pipka_mass.npz')"
   ]
  },
  {
   "cell_type": "code",
   "execution_count": 21,
   "metadata": {
    "collapsed": true
   },
   "outputs": [],
   "source": [
    "np.save(arr=matrix, file='../datasources/pipka.npz')"
   ]
  },
  {
   "cell_type": "code",
   "execution_count": null,
   "metadata": {
    "collapsed": true
   },
   "outputs": [],
   "source": []
  }
 ],
 "metadata": {
  "kernelspec": {
   "display_name": "Python 3",
   "language": "python",
   "name": "python3"
  },
  "language_info": {
   "codemirror_mode": {
    "name": "ipython",
    "version": 3
   },
   "file_extension": ".py",
   "mimetype": "text/x-python",
   "name": "python",
   "nbconvert_exporter": "python",
   "pygments_lexer": "ipython3",
   "version": "3.5.1"
  }
 },
 "nbformat": 4,
 "nbformat_minor": 2
}
