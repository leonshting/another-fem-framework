{
 "cells": [
  {
   "cell_type": "code",
   "execution_count": 1,
   "metadata": {},
   "outputs": [],
   "source": [
    "import os\n",
    "import sys"
   ]
  },
  {
   "cell_type": "code",
   "execution_count": 2,
   "metadata": {},
   "outputs": [],
   "source": [
    "sys.path.insert(0, '/Users/marusy/Programming/another-fem-framework/')\n",
    "#sys.path.insert(0, '/home/lshtanko/Programming/another-fem-framework/')\n",
    "#sys.path.insert(0, '/Users/leonshting/Programming/Schlumberger/fem-framework/')"
   ]
  },
  {
   "cell_type": "code",
   "execution_count": 3,
   "metadata": {},
   "outputs": [],
   "source": [
    "import numpy as np\n",
    "from interpolant.cell_to_points import Cell2PointsConverter\n",
    "from interpolant.strict import StrictSolve\n",
    "from interpolant.opt import OptSolve\n",
    "from common.helpers import *\n",
    "from common.tests import *\n",
    "from interpolant.helpers import *\n",
    "from matplotlib import pyplot as plt\n",
    "from common import polynom_factory\n",
    "%matplotlib inline"
   ]
  },
  {
   "cell_type": "code",
   "execution_count": 15,
   "metadata": {},
   "outputs": [],
   "source": [
    "order = 2\n",
    "\n",
    "glob_2d_weights = polynom_factory.local_funcfunc_matrix(dim=2,distribution='globatto', order=order).sum(axis=1)\n",
    "points = polynom_factory.glob_points(order=order, size=(0,1))\n",
    "points_2d = list(itertools.product(points, repeat=2))"
   ]
  },
  {
   "cell_type": "code",
   "execution_count": 16,
   "metadata": {},
   "outputs": [],
   "source": [
    "gradgrad = polynom_factory.local_gradgrad_functions(dim=2, distribution='globatto', order=order)\n",
    "grads = polynom_factory.local_gradients(dim=2, distribution='globatto', order=order)"
   ]
  },
  {
   "cell_type": "code",
   "execution_count": 17,
   "metadata": {},
   "outputs": [],
   "source": [
    "matrix = np.zeros(tuple(2*[len(grads)]))\n",
    "sub_dict = [{sym: val for sym, val in zip(gradgrad[1], point)} for point in points_2d]\n",
    "for ind, gg in gradgrad[0].items():\n",
    "    vals = [gg.subs(sub_d) for sub_d in sub_dict]\n",
    "    matrix[ind] = np.dot(np.array(vals).T,glob_2d_weights)"
   ]
  },
  {
   "cell_type": "code",
   "execution_count": 18,
   "metadata": {},
   "outputs": [],
   "source": [
    "index = polynom_factory.local_index(dim=2,distribution='globatto', order=order)"
   ]
  },
  {
   "cell_type": "code",
   "execution_count": 19,
   "metadata": {},
   "outputs": [],
   "source": [
    "ref_matrix, index = polynom_factory.local_gradgrad_matrix(dim=2,distribution='globatto', order=order)"
   ]
  },
  {
   "cell_type": "code",
   "execution_count": 13,
   "metadata": {},
   "outputs": [
    {
     "name": "stdout",
     "output_type": "stream",
     "text": [
      "X derivative: 0.1666666666666635\n",
      "Y derivative: 0.16666666666666108\n",
      "XX derivative: -0.02777777777777931\n",
      "YY derivative: -0.027777777777777492\n",
      "XY_derivative: 0.0\n",
      "\n",
      "X derivative: 0.16666666666666696\n",
      "Y derivative: 0.16666666666666397\n",
      "XX derivative: -0.0277777777777789\n",
      "YY derivative: -0.02777777777777543\n",
      "XY_derivative: 1.1102230246251565e-16\n",
      "\n",
      "\n",
      "\n",
      "\n",
      "X derivative: 0.6666666666666665\n",
      "Y derivative: 8.104628079763643e-15\n",
      "XX derivative: -0.11111111111111086\n",
      "YY derivative: -0.11111111111110811\n",
      "XY_derivative: 0.0\n",
      "\n",
      "X derivative: 0.6666666666666672\n",
      "Y derivative: -3.2404634531246757e-15\n",
      "XX derivative: -0.11111111111110925\n",
      "YY derivative: -0.1111111111111123\n",
      "XY_derivative: 1.3183898417423734e-16\n",
      "\n",
      "\n",
      "\n",
      "\n",
      "X derivative: 0.16666666666666693\n",
      "Y derivative: -0.16666666666666918\n",
      "XX derivative: -0.027777777777777284\n",
      "YY derivative: -0.027777777777779518\n",
      "XY_derivative: 0.0\n",
      "\n",
      "X derivative: 0.16666666666666624\n",
      "Y derivative: -0.16666666666666072\n",
      "XX derivative: -0.027777777777776534\n",
      "YY derivative: -0.02777777777777462\n",
      "XY_derivative: -2.42861286636753e-16\n",
      "\n",
      "\n",
      "\n",
      "\n",
      "X derivative: 3.2751579226442118e-15\n",
      "Y derivative: 0.6666666666666705\n",
      "XX derivative: -0.11111111111110569\n",
      "YY derivative: -0.1111111111111113\n",
      "XY_derivative: 0.0\n",
      "\n",
      "X derivative: 0.0\n",
      "Y derivative: 0.6666666666666696\n",
      "XX derivative: -0.11111111111110916\n",
      "YY derivative: -0.11111111111110894\n",
      "XY_derivative: 0.0\n",
      "\n",
      "\n",
      "\n",
      "\n",
      "X derivative: 1.7763568394002505e-15\n",
      "Y derivative: -4.884981308350689e-15\n",
      "XX derivative: -0.4444444444444452\n",
      "YY derivative: -0.4444444444444467\n",
      "XY_derivative: 0.0\n",
      "\n",
      "X derivative: -3.9968028886505635e-15\n",
      "Y derivative: -1.021405182655144e-14\n",
      "XX derivative: -0.44444444444444764\n",
      "YY derivative: -0.4444444444444492\n",
      "XY_derivative: 1.1102230246251565e-15\n",
      "\n",
      "\n",
      "\n",
      "\n",
      "X derivative: 8.326672684688674e-16\n",
      "Y derivative: -0.6666666666666656\n",
      "XX derivative: -0.11111111111111258\n",
      "YY derivative: -0.11111111111111008\n",
      "XY_derivative: 0.0\n",
      "\n",
      "X derivative: -2.4424906541753444e-15\n",
      "Y derivative: -0.6666666666666594\n",
      "XX derivative: -0.11111111111111258\n",
      "YY derivative: -0.11111111111110639\n",
      "XY_derivative: -1.1102230246251565e-15\n",
      "\n",
      "\n",
      "\n",
      "\n",
      "X derivative: -0.16666666666666677\n",
      "Y derivative: 0.1666666666666638\n",
      "XX derivative: -0.02777777777778013\n",
      "YY derivative: -0.02777777777777752\n",
      "XY_derivative: 0.0\n",
      "\n",
      "X derivative: -0.16666666666666696\n",
      "Y derivative: 0.16666666666666663\n",
      "XX derivative: -0.0277777777777789\n",
      "YY derivative: -0.027777777777777207\n",
      "XY_derivative: -1.1102230246251565e-16\n",
      "\n",
      "\n",
      "\n",
      "\n",
      "X derivative: -0.6666666666666683\n",
      "Y derivative: 5.662137425588298e-15\n",
      "XX derivative: -0.1111111111111113\n",
      "YY derivative: -0.11111111111111016\n",
      "XY_derivative: 0.0\n",
      "\n",
      "X derivative: -0.6666666666666632\n",
      "Y derivative: -2.8033131371785203e-15\n",
      "XX derivative: -0.11111111111110825\n",
      "YY derivative: -0.11111111111111152\n",
      "XY_derivative: -1.2490009027033011e-15\n",
      "\n",
      "\n",
      "\n",
      "\n",
      "X derivative: -0.16666666666666777\n",
      "Y derivative: -0.16666666666666946\n",
      "XX derivative: -0.027777777777777492\n",
      "YY derivative: -0.027777777777778935\n",
      "XY_derivative: 0.0\n",
      "\n",
      "X derivative: -0.1666666666666638\n",
      "Y derivative: -0.16666666666666383\n",
      "XX derivative: -0.027777777777775924\n",
      "YY derivative: -0.027777777777776506\n",
      "XY_derivative: 1.3600232051658168e-15\n",
      "\n",
      "\n",
      "\n",
      "\n"
     ]
    }
   ],
   "source": [
    "for point, num in index.items():\n",
    "    partial_diff_test(matrix=matrix, point=point, pointnum=num, pointdict=index, multiple_dofs_on_point=False)\n",
    "    partial_diff_test(matrix=ref_matrix, point=point, pointnum=num, pointdict=index, multiple_dofs_on_point=False)\n",
    "    \n",
    "    print('\\n\\n')"
   ]
  },
  {
   "cell_type": "code",
   "execution_count": 21,
   "metadata": {},
   "outputs": [
    {
     "data": {
      "text/plain": [
       "<matplotlib.image.AxesImage at 0x10b15e470>"
      ]
     },
     "execution_count": 21,
     "metadata": {},
     "output_type": "execute_result"
    },
    {
     "data": {
      "image/png": "[encoded data removed]",
      "text/plain": [
       "<matplotlib.figure.Figure at 0x10b116550>"
      ]
     },
     "metadata": {},
     "output_type": "display_data"
    }
   ],
   "source": [
    "plt.imshow(matrix)"
   ]
  },
  {
   "cell_type": "code",
   "execution_count": 22,
   "metadata": {},
   "outputs": [
    {
     "data": {
      "text/plain": [
       "<matplotlib.image.AxesImage at 0x10ceaa320>"
      ]
     },
     "execution_count": 22,
     "metadata": {},
     "output_type": "execute_result"
    },
    {
     "data": {
      "image/png": "[encoded data removed]",
      "text/plain": [
       "<matplotlib.figure.Figure at 0x10cc743c8>"
      ]
     },
     "metadata": {},
     "output_type": "display_data"
    }
   ],
   "source": [
    "plt.imshow(ref_matrix)"
   ]
  },
  {
   "cell_type": "code",
   "execution_count": null,
   "metadata": {},
   "outputs": [],
   "source": []
  }
 ],
 "metadata": {
  "kernelspec": {
   "display_name": "Python 3",
   "language": "python",
   "name": "python3"
  },
  "language_info": {
   "codemirror_mode": {
    "name": "ipython",
    "version": 3
   },
   "file_extension": ".py",
   "mimetype": "text/x-python",
   "name": "python",
   "nbconvert_exporter": "python",
   "pygments_lexer": "ipython3",
   "version": "3.6.2"
  }
 },
 "nbformat": 4,
 "nbformat_minor": 2
}
