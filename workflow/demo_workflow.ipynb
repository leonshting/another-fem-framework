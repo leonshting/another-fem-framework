{
 "cells": [
  {
   "cell_type": "code",
   "execution_count": 1,
   "metadata": {
    "collapsed": true
   },
   "outputs": [],
   "source": [
    "import os\n",
    "import sys"
   ]
  },
  {
   "cell_type": "code",
   "execution_count": 2,
   "metadata": {
    "collapsed": true
   },
   "outputs": [],
   "source": [
    "#sys.path.insert(0, '/Users/marusy/Programming/another-fem-framework/')\n",
    "#sys.path.insert(0, '/home/lshtanko/Programming/another-fem-framework/')\n",
    "sys.path.insert(0, '/Users/leonshting/Programming/Schlumberger/fem-framework/')"
   ]
  },
  {
   "cell_type": "code",
   "execution_count": 3,
   "metadata": {
    "collapsed": true
   },
   "outputs": [],
   "source": [
    "import numpy as np\n",
    "from interpolant.cell_to_points import Cell2PointsConverter\n",
    "from interpolant.strict import StrictSolve\n",
    "from interpolant.opt import OptSolve\n",
    "from common.helpers import *\n",
    "from interpolant.helpers import *\n",
    "from matplotlib import pyplot as plt\n",
    "%matplotlib inline"
   ]
  },
  {
   "cell_type": "code",
   "execution_count": null,
   "metadata": {
    "collapsed": true
   },
   "outputs": [],
   "source": [
    "np.set_printoptions(linewidth=500, precision=3)"
   ]
  },
  {
   "cell_type": "code",
   "execution_count": null,
   "metadata": {
    "collapsed": true
   },
   "outputs": [],
   "source": [
    "c2p = Cell2PointsConverter(orders=[[6],[6,6]])"
   ]
  },
  {
   "cell_type": "code",
   "execution_count": null,
   "metadata": {
    "collapsed": true
   },
   "outputs": [],
   "source": [
    "strict_solve = StrictSolve(points=c2p.get_points(), weights=c2p.get_diag_weights(), verbose=True)"
   ]
  },
  {
   "cell_type": "code",
   "execution_count": null,
   "metadata": {},
   "outputs": [],
   "source": [
    "strict_solve.fit_strict(max_power=strict_solve.get_max_pow(risky=2), method='svd')"
   ]
  },
  {
   "cell_type": "code",
   "execution_count": null,
   "metadata": {
    "collapsed": true
   },
   "outputs": [],
   "source": [
    "interps = strict_solve.get_interpolants()\n",
    "wgths = strict_solve.get_weight_matrices()"
   ]
  },
  {
   "cell_type": "code",
   "execution_count": null,
   "metadata": {
    "collapsed": true
   },
   "outputs": [],
   "source": [
    "opt_solve = OptSolve(matrices=interps,\n",
    "                     points=c2p.get_points(),\n",
    "                     strict_power=strict_solve.get_max_pow(risky=2),\n",
    "                     weights_matrices=wgths,\n",
    "                     verbose=True\n",
    "                    )"
   ]
  },
  {
   "cell_type": "code",
   "execution_count": null,
   "metadata": {},
   "outputs": [],
   "source": [
    "opt_solve.fit_opt(constraints=True, tr_fun_option='chebyshev', orders_forwards=1)"
   ]
  },
  {
   "cell_type": "code",
   "execution_count": null,
   "metadata": {
    "collapsed": true
   },
   "outputs": [],
   "source": [
    "opt_solve.restart_opt(tolerance=1e-3)"
   ]
  },
  {
   "cell_type": "code",
   "execution_count": null,
   "metadata": {},
   "outputs": [],
   "source": [
    "I_rl = np.array(opt_solve.I_rl_subbed_symm).astype(np.float64)\n",
    "I_lr = np.array(opt_solve.I_lr_subbed_symm).astype(np.float64)"
   ]
  },
  {
   "cell_type": "code",
   "execution_count": null,
   "metadata": {
    "collapsed": true
   },
   "outputs": [],
   "source": [
    "tr_f = np.vectorize(lambda x: x*(x-1)*(x-0.5))"
   ]
  },
  {
   "cell_type": "code",
   "execution_count": null,
   "metadata": {
    "scrolled": true
   },
   "outputs": [],
   "source": [
    "eps_l, eps_r = convergence_test(I_lr=I_lr,\n",
    "                                I_rl=I_rl,\n",
    "                                p_l=opt_solve.points[0],\n",
    "                                p_r=opt_solve.points[1],\n",
    "                                init_size=(0,1),\n",
    "                                tr_f=tr_f,\n",
    "                                weights=[np.array(strict_solve.W_l), np.array(strict_solve.W_r)],\n",
    "                                div_lim=7)"
   ]
  },
  {
   "cell_type": "code",
   "execution_count": null,
   "metadata": {
    "collapsed": true
   },
   "outputs": [],
   "source": [
    "explosion_test(I_lr=I_lr,\n",
    "               I_rl=I_rl,\n",
    "               p_l=opt_solve.points[0],\n",
    "               p_r=opt_solve.points[1],\n",
    "               tr_f=tr_f,\n",
    "               reps=3)"
   ]
  },
  {
   "cell_type": "code",
   "execution_count": null,
   "metadata": {
    "collapsed": true
   },
   "outputs": [],
   "source": [
    "plt.semilogy(range(len(eps_l)), eps_l)\n",
    "plt.semilogy(range(len(eps_r)), eps_r)\n",
    "plt.semilogy(np.linspace(0, len(eps_r)), float(eps_r[0])*np.exp(-np.linspace(0, len(eps_r))))\n",
    "plt.semilogy(np.linspace(0, len(eps_r)), float(eps_r[0])*np.exp(-2*np.linspace(0, len(eps_r))))"
   ]
  },
  {
   "cell_type": "code",
   "execution_count": null,
   "metadata": {},
   "outputs": [],
   "source": [
    "np.abs(np.linalg.eigvals(np.dot(I_rl, I_lr)))"
   ]
  },
  {
   "cell_type": "code",
   "execution_count": null,
   "metadata": {
    "collapsed": true
   },
   "outputs": [],
   "source": [
    "np.save(arr=I_lr, file='../datasources/6_lr')\n",
    "np.save(arr=I_rl, file='../datasources/6_rl')"
   ]
  },
  {
   "cell_type": "code",
   "execution_count": null,
   "metadata": {
    "collapsed": true
   },
   "outputs": [],
   "source": []
  }
 ],
 "metadata": {
  "kernelspec": {
   "display_name": "Python 3",
   "language": "python",
   "name": "python3"
  },
  "language_info": {
   "codemirror_mode": {
    "name": "ipython",
    "version": 3
   },
   "file_extension": ".py",
   "mimetype": "text/x-python",
   "name": "python",
   "nbconvert_exporter": "python",
   "pygments_lexer": "ipython3",
   "version": "3.6.0"
  }
 },
 "nbformat": 4,
 "nbformat_minor": 1
}
