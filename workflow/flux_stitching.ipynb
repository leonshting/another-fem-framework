{
 "cells": [
  {
   "cell_type": "code",
   "execution_count": 1,
   "metadata": {
    "collapsed": true,
    "deletable": true,
    "editable": true
   },
   "outputs": [],
   "source": [
    "import sys\n",
    "sys.path.insert(0, '/home/lshtanko/Programming/another-fem-framework/')\n",
    "#sys.path.insert(0, '/Users/leonshting/Programming/Schlumberger/fem-framework/')"
   ]
  },
  {
   "cell_type": "code",
   "execution_count": 62,
   "metadata": {
    "collapsed": true,
    "deletable": true,
    "editable": true
   },
   "outputs": [],
   "source": [
    "from common import helpers\n",
    "from common.tests import partial_diff_test\n",
    "\n",
    "from common import polynom_factory\n",
    "import numpy as np\n",
    "from itertools import product\n",
    "from grid import cell, grid_layer, grid_manager\n",
    "from grid.allocator_interface import InterfaceDofAllocator2D\n",
    "from operator_assembler.n_to_1_ddof_allocator import Nto1Allocator2D\n",
    "from operator import itemgetter\n",
    "import itertools\n",
    "\n",
    "from matplotlib import pyplot as plt\n",
    "%matplotlib inline"
   ]
  },
  {
   "cell_type": "code",
   "execution_count": null,
   "metadata": {
    "collapsed": true,
    "deletable": true,
    "editable": true
   },
   "outputs": [],
   "source": [
    "sizes = [(0.,float(2**i)) for i in range(1)]\n",
    "\n",
    "for size in sizes:\n",
    "    mass_matrix = polynom_factory.local_funcfunc_matrix(order=3, dim=2, distribution='globatto', size=size)\n",
    "    gradgrad = polynom_factory.local_gradgrad_matrix(order=3, distribution='globatto', dim=2, size=size)\n",
    "    #gradfunc = polynom_factory.local_gradfunc_matrix(order=3, distribution='globatto', dim=2, size=size)[1][0]\n",
    "    print(size)\n",
    "    for (point,root) in gradgrad[1].items():\n",
    "        print(point)\n",
    "        partial_diff_test(matrix=gradgrad[0], point=point, pointnum=root, pointdict=gradgrad[1], mass_matrix=None)"
   ]
  },
  {
   "cell_type": "code",
   "execution_count": 3,
   "metadata": {
    "collapsed": true,
    "deletable": true,
    "editable": true
   },
   "outputs": [],
   "source": [
    "cell1 = cell.Cell2D(size=(1,1), ll_vertex=(0,0))\n",
    "cell2 = cell.Cell2D(size=(1,1), ll_vertex=(0,1))\n",
    "\n",
    "cell3 = cell.Cell2D(size=(2,2), ll_vertex=(1,0))"
   ]
  },
  {
   "cell_type": "code",
   "execution_count": 4,
   "metadata": {
    "collapsed": true,
    "deletable": true,
    "editable": true
   },
   "outputs": [],
   "source": [
    "layer1 = grid_layer.GridLayer2D([c.ll_vertex for c in [cell1, cell2]], layer_number=0, index=[1,1], div_index=[1,1])\n",
    "layer2 = grid_layer.GridLayer2D([c.ll_vertex for c in [cell3]], layer_number=1, index=[1], div_index=[1])"
   ]
  },
  {
   "cell_type": "code",
   "execution_count": 5,
   "metadata": {
    "collapsed": true,
    "deletable": true,
    "editable": true
   },
   "outputs": [],
   "source": [
    "gm = grid_manager.GridManager(dim=2, method='coarse2to1')"
   ]
  },
  {
   "cell_type": "code",
   "execution_count": 6,
   "metadata": {
    "collapsed": true,
    "deletable": true,
    "editable": true
   },
   "outputs": [],
   "source": [
    "gm.grid_layers = [layer1, layer2]"
   ]
  },
  {
   "cell_type": "code",
   "execution_count": 7,
   "metadata": {
    "collapsed": true,
    "deletable": true,
    "editable": true
   },
   "outputs": [],
   "source": [
    "ifma = InterfaceDofAllocator2D(grid_manager=gm)"
   ]
  },
  {
   "cell_type": "code",
   "execution_count": 8,
   "metadata": {
    "collapsed": true,
    "deletable": true,
    "editable": true
   },
   "outputs": [],
   "source": [
    "ma = Nto1Allocator2D(grid_interface=ifma)\n",
    "ma._make_ddof_index()"
   ]
  },
  {
   "cell_type": "code",
   "execution_count": 9,
   "metadata": {
    "collapsed": true,
    "deletable": true,
    "editable": true
   },
   "outputs": [],
   "source": [
    "s2b = np.array([[ 1.22829849,  0.48464847, -0.25684608, -0.45610087],\n",
    "       [ 0.23913821,  0.65966867,  0.1235421 , -0.02234897],\n",
    "       [-0.1275535 ,  1.03266901,  0.15410032, -0.05921584],\n",
    "       [-0.03430599,  1.34046152,  0.11031793, -0.41647347],\n",
    "       [ 0.08818493, -0.06115703,  0.97521681, -0.00224471],\n",
    "       [ 0.04581709, -0.324008  ,  0.58342807,  0.69476284],\n",
    "       [-0.38762016,  0.29856527,  0.85477372,  0.23428118]])\n",
    "\n",
    "b2s = np.array([[ 0.61414924,  0.59784553, -0.31888374, -0.03430599,  0.22046232,\n",
    "         0.11454272, -0.19381008],\n",
    "       [ 0.04846485,  0.32983433,  0.51633451,  0.2680923 , -0.03057852,\n",
    "        -0.162004  ,  0.02985653],\n",
    "       [-0.02568461,  0.06177105,  0.07705016,  0.02206359,  0.48760841,\n",
    "         0.29171404,  0.08547737],\n",
    "       [-0.22805044, -0.05587244, -0.14803959, -0.41647347, -0.00561177,\n",
    "         1.73690711,  0.11714059]])"
   ]
  },
  {
   "cell_type": "code",
   "execution_count": 123,
   "metadata": {
    "collapsed": true,
    "deletable": true,
    "editable": true
   },
   "outputs": [],
   "source": [
    "from scipy.sparse import coo_matrix,csr_matrix"
   ]
  },
  {
   "cell_type": "code",
   "execution_count": 34,
   "metadata": {
    "collapsed": true,
    "deletable": true,
    "editable": true
   },
   "outputs": [],
   "source": [
    "gradgrad = polynom_factory.local_gradgrad_matrix(order=3, distribution='globatto', dim=2, size=(0,1))"
   ]
  },
  {
   "cell_type": "code",
   "execution_count": 113,
   "metadata": {
    "collapsed": true,
    "deletable": true,
    "editable": true
   },
   "outputs": [],
   "source": [
    "def distributed_eye(pairtuples, shape):\n",
    "    #print(pairtuples)\n",
    "    d_loc = [d[0] for d in pairtuples]\n",
    "    d_glob = [d[1] for d in pairtuples]\n",
    "    return coo_matrix(([1] * len(pairtuples), (d_loc, d_glob)), shape=shape)\n",
    "\n",
    "def distributed_eye_easy(pairtuples, shape_1):\n",
    "    return distributed_eye(pairtuples=pairtuples, shape=(len(pairtuples), shape_1))\n",
    "\n",
    "def stitch_how(host_neighbors, host_edge):\n",
    "    pass\n",
    "    \n",
    "def ddofs_of_edge(host_neighbors, host_edge):\n",
    "    ord_edges = ordered_edges(host_neighbors, host_edge)\n",
    "    cnt = 0\n",
    "    new_cnt = 0\n",
    "    for num, (edge, props) in ord_edges:\n",
    "        new_cnt += props[0] + 1 \n",
    "        if(num == 0):\n",
    "            return list(range(cnt, new_cnt))\n",
    "        else:\n",
    "            new_cnt -= 1\n",
    "        cnt = new_cnt\n",
    "        \n",
    "def ordered_edges(host_neighbors, host_edge):\n",
    "    host_neighbors.insert(0,host_edge)\n",
    "    ordered_edges = sorted(enumerate(host_neighbors), key=lambda x: x[1][0][1][1])\n",
    "    return (ordered_edges)\n",
    "\n",
    "def order_peer(peers):\n",
    "    return sorted(peers, key=lambda x: x[1][1][1])\n",
    "\n",
    "def merge_two_cells(cell_1, cell_2):\n",
    "    glob = csr_matrix((ma.ddof_cnt, ma.ddof_cnt))\n",
    "    pairtup_1 = ma.get_cell_list_of_ddofs(cell=cell_1)\n",
    "    props_1 = ma.get_cell_props(cell_1)\n",
    "    pairtup_2 = ma.get_cell_list_of_ddofs(cell=cell_2)\n",
    "    props_2 = ma.get_cell_props(cell_2)\n",
    "    \n",
    "    dist_1 = distributed_eye(pairtuples=pairtup_1, shape=(len(pairtup_1), ma.ddof_cnt))\n",
    "    dist_2 = distributed_eye(pairtuples=pairtup_2, shape=(len(pairtup_2), ma.ddof_cnt))\n",
    "    \n",
    "    glob += dist_1.T * gradgrad[0] * dist_1\n",
    "    glob += dist_2.T * gradgrad[0] * dist_2\n",
    "    #plt.spy(glob)\n",
    "    return glob\n",
    "\n",
    "def distribute_one_cell(cell):\n",
    "    glob = csr_matrix((ma.ddof_cnt, ma.ddof_cnt))\n",
    "    pairtup_1 = ma.get_cell_list_of_ddofs(cell=cell)\n",
    "    props_1 = ma.get_cell_props(cell)\n",
    "    \n",
    "    dist_1 = distributed_eye(pairtuples=pairtup_1, shape=(len(pairtup_1), ma.ddof_cnt))\n",
    "    glob += dist_1.T * gradgrad[0] * dist_1\n",
    "    return glob"
   ]
  },
  {
   "cell_type": "code",
   "execution_count": 122,
   "metadata": {
    "collapsed": false,
    "deletable": true,
    "editable": true
   },
   "outputs": [
    {
     "data": {
      "text/plain": [
       "[37, 38, 39, 30]"
      ]
     },
     "execution_count": 122,
     "metadata": {},
     "output_type": "execute_result"
    }
   ],
   "source": [
    "joint_dofs_host"
   ]
  },
  {
   "cell_type": "code",
   "execution_count": 149,
   "metadata": {
    "collapsed": false,
    "deletable": true,
    "editable": true
   },
   "outputs": [
    {
     "data": {
      "image/png": "[encoded data removed]",
      "text/plain": [
       "<matplotlib.figure.Figure at 0x7fd3b22ddd68>"
      ]
     },
     "metadata": {},
     "output_type": "display_data"
    }
   ],
   "source": [
    "for num_l, cell in ma.grid_interface.iterate_cells_fbts(yield_layer_num=True):\n",
    "    peers = ma.get_weakly_connected_edges(cell=cell)\n",
    "    unique_edges = set([p[0] for p in peers])\n",
    "    query_result = list(ma.grid_interface.query_adj_cells_by_edge(\n",
    "        cell=cell,\n",
    "        edge=peers[0][0],\n",
    "        num_layer=num_l,\n",
    "        size_rel_filter=['smaller', 'same']\n",
    "    ).values())\n",
    "    if(len(query_result) != 0):\n",
    "        loc_glob = merge_two_cells(cell_1=query_result[0], cell_2=query_result[1])\n",
    "        loc_glob_host = distribute_one_cell(cell=cell)\n",
    "        joint_dofs = [[j[-1] for j in i[-1]] for i in order_peer(peers)]\n",
    "        joint_dofs_fin = joint_dofs[0] + joint_dofs[1][1:]\n",
    "        joint_dofs_host = [i[1] for i in ma._get_flat_list_of_ddofs(cell=cell, edge=peers[0][0])]\n",
    "        joint_loc_dofs_host = [i[0] for i in ma._get_flat_list_of_ddofs(cell=cell, edge=peers[0][0])]\n",
    "        \n",
    "        trans_matrix_host_edge = distributed_eye_easy(\n",
    "            pairtuples=ma._get_flat_list_of_ddofs(cell=cell, edge=peers[0][0]), shape_1=ma.ddof_cnt)\n",
    "        \n",
    "        trans_matrix_peer_edge = distributed_eye_easy(\n",
    "            pairtuples=[(num, d) for num, d in enumerate(joint_dofs_fin)], shape_1=ma.ddof_cnt)\n",
    "        \n",
    "        tmp_peer = loc_glob[joint_dofs_fin]\n",
    "        tmp_host = loc_glob_host[joint_dofs_host]\n",
    "        transferred = (trans_matrix_host_edge.T * s2b.T * tmp_peer) + (trans_matrix_host_edge.T * s2b.T * tmp_peer).T\n",
    "        transferred1 = (trans_matrix_peer_edge.T * b2s.T * tmp_host) + (trans_matrix_peer_edge.T * b2s.T * tmp_host).T\n",
    "        \n",
    "        \n",
    "        plt.spy(transferred + transferred1 + loc_glob + loc_glob_host)"
   ]
  },
  {
   "cell_type": "code",
   "execution_count": null,
   "metadata": {
    "collapsed": true,
    "deletable": true,
    "editable": true
   },
   "outputs": [],
   "source": [
    ""
   ]
  }
 ],
 "metadata": {
  "kernelspec": {
   "display_name": "Python 3",
   "language": "python",
   "name": "python3"
  },
  "language_info": {
   "codemirror_mode": {
    "name": "ipython",
    "version": 3.0
   },
   "file_extension": ".py",
   "mimetype": "text/x-python",
   "name": "python",
   "nbconvert_exporter": "python",
   "pygments_lexer": "ipython3",
   "version": "3.5.1"
  }
 },
 "nbformat": 4,
 "nbformat_minor": 0
}