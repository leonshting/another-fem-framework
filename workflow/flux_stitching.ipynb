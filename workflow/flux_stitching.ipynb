{
 "cells": [
  {
   "cell_type": "code",
   "execution_count": 1,
   "metadata": {
    "collapsed": false
   },
   "outputs": [],
   "source": [
    "import sys\n",
    "sys.path.insert(0, '/home/lshtanko/Programming/another-fem-framework/')"
   ]
  },
  {
   "cell_type": "code",
   "execution_count": 2,
   "metadata": {
    "collapsed": false
   },
   "outputs": [],
   "source": [
    "from common import helpers\n",
    "from common.tests import partial_diff_test\n",
    "\n",
    "from common import polynom_factory\n",
    "import numpy as np\n",
    "from itertools import product"
   ]
  },
  {
   "cell_type": "code",
   "execution_count": 10,
   "metadata": {
    "collapsed": false
   },
   "outputs": [
    {
     "name": "stdout",
     "output_type": "stream",
     "text": [
      "(0.0, 1.0)\n",
      "(0.0, 1.0)\n",
      "Mass coef: 0.006944442546594612\n",
      "X derivative: 0.08333331574325438\n",
      "Y derivative: -0.08333332639852925\n",
      "XX derivative: -0.006944442548908598\n",
      "YY derivative: -0.006944441272787363\n",
      "XY_derivative: -9.236144073512809e-09\n",
      "\n",
      "(0.2763932, 1.0)\n",
      "Mass coef: 0.034722216994812774\n",
      "X derivative: -1.7661245348132848e-09\n",
      "Y derivative: -0.4166666831093994\n",
      "XX derivative: -0.0347222157180124\n",
      "YY derivative: -0.034722210602367354\n",
      "XY_derivative: 1.0462534463795414e-08\n",
      "\n",
      "(0.0, 0.72360682)\n",
      "Mass coef: 0.03472221986082208\n",
      "X derivative: 0.41666666416437936\n",
      "Y derivative: 1.0911816589187495e-11\n",
      "XX derivative: -0.03472221985335758\n",
      "YY derivative: -0.03472221985286034\n",
      "XY_derivative: 1.3864798652923893e-08\n",
      "\n",
      "(0.72360682, 0.0)\n",
      "Mass coef: 0.03472221985651801\n",
      "X derivative: 5.608777331467252e-12\n",
      "Y derivative: 0.4166666641650738\n",
      "XX derivative: -0.034722219854031316\n",
      "YY derivative: -0.034722219853545434\n",
      "XY_derivative: 1.387056490845251e-08\n",
      "\n",
      "(0.0, 0.2763932)\n",
      "Mass coef: 0.0347222221683782\n",
      "X derivative: 0.4166666919392124\n",
      "Y derivative: -1.7615444623808596e-09\n",
      "XX derivative: -0.03472222217208596\n",
      "YY derivative: -0.03472222089222776\n",
      "XY_derivative: -1.2293511191668882e-08\n",
      "\n",
      "(0.2763932, 0.0)\n",
      "Mass coef: 0.03472222217379345\n",
      "X derivative: -1.7655907846858554e-09\n",
      "Y derivative: 0.4166666919588632\n",
      "XX derivative: -0.034722220890155676\n",
      "YY derivative: -0.03472222217813312\n",
      "XY_derivative: -1.2294715710792214e-08\n",
      "\n",
      "(0.0, 0.0)\n",
      "Mass coef: 0.006944443583178077\n",
      "X derivative: 0.08333332814777389\n",
      "Y derivative: 0.0833333281505254\n",
      "XX derivative: -0.006944443580154894\n",
      "YY derivative: -0.00694444358057961\n",
      "XY_derivative: 7.663626715864735e-09\n",
      "\n",
      "(1.0, 1.0)\n",
      "Mass coef: 0.00694444151121084\n",
      "X derivative: -0.08333331397191567\n",
      "Y derivative: -0.08333331397065216\n",
      "XX derivative: -0.0069444402338169845\n",
      "YY derivative: -0.0069444402330132195\n",
      "XY_derivative: 1.0821052207066195e-08\n",
      "\n",
      "(0.72360682, 0.72360682)\n",
      "Mass coef: 0.17361110903465432\n",
      "X derivative: -1.7077325664693888e-11\n",
      "Y derivative: -3.2888136658471012e-12\n",
      "XX derivative: -0.17361110903750573\n",
      "YY derivative: -0.17361110903423144\n",
      "XY_derivative: 2.8713204036634465e-10\n",
      "\n",
      "(0.72360682, 0.2763932)\n",
      "Mass coef: 0.17361112059985798\n",
      "X derivative: 5.311917572470293e-12\n",
      "Y derivative: -8.828529338145152e-09\n",
      "XX derivative: -0.17361112059852363\n",
      "YY derivative: -0.17361111420855221\n",
      "XY_derivative: -2.112861715447556e-09\n",
      "\n",
      "(0.72360682, 1.0)\n",
      "Mass coef: 0.034722214682196814\n",
      "X derivative: -9.202708040056962e-13\n",
      "Y derivative: -0.4166666553370836\n",
      "XX derivative: -0.03472221468175184\n",
      "YY derivative: -0.03472220828761993\n",
      "XY_derivative: -1.2044206246925038e-08\n",
      "\n",
      "(0.2763932, 0.72360682)\n",
      "Mass coef: 0.17361112060558023\n",
      "X derivative: -8.81848140343866e-09\n",
      "Y derivative: -5.974137851083583e-12\n",
      "XX derivative: -0.1736111142107657\n",
      "YY derivative: -0.17361112060641065\n",
      "XY_derivative: -2.1144757958446725e-09\n",
      "\n",
      "(1.0, 0.72360682)\n",
      "Mass coef: 0.03472221468265782\n",
      "X derivative: -0.4166666553455343\n",
      "Y derivative: -2.9020917613475916e-12\n",
      "XX derivative: -0.03472220829150794\n",
      "YY derivative: -0.0347222146828295\n",
      "XY_derivative: -1.2045745824418308e-08\n",
      "\n",
      "(0.2763932, 0.2763932)\n",
      "Mass coef: 0.17361113217570992\n",
      "X derivative: -8.816952359186336e-09\n",
      "Y derivative: -8.840190940384574e-09\n",
      "XX derivative: -0.17361112578143612\n",
      "YY derivative: -0.17361112577689777\n",
      "XY_derivative: 3.944249291759627e-09\n",
      "\n",
      "(1.0, 0.0)\n",
      "Mass coef: 0.006944442546721261\n",
      "X derivative: -0.0833333263938526\n",
      "Y derivative: 0.08333331574080337\n",
      "XX derivative: -0.006944441270441484\n",
      "YY derivative: -0.006944442547337564\n",
      "XY_derivative: -9.238783165582687e-09\n",
      "\n",
      "(1.0, 0.2763932)\n",
      "Mass coef: 0.03472221699549277\n",
      "X derivative: -0.4166666831090914\n",
      "Y derivative: -1.7680832770095023e-09\n",
      "XX derivative: -0.03472221060447665\n",
      "YY derivative: -0.03472221571721882\n",
      "XY_derivative: 1.046110058994243e-08\n",
      "\n"
     ]
    }
   ],
   "source": [
    "sizes = [(0.,float(2**i)) for i in range(1)]\n",
    "\n",
    "for size in sizes:\n",
    "    mass_matrix = polynom_factory.local_funcfunc_matrix(order=3, dim=2, distribution='globatto', size=size)\n",
    "    gradgrad = polynom_factory.local_gradgrad_matrix(order=3, distribution='globatto', dim=2, size=size)\n",
    "    gradfunc = polynom_factory.local_gradfunc_matrix(order=3, distribution='globatto', dim=2, size=size)[1][0]\n",
    "    print(size)\n",
    "    for (point,root) in gradgrad[1].items():\n",
    "        print(point)\n",
    "        partial_diff_test(matrix=gradgrad[0], point=point, pointnum=root, pointdict=gradgrad[1], mass_matrix=mass_matrix)"
   ]
  },
  {
   "cell_type": "code",
   "execution_count": 12,
   "metadata": {
    "collapsed": false
   },
   "outputs": [
    {
     "data": {
      "text/plain": [
       "array([ 0.33333334,  1.33333337,  0.33333334], dtype=float32)"
      ]
     },
     "execution_count": 12,
     "metadata": {},
     "output_type": "execute_result"
    }
   ],
   "source": [
    "polynom_factory.glob_weights(order=2, size=(0,1))"
   ]
  },
  {
   "cell_type": "code",
   "execution_count": 11,
   "metadata": {
    "collapsed": false
   },
   "outputs": [
    {
     "data": {
      "text/plain": [
       "array([ 0.16666667,  0.83333331,  0.83333331,  0.16666667], dtype=float32)"
      ]
     },
     "execution_count": 11,
     "metadata": {},
     "output_type": "execute_result"
    }
   ],
   "source": [
    "polynom_factory.glob_weights(order=3, size=(0,1))"
   ]
  },
  {
   "cell_type": "code",
   "execution_count": 5,
   "metadata": {
    "collapsed": false
   },
   "outputs": [
    {
     "data": {
      "text/plain": [
       "([-1, 0, 1], [0.3333333333, 1.333333333, 0.3333333333])"
      ]
     },
     "execution_count": 5,
     "metadata": {},
     "output_type": "execute_result"
    }
   ],
   "source": [
    "polynom_factory.gauss_lobatto(n=3)"
   ]
  },
  {
   "cell_type": "code",
   "execution_count": 6,
   "metadata": {
    "collapsed": false
   },
   "outputs": [
    {
     "data": {
      "text/plain": [
       "array([ 0.,  2.,  4.], dtype=float32)"
      ]
     },
     "execution_count": 6,
     "metadata": {},
     "output_type": "execute_result"
    }
   ],
   "source": [
    "polynom_factory.glob_points(order=2, size=(0,4))"
   ]
  },
  {
   "cell_type": "code",
   "execution_count": null,
   "metadata": {
    "collapsed": true
   },
   "outputs": [],
   "source": []
  }
 ],
 "metadata": {
  "kernelspec": {
   "display_name": "Python 3",
   "language": "python",
   "name": "python3"
  },
  "language_info": {
   "codemirror_mode": {
    "name": "ipython",
    "version": 3
   },
   "file_extension": ".py",
   "mimetype": "text/x-python",
   "name": "python",
   "nbconvert_exporter": "python",
   "pygments_lexer": "ipython3",
   "version": "3.5.1"
  }
 },
 "nbformat": 4,
 "nbformat_minor": 2
}
