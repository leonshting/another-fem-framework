{
 "cells": [
  {
   "cell_type": "code",
   "execution_count": 1,
   "metadata": {
    "collapsed": true
   },
   "outputs": [],
   "source": [
    "import sys\n",
    "#sys.path.insert(0, '/home/lshtanko/Programming/another-fem-framework/')\n",
    "sys.path.insert(0, '/Users/leonshting/Programming/Schlumberger/fem-framework/')"
   ]
  },
  {
   "cell_type": "code",
   "execution_count": 2,
   "metadata": {
    "collapsed": true
   },
   "outputs": [],
   "source": [
    "from common import helpers\n",
    "from common.tests import partial_diff_test\n",
    "\n",
    "from common import polynom_factory\n",
    "import numpy as np\n",
    "from itertools import product\n",
    "from grid import cell, grid_layer, grid_manager\n",
    "from grid.allocator_interface import InterfaceDofAllocator2D\n",
    "from operator_assembler.n_to_1_ddof_allocator import Nto1Allocator2D"
   ]
  },
  {
   "cell_type": "code",
   "execution_count": null,
   "metadata": {},
   "outputs": [],
   "source": [
    "sizes = [(0.,float(2**i)) for i in range(1)]\n",
    "\n",
    "for size in sizes:\n",
    "    mass_matrix = polynom_factory.local_funcfunc_matrix(order=3, dim=2, distribution='globatto', size=size)\n",
    "    gradgrad = polynom_factory.local_gradgrad_matrix(order=3, distribution='globatto', dim=2, size=size)\n",
    "    #gradfunc = polynom_factory.local_gradfunc_matrix(order=3, distribution='globatto', dim=2, size=size)[1][0]\n",
    "    print(size)\n",
    "    for (point,root) in gradgrad[1].items():\n",
    "        print(point)\n",
    "        partial_diff_test(matrix=gradgrad[0], point=point, pointnum=root, pointdict=gradgrad[1], mass_matrix=None)"
   ]
  },
  {
   "cell_type": "code",
   "execution_count": 3,
   "metadata": {
    "collapsed": true
   },
   "outputs": [],
   "source": [
    "cell1 = cell.Cell2D(size=(1,1), ll_vertex=(0,0))\n",
    "cell2 = cell.Cell2D(size=(1,1), ll_vertex=(0,1))\n",
    "\n",
    "cell3 = cell.Cell2D(size=(2,2), ll_vertex=(1,0))"
   ]
  },
  {
   "cell_type": "code",
   "execution_count": 4,
   "metadata": {
    "collapsed": true
   },
   "outputs": [],
   "source": [
    "layer1 = grid_layer.GridLayer2D([c.ll_vertex for c in [cell1, cell2]], layer_number=0, index=[1,1], div_index=[1,1])\n",
    "layer2 = grid_layer.GridLayer2D([c.ll_vertex for c in [cell3]], layer_number=1, index=[1], div_index=[1])"
   ]
  },
  {
   "cell_type": "code",
   "execution_count": 5,
   "metadata": {
    "collapsed": true
   },
   "outputs": [],
   "source": [
    "gm = grid_manager.GridManager(dim=2, method='coarse2to1')"
   ]
  },
  {
   "cell_type": "code",
   "execution_count": 6,
   "metadata": {
    "collapsed": true
   },
   "outputs": [],
   "source": [
    "gm.grid_layers = [layer1, layer2]"
   ]
  },
  {
   "cell_type": "code",
   "execution_count": 7,
   "metadata": {
    "collapsed": true
   },
   "outputs": [],
   "source": [
    "ifma = InterfaceDofAllocator2D(grid_manager=gm)"
   ]
  },
  {
   "cell_type": "code",
   "execution_count": 8,
   "metadata": {
    "collapsed": true
   },
   "outputs": [],
   "source": [
    "ma = Nto1Allocator2D(grid_interface=ifma)\n",
    "ma._make_ddof_index()"
   ]
  },
  {
   "cell_type": "code",
   "execution_count": 9,
   "metadata": {
    "collapsed": true
   },
   "outputs": [],
   "source": [
    "s2b = np.array([[ 1.22829849,  0.48464847, -0.25684608, -0.45610087],\n",
    "       [ 0.23913821,  0.65966867,  0.1235421 , -0.02234897],\n",
    "       [-0.1275535 ,  1.03266901,  0.15410032, -0.05921584],\n",
    "       [-0.03430599,  1.34046152,  0.11031793, -0.41647347],\n",
    "       [ 0.08818493, -0.06115703,  0.97521681, -0.00224471],\n",
    "       [ 0.04581709, -0.324008  ,  0.58342807,  0.69476284],\n",
    "       [-0.38762016,  0.29856527,  0.85477372,  0.23428118]])\n",
    "\n",
    "b2s = np.array([[ 0.61414924,  0.59784553, -0.31888374, -0.03430599,  0.22046232,\n",
    "         0.11454272, -0.19381008],\n",
    "       [ 0.04846485,  0.32983433,  0.51633451,  0.2680923 , -0.03057852,\n",
    "        -0.162004  ,  0.02985653],\n",
    "       [-0.02568461,  0.06177105,  0.07705016,  0.02206359,  0.48760841,\n",
    "         0.29171404,  0.08547737],\n",
    "       [-0.22805044, -0.05587244, -0.14803959, -0.41647347, -0.00561177,\n",
    "         1.73690711,  0.11714059]])"
   ]
  },
  {
   "cell_type": "code",
   "execution_count": 10,
   "metadata": {},
   "outputs": [
    {
     "data": {
      "text/plain": [
       "[(((1, 0), (1, 1)),\n",
       "  ((1, 0), (1, 2)),\n",
       "  (3, 'lobatto'),\n",
       "  ((0, 37), (1, 38), (2, 39), (3, 30)))]"
      ]
     },
     "execution_count": 10,
     "metadata": {},
     "output_type": "execute_result"
    }
   ],
   "source": [
    "ma.get_weakly_connected_edges(cell=cell1)"
   ]
  },
  {
   "cell_type": "code",
   "execution_count": 11,
   "metadata": {},
   "outputs": [
    {
     "data": {
      "text/plain": [
       "[(12, 9), (13, 10), (14, 11), (15, 3)]"
      ]
     },
     "execution_count": 11,
     "metadata": {},
     "output_type": "execute_result"
    }
   ],
   "source": [
    "ma._get_flat_list_of_ddofs(cell=cell1, edge=ma.get_weakly_connected_edges(cell=cell1)[0][0])"
   ]
  },
  {
   "cell_type": "code",
   "execution_count": 12,
   "metadata": {},
   "outputs": [
    {
     "data": {
      "text/plain": [
       "array([[ 0.61414924,  0.04846485, -0.02568461, -0.22805044],\n",
       "       [ 0.59784553,  0.32983433,  0.06177105, -0.05587244],\n",
       "       [-0.31888374,  0.51633451,  0.07705016, -0.14803959],\n",
       "       [-0.03430599,  0.2680923 ,  0.02206359, -0.41647347]])"
      ]
     },
     "execution_count": 12,
     "metadata": {},
     "output_type": "execute_result"
    }
   ],
   "source": [
    "b2s.T[0:4]"
   ]
  },
  {
   "cell_type": "code",
   "execution_count": 13,
   "metadata": {
    "collapsed": true
   },
   "outputs": [],
   "source": [
    "from scipy.sparse import coo_matrix,csr_matrix"
   ]
  },
  {
   "cell_type": "code",
   "execution_count": 15,
   "metadata": {},
   "outputs": [],
   "source": [
    "gradgrad = polynom_factory.local_gradgrad_matrix(order=3, distribution='globatto', dim=2, size=(0,1))"
   ]
  },
  {
   "cell_type": "code",
   "execution_count": 16,
   "metadata": {},
   "outputs": [
    {
     "data": {
      "text/plain": [
       "(array([[  6.19047619e-01,  -2.33105738e-01,  -6.45133425e-02,\n",
       "           3.96825448e-02,  -2.33105738e-01,  -2.59725576e-01,\n",
       "           1.48809544e-01,  -6.25130512e-02,  -6.45133425e-02,\n",
       "           1.48809544e-01,  -3.78934550e-02,   1.29098753e-02,\n",
       "           3.96825448e-02,  -6.25130512e-02,   1.29098753e-02,\n",
       "          -3.96825310e-03],\n",
       "        [ -2.33105738e-01,   2.14285712e+00,  -3.96824312e-02,\n",
       "          -6.45133167e-02,  -2.59725576e-01,  -1.52046012e+00,\n",
       "          -4.01298182e-01,   1.48809518e-01,   1.48809544e-01,\n",
       "           3.23647967e-02,   1.53282258e-01,  -3.78934519e-02,\n",
       "          -6.25130512e-02,   3.96825542e-02,  -5.95238074e-02,\n",
       "           1.29098747e-02],\n",
       "        [ -6.45133425e-02,  -3.96824312e-02,   2.14285713e+00,\n",
       "          -2.33105838e-01,   1.48809544e-01,  -4.01298182e-01,\n",
       "          -1.52046006e+00,  -2.59725520e-01,  -3.78934550e-02,\n",
       "           1.53282258e-01,   3.23647763e-02,   1.48809548e-01,\n",
       "           1.29098753e-02,  -5.95238074e-02,   3.96825621e-02,\n",
       "          -6.25130551e-02],\n",
       "        [  3.96825448e-02,  -6.45133167e-02,  -2.33105838e-01,\n",
       "           6.19047639e-01,  -6.25130512e-02,   1.48809518e-01,\n",
       "          -2.59725520e-01,  -2.33105708e-01,   1.29098753e-02,\n",
       "          -3.78934519e-02,   1.48809548e-01,  -6.45133583e-02,\n",
       "          -3.96825310e-03,   1.29098747e-02,  -6.25130551e-02,\n",
       "           3.96825513e-02],\n",
       "        [ -2.33105738e-01,  -2.59725576e-01,   1.48809544e-01,\n",
       "          -6.25130512e-02,   2.14285712e+00,  -1.52046012e+00,\n",
       "           3.23647967e-02,   3.96825542e-02,  -3.96824312e-02,\n",
       "          -4.01298182e-01,   1.53282258e-01,  -5.95238074e-02,\n",
       "          -6.45133167e-02,   1.48809518e-01,  -3.78934519e-02,\n",
       "           1.29098747e-02],\n",
       "        [ -2.59725576e-01,  -1.52046012e+00,  -4.01298182e-01,\n",
       "           1.48809518e-01,  -1.52046012e+00,   5.95238071e+00,\n",
       "          -9.92063227e-01,   3.23648529e-02,  -4.01298182e-01,\n",
       "          -9.92063227e-01,  -4.96031854e-01,   1.53282237e-01,\n",
       "           1.48809518e-01,   3.23648529e-02,   1.53282237e-01,\n",
       "          -3.78934488e-02],\n",
       "        [  1.48809544e-01,  -4.01298182e-01,  -1.52046006e+00,\n",
       "          -2.59725520e-01,   3.23647967e-02,  -9.92063227e-01,\n",
       "           5.95238084e+00,  -1.52046042e+00,   1.53282258e-01,\n",
       "          -4.96031855e-01,  -9.92063161e-01,  -4.01298154e-01,\n",
       "          -3.78934519e-02,   1.53282237e-01,   3.23648325e-02,\n",
       "           1.48809522e-01],\n",
       "        [ -6.25130512e-02,   1.48809518e-01,  -2.59725520e-01,\n",
       "          -2.33105708e-01,   3.96825542e-02,   3.23648529e-02,\n",
       "          -1.52046042e+00,   2.14285727e+00,  -5.95238073e-02,\n",
       "           1.53282237e-01,  -4.01298154e-01,  -3.96823868e-02,\n",
       "           1.29098747e-02,  -3.78934488e-02,   1.48809522e-01,\n",
       "          -6.45133324e-02],\n",
       "        [ -6.45133425e-02,   1.48809544e-01,  -3.78934550e-02,\n",
       "           1.29098753e-02,  -3.96824312e-02,  -4.01298182e-01,\n",
       "           1.53282258e-01,  -5.95238073e-02,   2.14285713e+00,\n",
       "          -1.52046006e+00,   3.23647763e-02,   3.96825621e-02,\n",
       "          -2.33105838e-01,  -2.59725520e-01,   1.48809548e-01,\n",
       "          -6.25130551e-02],\n",
       "        [  1.48809544e-01,   3.23647967e-02,   1.53282258e-01,\n",
       "          -3.78934519e-02,  -4.01298182e-01,  -9.92063227e-01,\n",
       "          -4.96031855e-01,   1.53282237e-01,  -1.52046006e+00,\n",
       "           5.95238084e+00,  -9.92063161e-01,   3.23648325e-02,\n",
       "          -2.59725520e-01,  -1.52046042e+00,  -4.01298154e-01,\n",
       "           1.48809522e-01],\n",
       "        [ -3.78934550e-02,   1.53282258e-01,   3.23647763e-02,\n",
       "           1.48809548e-01,   1.53282258e-01,  -4.96031854e-01,\n",
       "          -9.92063161e-01,  -4.01298154e-01,   3.23647763e-02,\n",
       "          -9.92063161e-01,   5.95238098e+00,  -1.52046037e+00,\n",
       "           1.48809548e-01,  -4.01298154e-01,  -1.52046037e+00,\n",
       "          -2.59725464e-01],\n",
       "        [  1.29098753e-02,  -3.78934519e-02,   1.48809548e-01,\n",
       "          -6.45133583e-02,  -5.95238074e-02,   1.53282237e-01,\n",
       "          -4.01298154e-01,  -3.96823868e-02,   3.96825621e-02,\n",
       "           3.23648325e-02,  -1.52046037e+00,   2.14285728e+00,\n",
       "          -6.25130551e-02,   1.48809522e-01,  -2.59725464e-01,\n",
       "          -2.33105808e-01],\n",
       "        [  3.96825448e-02,  -6.25130512e-02,   1.29098753e-02,\n",
       "          -3.96825310e-03,  -6.45133167e-02,   1.48809518e-01,\n",
       "          -3.78934519e-02,   1.29098747e-02,  -2.33105838e-01,\n",
       "          -2.59725520e-01,   1.48809548e-01,  -6.25130551e-02,\n",
       "           6.19047639e-01,  -2.33105708e-01,  -6.45133583e-02,\n",
       "           3.96825513e-02],\n",
       "        [ -6.25130512e-02,   3.96825542e-02,  -5.95238074e-02,\n",
       "           1.29098747e-02,   1.48809518e-01,   3.23648529e-02,\n",
       "           1.53282237e-01,  -3.78934488e-02,  -2.59725520e-01,\n",
       "          -1.52046042e+00,  -4.01298154e-01,   1.48809522e-01,\n",
       "          -2.33105708e-01,   2.14285727e+00,  -3.96823868e-02,\n",
       "          -6.45133324e-02],\n",
       "        [  1.29098753e-02,  -5.95238074e-02,   3.96825621e-02,\n",
       "          -6.25130551e-02,  -3.78934519e-02,   1.53282237e-01,\n",
       "           3.23648325e-02,   1.48809522e-01,   1.48809548e-01,\n",
       "          -4.01298154e-01,  -1.52046037e+00,  -2.59725464e-01,\n",
       "          -6.45133583e-02,  -3.96823868e-02,   2.14285728e+00,\n",
       "          -2.33105808e-01],\n",
       "        [ -3.96825310e-03,   1.29098747e-02,  -6.25130551e-02,\n",
       "           3.96825513e-02,   1.29098747e-02,  -3.78934488e-02,\n",
       "           1.48809522e-01,  -6.45133324e-02,  -6.25130551e-02,\n",
       "           1.48809522e-01,  -2.59725464e-01,  -2.33105808e-01,\n",
       "           3.96825513e-02,  -6.45133324e-02,  -2.33105808e-01,\n",
       "           6.19047660e-01]]),\n",
       " {(0.0, 0.0): 0,\n",
       "  (0.0, 0.2763932): 1,\n",
       "  (0.0, 0.72360682): 2,\n",
       "  (0.0, 1.0): 3,\n",
       "  (0.2763932, 0.0): 4,\n",
       "  (0.2763932, 0.2763932): 5,\n",
       "  (0.2763932, 0.72360682): 6,\n",
       "  (0.2763932, 1.0): 7,\n",
       "  (0.72360682, 0.0): 8,\n",
       "  (0.72360682, 0.2763932): 9,\n",
       "  (0.72360682, 0.72360682): 10,\n",
       "  (0.72360682, 1.0): 11,\n",
       "  (1.0, 0.0): 12,\n",
       "  (1.0, 0.2763932): 13,\n",
       "  (1.0, 0.72360682): 14,\n",
       "  (1.0, 1.0): 15})"
      ]
     },
     "execution_count": 16,
     "metadata": {},
     "output_type": "execute_result"
    }
   ],
   "source": [
    "gradgrad"
   ]
  },
  {
   "cell_type": "code",
   "execution_count": 17,
   "metadata": {},
   "outputs": [
    {
     "data": {
      "text/plain": [
       "{((0, 0),\n",
       "  ((1, 0), (1, 1))): {((1, 0), ((1, 0), (1, 2))): [(0, 37),\n",
       "   (1, 38),\n",
       "   (2, 39),\n",
       "   (3, 30)]},\n",
       " ((0, 1),\n",
       "  ((1, 1), (1, 2))): {((1, 0), ((1, 0), (1, 2))): [(0, 37),\n",
       "   (1, 38),\n",
       "   (2, 39),\n",
       "   (3, 30)]},\n",
       " ((1, 0),\n",
       "  ((1, 0), (1, 2))): {((0, 0), ((1, 0), (1, 1))): [(12, 9),\n",
       "   (13, 10),\n",
       "   (14, 11),\n",
       "   (15, 3)], ((0, 1), ((1, 1), (1, 2))): [(12, 3),\n",
       "   (13, 22),\n",
       "   (14, 23),\n",
       "   (15, 21)]}}"
      ]
     },
     "execution_count": 17,
     "metadata": {},
     "output_type": "execute_result"
    }
   ],
   "source": [
    "ma._weak_edge_connections"
   ]
  },
  {
   "cell_type": "code",
   "execution_count": null,
   "metadata": {
    "collapsed": true
   },
   "outputs": [],
   "source": []
  }
 ],
 "metadata": {
  "kernelspec": {
   "display_name": "Python 3",
   "language": "python",
   "name": "python3"
  },
  "language_info": {
   "codemirror_mode": {
    "name": "ipython",
    "version": 3
   },
   "file_extension": ".py",
   "mimetype": "text/x-python",
   "name": "python",
   "nbconvert_exporter": "python",
   "pygments_lexer": "ipython3",
   "version": "3.6.0"
  }
 },
 "nbformat": 4,
 "nbformat_minor": 2
}
