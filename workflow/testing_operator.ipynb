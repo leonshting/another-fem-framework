{
 "cells": [
  {
   "cell_type": "code",
   "execution_count": 1,
   "metadata": {
    "collapsed": true
   },
   "outputs": [],
   "source": [
    "import sys\n",
    "#sys.path.insert(0,'/home/lshtanko/Programming/another-fem-framework/')\n",
    "#sys.path.insert(0,'/Users/marusy/Programming/another-fem-framework/')\n",
    "sys.path.insert(0,'/Users/leonshting/Programming/Schlumberger/fem-framework/')"
   ]
  },
  {
   "cell_type": "code",
   "execution_count": 2,
   "metadata": {
    "collapsed": true
   },
   "outputs": [],
   "source": [
    "from operator_assembler.assembly_interface import AssemblyInterface2D\n",
    "from operator_assembler.n_to_1_ddof_allocator import Nto1Allocator2D\n",
    "from grid.grid_manager import GridManager\n",
    "from grid.allocator_interface import InterfaceDofAllocator2D\n",
    "from grid.grid_domain import GridDomain\n",
    "from operator_assembler.matrix_assembler import MatrixAssembler2D\n",
    "from scipy.ndimage import imread\n",
    "from grid import cell, grid_layer, grid_manager\n",
    "import h5py\n",
    "import numpy as np\n",
    "\n",
    "from interpolant.cell_to_points import *\n",
    "from common import visual\n",
    "from common.tests import *\n",
    "from common.helpers import *\n",
    "from matplotlib import pyplot as plt\n",
    "from scipy.sparse import csr_matrix\n",
    "from scipy.sparse import linalg\n",
    "\n",
    "%matplotlib inline\n",
    "plt.rcParams['figure.figsize'] = 10, 7.5"
   ]
  },
  {
   "cell_type": "code",
   "execution_count": 3,
   "metadata": {
    "collapsed": true
   },
   "outputs": [],
   "source": [
    "np.set_printoptions(linewidth=500)"
   ]
  },
  {
   "cell_type": "markdown",
   "metadata": {},
   "source": [
    "#### Bad cell"
   ]
  },
  {
   "cell_type": "code",
   "execution_count": null,
   "metadata": {
    "collapsed": true
   },
   "outputs": [],
   "source": [
    "data_start = (16, 20)\n",
    "data_shape = (4, 4)\n",
    "data_end = tuple([i+j for i,j in zip(data_start, data_shape)])\n",
    "\n",
    "h5_data = h5py.File('../../../GM_L3D/600/state/viz_GM_1.h5')['index'][0]\n",
    "data = h5_data[data_start[0]:data_end[0], data_start[1]:data_end[1]]\n",
    "#data = imread('/Users/marusy/Programming/model/bhi2_labelled0000.tif')[data_start[0]:data_end[0], data_start[1]:data_end[1]]\n",
    "\n",
    "grid_domain = GridDomain(integer_size=data_shape, domain_size=(1.,1.))\n",
    "gm = GridManager()\n",
    "ifma = InterfaceDofAllocator2D(grid_manager=gm.fit(data=data))\n",
    "\n",
    "\n",
    "gm.draw_grid()"
   ]
  },
  {
   "cell_type": "code",
   "execution_count": 4,
   "metadata": {
    "collapsed": true
   },
   "outputs": [],
   "source": [
    "cell15 = cell.Cell2D(size=(1,1), ll_vertex=(0,8))\n",
    "cell25 = cell.Cell2D(size=(1,1), ll_vertex=(0,9))\n",
    "\n",
    "cell14 = cell.Cell2D(size=(1,1), ll_vertex=(0,6))\n",
    "cell24 = cell.Cell2D(size=(1,1), ll_vertex=(0,7))\n",
    "\n",
    "cell13 = cell.Cell2D(size=(1,1), ll_vertex=(0,4))\n",
    "cell23 = cell.Cell2D(size=(1,1), ll_vertex=(0,5))\n",
    "\n",
    "cell12 = cell.Cell2D(size=(1,1), ll_vertex=(0,2))\n",
    "cell22 = cell.Cell2D(size=(1,1), ll_vertex=(0,3))\n",
    "\n",
    "cell1 = cell.Cell2D(size=(1,1), ll_vertex=(0,0))\n",
    "cell2 = cell.Cell2D(size=(1,1), ll_vertex=(0,1))\n",
    "\n",
    "cell3 = cell.Cell2D(size=(2,2), ll_vertex=(1,0))\n",
    "cell32 = cell.Cell2D(size=(2,2), ll_vertex=(1,2))\n",
    "cell33 = cell.Cell2D(size=(2,2), ll_vertex=(1,4))\n",
    "cell34 = cell.Cell2D(size=(2,2), ll_vertex=(1,6))\n",
    "cell35 = cell.Cell2D(size=(2,2), ll_vertex=(1,8))"
   ]
  },
  {
   "cell_type": "code",
   "execution_count": 5,
   "metadata": {
    "collapsed": true
   },
   "outputs": [],
   "source": [
    "layer1 = grid_layer.GridLayer2D([c.ll_vertex for c in [cell1, cell2, cell12, cell22, cell13, cell23, cell14, cell24, cell15, cell25]], layer_number=0, index=[1,1], div_index=[1,1])\n",
    "layer2 = grid_layer.GridLayer2D([c.ll_vertex for c in [cell3, cell32, cell33, cell34, cell35]], layer_number=1, index=[1], div_index=[1])\n",
    "\n",
    "#layer1 = grid_layer.GridLayer2D([c.ll_vertex for c in [cell1, cell2]], layer_number=0, index=[1,1], div_index=[1,1])\n",
    "#layer2 = grid_layer.GridLayer2D([c.ll_vertex for c in [cell3]], layer_number=1, index=[1], div_index=[1])"
   ]
  },
  {
   "cell_type": "code",
   "execution_count": 6,
   "metadata": {
    "collapsed": true
   },
   "outputs": [],
   "source": [
    "gm = grid_manager.GridManager(dim=2, method='coarse2to1')\n",
    "gm.grid_layers = [layer1, layer2]\n",
    "ifma = InterfaceDofAllocator2D(grid_manager=gm)"
   ]
  },
  {
   "cell_type": "code",
   "execution_count": 7,
   "metadata": {
    "collapsed": true
   },
   "outputs": [],
   "source": [
    "ma = Nto1Allocator2D(grid_interface=ifma)\n",
    "ma._make_ddof_index()"
   ]
  },
  {
   "cell_type": "code",
   "execution_count": null,
   "metadata": {
    "collapsed": true
   },
   "outputs": [],
   "source": [
    "#6 cells\n",
    "ma._vertex_ddof_index[((0, 3), (0, 4))] = (ma._vertex_ddof_index[((0, 3), (0, 4))][0], ma._vertex_ddof_index[((0, 0), (0, 0))][1])\n",
    "ma._vertex_ddof_index[((0, 3), (1, 4))] = (ma._vertex_ddof_index[((0, 3), (1, 4))][0], ma._vertex_ddof_index[((0, 0), (1, 0))][1])\n",
    "ma._vertex_ddof_index[((1, 2), (1, 4))] = (ma._vertex_ddof_index[((1, 2), (1, 4))][0], ma._vertex_ddof_index[((1, 0), (1, 0))][1])\n",
    "ma._vertex_ddof_index[((1, 2), (3, 4))] = (ma._vertex_ddof_index[((1, 2), (3, 4))][0], ma._vertex_ddof_index[((1, 0), (3, 0))][1])"
   ]
  },
  {
   "cell_type": "code",
   "execution_count": null,
   "metadata": {
    "collapsed": true
   },
   "outputs": [],
   "source": [
    "#3 cells\n",
    "ma._vertex_ddof_index[((0, 1), (0, 2))] = (ma._vertex_ddof_index[((0, 1), (0, 2))][0], ma._vertex_ddof_index[((0, 0), (0, 0))][1])\n",
    "ma._vertex_ddof_index[((0, 1), (1, 2))] = (ma._vertex_ddof_index[((0, 1), (1, 2))][0], ma._vertex_ddof_index[((0, 0), (1, 0))][1])\n",
    "ma._vertex_ddof_index[((1, 0), (1, 2))] = (ma._vertex_ddof_index[((1, 0), (1, 2))][0], ma._vertex_ddof_index[((1, 0), (1, 0))][1])\n",
    "ma._vertex_ddof_index[((1, 0), (3, 2))] = (ma._vertex_ddof_index[((1, 0), (3, 2))][0], ma._vertex_ddof_index[((1, 0), (3, 0))][1])"
   ]
  },
  {
   "cell_type": "code",
   "execution_count": null,
   "metadata": {
    "collapsed": true
   },
   "outputs": [],
   "source": [
    "#6 cells\n",
    "edge_mapping = {((0, 4), (1, 4)): ((0, 0), (1, 0)), ((1, 4), (3, 4)): ((1, 0), (3, 0))}\n",
    "#3cells\n",
    "#edge_mapping = {((0, 2), (1, 2)): ((0, 0), (1, 0)), ((1, 2), (3, 2)): ((1, 0), (3, 0))}\n",
    "for (cell, edge), dd in ma._edge_ddof_index.items():\n",
    "    if edge_mapping.get(edge) is not None:\n",
    "        edge_slave = edge\n",
    "        edge_prim = edge_mapping[edge]\n",
    "        prim_cell = [i for i in list(ma._edge_ddof_index.keys()) if i[1] == edge_prim][0][0]\n",
    "        ma._edge_ddof_index[(cell, edge_slave)] = [(i[0],j[1])\n",
    "            for i,j in\n",
    "            zip(ma._edge_ddof_index[(cell, edge_slave)], ma._edge_ddof_index[(prim_cell, edge_prim)])\n",
    "        ]"
   ]
  },
  {
   "cell_type": "code",
   "execution_count": null,
   "metadata": {
    "collapsed": true
   },
   "outputs": [],
   "source": [
    "#6 cells\n",
    "ma._weak_edge_connections[ ((0, 2),\n",
    "  ((1, 2), (1, 3)))] = {((1, 2), ((1, 2), (1, 4))): [(0, 54),\n",
    "   (1, 74),\n",
    "   (2, 75),\n",
    "   (3, 61)]}\n",
    "\n",
    "ma._weak_edge_connections[((0, 3),\n",
    "  ((1, 3), (1, 4)))] = {((1, 2), ((1, 2), (1, 4))): [(0, 54),\n",
    "   (1, 74),\n",
    "   (2, 75),\n",
    "   (3, 61)]}\n",
    "\n",
    "ma._weak_edge_connections[((1, 2),\n",
    "  ((1, 2), (1, 4)))] = {((0, 2), ((1, 2), (1, 3))): [(12, 19),\n",
    "   (13, 34),\n",
    "   (14, 35),\n",
    "   (15, 31)], ((0, 3), ((1, 3), (1, 4))): [(12, 31),\n",
    "   (13, 46),\n",
    "   (14, 47),\n",
    "   (15, 9)]}"
   ]
  },
  {
   "cell_type": "code",
   "execution_count": null,
   "metadata": {
    "collapsed": true
   },
   "outputs": [],
   "source": [
    "#3cells\n",
    "ma._weak_edge_connections[((0, 0), ((1, 0), (1, 1)))] = {((1, 0), ((1, 0), (1, 2))): [(0, 37),\n",
    "   (1, 38),\n",
    "   (2, 39),\n",
    "   (3, 37)]}\n",
    "ma._weak_edge_connections[((0, 1), ((1, 1), (1, 2)))] = {((1, 0), ((1, 0), (1, 2))): [(0, 37),\n",
    "   (1, 38),\n",
    "   (2, 39),\n",
    "   (3, 37)]}\n",
    "\n",
    "ma._weak_edge_connections[((1, 0),((1, 0), (1, 2)))] = {((0, 0), ((1, 0), (1, 1))): [(12, 9),\n",
    "   (13, 10),\n",
    "   (14, 11),\n",
    "   (15, 3)], ((0, 1), ((1, 1), (1, 2))): [(12, 3),\n",
    "   (13, 22),\n",
    "   (14, 23),\n",
    "   (15, 9)]}"
   ]
  },
  {
   "cell_type": "code",
   "execution_count": 8,
   "metadata": {
    "collapsed": true
   },
   "outputs": [],
   "source": [
    "grid_domain = GridDomain(domain_size=(3.,10.), integer_size=(3,10))\n",
    "grid_domain.make_pointwise_index(ma)"
   ]
  },
  {
   "cell_type": "code",
   "execution_count": 9,
   "metadata": {},
   "outputs": [
    {
     "data": {
      "text/plain": [
       "{(0.0, 0.0): {6},\n",
       " (0.0, 0.27639320225002106): {4},\n",
       " (0.0, 0.72360679774997894): {5},\n",
       " (0.0, 1.0): {2},\n",
       " (0.0, 1.2763932022500211): {20},\n",
       " (0.0, 1.7236067977499789): {21},\n",
       " (0.0, 2.0): {18},\n",
       " (0.0, 2.2763932022500208): {32},\n",
       " (0.0, 2.7236067977499792): {33},\n",
       " (0.0, 3.0): {30},\n",
       " (0.0, 3.2763932022500208): {44},\n",
       " (0.0, 3.7236067977499792): {45},\n",
       " (0.0, 4.0): {42},\n",
       " (0.0, 4.2763932022500208): {56},\n",
       " (0.0, 4.7236067977499792): {57},\n",
       " (0.0, 5.0): {54},\n",
       " (0.0, 5.2763932022500208): {68},\n",
       " (0.0, 5.7236067977499792): {69},\n",
       " (0.0, 6.0): {66},\n",
       " (0.0, 6.2763932022500208): {80},\n",
       " (0.0, 6.7236067977499783): {81},\n",
       " (0.0, 7.0): {78},\n",
       " (0.0, 7.2763932022500217): {92},\n",
       " (0.0, 7.7236067977499783): {93},\n",
       " (0.0, 8.0): {90},\n",
       " (0.0, 8.2763932022500217): {104},\n",
       " (0.0, 8.7236067977499783): {105},\n",
       " (0.0, 9.0): {102},\n",
       " (0.0, 9.2763932022500217): {112},\n",
       " (0.0, 9.7236067977499783): {113},\n",
       " (0.0, 10.0): {114},\n",
       " (0.27639320225002106, 0.0): {7},\n",
       " (0.27639320225002106, 0.27639320225002106): {12},\n",
       " (0.27639320225002106, 0.72360679774997894): {13},\n",
       " (0.27639320225002106, 1.0): {0},\n",
       " (0.27639320225002106, 1.2763932022500211): {24},\n",
       " (0.27639320225002106, 1.7236067977499789): {25},\n",
       " (0.27639320225002106, 2.0): {16},\n",
       " (0.27639320225002106, 2.2763932022500208): {36},\n",
       " (0.27639320225002106, 2.7236067977499792): {37},\n",
       " (0.27639320225002106, 3.0): {28},\n",
       " (0.27639320225002106, 3.2763932022500208): {48},\n",
       " (0.27639320225002106, 3.7236067977499792): {49},\n",
       " (0.27639320225002106, 4.0): {40},\n",
       " (0.27639320225002106, 4.2763932022500208): {60},\n",
       " (0.27639320225002106, 4.7236067977499792): {61},\n",
       " (0.27639320225002106, 5.0): {52},\n",
       " (0.27639320225002106, 5.2763932022500208): {72},\n",
       " (0.27639320225002106, 5.7236067977499792): {73},\n",
       " (0.27639320225002106, 6.0): {64},\n",
       " (0.27639320225002106, 6.2763932022500208): {84},\n",
       " (0.27639320225002106, 6.7236067977499783): {85},\n",
       " (0.27639320225002106, 7.0): {76},\n",
       " (0.27639320225002106, 7.2763932022500217): {96},\n",
       " (0.27639320225002106, 7.7236067977499783): {97},\n",
       " (0.27639320225002106, 8.0): {88},\n",
       " (0.27639320225002106, 8.2763932022500217): {108},\n",
       " (0.27639320225002106, 8.7236067977499783): {109},\n",
       " (0.27639320225002106, 9.0): {100},\n",
       " (0.27639320225002106, 9.2763932022500217): {120},\n",
       " (0.27639320225002106, 9.7236067977499783): {121},\n",
       " (0.27639320225002106, 10.0): {115},\n",
       " (0.72360679774997883, 0.0): {8},\n",
       " (0.72360679774997883, 0.27639320225002106): {14},\n",
       " (0.72360679774997883, 0.72360679774997894): {15},\n",
       " (0.72360679774997883, 1.0): {1},\n",
       " (0.72360679774997883, 1.2763932022500211): {26},\n",
       " (0.72360679774997883, 1.7236067977499789): {27},\n",
       " (0.72360679774997883, 2.0): {17},\n",
       " (0.72360679774997883, 2.2763932022500208): {38},\n",
       " (0.72360679774997883, 2.7236067977499792): {39},\n",
       " (0.72360679774997883, 3.0): {29},\n",
       " (0.72360679774997883, 3.2763932022500208): {50},\n",
       " (0.72360679774997883, 3.7236067977499792): {51},\n",
       " (0.72360679774997883, 4.0): {41},\n",
       " (0.72360679774997883, 4.2763932022500208): {62},\n",
       " (0.72360679774997883, 4.7236067977499792): {63},\n",
       " (0.72360679774997883, 5.0): {53},\n",
       " (0.72360679774997883, 5.2763932022500208): {74},\n",
       " (0.72360679774997883, 5.7236067977499792): {75},\n",
       " (0.72360679774997883, 6.0): {65},\n",
       " (0.72360679774997883, 6.2763932022500208): {86},\n",
       " (0.72360679774997883, 6.7236067977499783): {87},\n",
       " (0.72360679774997883, 7.0): {77},\n",
       " (0.72360679774997883, 7.2763932022500217): {98},\n",
       " (0.72360679774997883, 7.7236067977499783): {99},\n",
       " (0.72360679774997883, 8.0): {89},\n",
       " (0.72360679774997883, 8.2763932022500217): {110},\n",
       " (0.72360679774997883, 8.7236067977499783): {111},\n",
       " (0.72360679774997883, 9.0): {101},\n",
       " (0.72360679774997883, 9.2763932022500217): {122},\n",
       " (0.72360679774997883, 9.7236067977499783): {123},\n",
       " (0.72360679774997883, 10.0): {116},\n",
       " (1.0, 0.0): {9, 133},\n",
       " (1.0, 0.27639320225002106): {10},\n",
       " (1.0, 0.55278640450004213): {134},\n",
       " (1.0, 0.72360679774997894): {11},\n",
       " (1.0, 1.0): {3},\n",
       " (1.0, 1.2763932022500211): {22},\n",
       " (1.0, 1.4472135954999579): {135},\n",
       " (1.0, 1.7236067977499789): {23},\n",
       " (1.0, 2.0): {19, 126},\n",
       " (1.0, 2.2763932022500208): {34},\n",
       " (1.0, 2.5527864045000421): {146},\n",
       " (1.0, 2.7236067977499792): {35},\n",
       " (1.0, 3.0): {31},\n",
       " (1.0, 3.2763932022500208): {46},\n",
       " (1.0, 3.4472135954999579): {147},\n",
       " (1.0, 3.7236067977499792): {47},\n",
       " (1.0, 4.0): {43, 142},\n",
       " (1.0, 4.2763932022500208): {58},\n",
       " (1.0, 4.5527864045000417): {158},\n",
       " (1.0, 4.7236067977499792): {59},\n",
       " (1.0, 5.0): {55},\n",
       " (1.0, 5.2763932022500208): {70},\n",
       " (1.0, 5.4472135954999583): {159},\n",
       " (1.0, 5.7236067977499792): {71},\n",
       " (1.0, 6.0): {67, 154},\n",
       " (1.0, 6.2763932022500208): {82},\n",
       " (1.0, 6.5527864045000417): {170},\n",
       " (1.0, 6.7236067977499783): {83},\n",
       " (1.0, 7.0): {79},\n",
       " (1.0, 7.2763932022500217): {94},\n",
       " (1.0, 7.4472135954999583): {171},\n",
       " (1.0, 7.7236067977499783): {95},\n",
       " (1.0, 8.0): {91, 166},\n",
       " (1.0, 8.2763932022500217): {106},\n",
       " (1.0, 8.5527864045000417): {182},\n",
       " (1.0, 8.7236067977499783): {107},\n",
       " (1.0, 9.0): {103},\n",
       " (1.0, 9.2763932022500217): {118},\n",
       " (1.0, 9.4472135954999583): {183},\n",
       " (1.0, 9.7236067977499783): {119},\n",
       " (1.0, 10.0): {117, 178},\n",
       " (1.5527864045000423, 0.0): {131},\n",
       " (1.5527864045000423, 0.55278640450004213): {136},\n",
       " (1.5527864045000423, 1.4472135954999579): {137},\n",
       " (1.5527864045000423, 2.0): {124},\n",
       " (1.5527864045000423, 2.5527864045000421): {148},\n",
       " (1.5527864045000423, 3.4472135954999579): {149},\n",
       " (1.5527864045000423, 4.0): {140},\n",
       " (1.5527864045000423, 4.5527864045000417): {160},\n",
       " (1.5527864045000423, 5.4472135954999583): {161},\n",
       " (1.5527864045000423, 6.0): {152},\n",
       " (1.5527864045000423, 6.5527864045000417): {172},\n",
       " (1.5527864045000423, 7.4472135954999583): {173},\n",
       " (1.5527864045000423, 8.0): {164},\n",
       " (1.5527864045000423, 8.5527864045000417): {184},\n",
       " (1.5527864045000423, 9.4472135954999583): {185},\n",
       " (1.5527864045000423, 10.0): {176},\n",
       " (2.4472135954999579, 0.0): {132},\n",
       " (2.4472135954999579, 0.55278640450004213): {138},\n",
       " (2.4472135954999579, 1.4472135954999579): {139},\n",
       " (2.4472135954999579, 2.0): {125},\n",
       " (2.4472135954999579, 2.5527864045000421): {150},\n",
       " (2.4472135954999579, 3.4472135954999579): {151},\n",
       " (2.4472135954999579, 4.0): {141},\n",
       " (2.4472135954999579, 4.5527864045000417): {162},\n",
       " (2.4472135954999579, 5.4472135954999583): {163},\n",
       " (2.4472135954999579, 6.0): {153},\n",
       " (2.4472135954999579, 6.5527864045000417): {174},\n",
       " (2.4472135954999579, 7.4472135954999583): {175},\n",
       " (2.4472135954999579, 8.0): {165},\n",
       " (2.4472135954999579, 8.5527864045000417): {186},\n",
       " (2.4472135954999579, 9.4472135954999583): {187},\n",
       " (2.4472135954999579, 10.0): {177},\n",
       " (3.0, 0.0): {130},\n",
       " (3.0, 0.55278640450004213): {128},\n",
       " (3.0, 1.4472135954999579): {129},\n",
       " (3.0, 2.0): {127},\n",
       " (3.0, 2.5527864045000421): {144},\n",
       " (3.0, 3.4472135954999579): {145},\n",
       " (3.0, 4.0): {143},\n",
       " (3.0, 4.5527864045000417): {156},\n",
       " (3.0, 5.4472135954999583): {157},\n",
       " (3.0, 6.0): {155},\n",
       " (3.0, 6.5527864045000417): {168},\n",
       " (3.0, 7.4472135954999583): {169},\n",
       " (3.0, 8.0): {167},\n",
       " (3.0, 8.5527864045000417): {180},\n",
       " (3.0, 9.4472135954999583): {181},\n",
       " (3.0, 10.0): {179}}"
      ]
     },
     "execution_count": 9,
     "metadata": {},
     "output_type": "execute_result"
    }
   ],
   "source": [
    "grid_domain.pointwise_index"
   ]
  },
  {
   "cell_type": "code",
   "execution_count": 10,
   "metadata": {
    "collapsed": true
   },
   "outputs": [],
   "source": [
    "ifma2 = AssemblyInterface2D(allocator=ma)\n",
    "MA = MatrixAssembler2D(assembly_interface=ifma2, grid_domain=grid_domain)"
   ]
  },
  {
   "cell_type": "code",
   "execution_count": 11,
   "metadata": {
    "scrolled": true
   },
   "outputs": [
    {
     "name": "stdout",
     "output_type": "stream",
     "text": [
      "[(0, 6), (1, 4), (2, 5), (3, 2), (4, 7), (5, 12), (6, 13), (7, 0), (8, 8), (9, 14), (10, 15), (11, 1), (12, 9), (13, 10), (14, 11), (15, 3)] [(0, 2), (1, 20), (2, 21), (3, 18), (4, 0), (5, 24), (6, 25), (7, 16), (8, 1), (9, 26), (10, 27), (11, 17), (12, 3), (13, 22), (14, 23), (15, 19)]\n",
      "{0, 1, 2, 4, 5, 6, 7, 8, 12, 13, 14, 15, 16, 17, 18, 20, 21, 24, 25, 26, 27} {128, 129, 130, 131, 132, 136, 137, 138, 139, 124, 125, 127} [[133, 134, 135, 126]] [[9, 10, 11, 3, 22, 23, 19]]\n",
      "\r",
      " 0[(0, 18), (1, 32), (2, 33), (3, 30), (4, 16), (5, 36), (6, 37), (7, 28), (8, 17), (9, 38), (10, 39), (11, 29), (12, 19), (13, 34), (14, 35), (15, 31)] [(0, 30), (1, 44), (2, 45), (3, 42), (4, 28), (5, 48), (6, 49), (7, 40), (8, 29), (9, 50), (10, 51), (11, 41), (12, 31), (13, 46), (14, 47), (15, 43)]\n",
      "{16, 17, 18, 28, 29, 30, 32, 33, 36, 37, 38, 39, 40, 41, 42, 44, 45, 48, 49, 50, 51} {140, 141, 143, 144, 145, 148, 149, 150, 151, 124, 125, 127} [[126, 146, 147, 142]] [[19, 34, 35, 31, 46, 47, 43]]\n",
      "\r",
      " 1[(0, 42), (1, 56), (2, 57), (3, 54), (4, 40), (5, 60), (6, 61), (7, 52), (8, 41), (9, 62), (10, 63), (11, 53), (12, 43), (13, 58), (14, 59), (15, 55)] [(0, 54), (1, 68), (2, 69), (3, 66), (4, 52), (5, 72), (6, 73), (7, 64), (8, 53), (9, 74), (10, 75), (11, 65), (12, 55), (13, 70), (14, 71), (15, 67)]\n",
      "{40, 41, 42, 52, 53, 54, 56, 57, 60, 61, 62, 63, 64, 65, 66, 68, 69, 72, 73, 74, 75} {160, 161, 162, 163, 140, 141, 143, 152, 153, 155, 156, 157} [[142, 158, 159, 154]] [[43, 58, 59, 55, 70, 71, 67]]\n",
      "\r",
      " 2[(0, 66), (1, 80), (2, 81), (3, 78), (4, 64), (5, 84), (6, 85), (7, 76), (8, 65), (9, 86), (10, 87), (11, 77), (12, 67), (13, 82), (14, 83), (15, 79)] [(0, 78), (1, 92), (2, 93), (3, 90), (4, 76), (5, 96), (6, 97), (7, 88), (8, 77), (9, 98), (10, 99), (11, 89), (12, 79), (13, 94), (14, 95), (15, 91)]\n",
      "{64, 65, 66, 76, 77, 78, 80, 81, 84, 85, 86, 87, 88, 89, 90, 92, 93, 96, 97, 98, 99} {164, 165, 167, 168, 169, 172, 173, 174, 175, 152, 153, 155} [[154, 170, 171, 166]] [[67, 82, 83, 79, 94, 95, 91]]\n",
      "\r",
      " 3[(0, 90), (1, 104), (2, 105), (3, 102), (4, 88), (5, 108), (6, 109), (7, 100), (8, 89), (9, 110), (10, 111), (11, 101), (12, 91), (13, 106), (14, 107), (15, 103)] [(0, 102), (1, 112), (2, 113), (3, 114), (4, 100), (5, 120), (6, 121), (7, 115), (8, 101), (9, 122), (10, 123), (11, 116), (12, 103), (13, 118), (14, 119), (15, 117)]\n",
      "{88, 89, 90, 100, 101, 102, 104, 105, 108, 109, 110, 111, 112, 113, 114, 115, 116, 120, 121, 122, 123} {164, 165, 167, 176, 177, 179, 180, 181, 184, 185, 186, 187} [[166, 182, 183, 178]] [[91, 106, 107, 103, 118, 119, 117]]\n",
      "\r",
      " 4\r",
      " 5\r",
      " 6\r",
      " 7\r",
      " 8\r",
      " 9\r",
      " 10\r",
      " 11\r",
      " 12\r",
      " 13\r",
      " 14"
     ]
    }
   ],
   "source": [
    "deep = MA.assemble()"
   ]
  },
  {
   "cell_type": "code",
   "execution_count": null,
   "metadata": {
    "collapsed": true
   },
   "outputs": [],
   "source": [
    "sine_test = grid_domain.vectorize_function(lambda x,y: np.sin(x+y))\n",
    "product = grid_domain.devectorize_vector(MA.assembled * sine_test)\n",
    "init = grid_domain.devectorize_function(lambda x,y: np.sin(x+y))\n",
    "\n",
    "visual.plot_surface_unstructured_w_dict(\n",
    "    point_val_dict=grid_domain.devectorize_vector(MA.assembled * sine_test),\n",
    "    plot_domain_shape=grid_domain.domain_size,\n",
    "    int_domain_shape=grid_domain.integer_size\n",
    ")\n",
    "\n",
    "visual.plot_surface_unstructured_w_dict(\n",
    "    point_val_dict=grid_domain.devectorize_function(lambda x,y: np.sin(x+y)),\n",
    "    plot_domain_shape=grid_domain.domain_size,\n",
    "    int_domain_shape=grid_domain.integer_size\n",
    ")"
   ]
  },
  {
   "cell_type": "code",
   "execution_count": 12,
   "metadata": {
    "collapsed": true
   },
   "outputs": [],
   "source": [
    "def partial_diff_test_w_scale(pointnum, point, matrix, pointdict, mass_matrix=None,\n",
    "                      multiple_dofs_on_point=True, scale_factor=1, return_what='full'):\n",
    "    x_der = 0\n",
    "    xx_der = 0\n",
    "    yy_der = 0\n",
    "    y_der = 0\n",
    "    xy_der = 0\n",
    "\n",
    "    if not multiple_dofs_on_point:\n",
    "        for k, v in pointdict.items():\n",
    "            dx = point[0] - k[0]\n",
    "            dy = point[1] - k[1]\n",
    "\n",
    "            x_der += dx * matrix[pointnum, v]\n",
    "            xx_der += matrix[pointnum, v] * dx ** 2 / 2\n",
    "            y_der += dy * matrix[pointnum, v]\n",
    "            yy_der += dy ** 2 / 2 * matrix[pointnum, v]\n",
    "            xy_der += dx * dy * matrix[pointnum, v]\n",
    "    else:\n",
    "        for k, vs in pointdict.items():\n",
    "            for v in vs:\n",
    "                dx = point[0] - k[0]\n",
    "                dy = point[1] - k[1]\n",
    "\n",
    "                x_der += dx * matrix[pointnum, v]\n",
    "                xx_der += matrix[pointnum, v] * dx ** 2 / 2\n",
    "                y_der += dy * matrix[pointnum, v]\n",
    "                yy_der += dy ** 2 / 2 * matrix[pointnum, v]\n",
    "                xy_der += dx * dy * matrix[pointnum, v]\n",
    "                \n",
    "    if mass_matrix is not None:\n",
    "        print('Mass coef: {}'.format(mass_matrix[pointnum].sum()))\n",
    "    print('X derivative: {}'.format(x_der * scale_factor))\n",
    "    print('Y derivative: {}'.format(y_der * scale_factor))\n",
    "    print('XX derivative: {}'.format(xx_der * scale_factor))\n",
    "    print('YY derivative: {}'.format(yy_der * scale_factor))\n",
    "    print('XY_derivative: {}'.format(xy_der * scale_factor), end='\\n\\n')\n",
    "    \n",
    "    return {'XX': xx_der * scale_factor,\n",
    "            'YY': yy_der * scale_factor,\n",
    "            'X': x_der * scale_factor,\n",
    "            'Y': y_der * scale_factor,           \n",
    "           }"
   ]
  },
  {
   "cell_type": "code",
   "execution_count": 13,
   "metadata": {
    "collapsed": true
   },
   "outputs": [],
   "source": [
    "c2p = Cell2PointsConverter(orders=[[3],[3,3]])"
   ]
  },
  {
   "cell_type": "code",
   "execution_count": 14,
   "metadata": {
    "collapsed": true
   },
   "outputs": [],
   "source": [
    "w_ld, w_rd = c2p.get_weights()"
   ]
  },
  {
   "cell_type": "code",
   "execution_count": 15,
   "metadata": {
    "collapsed": true
   },
   "outputs": [],
   "source": [
    "w_l, w_r = c2p.get_diag_weights()"
   ]
  },
  {
   "cell_type": "code",
   "execution_count": null,
   "metadata": {
    "scrolled": false
   },
   "outputs": [],
   "source": [
    "sums = {'XX': 0, 'YY': 0, 'X': 0, 'Y': 0}\n",
    "for num,i in enumerate([445, 446, 447, 448, 449, 450, 432]):\n",
    "    print(i, end=' ')\n",
    "    for k, v in partial_diff_test_w_scale(matrix=MA.half_glob,\n",
    "                       point=grid_domain.normal_index[i],\n",
    "                       pointnum=i,\n",
    "                       pointdict=grid_domain.pointwise_index,\n",
    "                       scale_factor=1):\n",
    "        sums[k] += v"
   ]
  },
  {
   "cell_type": "code",
   "execution_count": null,
   "metadata": {
    "collapsed": true
   },
   "outputs": [],
   "source": [
    "ls = [0.3333333333695328, 0.833333333330938]\n",
    "w_rd * np.dot(MA.I_s2b, np.array(ls + ls[::-1]))"
   ]
  },
  {
   "cell_type": "code",
   "execution_count": 16,
   "metadata": {
    "scrolled": true
   },
   "outputs": [
    {
     "name": "stdout",
     "output_type": "stream",
     "text": [
      "31 X derivative: 8.287339998275245e-13\n",
      "Y derivative: 2.3193336357377192e-12\n",
      "XX derivative: -0.020833333334640203\n",
      "YY derivative: -0.041666096928817536\n",
      "XY_derivative: -4.270112258578096e-12\n",
      "\n"
     ]
    }
   ],
   "source": [
    "for i in [31]:\n",
    "    print(i, end=' ')\n",
    "    partial_diff_test(matrix=MA.assembled,\n",
    "                      point=grid_domain.normal_index[i],\n",
    "                      pointnum=i,\n",
    "                      pointdict=grid_domain.pointwise_index)"
   ]
  },
  {
   "cell_type": "code",
   "execution_count": 17,
   "metadata": {},
   "outputs": [
    {
     "name": "stdout",
     "output_type": "stream",
     "text": [
      "31 X derivative: -0.16666666666871838\n",
      "Y derivative: 1.8848950178451673e-12\n",
      "XX derivative: -0.013888888890118753\n",
      "YY derivative: -0.01388820232166671\n",
      "XY_derivative: 2.753661021184435e-13\n",
      "\n"
     ]
    }
   ],
   "source": [
    "for i in [31]:\n",
    "    print(i, end=' ')\n",
    "    partial_diff_test_w_scale(matrix=MA.half_glob,\n",
    "                              point=grid_domain.normal_index[i],\n",
    "                              pointnum=i,\n",
    "                              pointdict=grid_domain.pointwise_index,\n",
    "                              scale_factor=1\n",
    "                             )"
   ]
  },
  {
   "cell_type": "code",
   "execution_count": null,
   "metadata": {
    "collapsed": true
   },
   "outputs": [],
   "source": [
    "sums"
   ]
  },
  {
   "cell_type": "code",
   "execution_count": null,
   "metadata": {
    "collapsed": true
   },
   "outputs": [],
   "source": [
    "plt.imshow(np.vstack((MA.half_glob[158].toarray(),MA.half_glob[159].toarray())), interpolation='none', aspect=10)"
   ]
  },
  {
   "cell_type": "code",
   "execution_count": null,
   "metadata": {
    "collapsed": true
   },
   "outputs": [],
   "source": [
    "w_rd"
   ]
  },
  {
   "cell_type": "code",
   "execution_count": null,
   "metadata": {
    "collapsed": true
   },
   "outputs": [],
   "source": []
  }
 ],
 "metadata": {
  "kernelspec": {
   "display_name": "Python 3",
   "language": "python",
   "name": "python3"
  },
  "language_info": {
   "codemirror_mode": {
    "name": "ipython",
    "version": 3
   },
   "file_extension": ".py",
   "mimetype": "text/x-python",
   "name": "python",
   "nbconvert_exporter": "python",
   "pygments_lexer": "ipython3",
   "version": "3.6.0"
  }
 },
 "nbformat": 4,
 "nbformat_minor": 2
}
