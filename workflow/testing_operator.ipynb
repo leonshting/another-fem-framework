{
 "cells": [
  {
   "cell_type": "code",
   "execution_count": 1,
   "metadata": {
    "collapsed": true
   },
   "outputs": [],
   "source": [
    "import sys\n",
    "sys.path.insert(0,'/home/lshtanko/Programming/another-fem-framework/')"
   ]
  },
  {
   "cell_type": "code",
   "execution_count": 2,
   "metadata": {
    "collapsed": true
   },
   "outputs": [],
   "source": [
    "#import h5py\n",
    "\n",
    "from operator_assembler.assembly_interface import AssemblyInterface2D\n",
    "from operator_assembler.n_to_1_ddof_allocator import Nto1Allocator2D\n",
    "from grid.grid_manager import GridManager\n",
    "from grid.allocator_interface import InterfaceDofAllocator2D\n",
    "from grid.grid_domain import GridDomain\n",
    "from operator_assembler.matrix_assembler import MatrixAssembler2D\n",
    "from scipy.ndimage import imread\n",
    "from grid import cell, grid_layer, grid_manager\n",
    "import h5py\n",
    "import numpy as np\n",
    "\n",
    "from common import visual\n",
    "from matplotlib import pyplot as plt\n",
    "%matplotlib inline"
   ]
  },
  {
   "cell_type": "markdown",
   "metadata": {},
   "source": [
    "#### Bad cell"
   ]
  },
  {
   "cell_type": "code",
   "execution_count": null,
   "metadata": {
    "collapsed": false
   },
   "outputs": [],
   "source": [
    "data_start = (16, 20)\n",
    "data_shape = (4, 4)\n",
    "data_end = tuple([i+j for i,j in zip(data_start, data_shape)])\n",
    "\n",
    "h5_data = h5py.File('../../../GM_L3D/600/state/viz_GM_1.h5')['index'][0]\n",
    "data = h5_data[data_start[0]:data_end[0], data_start[1]:data_end[1]]\n",
    "#data = imread('/Users/marusy/Programming/model/bhi2_labelled0000.tif')[data_start[0]:data_end[0], data_start[1]:data_end[1]]\n",
    "\n",
    "grid_domain = GridDomain(integer_size=data_shape, domain_size=(1.,1.))\n",
    "gm = GridManager()\n",
    "ifma = InterfaceDofAllocator2D(grid_manager=gm.fit(data=data))\n",
    "\n",
    "gm.draw_grid()"
   ]
  },
  {
   "cell_type": "code",
   "execution_count": 3,
   "metadata": {
    "collapsed": false
   },
   "outputs": [],
   "source": [
    "cell1 = cell.Cell2D(size=(1,1), ll_vertex=(0,0))\n",
    "cell2 = cell.Cell2D(size=(1,1), ll_vertex=(0,1))\n",
    "\n",
    "cell3 = cell.Cell2D(size=(2,2), ll_vertex=(1,0))"
   ]
  },
  {
   "cell_type": "code",
   "execution_count": 4,
   "metadata": {
    "collapsed": true
   },
   "outputs": [],
   "source": [
    "layer1 = grid_layer.GridLayer2D([c.ll_vertex for c in [cell1, cell2]], layer_number=0, index=[1,1], div_index=[1,1])\n",
    "layer2 = grid_layer.GridLayer2D([c.ll_vertex for c in [cell3]], layer_number=1, index=[1], div_index=[1])"
   ]
  },
  {
   "cell_type": "code",
   "execution_count": 5,
   "metadata": {
    "collapsed": true
   },
   "outputs": [],
   "source": [
    "gm = grid_manager.GridManager(dim=2, method='coarse2to1')\n",
    "gm.grid_layers = [layer1, layer2]\n",
    "ifma = InterfaceDofAllocator2D(grid_manager=gm)"
   ]
  },
  {
   "cell_type": "code",
   "execution_count": 6,
   "metadata": {
    "collapsed": false
   },
   "outputs": [],
   "source": [
    "ma = Nto1Allocator2D(grid_interface=ifma)\n",
    "ma._make_ddof_index()\n",
    "grid_domain = GridDomain(domain_size=(3.,2.), integer_size=(3,2))\n",
    "grid_domain.make_pointwise_index(ma)"
   ]
  },
  {
   "cell_type": "code",
   "execution_count": 7,
   "metadata": {
    "collapsed": false
   },
   "outputs": [
    {
     "name": "stdout",
     "output_type": "stream",
     "text": [
      "{0, 1, 2, 4, 5, 6, 7, 8, 12, 13, 14, 15, 16, 17, 18, 19, 20, 24, 25, 26, 27} {32, 33, 34, 35, 36, 40, 41, 42, 43, 28, 29, 31} [[37, 38, 39, 30]] [[9, 10, 11, 3, 22, 23, 21]]\n",
      "\r",
      " 0set() {0, 1, 2, 3, 4, 5, 6, 7, 8, 9, 10, 11, 12, 13, 14, 15} [] []\n",
      "\r",
      " 1set() {0, 1, 2, 3, 16, 17, 18, 19, 20, 21, 22, 23, 24, 25, 26, 27} [] []\n",
      "\r",
      " 2"
     ]
    }
   ],
   "source": [
    "ifma2 = AssemblyInterface2D(allocator=ma)\n",
    "MA = MatrixAssembler2D(assembly_interface=ifma2, grid_domain=grid_domain)\n",
    "deep = MA.assemble()"
   ]
  },
  {
   "cell_type": "code",
   "execution_count": 8,
   "metadata": {
    "collapsed": false
   },
   "outputs": [
    {
     "data": {
      "text/plain": [
       "[37, 38, 39, 30, 35, 40, 41, 28, 36, 42, 43, 29, 34, 32, 33, 31]"
      ]
     },
     "execution_count": 8,
     "metadata": {},
     "output_type": "execute_result"
    }
   ],
   "source": [
    "ma.get_cell_list_of_ddofs_global(cell=cell3)"
   ]
  },
  {
   "cell_type": "code",
   "execution_count": null,
   "metadata": {
    "collapsed": false
   },
   "outputs": [],
   "source": [
    "sine_test = grid_domain.vectorize_function(lambda x,y: np.sin(x+y))\n",
    "product = grid_domain.devectorize_vector(MA.assembled * sine_test)\n",
    "init = grid_domain.devectorize_function(lambda x,y: np.sin(x+y))\n",
    "\n",
    "visual.plot_surface_unstructured_w_dict(\n",
    "    point_val_dict=grid_domain.devectorize_vector(MA.assembled * sine_test),\n",
    "    plot_domain_shape=grid_domain.domain_size,\n",
    "    int_domain_shape=grid_domain.integer_size\n",
    ")\n",
    "\n",
    "visual.plot_surface_unstructured_w_dict(\n",
    "    point_val_dict=grid_domain.devectorize_function(lambda x,y: np.sin(x+y)),\n",
    "    plot_domain_shape=grid_domain.domain_size,\n",
    "    int_domain_shape=grid_domain.integer_size\n",
    ")"
   ]
  },
  {
   "cell_type": "code",
   "execution_count": 9,
   "metadata": {
    "collapsed": true
   },
   "outputs": [],
   "source": [
    "from common.tests import *"
   ]
  },
  {
   "cell_type": "code",
   "execution_count": 13,
   "metadata": {
    "collapsed": false
   },
   "outputs": [
    {
     "name": "stdout",
     "output_type": "stream",
     "text": [
      "X derivative: -0.972222093877487\n",
      "Y derivative: -0.0027161464934136147\n",
      "XX derivative: -0.2777776915526216\n",
      "YY derivative: -0.1600254319176028\n",
      "XY_derivative: -0.005432227182431214\n",
      "\n"
     ]
    }
   ],
   "source": [
    "partial_diff_test(matrix=MA.assembled.toarray(), point=grid_domain.normal_index[33], pointnum=33, pointdict=grid_domain.pointwise_index)"
   ]
  },
  {
   "cell_type": "code",
   "execution_count": null,
   "metadata": {
    "collapsed": false
   },
   "outputs": [],
   "source": [
    "visual.plot_sparse_pattern(matrix=MA.assembled)"
   ]
  },
  {
   "cell_type": "code",
   "execution_count": null,
   "metadata": {
    "collapsed": false
   },
   "outputs": [],
   "source": [
    "plt.imshow(deep[0][1].toarray(), interpolation='none')"
   ]
  },
  {
   "cell_type": "code",
   "execution_count": null,
   "metadata": {
    "collapsed": false
   },
   "outputs": [],
   "source": [
    "deep[0][0][0][21].toarray()"
   ]
  },
  {
   "cell_type": "code",
   "execution_count": null,
   "metadata": {
    "collapsed": false
   },
   "outputs": [],
   "source": [
    "deep[0][0][0][21].nonzero()"
   ]
  },
  {
   "cell_type": "code",
   "execution_count": 14,
   "metadata": {
    "collapsed": false,
    "scrolled": true
   },
   "outputs": [
    {
     "data": {
      "text/plain": [
       "{0: (0.27639320492744446, 1.0),\n",
       " 1: (0.72360682487487793, 1.0),\n",
       " 2: (0.0, 1.0),\n",
       " 3: (1.0, 1.0),\n",
       " 4: (0.0, 0.27639320492744446),\n",
       " 5: (0.0, 0.72360682487487793),\n",
       " 6: (0.0, 0.0),\n",
       " 7: (0.27639320492744446, 0.0),\n",
       " 8: (0.72360682487487793, 0.0),\n",
       " 9: (1.0, 0.0),\n",
       " 10: (1.0, 0.27639320492744446),\n",
       " 11: (1.0, 0.72360682487487793),\n",
       " 12: (0.27639320492744446, 0.27639320492744446),\n",
       " 13: (0.27639320492744446, 0.72360682487487793),\n",
       " 14: (0.72360682487487793, 0.27639320492744446),\n",
       " 15: (0.72360682487487793, 0.72360682487487793),\n",
       " 16: (0.0, 1.2763931751251221),\n",
       " 17: (0.0, 1.7236068248748779),\n",
       " 18: (0.0, 2.0),\n",
       " 19: (0.27639320492744446, 2.0),\n",
       " 20: (0.72360682487487793, 2.0),\n",
       " 21: (1.0, 2.0),\n",
       " 22: (1.0, 1.2763931751251221),\n",
       " 23: (1.0, 1.7236068248748779),\n",
       " 24: (0.27639320492744446, 1.2763931751251221),\n",
       " 25: (0.27639320492744446, 1.7236068248748779),\n",
       " 26: (0.72360682487487793, 1.2763931751251221),\n",
       " 27: (0.72360682487487793, 1.7236068248748779),\n",
       " 28: (1.5527863502502441, 2.0),\n",
       " 29: (2.4472136497497559, 2.0),\n",
       " 30: (1.0, 2.0),\n",
       " 31: (3.0, 2.0),\n",
       " 32: (3.0, 0.55278640985488892),\n",
       " 33: (3.0, 1.4472136497497559),\n",
       " 34: (3.0, 0.0),\n",
       " 35: (1.5527863502502441, 0.0),\n",
       " 36: (2.4472136497497559, 0.0),\n",
       " 37: (1.0, 0.0),\n",
       " 38: (1.0, 0.55278640985488892),\n",
       " 39: (1.0, 1.4472136497497559),\n",
       " 40: (1.5527863502502441, 0.55278640985488892),\n",
       " 41: (1.5527863502502441, 1.4472136497497559),\n",
       " 42: (2.4472136497497559, 0.55278640985488892),\n",
       " 43: (2.4472136497497559, 1.4472136497497559)}"
      ]
     },
     "execution_count": 14,
     "metadata": {},
     "output_type": "execute_result"
    }
   ],
   "source": [
    "grid_domain.normal_index"
   ]
  },
  {
   "cell_type": "code",
   "execution_count": null,
   "metadata": {
    "collapsed": true
   },
   "outputs": [],
   "source": []
  }
 ],
 "metadata": {
  "kernelspec": {
   "display_name": "Python 3",
   "language": "python",
   "name": "python3"
  },
  "language_info": {
   "codemirror_mode": {
    "name": "ipython",
    "version": 3
   },
   "file_extension": ".py",
   "mimetype": "text/x-python",
   "name": "python",
   "nbconvert_exporter": "python",
   "pygments_lexer": "ipython3",
   "version": "3.5.1"
  }
 },
 "nbformat": 4,
 "nbformat_minor": 2
}
