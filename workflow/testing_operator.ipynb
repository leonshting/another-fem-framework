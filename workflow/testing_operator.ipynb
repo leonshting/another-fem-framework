{
 "cells": [
  {
   "cell_type": "code",
   "execution_count": 1,
   "metadata": {
    "collapsed": true,
    "deletable": true,
    "editable": true
   },
   "outputs": [],
   "source": [
    "import sys\n",
    "sys.path.insert(0,'/home/lshtanko/Programming/another-fem-framework/')\n",
    "#sys.path.insert(0,'/Users/marusy/Programming/another-fem-framework/')\n",
    "#sys.path.insert(0,'/Users/leonshting/Programming/Schlumberger/fem-framework/')"
   ]
  },
  {
   "cell_type": "code",
   "execution_count": 2,
   "metadata": {
    "collapsed": true,
    "deletable": true,
    "editable": true
   },
   "outputs": [],
   "source": [
    "from operator_assembler.assembly_interface import AssemblyInterface2D\n",
    "from operator_assembler.n_to_1_ddof_allocator import Nto1Allocator2D\n",
    "from grid.grid_manager import GridManager\n",
    "from grid.allocator_interface import InterfaceDofAllocator2D\n",
    "from grid.grid_domain import GridDomain\n",
    "from operator_assembler.matrix_assembler import MatrixAssembler2D\n",
    "from scipy.ndimage import imread\n",
    "from grid import cell, grid_layer, grid_manager\n",
    "import h5py\n",
    "import numpy as np\n",
    "\n",
    "from interpolant.cell_to_points import *\n",
    "from common import visual\n",
    "from common.tests import *\n",
    "from common.helpers import *\n",
    "from matplotlib import pyplot as plt\n",
    "from scipy.sparse import csr_matrix\n",
    "from scipy.sparse import linalg\n",
    "\n",
    "%matplotlib inline\n",
    "plt.rcParams['figure.figsize'] = 15, 10"
   ]
  },
  {
   "cell_type": "code",
   "execution_count": 3,
   "metadata": {
    "collapsed": true,
    "deletable": true,
    "editable": true
   },
   "outputs": [],
   "source": [
    "np.set_printoptions(linewidth=500)"
   ]
  },
  {
   "cell_type": "markdown",
   "metadata": {
    "deletable": true,
    "editable": true
   },
   "source": [
    "#### Bad cell"
   ]
  },
  {
   "cell_type": "code",
   "execution_count": null,
   "metadata": {
    "collapsed": true,
    "deletable": true,
    "editable": true
   },
   "outputs": [],
   "source": [
    "data_start = (16, 20)\n",
    "data_shape = (4, 4)\n",
    "data_end = tuple([i+j for i,j in zip(data_start, data_shape)])\n",
    "\n",
    "h5_data = h5py.File('../../../GM_L3D/600/state/viz_GM_1.h5')['index'][0]\n",
    "data = h5_data[data_start[0]:data_end[0], data_start[1]:data_end[1]]\n",
    "#data = imread('/Users/marusy/Programming/model/bhi2_labelled0000.tif')[data_start[0]:data_end[0], data_start[1]:data_end[1]]\n",
    "\n",
    "grid_domain = GridDomain(integer_size=data_shape, domain_size=(1.,1.))\n",
    "gm = GridManager()\n",
    "ifma = InterfaceDofAllocator2D(grid_manager=gm.fit(data=data))\n",
    "\n",
    "\n",
    "gm.draw_grid()"
   ]
  },
  {
   "cell_type": "code",
   "execution_count": 4,
   "metadata": {
    "collapsed": true,
    "deletable": true,
    "editable": true
   },
   "outputs": [],
   "source": [
    "cell15 = cell.Cell2D(size=(1,1), ll_vertex=(0,8))\n",
    "cell25 = cell.Cell2D(size=(1,1), ll_vertex=(0,9))\n",
    "\n",
    "cell14 = cell.Cell2D(size=(1,1), ll_vertex=(0,6))\n",
    "cell24 = cell.Cell2D(size=(1,1), ll_vertex=(0,7))\n",
    "\n",
    "cell13 = cell.Cell2D(size=(1,1), ll_vertex=(0,4))\n",
    "cell23 = cell.Cell2D(size=(1,1), ll_vertex=(0,5))\n",
    "\n",
    "cell12 = cell.Cell2D(size=(1,1), ll_vertex=(0,2))\n",
    "cell22 = cell.Cell2D(size=(1,1), ll_vertex=(0,3))\n",
    "\n",
    "cell1 = cell.Cell2D(size=(1,1), ll_vertex=(0,0))\n",
    "cell2 = cell.Cell2D(size=(1,1), ll_vertex=(0,1))\n",
    "\n",
    "cell3 = cell.Cell2D(size=(2,2), ll_vertex=(1,0))\n",
    "cell32 = cell.Cell2D(size=(2,2), ll_vertex=(1,2))\n",
    "cell33 = cell.Cell2D(size=(2,2), ll_vertex=(1,4))\n",
    "cell34 = cell.Cell2D(size=(2,2), ll_vertex=(1,6))\n",
    "cell35 = cell.Cell2D(size=(2,2), ll_vertex=(1,8))"
   ]
  },
  {
   "cell_type": "code",
   "execution_count": 5,
   "metadata": {
    "collapsed": true,
    "deletable": true,
    "editable": true
   },
   "outputs": [],
   "source": [
    "layer1 = grid_layer.GridLayer2D([c.ll_vertex for c in [cell1, cell2, cell12, cell22, cell13, cell23, cell14, cell24, cell15, cell25]], layer_number=0, index=[1,1], div_index=[1,1])\n",
    "layer2 = grid_layer.GridLayer2D([c.ll_vertex for c in [cell3, cell32, cell33, cell34, cell35]], layer_number=1, index=[1], div_index=[1])\n",
    "\n",
    "#layer1 = grid_layer.GridLayer2D([c.ll_vertex for c in [cell1, cell2]], layer_number=0, index=[1,1], div_index=[1,1])\n",
    "#layer2 = grid_layer.GridLayer2D([c.ll_vertex for c in [cell3]], layer_number=1, index=[1], div_index=[1])"
   ]
  },
  {
   "cell_type": "code",
   "execution_count": 6,
   "metadata": {
    "collapsed": true,
    "deletable": true,
    "editable": true
   },
   "outputs": [],
   "source": [
    "gm = grid_manager.GridManager(dim=2, method='coarse2to1')\n",
    "gm.grid_layers = [layer1, layer2]\n",
    "ifma = InterfaceDofAllocator2D(grid_manager=gm)\n",
    "\n",
    "## setting the order of BF\n",
    "#ifma._default_order = 3"
   ]
  },
  {
   "cell_type": "code",
   "execution_count": 7,
   "metadata": {
    "collapsed": true,
    "deletable": true,
    "editable": true
   },
   "outputs": [],
   "source": [
    "ma = Nto1Allocator2D(grid_interface=ifma)\n",
    "ma._make_ddof_index()"
   ]
  },
  {
   "cell_type": "code",
   "execution_count": null,
   "metadata": {
    "collapsed": true,
    "deletable": true,
    "editable": true
   },
   "outputs": [],
   "source": [
    "#6 cells\n",
    "ma._vertex_ddof_index[((0, 3), (0, 4))] = (ma._vertex_ddof_index[((0, 3), (0, 4))][0], ma._vertex_ddof_index[((0, 0), (0, 0))][1])\n",
    "ma._vertex_ddof_index[((0, 3), (1, 4))] = (ma._vertex_ddof_index[((0, 3), (1, 4))][0], ma._vertex_ddof_index[((0, 0), (1, 0))][1])\n",
    "ma._vertex_ddof_index[((1, 2), (1, 4))] = (ma._vertex_ddof_index[((1, 2), (1, 4))][0], ma._vertex_ddof_index[((1, 0), (1, 0))][1])\n",
    "ma._vertex_ddof_index[((1, 2), (3, 4))] = (ma._vertex_ddof_index[((1, 2), (3, 4))][0], ma._vertex_ddof_index[((1, 0), (3, 0))][1])"
   ]
  },
  {
   "cell_type": "code",
   "execution_count": null,
   "metadata": {
    "collapsed": true,
    "deletable": true,
    "editable": true
   },
   "outputs": [],
   "source": [
    "#3 cells\n",
    "ma._vertex_ddof_index[((0, 1), (0, 2))] = (ma._vertex_ddof_index[((0, 1), (0, 2))][0], ma._vertex_ddof_index[((0, 0), (0, 0))][1])\n",
    "ma._vertex_ddof_index[((0, 1), (1, 2))] = (ma._vertex_ddof_index[((0, 1), (1, 2))][0], ma._vertex_ddof_index[((0, 0), (1, 0))][1])\n",
    "ma._vertex_ddof_index[((1, 0), (1, 2))] = (ma._vertex_ddof_index[((1, 0), (1, 2))][0], ma._vertex_ddof_index[((1, 0), (1, 0))][1])\n",
    "ma._vertex_ddof_index[((1, 0), (3, 2))] = (ma._vertex_ddof_index[((1, 0), (3, 2))][0], ma._vertex_ddof_index[((1, 0), (3, 0))][1])"
   ]
  },
  {
   "cell_type": "code",
   "execution_count": null,
   "metadata": {
    "collapsed": true,
    "deletable": true,
    "editable": true
   },
   "outputs": [],
   "source": [
    "#6 cells\n",
    "edge_mapping = {((0, 4), (1, 4)): ((0, 0), (1, 0)), ((1, 4), (3, 4)): ((1, 0), (3, 0))}\n",
    "#3cells\n",
    "#edge_mapping = {((0, 2), (1, 2)): ((0, 0), (1, 0)), ((1, 2), (3, 2)): ((1, 0), (3, 0))}\n",
    "for (cell, edge), dd in ma._edge_ddof_index.items():\n",
    "    if edge_mapping.get(edge) is not None:\n",
    "        edge_slave = edge\n",
    "        edge_prim = edge_mapping[edge]\n",
    "        prim_cell = [i for i in list(ma._edge_ddof_index.keys()) if i[1] == edge_prim][0][0]\n",
    "        ma._edge_ddof_index[(cell, edge_slave)] = [(i[0],j[1])\n",
    "            for i,j in\n",
    "            zip(ma._edge_ddof_index[(cell, edge_slave)], ma._edge_ddof_index[(prim_cell, edge_prim)])\n",
    "        ]"
   ]
  },
  {
   "cell_type": "code",
   "execution_count": null,
   "metadata": {
    "collapsed": true,
    "deletable": true,
    "editable": true
   },
   "outputs": [],
   "source": [
    "#6 cells\n",
    "ma._weak_edge_connections[ ((0, 2),\n",
    "  ((1, 2), (1, 3)))] = {((1, 2), ((1, 2), (1, 4))): [(0, 54),\n",
    "   (1, 74),\n",
    "   (2, 75),\n",
    "   (3, 61)]}\n",
    "\n",
    "ma._weak_edge_connections[((0, 3),\n",
    "  ((1, 3), (1, 4)))] = {((1, 2), ((1, 2), (1, 4))): [(0, 54),\n",
    "   (1, 74),\n",
    "   (2, 75),\n",
    "   (3, 61)]}\n",
    "\n",
    "ma._weak_edge_connections[((1, 2),\n",
    "  ((1, 2), (1, 4)))] = {((0, 2), ((1, 2), (1, 3))): [(12, 19),\n",
    "   (13, 34),\n",
    "   (14, 35),\n",
    "   (15, 31)], ((0, 3), ((1, 3), (1, 4))): [(12, 31),\n",
    "   (13, 46),\n",
    "   (14, 47),\n",
    "   (15, 9)]}"
   ]
  },
  {
   "cell_type": "code",
   "execution_count": null,
   "metadata": {
    "collapsed": true,
    "deletable": true,
    "editable": true
   },
   "outputs": [],
   "source": [
    "#3cells\n",
    "ma._weak_edge_connections[((0, 0), ((1, 0), (1, 1)))] = {((1, 0), ((1, 0), (1, 2))): [(0, 37),\n",
    "   (1, 38),\n",
    "   (2, 39),\n",
    "   (3, 37)]}\n",
    "ma._weak_edge_connections[((0, 1), ((1, 1), (1, 2)))] = {((1, 0), ((1, 0), (1, 2))): [(0, 37),\n",
    "   (1, 38),\n",
    "   (2, 39),\n",
    "   (3, 37)]}\n",
    "\n",
    "ma._weak_edge_connections[((1, 0),((1, 0), (1, 2)))] = {((0, 0), ((1, 0), (1, 1))): [(12, 9),\n",
    "   (13, 10),\n",
    "   (14, 11),\n",
    "   (15, 3)], ((0, 1), ((1, 1), (1, 2))): [(12, 3),\n",
    "   (13, 22),\n",
    "   (14, 23),\n",
    "   (15, 9)]}"
   ]
  },
  {
   "cell_type": "code",
   "execution_count": 8,
   "metadata": {
    "collapsed": true,
    "deletable": true,
    "editable": true
   },
   "outputs": [],
   "source": [
    "grid_domain = GridDomain(domain_size=(3.,10.), integer_size=(3,10))\n",
    "grid_domain.make_pointwise_index(ma)"
   ]
  },
  {
   "cell_type": "code",
   "execution_count": 9,
   "metadata": {
    "collapsed": true,
    "deletable": true,
    "editable": true
   },
   "outputs": [],
   "source": [
    "ifma2 = AssemblyInterface2D(allocator=ma)\n",
    "MA = MatrixAssembler2D(assembly_interface=ifma2, grid_domain=grid_domain)"
   ]
  },
  {
   "cell_type": "code",
   "execution_count": 10,
   "metadata": {
    "collapsed": false,
    "deletable": true,
    "editable": true,
    "scrolled": true
   },
   "outputs": [
    {
     "name": "stdout",
     "output_type": "stream",
     "text": [
      "[(0, 2), (1, 20), (2, 21), (3, 18), (4, 0), (5, 24), (6, 25), (7, 16), (8, 1), (9, 26), (10, 27), (11, 17), (12, 3), (13, 22), (14, 23), (15, 19)] [(0, 6), (1, 4), (2, 5), (3, 2), (4, 7), (5, 12), (6, 13), (7, 0), (8, 8), (9, 14), (10, 15), (11, 1), (12, 9), (13, 10), (14, 11), (15, 3)]\n",
      "{0, 1, 2, 4, 5, 6, 7, 8, 12, 13, 14, 15, 16, 17, 18, 20, 21, 24, 25, 26, 27} {128, 129, 130, 131, 132, 136, 137, 138, 139, 124, 125, 127} [[133, 134, 135, 126]] [[9, 10, 11, 3, 22, 23, 19]]\n",
      "[(0, 30), (1, 44), (2, 45), (3, 42), (4, 28), (5, 48), (6, 49), (7, 40), (8, 29), (9, 50), (10, 51), (11, 41), (12, 31), (13, 46), (14, 47), (15, 43)] [(0, 18), (1, 32), (2, 33), (3, 30), (4, 16), (5, 36), (6, 37), (7, 28), (8, 17), (9, 38), (10, 39), (11, 29), (12, 19), (13, 34), (14, 35), (15, 31)]\n",
      "{32, 33, 36, 37, 38, 39, 40, 41, 42, 44, 45, 16, 17, 18, 48, 49, 50, 51, 28, 29, 30} {140, 141, 143, 144, 145, 148, 149, 150, 151, 124, 125, 127} [[126, 146, 147, 142]] [[19, 34, 35, 31, 46, 47, 43]]\n",
      "[(0, 54), (1, 68), (2, 69), (3, 66), (4, 52), (5, 72), (6, 73), (7, 64), (8, 53), (9, 74), (10, 75), (11, 65), (12, 55), (13, 70), (14, 71), (15, 67)] [(0, 42), (1, 56), (2, 57), (3, 54), (4, 40), (5, 60), (6, 61), (7, 52), (8, 41), (9, 62), (10, 63), (11, 53), (12, 43), (13, 58), (14, 59), (15, 55)]\n",
      "{64, 65, 66, 68, 69, 40, 41, 42, 72, 73, 74, 75, 52, 53, 54, 56, 57, 60, 61, 62, 63} {160, 161, 162, 163, 140, 141, 143, 152, 153, 155, 156, 157} [[142, 158, 159, 154]] [[43, 58, 59, 55, 70, 71, 67]]\n",
      "[(0, 66), (1, 80), (2, 81), (3, 78), (4, 64), (5, 84), (6, 85), (7, 76), (8, 65), (9, 86), (10, 87), (11, 77), (12, 67), (13, 82), (14, 83), (15, 79)] [(0, 78), (1, 92), (2, 93), (3, 90), (4, 76), (5, 96), (6, 97), (7, 88), (8, 77), (9, 98), (10, 99), (11, 89), (12, 79), (13, 94), (14, 95), (15, 91)]\n",
      "{64, 65, 66, 96, 97, 98, 99, 76, 77, 78, 80, 81, 84, 85, 86, 87, 88, 89, 90, 92, 93} {164, 165, 167, 168, 169, 172, 173, 174, 175, 152, 153, 155} [[154, 170, 171, 166]] [[67, 82, 83, 79, 94, 95, 91]]\n",
      "[(0, 102), (1, 112), (2, 113), (3, 114), (4, 100), (5, 120), (6, 121), (7, 115), (8, 101), (9, 122), (10, 123), (11, 116), (12, 103), (13, 118), (14, 119), (15, 117)] [(0, 90), (1, 104), (2, 105), (3, 102), (4, 88), (5, 108), (6, 109), (7, 100), (8, 89), (9, 110), (10, 111), (11, 101), (12, 91), (13, 106), (14, 107), (15, 103)]\n",
      "{121, 100, 101, 102, 122, 104, 105, 108, 109, 110, 111, 112, 113, 114, 115, 116, 88, 89, 90, 123, 120} {164, 165, 167, 176, 177, 179, 180, 181, 184, 185, 186, 187} [[166, 182, 183, 178]] [[91, 106, 107, 103, 118, 119, 117]]\n"
     ]
    }
   ],
   "source": [
    "deep = MA.assemble()"
   ]
  },
  {
   "cell_type": "code",
   "execution_count": null,
   "metadata": {
    "collapsed": false,
    "deletable": true,
    "editable": true
   },
   "outputs": [],
   "source": [
    "sine_test = grid_domain.vectorize_function(lambda x,y: np.sin(x+y))\n",
    "product = grid_domain.devectorize_vector(MA.assembled * sine_test)\n",
    "init = grid_domain.devectorize_function(lambda x,y: np.sin(x+y))\n",
    "\n",
    "visual.plot_surface_unstructured_w_dict(\n",
    "    point_val_dict=grid_domain.devectorize_vector(MA.assembled * sine_test),\n",
    "    plot_domain_shape=grid_domain.domain_size,\n",
    "    int_domain_shape=grid_domain.integer_size\n",
    ")\n",
    "\n",
    "#visual.plot_surface_unstructured_w_dict(\n",
    "#    point_val_dict=grid_domain.devectorize_function(lambda x,y: np.sin(x+y)),\n",
    "#    plot_domain_shape=grid_domain.domain_size,\n",
    "#    int_domain_shape=grid_domain.integer_size\n",
    "#)"
   ]
  },
  {
   "cell_type": "code",
   "execution_count": 14,
   "metadata": {
    "collapsed": false,
    "deletable": true,
    "editable": true,
    "scrolled": true
   },
   "outputs": [
    {
     "name": "stdout",
     "output_type": "stream",
     "text": [
      "43 zero derivative: -2.3292365316576746e-06\n",
      "X derivative: 1.6048011877711765e-11\n",
      "Y derivative: -3.5756883565163378e-12\n",
      "XX derivative: -0.04166666666973441\n",
      "YY derivative: -0.041668041805946576\n",
      "XY_derivative: -6.474577818327276e-13\n",
      "\n",
      "58 zero derivative: 7.148526285288318e-07\n",
      "X derivative: 0.08427416668575526\n",
      "Y derivative: -9.134832162581846e-07\n",
      "XX derivative: -0.0661290277791368\n",
      "YY derivative: -0.06612075722521339\n",
      "XY_derivative: -0.005602463608986706\n",
      "\n",
      "59 zero derivative: -2.4726103123819966e-06\n",
      "X derivative: -0.032186666676813275\n",
      "Y derivative: 5.8464322562296515e-06\n",
      "XX derivative: -0.046718888892798474\n",
      "YY derivative: -0.0467237327122283\n",
      "XY_derivative: -0.01627041312801969\n",
      "\n",
      "55 zero derivative: 3.812187314606603e-06\n",
      "X derivative: -0.020833333334767078\n",
      "Y derivative: 3.009246849507835e-12\n",
      "XX derivative: -0.01736111111218824\n",
      "YY derivative: -0.017362328256702315\n",
      "XY_derivative: -1.9726622268239804e-12\n",
      "\n",
      "70 zero derivative: -2.4726110032791127e-06\n",
      "X derivative: -0.03218666665138367\n",
      "Y derivative: -5.846425510506691e-06\n",
      "XX derivative: -0.04671888888758934\n",
      "YY derivative: -0.0467237327042722\n",
      "XY_derivative: 0.016270413123006595\n",
      "\n",
      "71 zero derivative: 7.148526606031386e-07\n",
      "X derivative: 0.08427416669409854\n",
      "Y derivative: 9.134727674357005e-07\n",
      "XX derivative: -0.06612902778210475\n",
      "YY derivative: -0.06612075720944283\n",
      "XY_derivative: 0.0056024636190056135\n",
      "\n",
      "67 zero derivative: -2.3292365311163325e-06\n",
      "X derivative: 1.6048001605311426e-11\n",
      "Y derivative: -3.57573909717801e-12\n",
      "XX derivative: -0.04166666666973443\n",
      "YY derivative: -0.04166804180594649\n",
      "XY_derivative: -6.474509189484502e-13\n",
      "\n"
     ]
    }
   ],
   "source": [
    "sums = {'XX': 0, 'YY': 0, 'X': 0, 'Y': 0, 'zero': 0}\n",
    "for num,i in enumerate([43, 58, 59, 55, 70, 71, 67]):\n",
    "    print(i, end=' ')\n",
    "    for k, v in partial_diff_test(matrix=MA.assembled,\n",
    "                       point=grid_domain.normal_index[i],\n",
    "                       pointnum=i,\n",
    "                       pointdict=grid_domain.pointwise_index,\n",
    "                       scale_factor=1).items():\n",
    "        sums[k] += v"
   ]
  },
  {
   "cell_type": "code",
   "execution_count": 16,
   "metadata": {
    "collapsed": false,
    "deletable": true,
    "editable": true,
    "scrolled": true
   },
   "outputs": [
    {
     "name": "stdout",
     "output_type": "stream",
     "text": [
      "142 zero derivative: -1.939866660478906e-06\n",
      "X derivative: 0.08333333336776405\n",
      "Y derivative: -9.530001787716458e-12\n",
      "XX derivative: -0.07638888889358415\n",
      "YY derivative: -0.07638034300738898\n",
      "XY_derivative: 1.172721642017649e-12\n",
      "\n",
      "158 zero derivative: -4.634030476013962e-08\n",
      "X derivative: 2.0833322478333582e-06\n",
      "Y derivative: 4.904675386468993e-06\n",
      "XX derivative: -0.10416649306031814\n",
      "YY derivative: -0.10416863539938591\n",
      "XY_derivative: 0.019115816453387106\n",
      "\n",
      "159 zero derivative: -4.634091754773806e-08\n",
      "X derivative: 2.0833662591202007e-06\n",
      "Y derivative: -4.904670125843724e-06\n",
      "XX derivative: -0.10416649305853862\n",
      "YY derivative: -0.10416863536926343\n",
      "XY_derivative: -0.0191158164521737\n",
      "\n",
      "154 zero derivative: -1.9398666606792667e-06\n",
      "X derivative: 0.08333333336776416\n",
      "Y derivative: -9.529196876023605e-12\n",
      "XX derivative: -0.07638888889358413\n",
      "YY derivative: -0.07638034300738897\n",
      "XY_derivative: 1.1727389892524087e-12\n",
      "\n"
     ]
    }
   ],
   "source": [
    "for i in [142, 158, 159, 154]:\n",
    "    print(i, end=' ')\n",
    "    partial_diff_test(matrix=MA.assembled,\n",
    "                      point=grid_domain.normal_index[i],\n",
    "                      pointnum=i,\n",
    "                      pointdict=grid_domain.pointwise_index)"
   ]
  },
  {
   "cell_type": "code",
   "execution_count": 18,
   "metadata": {
    "collapsed": false
   },
   "outputs": [
    {
     "data": {
      "image/png": "[encoded data removed]",
      "text/plain": [
       "<matplotlib.figure.Figure at 0x7f7ccdfacb70>"
      ]
     },
     "metadata": {},
     "output_type": "display_data"
    }
   ],
   "source": [
    "for num,i in enumerate([158]):\n",
    "    visual.deps_partial_diff(\n",
    "        matrix=MA.assembled,\n",
    "        pointnum=i, num2point_index=grid_domain.normal_index,\n",
    "        print_text=True,\n",
    "        p2n_index = grid_domain.pointwise_index\n",
    "    )\n"
   ]
  },
  {
   "cell_type": "code",
   "execution_count": 19,
   "metadata": {
    "collapsed": false
   },
   "outputs": [
    {
     "data": {
      "image/png": "[encoded data removed]",
      "text/plain": [
       "<matplotlib.figure.Figure at 0x7f7ccde8a278>"
      ]
     },
     "metadata": {},
     "output_type": "display_data"
    }
   ],
   "source": [
    "for num,i in enumerate([55]):\n",
    "    visual.deps_partial_diff(\n",
    "        matrix=MA.assembled,\n",
    "        pointnum=i, num2point_index=grid_domain.normal_index,\n",
    "        print_text=True,\n",
    "        p2n_index = grid_domain.pointwise_index\n",
    "    )\n"
   ]
  },
  {
   "cell_type": "code",
   "execution_count": null,
   "metadata": {
    "collapsed": false
   },
   "outputs": [],
   "source": [
    "MA.half_glob.dtype"
   ]
  },
  {
   "cell_type": "code",
   "execution_count": null,
   "metadata": {
    "collapsed": true
   },
   "outputs": [],
   "source": []
  }
 ],
 "metadata": {
  "kernelspec": {
   "display_name": "Python 3",
   "language": "python",
   "name": "python3"
  },
  "language_info": {
   "codemirror_mode": {
    "name": "ipython",
    "version": 3
   },
   "file_extension": ".py",
   "mimetype": "text/x-python",
   "name": "python",
   "nbconvert_exporter": "python",
   "pygments_lexer": "ipython3",
   "version": "3.5.1"
  }
 },
 "nbformat": 4,
 "nbformat_minor": 2
}
