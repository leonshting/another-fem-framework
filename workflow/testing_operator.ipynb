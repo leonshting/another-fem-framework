{
 "cells": [
  {
   "cell_type": "code",
   "execution_count": 1,
   "metadata": {
    "collapsed": true,
    "deletable": true,
    "editable": true
   },
   "outputs": [],
   "source": [
    "import sys\n",
    "sys.path.insert(0,'/home/lshtanko/Programming/another-fem-framework/')\n",
    "#sys.path.insert(0,'/Users/marusy/Programming/another-fem-framework/')\n",
    "#sys.path.insert(0,'/Users/leonshting/Programming/Schlumberger/fem-framework/')"
   ]
  },
  {
   "cell_type": "code",
   "execution_count": 2,
   "metadata": {
    "collapsed": false,
    "deletable": true,
    "editable": true
   },
   "outputs": [],
   "source": [
    "from operator_assembler.assembly_interface import AssemblyInterface2D\n",
    "from operator_assembler.n_to_1_ddof_allocator import Nto1Allocator2D\n",
    "from grid.grid_manager import GridManager\n",
    "from grid.allocator_interface import InterfaceDofAllocator2D\n",
    "from grid.grid_domain import GridDomain\n",
    "from operator_assembler.matrix_assembler import MatrixAssembler2D\n",
    "from scipy.ndimage import imread\n",
    "from grid import cell, grid_layer, grid_manager\n",
    "import h5py\n",
    "import numpy as np\n",
    "\n",
    "from interpolant.cell_to_points import *\n",
    "from common import visual\n",
    "from common.tests import *\n",
    "from common.helpers import *\n",
    "from matplotlib import pyplot as plt\n",
    "from scipy.sparse import csr_matrix\n",
    "from scipy.sparse import linalg\n",
    "\n",
    "%matplotlib inline\n",
    "plt.rcParams['figure.figsize'] = 10, 7.5"
   ]
  },
  {
   "cell_type": "code",
   "execution_count": 3,
   "metadata": {
    "collapsed": true,
    "deletable": true,
    "editable": true
   },
   "outputs": [],
   "source": [
    "np.set_printoptions(linewidth=500)"
   ]
  },
  {
   "cell_type": "markdown",
   "metadata": {
    "deletable": true,
    "editable": true
   },
   "source": [
    "#### Bad cell"
   ]
  },
  {
   "cell_type": "code",
   "execution_count": null,
   "metadata": {
    "collapsed": true,
    "deletable": true,
    "editable": true
   },
   "outputs": [],
   "source": [
    "data_start = (16, 20)\n",
    "data_shape = (4, 4)\n",
    "data_end = tuple([i+j for i,j in zip(data_start, data_shape)])\n",
    "\n",
    "h5_data = h5py.File('../../../GM_L3D/600/state/viz_GM_1.h5')['index'][0]\n",
    "data = h5_data[data_start[0]:data_end[0], data_start[1]:data_end[1]]\n",
    "#data = imread('/Users/marusy/Programming/model/bhi2_labelled0000.tif')[data_start[0]:data_end[0], data_start[1]:data_end[1]]\n",
    "\n",
    "grid_domain = GridDomain(integer_size=data_shape, domain_size=(1.,1.))\n",
    "gm = GridManager()\n",
    "ifma = InterfaceDofAllocator2D(grid_manager=gm.fit(data=data))\n",
    "\n",
    "gm.draw_grid()"
   ]
  },
  {
   "cell_type": "code",
   "execution_count": 4,
   "metadata": {
    "collapsed": false,
    "deletable": true,
    "editable": true
   },
   "outputs": [],
   "source": [
    "cell12 = cell.Cell2D(size=(1,1), ll_vertex=(0,2))\n",
    "cell22 = cell.Cell2D(size=(1,1), ll_vertex=(0,3))\n",
    "\n",
    "cell1 = cell.Cell2D(size=(1,1), ll_vertex=(0,0))\n",
    "cell2 = cell.Cell2D(size=(1,1), ll_vertex=(0,1))\n",
    "\n",
    "cell3 = cell.Cell2D(size=(2,2), ll_vertex=(1,0))\n",
    "cell32 = cell.Cell2D(size=(2,2), ll_vertex=(1,2))"
   ]
  },
  {
   "cell_type": "code",
   "execution_count": 5,
   "metadata": {
    "collapsed": true,
    "deletable": true,
    "editable": true
   },
   "outputs": [],
   "source": [
    "layer1 = grid_layer.GridLayer2D([c.ll_vertex for c in [cell1, cell2, cell12, cell22]], layer_number=0, index=[1,1], div_index=[1,1])\n",
    "layer2 = grid_layer.GridLayer2D([c.ll_vertex for c in [cell3, cell32]], layer_number=1, index=[1], div_index=[1])"
   ]
  },
  {
   "cell_type": "code",
   "execution_count": 6,
   "metadata": {
    "collapsed": true,
    "deletable": true,
    "editable": true
   },
   "outputs": [],
   "source": [
    "gm = grid_manager.GridManager(dim=2, method='coarse2to1')\n",
    "gm.grid_layers = [layer1, layer2]\n",
    "ifma = InterfaceDofAllocator2D(grid_manager=gm)"
   ]
  },
  {
   "cell_type": "code",
   "execution_count": 7,
   "metadata": {
    "collapsed": true,
    "deletable": true,
    "editable": true
   },
   "outputs": [],
   "source": [
    "ma = Nto1Allocator2D(grid_interface=ifma)\n",
    "ma._make_ddof_index()"
   ]
  },
  {
   "cell_type": "code",
   "execution_count": 8,
   "metadata": {
    "collapsed": false
   },
   "outputs": [
    {
     "data": {
      "text/plain": [
       "{((0, 0), (0, 0)): (0, 6),\n",
       " ((0, 0), (0, 1)): (3, 2),\n",
       " ((0, 0), (1, 0)): (12, 9),\n",
       " ((0, 0), (1, 1)): (15, 3),\n",
       " ((0, 1), (0, 1)): (0, 2),\n",
       " ((0, 1), (0, 2)): (3, 18),\n",
       " ((0, 1), (1, 1)): (12, 3),\n",
       " ((0, 1), (1, 2)): (15, 19),\n",
       " ((0, 2), (0, 2)): (0, 18),\n",
       " ((0, 2), (0, 3)): (3, 30),\n",
       " ((0, 2), (1, 2)): (12, 19),\n",
       " ((0, 2), (1, 3)): (15, 31),\n",
       " ((0, 3), (0, 3)): (0, 30),\n",
       " ((0, 3), (0, 4)): (3, 42),\n",
       " ((0, 3), (1, 3)): (12, 31),\n",
       " ((0, 3), (1, 4)): (15, 45),\n",
       " ((1, 0), (1, 0)): (0, 61),\n",
       " ((1, 0), (1, 2)): (3, 54),\n",
       " ((1, 0), (3, 0)): (12, 58),\n",
       " ((1, 0), (3, 2)): (15, 55),\n",
       " ((1, 2), (1, 2)): (0, 54),\n",
       " ((1, 2), (1, 4)): (3, 70),\n",
       " ((1, 2), (3, 2)): (12, 55),\n",
       " ((1, 2), (3, 4)): (15, 71)}"
      ]
     },
     "execution_count": 8,
     "metadata": {},
     "output_type": "execute_result"
    }
   ],
   "source": [
    "ma._vertex_ddof_index"
   ]
  },
  {
   "cell_type": "code",
   "execution_count": 10,
   "metadata": {
    "collapsed": false
   },
   "outputs": [],
   "source": [
    "ma._vertex_ddof_index[((0, 3), (0, 4))] = (ma._vertex_ddof_index[((0, 3), (0, 4))][0], ma._vertex_ddof_index[((0, 0), (0, 0))][1])\n",
    "ma._vertex_ddof_index[((0, 3), (1, 4))] = (ma._vertex_ddof_index[((0, 3), (1, 4))][0], ma._vertex_ddof_index[((0, 0), (1, 0))][1])\n",
    "ma._vertex_ddof_index[((1, 2), (1, 4))] = (ma._vertex_ddof_index[((1, 2), (1, 4))][0], ma._vertex_ddof_index[((1, 0), (1, 0))][1])\n",
    "ma._vertex_ddof_index[((1, 2), (3, 4))] = (ma._vertex_ddof_index[((1, 2), (3, 4))][0], ma._vertex_ddof_index[((1, 0), (3, 0))][1])"
   ]
  },
  {
   "cell_type": "code",
   "execution_count": 11,
   "metadata": {
    "collapsed": false
   },
   "outputs": [],
   "source": [
    "edge_mapping = {((0, 4), (1, 4)): ((0, 0), (1, 0)), ((1, 4), (3, 4)): ((1, 0), (3, 0))}\n",
    "for (cell, edge), dd in ma._edge_ddof_index.items():\n",
    "    if edge_mapping.get(edge) is not None:\n",
    "        edge_slave = edge\n",
    "        edge_prim = edge_mapping[edge]\n",
    "        prim_cell = [i for i in list(ma._edge_ddof_index.keys()) if i[1] == edge_prim][0][0]\n",
    "        ma._edge_ddof_index[(cell, edge_slave)] = [(i[0],j[1])\n",
    "            for i,j in\n",
    "            zip(ma._edge_ddof_index[(cell, edge_slave)], ma._edge_ddof_index[(prim_cell, edge_prim)])\n",
    "        ]"
   ]
  },
  {
   "cell_type": "code",
   "execution_count": 12,
   "metadata": {
    "collapsed": true
   },
   "outputs": [],
   "source": [
    "grid_domain = GridDomain(domain_size=(3.,2.), integer_size=(3,2))\n",
    "grid_domain.make_pointwise_index(ma)"
   ]
  },
  {
   "cell_type": "code",
   "execution_count": 13,
   "metadata": {
    "collapsed": false,
    "deletable": true,
    "editable": true
   },
   "outputs": [],
   "source": [
    "ifma2 = AssemblyInterface2D(allocator=ma)\n",
    "MA = MatrixAssembler2D(assembly_interface=ifma2, grid_domain=grid_domain)\n"
   ]
  },
  {
   "cell_type": "code",
   "execution_count": 17,
   "metadata": {
    "collapsed": false
   },
   "outputs": [
    {
     "data": {
      "text/plain": [
       "{((0, 0), (0, 0)): (0, 6),\n",
       " ((0, 0), (0, 1)): (3, 2),\n",
       " ((0, 0), (1, 0)): (12, 9),\n",
       " ((0, 0), (1, 1)): (15, 3),\n",
       " ((0, 1), (0, 1)): (0, 2),\n",
       " ((0, 1), (0, 2)): (3, 18),\n",
       " ((0, 1), (1, 1)): (12, 3),\n",
       " ((0, 1), (1, 2)): (15, 19),\n",
       " ((0, 2), (0, 2)): (0, 18),\n",
       " ((0, 2), (0, 3)): (3, 30),\n",
       " ((0, 2), (1, 2)): (12, 19),\n",
       " ((0, 2), (1, 3)): (15, 31),\n",
       " ((0, 3), (0, 3)): (0, 30),\n",
       " ((0, 3), (0, 4)): (3, 6),\n",
       " ((0, 3), (1, 3)): (12, 31),\n",
       " ((0, 3), (1, 4)): (15, 9),\n",
       " ((1, 0), (1, 0)): (0, 61),\n",
       " ((1, 0), (1, 2)): (3, 54),\n",
       " ((1, 0), (3, 0)): (12, 58),\n",
       " ((1, 0), (3, 2)): (15, 55),\n",
       " ((1, 2), (1, 2)): (0, 54),\n",
       " ((1, 2), (1, 4)): (3, 61),\n",
       " ((1, 2), (3, 2)): (12, 55),\n",
       " ((1, 2), (3, 4)): (15, 58)}"
      ]
     },
     "execution_count": 17,
     "metadata": {},
     "output_type": "execute_result"
    }
   ],
   "source": [
    "ma._vertex_ddof_index"
   ]
  },
  {
   "cell_type": "code",
   "execution_count": 14,
   "metadata": {
    "collapsed": false,
    "deletable": true,
    "editable": true
   },
   "outputs": [
    {
     "name": "stdout",
     "output_type": "stream",
     "text": [
      "[(0, 2), (1, 20), (2, 21), (3, 18), (4, 0), (5, 24), (6, 25), (7, 16), (8, 1), (9, 26), (10, 27), (11, 17), (12, 3), (13, 22), (14, 23), (15, 19)] [(0, 6), (1, 4), (2, 5), (3, 2), (4, 7), (5, 12), (6, 13), (7, 0), (8, 8), (9, 14), (10, 15), (11, 1), (12, 9), (13, 10), (14, 11), (15, 3)]\n",
      "{0, 1, 2, 4, 5, 6, 7, 8, 12, 13, 14, 15, 16, 17, 18, 20, 21, 24, 25, 26, 27} {64, 65, 66, 67, 52, 53, 55, 56, 57, 58, 59, 60} [[61, 62, 63, 54]] [[9, 10, 11, 3, 22, 23, 19]]\n",
      "\r",
      " 0[(0, 30), (1, 40), (2, 41), (3, 6), (4, 28), (5, 48), (6, 49), (7, 7), (8, 29), (9, 50), (10, 51), (11, 8), (12, 31), (13, 46), (14, 47), (15, 9)] [(0, 18), (1, 32), (2, 33), (3, 30), (4, 16), (5, 36), (6, 37), (7, 28), (8, 17), (9, 38), (10, 39), (11, 29), (12, 19), (13, 34), (14, 35), (15, 31)]\n",
      "{6, 7, 8, 9, 16, 17, 18, 28, 29, 30, 32, 33, 36, 37, 38, 39, 40, 41, 48, 49, 50, 51} {72, 73, 76, 77, 78, 79, 52, 53, 55, 58, 59, 60} [[54, 74, 75, 61]] [[19, 34, 35, 31, 46, 47, 45]]\n",
      "\r",
      " 1\r",
      " 2\r",
      " 3\r",
      " 4\r",
      " 5"
     ]
    }
   ],
   "source": [
    "deep = MA.assemble()"
   ]
  },
  {
   "cell_type": "code",
   "execution_count": null,
   "metadata": {
    "collapsed": false,
    "deletable": true,
    "editable": true
   },
   "outputs": [],
   "source": [
    "sine_test = grid_domain.vectorize_function(lambda x,y: np.sin(x+y))\n",
    "product = grid_domain.devectorize_vector(MA.assembled * sine_test)\n",
    "init = grid_domain.devectorize_function(lambda x,y: np.sin(x+y))\n",
    "\n",
    "visual.plot_surface_unstructured_w_dict(\n",
    "    point_val_dict=grid_domain.devectorize_vector(MA.assembled * sine_test),\n",
    "    plot_domain_shape=grid_domain.domain_size,\n",
    "    int_domain_shape=grid_domain.integer_size\n",
    ")\n",
    "\n",
    "visual.plot_surface_unstructured_w_dict(\n",
    "    point_val_dict=grid_domain.devectorize_function(lambda x,y: np.sin(x+y)),\n",
    "    plot_domain_shape=grid_domain.domain_size,\n",
    "    int_domain_shape=grid_domain.integer_size\n",
    ")"
   ]
  },
  {
   "cell_type": "code",
   "execution_count": 21,
   "metadata": {
    "collapsed": true,
    "deletable": true,
    "editable": true
   },
   "outputs": [],
   "source": [
    "def partial_diff_test3(pointnum, point, matrix, pointdict, mass_matrix=None,\n",
    "                      multiple_dofs_on_point=True, scale_factor=1):\n",
    "    x_der = 0\n",
    "    xx_der = 0\n",
    "    yy_der = 0\n",
    "    y_der = 0\n",
    "    xy_der = 0\n",
    "\n",
    "    if not multiple_dofs_on_point:\n",
    "        for k, v in pointdict.items():\n",
    "            dx = point[0] - k[0]\n",
    "            dy = point[1] - k[1]\n",
    "\n",
    "            x_der += dx * matrix[pointnum, v]\n",
    "            xx_der += matrix[pointnum, v] * dx ** 2 / 2\n",
    "            y_der += dy * matrix[pointnum, v]\n",
    "            yy_der += dy ** 2 / 2 * matrix[pointnum, v]\n",
    "            xy_der += dx * dy * matrix[pointnum, v]\n",
    "    else:\n",
    "        for k, vs in pointdict.items():\n",
    "            for v in vs:\n",
    "                dx = point[0] - k[0]\n",
    "                dy = point[1] - k[1]\n",
    "\n",
    "                x_der += dx * matrix[pointnum, v]\n",
    "                xx_der += matrix[pointnum, v] * dx ** 2 / 2\n",
    "                y_der += dy * matrix[pointnum, v]\n",
    "                yy_der += dy ** 2 / 2 * matrix[pointnum, v]\n",
    "                xy_der += dx * dy * matrix[pointnum, v]\n",
    "\n",
    "    if mass_matrix is not None:\n",
    "        print('Mass coef: {}'.format(mass_matrix[pointnum].sum()))\n",
    "\n",
    "    print('X derivative: {}'.format(x_der * scale_factor))\n",
    "    print('Y derivative: {}'.format(y_der * scale_factor))\n",
    "    print('XX derivative: {}'.format(xx_der * scale_factor))\n",
    "    print('YY derivative: {}'.format(yy_der * scale_factor))\n",
    "    print('XY_derivative: {}'.format(xy_der * scale_factor), end='\\n\\n')"
   ]
  },
  {
   "cell_type": "code",
   "execution_count": 22,
   "metadata": {
    "collapsed": true,
    "deletable": true,
    "editable": true
   },
   "outputs": [],
   "source": [
    "def partial_diff_test2(pointnum, point, matrix, pointdict, mass_matrix=None,\n",
    "                      multiple_dofs_on_point=True):\n",
    "    x_der = 0\n",
    "    xx_der = 0\n",
    "    yy_der = 0\n",
    "    y_der = 0\n",
    "    xy_der = 0\n",
    "\n",
    "    if not multiple_dofs_on_point:\n",
    "        for k, v in pointdict.items():\n",
    "            dx = point[0] - k[0]\n",
    "            dy = point[1] - k[1]\n",
    "\n",
    "            x_der += dx * matrix[pointnum, v]\n",
    "            xx_der += matrix[pointnum, v] * dx ** 2 / 2\n",
    "            y_der += dy * matrix[pointnum, v]\n",
    "            yy_der += dy ** 2 / 2 * matrix[pointnum, v]\n",
    "            xy_der += dx * dy * matrix[pointnum, v]\n",
    "    else:\n",
    "        for k, vs in pointdict.items():\n",
    "            for v in vs:\n",
    "                dx = point[0] - k[0]\n",
    "                dy = point[1] - k[1]\n",
    "\n",
    "                x_der += dx * matrix[pointnum, v]\n",
    "                xx_der += matrix[pointnum, v] * dx ** 2 / 2\n",
    "                y_der += dy * matrix[pointnum, v]\n",
    "                yy_der += dy ** 2 / 2 * matrix[pointnum, v]\n",
    "                xy_der += dx * dy * matrix[pointnum, v]\n",
    "\n",
    "    if mass_matrix is not None:\n",
    "        print('Mass coef: {}'.format(mass_matrix[pointnum].sum()))\n",
    "\n",
    "    print('X derivative: {}'.format(x_der))\n",
    "    print('Y derivative: {}'.format(y_der))\n",
    "    print('XX derivative: {}'.format(xx_der))\n",
    "    print('YY derivative: {}'.format(yy_der))\n",
    "    print('XY_derivative: {}'.format(xy_der), end='\\n\\n')\n",
    "    return (xx_der + yy_der)/2"
   ]
  },
  {
   "cell_type": "code",
   "execution_count": null,
   "metadata": {
    "collapsed": false,
    "deletable": true,
    "editable": true
   },
   "outputs": [],
   "source": [
    "mm = np.zeros(MA.half_glob.shape[0])\n",
    "for i in grid_domain.normal_index.keys():\n",
    "    print(i, end=' ')\n",
    "    mm[i] = partial_diff_test2(matrix=MA.half_glob, point=grid_domain.normal_index[i], pointnum=i, pointdict=grid_domain.pointwise_index)"
   ]
  },
  {
   "cell_type": "code",
   "execution_count": null,
   "metadata": {
    "collapsed": true,
    "deletable": true,
    "editable": true
   },
   "outputs": [],
   "source": [
    "MM = csr_matrix(np.diag(-1/mm))"
   ]
  },
  {
   "cell_type": "code",
   "execution_count": null,
   "metadata": {
    "collapsed": false,
    "deletable": true,
    "editable": true
   },
   "outputs": [],
   "source": [
    "for i in sorted([81, 82, 83, 84, 85, 70] + [15, 16, 17, 18, 19, 5, 46, 47, 48, 49, 45]):\n",
    "    print(i, end=' ')\n",
    "    partial_diff_test(matrix=MM*MA.half_glob, point=grid_domain.normal_index[i], pointnum=i, pointdict=grid_domain.pointwise_index)"
   ]
  },
  {
   "cell_type": "code",
   "execution_count": null,
   "metadata": {
    "collapsed": false,
    "deletable": true,
    "editable": true
   },
   "outputs": [],
   "source": [
    "2 * (0.007416255387549075 - 0.023370207540036145 + 0.0892035115259431)"
   ]
  },
  {
   "cell_type": "code",
   "execution_count": null,
   "metadata": {
    "collapsed": false,
    "deletable": true,
    "editable": true
   },
   "outputs": [],
   "source": [
    "for num,i in enumerate([37, 38, 39, 37]):\n",
    "    print(i, end=' ')\n",
    "    partial_diff_test3(matrix=MA.assembled,\n",
    "                       point=grid_domain.normal_index[i],\n",
    "                       pointnum=i,\n",
    "                       pointdict=grid_domain.pointwise_index,\n",
    "                       #scale_factor=1/w_ld[num] * MA.I_s2b[5][num]\n",
    "                       scale_factor=1\n",
    ")"
   ]
  },
  {
   "cell_type": "code",
   "execution_count": 25,
   "metadata": {
    "collapsed": false,
    "deletable": true,
    "editable": true
   },
   "outputs": [
    {
     "name": "stdout",
     "output_type": "stream",
     "text": [
      "75 X derivative: 0.006469356449353494\n",
      "Y derivative: -0.9228755362353351\n",
      "XX derivative: -0.11028251785467383\n",
      "YY derivative: -1.6407888685159773\n",
      "XY_derivative: 0.08753195259981056\n",
      "\n"
     ]
    }
   ],
   "source": [
    "for num,i in enumerate([75]):\n",
    "    print(i, end=' ')\n",
    "    partial_diff_test3(matrix=MA.assembled,\n",
    "                       point=grid_domain.normal_index[i],\n",
    "                       pointnum=i,\n",
    "                       pointdict=grid_domain.pointwise_index,\n",
    "                       #scale_factor=1/w_ld[num] * MA.I_s2b[5][num]\n",
    "                       scale_factor=1\n",
    ")"
   ]
  },
  {
   "cell_type": "code",
   "execution_count": null,
   "metadata": {
    "collapsed": false,
    "deletable": true,
    "editable": true
   },
   "outputs": [],
   "source": [
    "2*(-4.486123159394118 + 8.097144560212651 + -3.110781418448933) * 0.03333334"
   ]
  },
  {
   "cell_type": "code",
   "execution_count": null,
   "metadata": {
    "collapsed": false,
    "deletable": true,
    "editable": true
   },
   "outputs": [],
   "source": [
    "0.03333334 * 2*(0.30022197830861924 - 0.5398047719572523 + 0.20739103204915854)"
   ]
  },
  {
   "cell_type": "code",
   "execution_count": null,
   "metadata": {
    "collapsed": false,
    "deletable": true,
    "editable": true
   },
   "outputs": [],
   "source": [
    "for num,i in enumerate([81, 82, 83, 84, 85, 70]):\n",
    "    print(i, end=' ')\n",
    "    partial_diff_test3(matrix=MA.half_glob,\n",
    "                       point=grid_domain.normal_index[i],\n",
    "                       pointnum=i,\n",
    "                       pointdict=grid_domain.pointwise_index,\n",
    "                       scale_factor=1/w_ld[num] * MA.I_s2b[5][num]/2\n",
    "                       \n",
    "                       #scale_factor=1\n",
    "    )\n",
    "    print('norma_val: ', 1/w_ld[num] * MA.I_s2b[5][num]/2)"
   ]
  },
  {
   "cell_type": "code",
   "execution_count": null,
   "metadata": {
    "collapsed": false,
    "deletable": true,
    "editable": true
   },
   "outputs": [],
   "source": [
    "print(deep[0][1].T[5].nonzero())\n",
    "deep[0][1].T[5].toarray().flatten().take(deep[0][1].T[5].nonzero()[1])[1:]"
   ]
  },
  {
   "cell_type": "code",
   "execution_count": null,
   "metadata": {
    "collapsed": false,
    "deletable": true,
    "editable": true
   },
   "outputs": [],
   "source": [
    "print(deep[0][1][5].nonzero())\n",
    "deep[0][1][5].toarray().flatten().take(deep[0][1][5].nonzero()[1])"
   ]
  },
  {
   "cell_type": "code",
   "execution_count": null,
   "metadata": {
    "collapsed": false,
    "deletable": true,
    "editable": true
   },
   "outputs": [],
   "source": [
    "MA.I_s2b[5]"
   ]
  },
  {
   "cell_type": "code",
   "execution_count": null,
   "metadata": {
    "collapsed": false,
    "deletable": true,
    "editable": true
   },
   "outputs": [],
   "source": [
    "np.dot(np.dot(w_r, MA.I_s2b), np.linalg.inv(w_l))"
   ]
  },
  {
   "cell_type": "code",
   "execution_count": null,
   "metadata": {
    "collapsed": false,
    "deletable": true,
    "editable": true
   },
   "outputs": [],
   "source": [
    "MA.I_b2s.T"
   ]
  },
  {
   "cell_type": "code",
   "execution_count": null,
   "metadata": {
    "collapsed": true,
    "deletable": true,
    "editable": true
   },
   "outputs": [],
   "source": [
    "c2p = Cell2PointsConverter(orders=[[5],[5,5]])"
   ]
  },
  {
   "cell_type": "code",
   "execution_count": null,
   "metadata": {
    "collapsed": false,
    "deletable": true,
    "editable": true
   },
   "outputs": [],
   "source": [
    "w_rd"
   ]
  },
  {
   "cell_type": "code",
   "execution_count": null,
   "metadata": {
    "collapsed": true,
    "deletable": true,
    "editable": true
   },
   "outputs": [],
   "source": [
    "w_ld, w_rd = c2p.get_weights()"
   ]
  },
  {
   "cell_type": "code",
   "execution_count": null,
   "metadata": {
    "collapsed": false,
    "deletable": true,
    "editable": true
   },
   "outputs": [],
   "source": [
    "w_l, w_r = c2p.get_diag_weights()"
   ]
  },
  {
   "cell_type": "code",
   "execution_count": null,
   "metadata": {
    "collapsed": false,
    "deletable": true,
    "editable": true
   },
   "outputs": [],
   "source": [
    "grid_domain.normal_index[82]"
   ]
  },
  {
   "cell_type": "code",
   "execution_count": null,
   "metadata": {
    "collapsed": false,
    "deletable": true,
    "editable": true
   },
   "outputs": [],
   "source": [
    "for i in [81, 82, 83, 84, 85, 70]:\n",
    "    print(i, end=' ')\n",
    "    partial_diff_test(matrix=MA.assembled, point=grid_domain.normal_index[i], pointnum=i, pointdict=grid_domain.pointwise_index)"
   ]
  },
  {
   "cell_type": "code",
   "execution_count": null,
   "metadata": {
    "collapsed": false,
    "deletable": true,
    "editable": true
   },
   "outputs": [],
   "source": [
    "0.07337582303605292/ -0.018924022932711504"
   ]
  },
  {
   "cell_type": "code",
   "execution_count": null,
   "metadata": {
    "collapsed": true,
    "deletable": true,
    "editable": true
   },
   "outputs": [],
   "source": [
    "f = h5py.File('../datasources/1_10_globatto_matrices.h5')"
   ]
  },
  {
   "cell_type": "code",
   "execution_count": null,
   "metadata": {
    "collapsed": false,
    "deletable": true,
    "editable": true
   },
   "outputs": [],
   "source": [
    "sc = f['mass_matrices/base_M_order_5'][()]"
   ]
  },
  {
   "cell_type": "code",
   "execution_count": null,
   "metadata": {
    "collapsed": false,
    "deletable": true,
    "editable": true
   },
   "outputs": [],
   "source": [
    "mm_new = np.diag(sc.sum(axis=1))"
   ]
  },
  {
   "cell_type": "code",
   "execution_count": null,
   "metadata": {
    "collapsed": false,
    "deletable": true,
    "editable": true
   },
   "outputs": [],
   "source": [
    "mm_new"
   ]
  },
  {
   "cell_type": "code",
   "execution_count": null,
   "metadata": {
    "collapsed": false,
    "deletable": true,
    "editable": true
   },
   "outputs": [],
   "source": [
    "init_op = MA.half_glob * linalg.inv(deep[0][1])"
   ]
  },
  {
   "cell_type": "code",
   "execution_count": null,
   "metadata": {
    "collapsed": false,
    "deletable": true,
    "editable": true
   },
   "outputs": [],
   "source": [
    "init_op"
   ]
  },
  {
   "cell_type": "code",
   "execution_count": null,
   "metadata": {
    "collapsed": false,
    "deletable": true,
    "editable": true
   },
   "outputs": [],
   "source": [
    "MA.I_s2b[5]"
   ]
  },
  {
   "cell_type": "code",
   "execution_count": null,
   "metadata": {
    "collapsed": true,
    "deletable": true,
    "editable": true
   },
   "outputs": [],
   "source": []
  }
 ],
 "metadata": {
  "kernelspec": {
   "display_name": "Python 3",
   "language": "python",
   "name": "python3"
  },
  "language_info": {
   "codemirror_mode": {
    "name": "ipython",
    "version": 3
   },
   "file_extension": ".py",
   "mimetype": "text/x-python",
   "name": "python",
   "nbconvert_exporter": "python",
   "pygments_lexer": "ipython3",
   "version": "3.5.1"
  }
 },
 "nbformat": 4,
 "nbformat_minor": 2
}
