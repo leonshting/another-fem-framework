{
 "cells": [
  {
   "cell_type": "code",
   "execution_count": 1,
   "metadata": {
    "collapsed": true,
    "deletable": true,
    "editable": true
   },
   "outputs": [],
   "source": [
    "import sys\n",
    "sys.path.insert(0,'/home/lshtanko/Programming/another-fem-framework/')\n",
    "#sys.path.insert(0,'/Users/marusy/Programming/another-fem-framework/')\n",
    "#sys.path.insert(0,'/Users/leonshting/Programming/Schlumberger/fem-framework/')"
   ]
  },
  {
   "cell_type": "code",
   "execution_count": 2,
   "metadata": {
    "collapsed": false,
    "deletable": true,
    "editable": true
   },
   "outputs": [],
   "source": [
    "#import h5py\n",
    "\n",
    "from operator_assembler.assembly_interface import AssemblyInterface2D\n",
    "from operator_assembler.n_to_1_ddof_allocator import Nto1Allocator2D\n",
    "from grid.grid_manager import GridManager\n",
    "from grid.allocator_interface import InterfaceDofAllocator2D\n",
    "from grid.grid_domain import GridDomain\n",
    "from operator_assembler.matrix_assembler import MatrixAssembler2D\n",
    "from scipy.ndimage import imread\n",
    "from grid import cell, grid_layer, grid_manager\n",
    "import h5py\n",
    "import numpy as np\n",
    "\n",
    "from common import visual\n",
    "from common.tests import *\n",
    "from common.helpers import *\n",
    "from matplotlib import pyplot as plt\n",
    "from scipy.sparse import csr_matrix\n",
    "from scipy.sparse import linalg\n",
    "\n",
    "%matplotlib inline"
   ]
  },
  {
   "cell_type": "markdown",
   "metadata": {
    "deletable": true,
    "editable": true
   },
   "source": [
    "#### Bad cell"
   ]
  },
  {
   "cell_type": "code",
   "execution_count": null,
   "metadata": {
    "collapsed": true,
    "deletable": true,
    "editable": true
   },
   "outputs": [],
   "source": [
    "data_start = (16, 20)\n",
    "data_shape = (4, 4)\n",
    "data_end = tuple([i+j for i,j in zip(data_start, data_shape)])\n",
    "\n",
    "h5_data = h5py.File('../../../GM_L3D/600/state/viz_GM_1.h5')['index'][0]\n",
    "data = h5_data[data_start[0]:data_end[0], data_start[1]:data_end[1]]\n",
    "#data = imread('/Users/marusy/Programming/model/bhi2_labelled0000.tif')[data_start[0]:data_end[0], data_start[1]:data_end[1]]\n",
    "\n",
    "grid_domain = GridDomain(integer_size=data_shape, domain_size=(1.,1.))\n",
    "gm = GridManager()\n",
    "ifma = InterfaceDofAllocator2D(grid_manager=gm.fit(data=data))\n",
    "\n",
    "gm.draw_grid()"
   ]
  },
  {
   "cell_type": "code",
   "execution_count": 3,
   "metadata": {
    "collapsed": true,
    "deletable": true,
    "editable": true
   },
   "outputs": [],
   "source": [
    "cell1 = cell.Cell2D(size=(1,1), ll_vertex=(0,0))\n",
    "cell2 = cell.Cell2D(size=(1,1), ll_vertex=(0,1))\n",
    "\n",
    "cell3 = cell.Cell2D(size=(2,2), ll_vertex=(1,0))"
   ]
  },
  {
   "cell_type": "code",
   "execution_count": 4,
   "metadata": {
    "collapsed": true,
    "deletable": true,
    "editable": true
   },
   "outputs": [],
   "source": [
    "layer1 = grid_layer.GridLayer2D([c.ll_vertex for c in [cell1, cell2]], layer_number=0, index=[1,1], div_index=[1,1])\n",
    "layer2 = grid_layer.GridLayer2D([c.ll_vertex for c in [cell3]], layer_number=1, index=[1], div_index=[1])"
   ]
  },
  {
   "cell_type": "code",
   "execution_count": 5,
   "metadata": {
    "collapsed": true,
    "deletable": true,
    "editable": true
   },
   "outputs": [],
   "source": [
    "gm = grid_manager.GridManager(dim=2, method='coarse2to1')\n",
    "gm.grid_layers = [layer1, layer2]\n",
    "ifma = InterfaceDofAllocator2D(grid_manager=gm)"
   ]
  },
  {
   "cell_type": "code",
   "execution_count": 6,
   "metadata": {
    "collapsed": true,
    "deletable": true,
    "editable": true
   },
   "outputs": [],
   "source": [
    "ma = Nto1Allocator2D(grid_interface=ifma)\n",
    "ma._make_ddof_index()\n",
    "grid_domain = GridDomain(domain_size=(3.,2.), integer_size=(3,2))\n",
    "grid_domain.make_pointwise_index(ma)"
   ]
  },
  {
   "cell_type": "code",
   "execution_count": 7,
   "metadata": {
    "collapsed": false,
    "deletable": true,
    "editable": true
   },
   "outputs": [],
   "source": [
    "ifma2 = AssemblyInterface2D(allocator=ma)\n",
    "MA = MatrixAssembler2D(assembly_interface=ifma2, grid_domain=grid_domain)\n"
   ]
  },
  {
   "cell_type": "code",
   "execution_count": null,
   "metadata": {
    "collapsed": false
   },
   "outputs": [],
   "source": [
    "MA._gg_matrices"
   ]
  },
  {
   "cell_type": "code",
   "execution_count": 8,
   "metadata": {
    "collapsed": false
   },
   "outputs": [
    {
     "name": "stdout",
     "output_type": "stream",
     "text": [
      "[(0, 4), (1, 36), (2, 37), (3, 38), (4, 39), (5, 40), (6, 0), (7, 50), (8, 51), (9, 52), (10, 53), (11, 41), (12, 1), (13, 54), (14, 55), (15, 56), (16, 57), (17, 42), (18, 2), (19, 58), (20, 59), (21, 60), (22, 61), (23, 43), (24, 3), (25, 62), (26, 63), (27, 64), (28, 65), (29, 44), (30, 5), (31, 46), (32, 47), (33, 48), (34, 49), (35, 45)] [(0, 10), (1, 6), (2, 7), (3, 8), (4, 9), (5, 4), (6, 11), (7, 20), (8, 21), (9, 22), (10, 23), (11, 0), (12, 12), (13, 24), (14, 25), (15, 26), (16, 27), (17, 1), (18, 13), (19, 28), (20, 29), (21, 30), (22, 31), (23, 2), (24, 14), (25, 32), (26, 33), (27, 34), (28, 35), (29, 3), (30, 15), (31, 16), (32, 17), (33, 18), (34, 19), (35, 5)]\n",
      "{0, 1, 2, 3, 4, 6, 7, 8, 9, 10, 11, 12, 13, 14, 20, 21, 22, 23, 24, 25, 26, 27, 28, 29, 30, 31, 32, 33, 34, 35, 36, 37, 38, 39, 40, 41, 42, 43, 44, 50, 51, 52, 53, 54, 55, 56, 57, 58, 59, 60, 61, 62, 63, 64, 65} {66, 67, 68, 69, 71, 72, 73, 74, 75, 76, 77, 78, 79, 80, 86, 87, 88, 89, 90, 91, 92, 93, 94, 95, 96, 97, 98, 99, 100, 101} [[81, 82, 83, 84, 85, 70]] [[15, 16, 17, 18, 19, 5, 46, 47, 48, 49, 45]]\n",
      "\r",
      " 0\r",
      " 1\r",
      " 2"
     ]
    }
   ],
   "source": [
    "deep = MA.assemble()"
   ]
  },
  {
   "cell_type": "code",
   "execution_count": null,
   "metadata": {
    "collapsed": false,
    "deletable": true,
    "editable": true
   },
   "outputs": [],
   "source": [
    "sine_test = grid_domain.vectorize_function(lambda x,y: np.sin(x+y))\n",
    "product = grid_domain.devectorize_vector(MA.assembled * sine_test)\n",
    "init = grid_domain.devectorize_function(lambda x,y: np.sin(x+y))\n",
    "\n",
    "visual.plot_surface_unstructured_w_dict(\n",
    "    point_val_dict=grid_domain.devectorize_vector(MA.assembled * sine_test),\n",
    "    plot_domain_shape=grid_domain.domain_size,\n",
    "    int_domain_shape=grid_domain.integer_size\n",
    ")\n",
    "\n",
    "visual.plot_surface_unstructured_w_dict(\n",
    "    point_val_dict=grid_domain.devectorize_function(lambda x,y: np.sin(x+y)),\n",
    "    plot_domain_shape=grid_domain.domain_size,\n",
    "    int_domain_shape=grid_domain.integer_size\n",
    ")"
   ]
  },
  {
   "cell_type": "code",
   "execution_count": 9,
   "metadata": {
    "collapsed": true,
    "deletable": true,
    "editable": true
   },
   "outputs": [],
   "source": [
    "def partial_diff_test2(pointnum, point, matrix, pointdict, mass_matrix=None,\n",
    "                      multiple_dofs_on_point=True):\n",
    "    x_der = 0\n",
    "    xx_der = 0\n",
    "    yy_der = 0\n",
    "    y_der = 0\n",
    "    xy_der = 0\n",
    "\n",
    "    if not multiple_dofs_on_point:\n",
    "        for k, v in pointdict.items():\n",
    "            dx = point[0] - k[0]\n",
    "            dy = point[1] - k[1]\n",
    "\n",
    "            x_der += dx * matrix[pointnum, v]\n",
    "            xx_der += matrix[pointnum, v] * dx ** 2 / 2\n",
    "            y_der += dy * matrix[pointnum, v]\n",
    "            yy_der += dy ** 2 / 2 * matrix[pointnum, v]\n",
    "            xy_der += dx * dy * matrix[pointnum, v]\n",
    "    else:\n",
    "        for k, vs in pointdict.items():\n",
    "            for v in vs:\n",
    "                dx = point[0] - k[0]\n",
    "                dy = point[1] - k[1]\n",
    "\n",
    "                x_der += dx * matrix[pointnum, v]\n",
    "                xx_der += matrix[pointnum, v] * dx ** 2 / 2\n",
    "                y_der += dy * matrix[pointnum, v]\n",
    "                yy_der += dy ** 2 / 2 * matrix[pointnum, v]\n",
    "                xy_der += dx * dy * matrix[pointnum, v]\n",
    "\n",
    "    if mass_matrix is not None:\n",
    "        print('Mass coef: {}'.format(mass_matrix[pointnum].sum()))\n",
    "\n",
    "    print('X derivative: {}'.format(x_der))\n",
    "    print('Y derivative: {}'.format(y_der))\n",
    "    print('XX derivative: {}'.format(xx_der))\n",
    "    print('YY derivative: {}'.format(yy_der))\n",
    "    print('XY_derivative: {}'.format(xy_der), end='\\n\\n')\n",
    "    return (xx_der + yy_der)/2"
   ]
  },
  {
   "cell_type": "code",
   "execution_count": 10,
   "metadata": {
    "collapsed": false,
    "deletable": true,
    "editable": true
   },
   "outputs": [
    {
     "name": "stdout",
     "output_type": "stream",
     "text": [
      "0 X derivative: 4.9516783925335705e-06\n",
      "Y derivative: 3.286937261050202e-06\n",
      "XX derivative: -0.012615711931482315\n",
      "YY derivative: -0.012616584784628663\n",
      "XY_derivative: -1.1276531848151272e-09\n",
      "\n",
      "1 X derivative: -3.003351352636967e-06\n",
      "Y derivative: 6.452514450722147e-06\n",
      "XX derivative: -0.01849587330328156\n",
      "YY derivative: -0.01849429196780694\n",
      "XY_derivative: 1.8653711499540262e-09\n",
      "\n",
      "2 X derivative: 2.223439716112664e-06\n",
      "Y derivative: 3.065670457042526e-07\n",
      "XX derivative: -0.018494989599944636\n",
      "YY derivative: -0.018499381470156184\n",
      "XY_derivative: -3.2855060504002877e-09\n",
      "\n",
      "3 X derivative: -1.2258274275207326e-06\n",
      "Y derivative: -4.4143018021375344e-07\n",
      "XX derivative: -0.012616432423750159\n",
      "YY derivative: -0.01258569291249695\n",
      "XY_derivative: 8.390323239544386e-09\n",
      "\n",
      "4 X derivative: 0.06666414691935572\n",
      "Y derivative: 1.5749742559565556e-06\n",
      "XX derivative: -0.002222161709186672\n",
      "YY derivative: -0.0022218575968308506\n",
      "XY_derivative: 3.975002880366965e-10\n",
      "\n",
      "5 X derivative: -0.06666842651917577\n",
      "Y derivative: 7.979064583078105e-07\n",
      "XX derivative: -0.0022221131667284435\n",
      "YY derivative: -0.002266009459520138\n",
      "XY_derivative: -2.7290113782236353e-11\n",
      "\n",
      "6 X derivative: 0.18923997139094048\n",
      "Y derivative: 2.063173261872947e-06\n",
      "XX derivative: -0.006307435606609728\n",
      "YY derivative: -0.0063075937059191576\n",
      "XY_derivative: -1.9169894599646932e-07\n",
      "\n",
      "7 X derivative: 0.2774283196379971\n",
      "Y derivative: -1.5099836905827145e-06\n",
      "XX derivative: -0.009247810500696414\n",
      "YY derivative: -0.009248162299509966\n",
      "XY_derivative: 3.542512476388473e-08\n",
      "\n",
      "8 X derivative: 0.27743016469609616\n",
      "Y derivative: 3.769413483144435e-07\n",
      "XX derivative: -0.009248183702527328\n",
      "YY derivative: -0.009247248651993502\n",
      "XY_derivative: -1.431020778771925e-07\n",
      "\n",
      "9 X derivative: 0.18923418577153583\n",
      "Y derivative: -2.3340270041987352e-06\n",
      "XX derivative: -0.006308140523255284\n",
      "YY derivative: -0.006308103367857068\n",
      "XY_derivative: 1.5265036168730436e-07\n",
      "\n",
      "10 X derivative: 0.0333322088253522\n",
      "Y derivative: 0.033332352597938715\n",
      "XX derivative: -0.001111176697403684\n",
      "YY derivative: -0.0011112540924904518\n",
      "XY_derivative: 3.956102021835832e-09\n",
      "\n",
      "11 X derivative: 2.7482025123929937e-06\n",
      "Y derivative: 0.18924184123327292\n",
      "XX derivative: -0.006307687685237553\n",
      "YY derivative: -0.006307989192571958\n",
      "XY_derivative: -1.0721677631711823e-08\n",
      "\n",
      "12 X derivative: -1.921363023002938e-06\n",
      "Y derivative: 0.2774358933582352\n",
      "XX derivative: -0.00924827823738709\n",
      "YY derivative: -0.009248344284141709\n",
      "XY_derivative: 1.7817919730624205e-08\n",
      "\n",
      "13 X derivative: 9.735455553210772e-07\n",
      "Y derivative: 0.2774279368653153\n",
      "XX derivative: -0.009247177517784392\n",
      "YY derivative: -0.00924811671856217\n",
      "XY_derivative: -3.198905057621809e-08\n",
      "\n",
      "14 X derivative: -3.408321850669811e-07\n",
      "Y derivative: 0.18923883238284603\n",
      "XX derivative: -0.006308443435865096\n",
      "YY derivative: -0.006304577847570513\n",
      "XY_derivative: 8.044689004743972e-08\n",
      "\n",
      "15 X derivative: -0.03333416840520006\n",
      "Y derivative: 0.033342109274561695\n",
      "XX derivative: -0.001110960478390474\n",
      "YY derivative: -0.0011245302987445028\n",
      "XY_derivative: -5.880502073317843e-12\n",
      "\n",
      "16 X derivative: -0.18924081960611003\n",
      "Y derivative: -4.161496470613148e-05\n",
      "XX derivative: -0.0063086924817984365\n",
      "YY derivative: -0.0062649631238742036\n",
      "XY_derivative: 8.639091818346336e-13\n",
      "\n",
      "17 X derivative: -0.2774293646122903\n",
      "Y derivative: 1.292695509714503e-05\n",
      "XX derivative: -0.009247365620228955\n",
      "YY derivative: -0.009291690380449958\n",
      "XY_derivative: -7.740855263899621e-12\n",
      "\n",
      "18 X derivative: -0.2774287693201609\n",
      "Y derivative: -2.819034841919192e-05\n",
      "XX derivative: -0.009247320414654443\n",
      "YY derivative: -0.009166738572583426\n",
      "XY_derivative: -3.440678475862258e-11\n",
      "\n",
      "19 X derivative: -0.1892373764005812\n",
      "Y derivative: 3.1397917069516597e-05\n",
      "XX derivative: -0.006307480119501912\n",
      "YY derivative: -0.006331040354827249\n",
      "XY_derivative: -9.775215266933463e-11\n",
      "\n",
      "20 X derivative: 1.910678766656896e-06\n",
      "Y derivative: -4.140059716136841e-06\n",
      "XX derivative: -0.03581279681890652\n",
      "YY derivative: -0.035811179340317204\n",
      "XY_derivative: 5.173451410449622e-07\n",
      "\n",
      "21 X derivative: 1.0459503700995787e-06\n",
      "Y derivative: -7.796268988203426e-07\n",
      "XX derivative: -0.05249945502182883\n",
      "YY derivative: -0.05250011104407126\n",
      "XY_derivative: -9.545248312060813e-08\n",
      "\n",
      "22 X derivative: -7.731772678765125e-07\n",
      "Y derivative: 1.7814177852147578e-06\n",
      "XX derivative: -0.05249887258756796\n",
      "YY derivative: -0.05249944720259388\n",
      "XY_derivative: 3.862968668699903e-07\n",
      "\n",
      "23 X derivative: 6.6389436690853225e-06\n",
      "Y derivative: -4.553774196639951e-07\n",
      "XX derivative: -0.035809959478899006\n",
      "YY derivative: -0.03581127861749644\n",
      "XY_derivative: -4.123103391644249e-07\n",
      "\n",
      "24 X derivative: -2.9725951841180442e-06\n",
      "Y derivative: -2.3459315932339297e-06\n",
      "XX derivative: -0.052499402086643505\n",
      "YY derivative: -0.0525007354048935\n",
      "XY_derivative: -8.602307637734864e-07\n",
      "\n",
      "25 X derivative: -5.638199149562132e-07\n",
      "Y derivative: -4.212786618551512e-06\n",
      "XX derivative: -0.07696752267833946\n",
      "YY derivative: -0.07696752368969445\n",
      "XY_derivative: 1.586060021862587e-07\n",
      "\n",
      "26 X derivative: 3.2852382343060096e-06\n",
      "Y derivative: 3.4051548069512034e-06\n",
      "XX derivative: -0.07696892810772997\n",
      "YY derivative: -0.07696820910824864\n",
      "XY_derivative: -6.423854884389602e-07\n",
      "\n",
      "27 X derivative: -5.424043283608946e-06\n",
      "Y derivative: -2.0710532623313682e-06\n",
      "XX derivative: -0.052501571448282394\n",
      "YY derivative: -0.05250064832712526\n",
      "XY_derivative: 6.855945188714961e-07\n",
      "\n",
      "28 X derivative: -4.528154435618795e-06\n",
      "Y derivative: -6.022205266569655e-06\n",
      "XX derivative: -0.05250118692692282\n",
      "YY derivative: -0.052495546573558094\n",
      "XY_derivative: 1.5469199163294473e-06\n",
      "\n",
      "29 X derivative: 2.2619072710968922e-06\n",
      "Y derivative: 7.932497608469967e-06\n",
      "XX derivative: -0.07696652093330666\n",
      "YY derivative: -0.07697155171688634\n",
      "XY_derivative: -2.853028947652795e-07\n",
      "\n",
      "30 X derivative: -5.618763736392474e-06\n",
      "Y derivative: -8.823045451235986e-06\n",
      "XX derivative: -0.07696589770781163\n",
      "YY derivative: -0.07695791493345958\n",
      "XY_derivative: 1.1549921931479564e-06\n",
      "\n",
      "31 X derivative: 1.4979976026211176e-07\n",
      "Y derivative: 3.5089814868526362e-06\n",
      "XX derivative: -0.052497915490451304\n",
      "YY derivative: -0.052502911835156374\n",
      "XY_derivative: -1.2326605770199467e-06\n",
      "\n",
      "32 X derivative: 7.3845366933219574e-06\n",
      "Y derivative: 3.1348611191551334e-05\n",
      "XX derivative: -0.035809451089028964\n",
      "YY derivative: -0.035840342900963565\n",
      "XY_derivative: -3.8866814743266006e-06\n",
      "\n",
      "33 X derivative: -3.086138251573008e-06\n",
      "Y derivative: -6.408602765887661e-06\n",
      "XX derivative: -0.05250069770348046\n",
      "YY derivative: -0.05246658710635755\n",
      "XY_derivative: 7.16858432387709e-07\n",
      "\n",
      "34 X derivative: 5.872793492039952e-06\n",
      "Y derivative: 2.1935624213144077e-05\n",
      "XX derivative: -0.052500934051847734\n",
      "YY derivative: -0.05257370813384488\n",
      "XY_derivative: -2.9020054355451435e-06\n",
      "\n",
      "35 X derivative: 3.718440929597262e-06\n",
      "Y derivative: -2.1043365590875137e-05\n",
      "XX derivative: -0.03581191937341906\n",
      "YY derivative: -0.03578386790798799\n",
      "XY_derivative: 3.097237116909778e-06\n",
      "\n",
      "36 X derivative: 0.18924003448349014\n",
      "Y derivative: 1.9776930859699213e-06\n",
      "XX derivative: -0.006307467152884636\n",
      "YY derivative: -0.006307263081321595\n",
      "XY_derivative: -1.5167470744877757e-07\n",
      "\n",
      "37 X derivative: 0.2774286895210752\n",
      "Y derivative: -1.5838361183736355e-06\n",
      "XX derivative: -0.009247995442235446\n",
      "YY derivative: -0.009248786377031916\n",
      "XY_derivative: 1.403959737796016e-07\n",
      "\n",
      "38 X derivative: 0.2774297947665425\n",
      "Y derivative: 2.42545877507383e-07\n",
      "XX derivative: -0.009247998737750507\n",
      "YY derivative: -0.009246621875472804\n",
      "XY_derivative: -3.459984829426313e-08\n",
      "\n",
      "39 X derivative: 0.18923412271339202\n",
      "Y derivative: -2.333268725729365e-06\n",
      "XX derivative: -0.006308108994183356\n",
      "YY derivative: -0.006308429178124667\n",
      "XY_derivative: 1.9109105771137058e-07\n",
      "\n",
      "40 X derivative: 0.03333196030202634\n",
      "Y derivative: -0.033330825835501204\n",
      "XX derivative: -0.00111099611579439\n",
      "YY derivative: -0.0011107386169699413\n",
      "XY_derivative: -3.850375859679804e-09\n",
      "\n",
      "41 X derivative: 2.1434931333566554e-06\n",
      "Y derivative: -0.18923883057810398\n",
      "XX derivative: -0.006307997778028485\n",
      "YY derivative: -0.006308180010876275\n",
      "XY_derivative: 1.0378942635966511e-08\n",
      "\n",
      "42 X derivative: -9.822220471307486e-07\n",
      "Y derivative: -0.27742984254803077\n",
      "XX derivative: -0.009247627121587478\n",
      "YY derivative: -0.009246891901043611\n",
      "XY_derivative: -1.7256749412794158e-08\n",
      "\n",
      "43 X derivative: 1.0705031310287438e-06\n",
      "Y derivative: -0.2774280405994736\n",
      "XX derivative: -0.009247780026399994\n",
      "YY derivative: -0.009248203546356297\n",
      "XY_derivative: 3.105115555273901e-08\n",
      "\n",
      "44 X derivative: -4.342536385456078e-07\n",
      "Y derivative: -0.18923949893514297\n",
      "XX derivative: -0.006308015462722927\n",
      "YY derivative: -0.006304498793047147\n",
      "XY_derivative: -7.796226552121772e-08\n",
      "\n",
      "45 X derivative: -0.033334258113975695\n",
      "Y derivative: -0.03334138952674496\n",
      "XX derivative: -0.0011111526883379689\n",
      "YY derivative: -0.0011244328094326933\n",
      "XY_derivative: -2.1409617280585346e-11\n",
      "\n",
      "46 X derivative: -0.18924081960611\n",
      "Y derivative: -3.217010223335273e-05\n",
      "XX derivative: -0.006308692481798437\n",
      "YY derivative: -0.006331008795279657\n",
      "XY_derivative: 8.639090162826232e-13\n",
      "\n",
      "47 X derivative: -0.27742936461229023\n",
      "Y derivative: 2.7942309666261937e-05\n",
      "XX derivative: -0.009247365620228945\n",
      "YY derivative: -0.009166847127548174\n",
      "XY_derivative: -7.740854018899036e-12\n",
      "\n",
      "48 X derivative: -0.2774287693201609\n",
      "Y derivative: -1.2535692597865e-05\n",
      "XX derivative: -0.009247320414654427\n",
      "YY derivative: -0.009291640628012831\n",
      "XY_derivative: -3.4406785949535456e-11\n",
      "\n",
      "49 X derivative: -0.18923737640058116\n",
      "Y derivative: 4.059729898764584e-05\n",
      "XX derivative: -0.006307480119501909\n",
      "YY derivative: -0.006265017406016989\n",
      "XY_derivative: -9.775214446044826e-11\n",
      "\n",
      "50 X derivative: 1.740353766455968e-06\n",
      "Y derivative: -4.2757175824129676e-06\n",
      "XX derivative: -0.03581272166064551\n",
      "YY derivative: -0.03581216554113577\n",
      "XY_derivative: 4.092954900795887e-07\n",
      "\n",
      "51 X derivative: 4.728355809744666e-08\n",
      "Y derivative: -2.818079480243498e-07\n",
      "XX derivative: -0.05249901434629175\n",
      "YY derivative: -0.05249818376967675\n",
      "XY_derivative: -3.7886881007218386e-07\n",
      "\n",
      "52 X derivative: 2.2557690844584788e-07\n",
      "Y derivative: 1.9663388082152725e-06\n",
      "XX derivative: -0.05249931330165574\n",
      "YY derivative: -0.05250136352684692\n",
      "XY_derivative: 9.335715919302962e-08\n",
      "\n",
      "53 X derivative: 6.809234727030263e-06\n",
      "Y derivative: -1.1519519171823439e-07\n",
      "XX derivative: -0.03581003462218254\n",
      "YY derivative: -0.035810265475162556\n",
      "XY_derivative: -5.161209874055142e-07\n",
      "\n",
      "54 X derivative: -2.689379501038236e-06\n",
      "Y derivative: -3.003878007813265e-06\n",
      "XX derivative: -0.05249949308607494\n",
      "YY derivative: -0.05249842202162879\n",
      "XY_derivative: -6.805662628417756e-07\n",
      "\n",
      "55 X derivative: 1.0968266453662166e-06\n",
      "Y derivative: -4.687153850357246e-06\n",
      "XX derivative: -0.07696805625716958\n",
      "YY derivative: -0.0769718810699203\n",
      "XY_derivative: 6.29888660977131e-07\n",
      "\n",
      "56 X derivative: 1.6244861819703938e-06\n",
      "Y derivative: 2.431623513154973e-06\n",
      "XX derivative: -0.07696839449500438\n",
      "YY derivative: -0.07696383021912584\n",
      "XY_derivative: -1.552784184698e-07\n",
      "\n",
      "57 X derivative: -5.7072464918194895e-06\n",
      "Y derivative: -2.013434564865216e-06\n",
      "XX derivative: -0.05250148045285924\n",
      "YY derivative: -0.05250292289403934\n",
      "XY_derivative: 8.582372221090353e-07\n",
      "\n",
      "58 X derivative: -5.037373218641292e-06\n",
      "Y derivative: -5.496680102667199e-06\n",
      "XX derivative: -0.05250109593354791\n",
      "YY derivative: -0.05250292421771283\n",
      "XY_derivative: 1.223885051528354e-06\n",
      "\n",
      "59 X derivative: -7.241280895723712e-07\n",
      "Y derivative: 1.05626847751472e-05\n",
      "XX derivative: -0.07696598735237005\n",
      "YY derivative: -0.07695739077285682\n",
      "XY_derivative: -1.132723841203916e-06\n",
      "\n",
      "60 X derivative: -2.632603385204528e-06\n",
      "Y derivative: -6.587826172691198e-06\n",
      "XX derivative: -0.07696643131108295\n",
      "YY derivative: -0.07697206795265718\n",
      "XY_derivative: 2.791360913441714e-07\n",
      "\n",
      "61 X derivative: 6.590150118148565e-07\n",
      "Y derivative: 4.703845611020968e-06\n",
      "XX derivative: -0.0524980064831952\n",
      "YY derivative: -0.05249549275808865\n",
      "XY_derivative: -1.5430818405266047e-06\n",
      "\n",
      "62 X derivative: 8.663976341172028e-06\n",
      "Y derivative: 2.4181302666555736e-05\n",
      "XX derivative: -0.035809526238420396\n",
      "YY derivative: -0.03578374931284837\n",
      "XY_derivative: -3.075038960712775e-06\n",
      "\n",
      "63 X derivative: 4.416621573572526e-06\n",
      "Y derivative: -2.435741083355602e-05\n",
      "XX derivative: -0.052501138386896726\n",
      "YY derivative: -0.05257469179424482\n",
      "XY_derivative: 2.846101746901317e-06\n",
      "\n",
      "64 X derivative: -1.6300148135013456e-06\n",
      "Y derivative: 3.0555902234239894e-06\n",
      "XX derivative: -0.05250049336558392\n",
      "YY derivative: -0.05246551608321862\n",
      "XY_derivative: -7.01393390785784e-07\n",
      "\n",
      "65 X derivative: 2.4390090902232106e-06\n",
      "Y derivative: -2.7460247899920695e-05\n",
      "XX derivative: -0.03581184422448627\n",
      "YY derivative: -0.03584045046754058\n",
      "XY_derivative: 3.877187927081931e-06\n",
      "\n",
      "66 X derivative: 8.280205025468224e-06\n",
      "Y derivative: -0.3784611096352236\n",
      "XX derivative: -0.02523132840120633\n",
      "YY derivative: -0.02522188126709235\n",
      "XY_derivative: 3.819846910391167e-06\n",
      "\n",
      "67 X derivative: -3.3025817628984377e-06\n",
      "Y derivative: -0.5548614703762185\n",
      "XX derivative: -0.03699130385758134\n",
      "YY derivative: -0.0369894008553588\n",
      "XY_derivative: -1.5200782691321413e-06\n",
      "\n",
      "68 X derivative: 2.4852022640006743e-06\n",
      "Y derivative: -0.5548548546890966\n",
      "XX derivative: -0.03699032428880072\n",
      "YY derivative: -0.03699043706138268\n",
      "XY_derivative: 8.453266710090057e-07\n",
      "\n",
      "69 X derivative: 1.799639080118931e-09\n",
      "Y derivative: -0.37848034411305204\n",
      "XX derivative: -0.02523270944753968\n",
      "YY derivative: -0.025232175746889525\n",
      "XY_derivative: -5.081640681338373e-07\n",
      "\n",
      "70 X derivative: 0.06666399103549936\n",
      "Y derivative: -0.06668335898451927\n",
      "XX derivative: -0.004444054661164623\n",
      "YY derivative: -0.004458911153995437\n",
      "XY_derivative: -2.9594436213688475e-11\n",
      "\n",
      "71 X derivative: -0.06666835634007628\n",
      "Y derivative: -0.06666731845787718\n",
      "XX derivative: -0.004444416135731263\n",
      "YY derivative: -0.004444428727236606\n",
      "XY_derivative: 1.8815074598506343e-07\n",
      "\n",
      "72 X derivative: -0.3784812454512941\n",
      "Y derivative: -2.1431405638327322e-06\n",
      "XX derivative: -0.025234179001805218\n",
      "YY derivative: -0.025231924917178777\n",
      "XY_derivative: -2.9750443758871925e-07\n",
      "\n",
      "73 X derivative: -0.5548593974273983\n",
      "Y derivative: 6.168151873435675e-07\n",
      "XX derivative: -0.03698984163557845\n",
      "YY derivative: -0.03699088785111347\n",
      "XY_derivative: 2.896176038756984e-07\n",
      "\n",
      "74 X derivative: -0.5548582068812467\n",
      "Y derivative: -1.5083781197060102e-07\n",
      "XX derivative: -0.03698966084964532\n",
      "YY derivative: -0.036990990261983936\n",
      "XY_derivative: -2.9198016883880823e-07\n",
      "\n",
      "75 X derivative: -0.3784743593976213\n",
      "Y derivative: 3.0318484979790367e-07\n",
      "XX derivative: -0.025229329911150386\n",
      "YY derivative: -0.025231895262226772\n",
      "XY_derivative: 3.0037449965693297e-07\n",
      "\n",
      "76 X derivative: -0.06666817696102238\n",
      "Y derivative: 0.06666869155482197\n",
      "XX derivative: -0.0044436473336073295\n",
      "YY derivative: -0.004444604595117054\n",
      "XY_derivative: -1.9031489422588477e-07\n",
      "\n",
      "77 X derivative: 9.48946137604989e-06\n",
      "Y derivative: 0.37846721982844034\n",
      "XX derivative: -0.025230088028159993\n",
      "YY derivative: -0.025221022636455925\n",
      "XY_derivative: -3.862174745045133e-06\n",
      "\n",
      "78 X derivative: -5.180503110463475e-06\n",
      "Y derivative: 0.5548739920448136\n",
      "XX derivative: -0.036993908250341025\n",
      "YY derivative: -0.03699534792917632\n",
      "XY_derivative: 1.5367335576832453e-06\n",
      "\n",
      "79 X derivative: 2.2909419929648123e-06\n",
      "Y derivative: 0.5548550297790334\n",
      "XX derivative: -0.03698791441398741\n",
      "YY derivative: -0.03699018034668875\n",
      "XY_derivative: -8.542847047196545e-07\n",
      "\n",
      "80 X derivative: 1.888611783004701e-07\n",
      "Y derivative: 0.37847932538424484\n",
      "XX derivative: -0.025234421182666854\n",
      "YY derivative: -0.025232675901490677\n",
      "XY_derivative: 5.1376815248666e-07\n",
      "\n",
      "81 X derivative: 0.0666644880693564\n",
      "Y derivative: 0.06668683616122362\n",
      "XX derivative: -0.0044447769747585466\n",
      "YY derivative: -0.0044613453041749684\n",
      "XY_derivative: -2.7507488299686516e-11\n",
      "\n",
      "82 X derivative: 0.37847983818398834\n",
      "Y derivative: 2.442513276745828e-05\n",
      "XX derivative: -0.025229636504155075\n",
      "YY derivative: -0.025231761792327445\n",
      "XY_derivative: -1.529647219521971e-10\n",
      "\n",
      "83 X derivative: 0.5548568558617923\n",
      "Y derivative: -2.8098664362624648e-05\n",
      "XX derivative: -0.03699145664631896\n",
      "YY derivative: -0.03697434062858288\n",
      "XY_derivative: 3.3265464696707504e-10\n",
      "\n",
      "84 X derivative: 0.5548598061429119\n",
      "Y derivative: 2.5839197946048165e-05\n",
      "XX derivative: -0.036992209618678495\n",
      "YY derivative: -0.03696812979453605\n",
      "XY_derivative: -7.444058186614171e-11\n",
      "\n",
      "85 X derivative: 0.3784681408916998\n",
      "Y derivative: -2.5577472852145178e-05\n",
      "XX derivative: -0.025232330116514982\n",
      "YY derivative: -0.025235520655368382\n",
      "XY_derivative: 7.1779521391907125e-12\n",
      "\n",
      "86 X derivative: 1.7415152574251636e-05\n",
      "Y derivative: -3.278671231310426e-05\n",
      "XX derivative: -0.14324985335463697\n",
      "YY derivative: -0.14324105408203786\n",
      "XY_derivative: -6.033433526397847e-06\n",
      "\n",
      "87 X derivative: -4.236239153576626e-06\n",
      "Y derivative: 2.3231229955511523e-05\n",
      "XX derivative: -0.20999795026542079\n",
      "YY derivative: -0.21001787713595352\n",
      "XY_derivative: 5.875075261542462e-06\n",
      "\n",
      "88 X derivative: -5.87707778987312e-06\n",
      "Y derivative: -2.0754904073466696e-05\n",
      "XX derivative: -0.20999738335062504\n",
      "YY derivative: -0.21002293350395457\n",
      "XY_derivative: -5.919034037064896e-06\n",
      "\n",
      "89 X derivative: 2.7211241691416088e-05\n",
      "Y derivative: 2.4127657704653416e-05\n",
      "XX derivative: -0.1432388046275802\n",
      "YY derivative: -0.14323720241357057\n",
      "XY_derivative: 6.101823382731464e-06\n",
      "\n",
      "90 X derivative: -1.165415649548307e-05\n",
      "Y derivative: -4.010090191186588e-06\n",
      "XX derivative: -0.20999918367701165\n",
      "YY derivative: -0.20999890407510444\n",
      "XY_derivative: 2.401650868039118e-06\n",
      "\n",
      "91 X derivative: 2.2162529515062923e-06\n",
      "Y derivative: -1.1203047917240916e-05\n",
      "XX derivative: -0.30786987473123495\n",
      "YY derivative: -0.30787297341459585\n",
      "XY_derivative: -2.3384974768420053e-06\n",
      "\n",
      "92 X derivative: 6.592961369726591e-06\n",
      "Y derivative: 8.10685693182489e-06\n",
      "XX derivative: -0.30787336201765386\n",
      "YY derivative: -0.30785819062962827\n",
      "XY_derivative: 2.355566907127904e-06\n",
      "\n",
      "93 X derivative: -1.712228995198739e-05\n",
      "Y derivative: -5.4057399059836975e-06\n",
      "XX derivative: -0.21000749674517952\n",
      "YY derivative: -0.2100077500399295\n",
      "XY_derivative: -2.4281776794948806e-06\n",
      "\n",
      "94 X derivative: -5.337774279426388e-06\n",
      "Y derivative: -4.426726195397301e-06\n",
      "XX derivative: -0.21000316940420424\n",
      "YY derivative: -0.20999744324418565\n",
      "XY_derivative: -1.3352989518614078e-06\n",
      "\n",
      "95 X derivative: 1.3984881206061117e-06\n",
      "Y derivative: 1.5280094855050358e-05\n",
      "XX derivative: -0.30786629541165533\n",
      "YY derivative: -0.3078693148409407\n",
      "XY_derivative: 1.3004005064674862e-06\n",
      "\n",
      "96 X derivative: -8.390616341936302e-06\n",
      "Y derivative: -1.2201758398227777e-05\n",
      "XX derivative: -0.3078659369117264\n",
      "YY derivative: -0.30787141167675114\n",
      "XY_derivative: -1.3101138630743775e-06\n",
      "\n",
      "97 X derivative: 5.035526007418634e-06\n",
      "Y derivative: 1.1702069919114488e-06\n",
      "XX derivative: -0.20999044829235347\n",
      "YY derivative: -0.20999726893221252\n",
      "XY_derivative: 1.3504121773658118e-06\n",
      "\n",
      "98 X derivative: 1.0862462422121799e-05\n",
      "Y derivative: -3.0189503588962108e-06\n",
      "XX derivative: -0.14323905343266116\n",
      "YY derivative: -0.14324306910699355\n",
      "XY_derivative: 8.030337201800353e-07\n",
      "\n",
      "99 X derivative: -1.0342844213480362e-06\n",
      "Y derivative: -1.0551439024466223e-06\n",
      "XX derivative: -0.21000253592847465\n",
      "YY derivative: -0.21000125411169882\n",
      "XY_derivative: -7.820899062798564e-07\n",
      "\n",
      "100 X derivative: 1.8780269032299401e-06\n",
      "Y derivative: -5.089400323750066e-06\n",
      "XX derivative: -0.2100017185477685\n",
      "YY derivative: -0.2099967688781561\n",
      "XY_derivative: 7.877552500451523e-07\n",
      "\n",
      "101 X derivative: 9.723231858271841e-07\n",
      "Y derivative: 1.0183862192949394e-05\n",
      "XX derivative: -0.1432486251786245\n",
      "YY derivative: -0.14324363055675018\n",
      "XY_derivative: -8.118429097800361e-07\n",
      "\n"
     ]
    }
   ],
   "source": [
    "mm = np.zeros(MA.half_glob.shape[0])\n",
    "for i in grid_domain.normal_index.keys():\n",
    "    print(i, end=' ')\n",
    "    mm[i] = partial_diff_test2(matrix=MA.half_glob, point=grid_domain.normal_index[i], pointnum=i, pointdict=grid_domain.pointwise_index)"
   ]
  },
  {
   "cell_type": "code",
   "execution_count": 11,
   "metadata": {
    "collapsed": true,
    "deletable": true,
    "editable": true
   },
   "outputs": [],
   "source": [
    "MM = csr_matrix(np.diag(-1/mm))"
   ]
  },
  {
   "cell_type": "code",
   "execution_count": 12,
   "metadata": {
    "collapsed": false,
    "deletable": true,
    "editable": true
   },
   "outputs": [
    {
     "name": "stdout",
     "output_type": "stream",
     "text": [
      "5 X derivative: -29.708825747883324\n",
      "Y derivative: 0.00035556357203093215\n",
      "XX derivative: -0.9902194533333452\n",
      "YY derivative: -1.009780546666859\n",
      "XY_derivative: -1.2161037500460158e-08\n",
      "\n",
      "15 X derivative: -29.822684795793624\n",
      "Y derivative: 29.829789159132954\n",
      "XX derivative: -0.9939298249436672\n",
      "YY derivative: -1.0060701750562084\n",
      "XY_derivative: -5.261038992837485e-09\n",
      "\n",
      "16 X derivative: -30.101161593885806\n",
      "Y derivative: -0.0066193899389092505\n",
      "XX derivative: -1.0034778555493846\n",
      "YY derivative: -0.9965221444505842\n",
      "XY_derivative: 1.37415753847255e-10\n",
      "\n",
      "17 X derivative: -29.92917919899811\n",
      "Y derivative: 0.0013945645448322505\n",
      "XX derivative: -0.9976091144975565\n",
      "YY derivative: -1.0023908855024457\n",
      "XY_derivative: -8.350862377907642e-10\n",
      "\n",
      "18 X derivative: -30.132277681138845\n",
      "Y derivative: -0.0030618288383993386\n",
      "XX derivative: -1.0043761042650552\n",
      "YY derivative: -0.9956238957349706\n",
      "XY_derivative: -3.737012549212395e-09\n",
      "\n",
      "19 X derivative: -29.946128074872764\n",
      "Y derivative: 0.004968606433385797\n",
      "XX derivative: -0.9981358391298111\n",
      "YY derivative: -1.0018641608702288\n",
      "XY_derivative: -1.546892341835182e-08\n",
      "\n",
      "45 X derivative: -29.82150147888935\n",
      "Y derivative: -29.82788138498265\n",
      "XX derivative: -0.9940596675421427\n",
      "YY derivative: -1.0059403324576597\n",
      "XY_derivative: -1.9153476618930577e-08\n",
      "\n",
      "46 X derivative: -29.943875327068916\n",
      "Y derivative: -0.005090326349980655\n",
      "XX derivative: -0.9982344271441221\n",
      "YY derivative: -1.0017655728558743\n",
      "XY_derivative: 1.366976951977985e-10\n",
      "\n",
      "47 X derivative: -30.13209072929609\n",
      "Y derivative: 0.0030348633468746645\n",
      "XX derivative: -1.0043726274798535\n",
      "YY derivative: -0.9956273725202321\n",
      "XY_derivative: -8.407477555437147e-10\n",
      "\n",
      "48 X derivative: -29.929268277942963\n",
      "Y derivative: -0.0013523619332613767\n",
      "XX derivative: -0.997609347511095\n",
      "YY derivative: -1.0023906524889643\n",
      "XY_derivative: -3.7118354011693026e-09\n",
      "\n",
      "49 X derivative: -30.10338654137393\n",
      "Y derivative: 0.006458112066383175\n",
      "XX derivative: -1.0033774286611503\n",
      "YY derivative: -0.9966225713388901\n",
      "XY_derivative: -1.555015529126761e-08\n",
      "\n",
      "70 X derivative: 14.975681681711789\n",
      "Y derivative: -14.980032579922863\n",
      "XX derivative: -0.998331287220546\n",
      "YY derivative: -1.0016687127795478\n",
      "XY_derivative: -6.648219667045059e-09\n",
      "\n",
      "81 X derivative: 14.97048569095984\n",
      "Y derivative: 14.975504281805172\n",
      "XX derivative: -0.9981396696679533\n",
      "YY derivative: -1.0018603303323346\n",
      "XY_derivative: -6.177208764526522e-09\n",
      "\n",
      "82 X derivative: 15.000766960925489\n",
      "Y derivative: 0.0009680719755067457\n",
      "XX derivative: -0.9999578828917912\n",
      "YY derivative: -1.0000421171082152\n",
      "XY_derivative: -6.062643014902726e-09\n",
      "\n",
      "83 X derivative: 15.00306564126138\n",
      "Y derivative: -0.000759774528162005\n",
      "XX derivative: -1.0002314044918958\n",
      "YY derivative: -0.9997685955081013\n",
      "XY_derivative: 8.994823532577582e-09\n",
      "\n",
      "84 X derivative: 15.004252564145864\n",
      "Y derivative: 0.0006987311889528058\n",
      "XX derivative: -1.0003255775234885\n",
      "YY derivative: -0.9996744224765114\n",
      "XY_derivative: -2.0129864859122417e-09\n",
      "\n",
      "85 X derivative: 14.998385510902386\n",
      "Y derivative: -0.001013614507499483\n",
      "XX derivative: -0.9999367807662779\n",
      "YY derivative: -1.0000632192337378\n",
      "XY_derivative: 2.8445642243159243e-10\n",
      "\n"
     ]
    }
   ],
   "source": [
    "for i in sorted([81, 82, 83, 84, 85, 70] + [15, 16, 17, 18, 19, 5, 46, 47, 48, 49, 45]):\n",
    "    print(i, end=' ')\n",
    "    partial_diff_test(matrix=MM*MA.half_glob, point=grid_domain.normal_index[i], pointnum=i, pointdict=grid_domain.pointwise_index)"
   ]
  },
  {
   "cell_type": "code",
   "execution_count": null,
   "metadata": {
    "collapsed": false,
    "deletable": true,
    "editable": true
   },
   "outputs": [],
   "source": [
    "for i in grid_domain.normal_index.keys():\n",
    "    print(i, end=' ')\n",
    "    partial_diff_test(matrix=MA.assembled, point=grid_domain.normal_index[i], pointnum=i, pointdict=grid_domain.pointwise_index)"
   ]
  },
  {
   "cell_type": "code",
   "execution_count": null,
   "metadata": {
    "collapsed": true,
    "deletable": true,
    "editable": true
   },
   "outputs": [],
   "source": [
    "MA.I_s2b"
   ]
  },
  {
   "cell_type": "code",
   "execution_count": null,
   "metadata": {
    "collapsed": true,
    "deletable": true,
    "editable": true
   },
   "outputs": [],
   "source": [
    "MA.half_glob[2].toarray().flatten()"
   ]
  },
  {
   "cell_type": "code",
   "execution_count": null,
   "metadata": {
    "collapsed": true,
    "deletable": true,
    "editable": true
   },
   "outputs": [],
   "source": [
    "deep[0][1].toarray()[[2, 7, 6]]"
   ]
  },
  {
   "cell_type": "code",
   "execution_count": null,
   "metadata": {
    "collapsed": true,
    "deletable": true,
    "editable": true
   },
   "outputs": [],
   "source": [
    "deep[0][1][2].toarray()"
   ]
  },
  {
   "cell_type": "code",
   "execution_count": null,
   "metadata": {
    "collapsed": true,
    "deletable": true,
    "editable": true
   },
   "outputs": [],
   "source": [
    "deep[0][1][:,16].toarray()"
   ]
  },
  {
   "cell_type": "code",
   "execution_count": null,
   "metadata": {
    "collapsed": true,
    "deletable": true,
    "editable": true
   },
   "outputs": [],
   "source": [
    "MA.assembled[2].toarray().flatten()[-9:]"
   ]
  },
  {
   "cell_type": "code",
   "execution_count": null,
   "metadata": {
    "collapsed": true,
    "deletable": true,
    "editable": true
   },
   "outputs": [],
   "source": [
    "pipka[2].toarray().flatten()"
   ]
  },
  {
   "cell_type": "code",
   "execution_count": null,
   "metadata": {
    "collapsed": true,
    "deletable": true,
    "editable": true
   },
   "outputs": [],
   "source": [
    "partial_diff_test(matrix=deep[0][-1], point=grid_domain.normal_index[2], pointnum=2, pointdict=grid_domain.pointwise_index)"
   ]
  },
  {
   "cell_type": "code",
   "execution_count": null,
   "metadata": {
    "collapsed": true,
    "deletable": true,
    "editable": true
   },
   "outputs": [],
   "source": [
    "dist = distributed_eye_easy(ma.get_cell_list_of_ddofs(cell=cell3), axis2shape=MA.assembly_interface.get_ddof_count())"
   ]
  },
  {
   "cell_type": "code",
   "execution_count": null,
   "metadata": {
    "collapsed": true,
    "deletable": true,
    "editable": true
   },
   "outputs": [],
   "source": [
    "pipka = dist.T * csr_matrix(MA._get_local_gg_matrix(distribution='lobatto', order=2)) * dist"
   ]
  },
  {
   "cell_type": "code",
   "execution_count": null,
   "metadata": {
    "collapsed": true,
    "deletable": true,
    "editable": true
   },
   "outputs": [],
   "source": [
    "mm = np.array(MA.assembled_mass.sum(axis=1)).flatten()"
   ]
  },
  {
   "cell_type": "code",
   "execution_count": null,
   "metadata": {
    "collapsed": true,
    "deletable": true,
    "editable": true
   },
   "outputs": [],
   "source": [
    "mm_sp = csr_matrix(np.diag(1/mm))"
   ]
  },
  {
   "cell_type": "code",
   "execution_count": null,
   "metadata": {
    "collapsed": true,
    "deletable": true,
    "editable": true
   },
   "outputs": [],
   "source": [
    "op =  mm_sp * MA.assembled "
   ]
  },
  {
   "cell_type": "code",
   "execution_count": null,
   "metadata": {
    "collapsed": false,
    "deletable": true,
    "editable": true,
    "scrolled": true
   },
   "outputs": [],
   "source": [
    "grid_domain.normal_index"
   ]
  },
  {
   "cell_type": "code",
   "execution_count": null,
   "metadata": {
    "collapsed": true,
    "deletable": true,
    "editable": true
   },
   "outputs": [],
   "source": [
    "MA.assembly_interface.allocator.get_cell_list_of_ddofs(cell2)"
   ]
  },
  {
   "cell_type": "code",
   "execution_count": null,
   "metadata": {
    "collapsed": true,
    "deletable": true,
    "editable": true
   },
   "outputs": [],
   "source": [
    "plt.imshow(deep[0][-1].toarray(), interpolation='none')"
   ]
  },
  {
   "cell_type": "code",
   "execution_count": null,
   "metadata": {
    "collapsed": false,
    "deletable": true,
    "editable": true
   },
   "outputs": [],
   "source": [
    "f = plt.figure(figsize=(10,10))\n",
    "plt.imshow(deep[0][1].toarray(), interpolation='none')"
   ]
  },
  {
   "cell_type": "code",
   "execution_count": null,
   "metadata": {
    "collapsed": true,
    "deletable": true,
    "editable": true
   },
   "outputs": [],
   "source": [
    "partial_diff_test(matrix=MA.assembled, point=grid_domain.normal_index[85], pointnum=85, pointdict=grid_domain.pointwise_index)"
   ]
  },
  {
   "cell_type": "code",
   "execution_count": null,
   "metadata": {
    "collapsed": true,
    "deletable": true,
    "editable": true
   },
   "outputs": [],
   "source": [
    "partial_diff_test(matrix=MA.assembled, point=grid_domain.normal_index[19], pointnum=19, pointdict=grid_domain.pointwise_index)"
   ]
  },
  {
   "cell_type": "code",
   "execution_count": null,
   "metadata": {
    "collapsed": true,
    "deletable": true,
    "editable": true
   },
   "outputs": [],
   "source": [
    "partial_diff_test(matrix=MA.half_glob, point=grid_domain.normal_index[85], pointnum=85, pointdict=grid_domain.pointwise_index)"
   ]
  },
  {
   "cell_type": "code",
   "execution_count": null,
   "metadata": {
    "collapsed": true,
    "deletable": true,
    "editable": true
   },
   "outputs": [],
   "source": [
    "partial_diff_test(matrix=MA.half_glob, point=grid_domain.normal_index[19], pointnum=19, pointdict=grid_domain.pointwise_index)"
   ]
  },
  {
   "cell_type": "code",
   "execution_count": null,
   "metadata": {
    "collapsed": true,
    "deletable": true,
    "editable": true
   },
   "outputs": [],
   "source": [
    "csr_matrix(MA._get_local_gg_matrix(distribution='lobatto', order=2))"
   ]
  },
  {
   "cell_type": "code",
   "execution_count": null,
   "metadata": {
    "collapsed": true,
    "deletable": true,
    "editable": true
   },
   "outputs": [],
   "source": [
    "from common import polynom_factory"
   ]
  },
  {
   "cell_type": "code",
   "execution_count": null,
   "metadata": {
    "collapsed": true,
    "deletable": true,
    "editable": true
   },
   "outputs": [],
   "source": [
    "mmatrix = polynom_factory.local_funcfunc_matrix(distribution='globatto', order=2, dim=2, size=(0,1))"
   ]
  },
  {
   "cell_type": "code",
   "execution_count": null,
   "metadata": {
    "collapsed": true,
    "deletable": true,
    "editable": true
   },
   "outputs": [],
   "source": [
    "tomul = np.diag(1/mmatrix.sum(axis=1))"
   ]
  },
  {
   "cell_type": "code",
   "execution_count": null,
   "metadata": {
    "collapsed": true,
    "deletable": true,
    "editable": true
   },
   "outputs": [],
   "source": [
    "matrix, index = polynom_factory.local_gradgrad_matrix(distribution='globatto', order=2, dim=2)"
   ]
  },
  {
   "cell_type": "code",
   "execution_count": null,
   "metadata": {
    "collapsed": true,
    "deletable": true,
    "editable": true
   },
   "outputs": [],
   "source": [
    "for point, num in index.items():\n",
    "    partial_diff_test(matrix=np.dot(tomul, matrix), point=point, pointnum=num, pointdict=index, multiple_dofs_on_point=False)"
   ]
  },
  {
   "cell_type": "code",
   "execution_count": null,
   "metadata": {
    "collapsed": true,
    "deletable": true,
    "editable": true
   },
   "outputs": [],
   "source": [
    "for point, num in index.items():\n",
    "    partial_diff_test(matrix=matrix, point=point, pointnum=num, pointdict=index, multiple_dofs_on_point=False)"
   ]
  },
  {
   "cell_type": "code",
   "execution_count": 14,
   "metadata": {
    "collapsed": false,
    "deletable": true,
    "editable": true
   },
   "outputs": [
    {
     "data": {
      "text/plain": [
       "array([[ 0.      ,  0.      ,  0.      ,  0.      ,  0.      ,  0.5     ,\n",
       "         0.      ,  0.      ,  0.      ,  0.      ,  0.      ,  0.      ,\n",
       "         0.      ,  0.      ,  0.      ,  0.      ,  0.      ,  0.      ,\n",
       "         0.      ,  0.      ,  0.      ,  0.      ,  0.      ,  0.      ,\n",
       "         0.      ,  0.      ,  0.      ,  0.      ,  0.      ,  0.      ,\n",
       "         0.      ,  0.      ,  0.      ,  0.      ,  0.      ,  0.      ,\n",
       "         0.      ,  0.      ,  0.      ,  0.      ,  0.      ,  0.      ,\n",
       "         0.      ,  0.      ,  0.      ,  0.      ,  0.      ,  0.      ,\n",
       "         0.      ,  0.      ,  0.      ,  0.      ,  0.      ,  0.      ,\n",
       "         0.      ,  0.      ,  0.      ,  0.      ,  0.      ,  0.      ,\n",
       "         0.      ,  0.      ,  0.      ,  0.      ,  0.      ,  0.      ,\n",
       "         0.      ,  0.      ,  0.      ,  0.      , -2.243135,  0.      ,\n",
       "         0.      ,  0.      ,  0.      ,  0.      ,  0.      ,  0.      ,\n",
       "         0.      ,  0.      ,  0.      , -2.243135,  4.04852 , -1.555395,\n",
       "        -1.555395,  4.04852 ,  0.      ,  0.      ,  0.      ,  0.      ,\n",
       "         0.      ,  0.      ,  0.      ,  0.      ,  0.      ,  0.      ,\n",
       "         0.      ,  0.      ,  0.      ,  0.      ,  0.      ,  0.      ]])"
      ]
     },
     "execution_count": 14,
     "metadata": {},
     "output_type": "execute_result"
    }
   ],
   "source": [
    "deep[0][1][5].toarray()"
   ]
  },
  {
   "cell_type": "code",
   "execution_count": null,
   "metadata": {
    "collapsed": true
   },
   "outputs": [],
   "source": []
  }
 ],
 "metadata": {
  "kernelspec": {
   "display_name": "Python 3",
   "language": "python",
   "name": "python3"
  },
  "language_info": {
   "codemirror_mode": {
    "name": "ipython",
    "version": 3
   },
   "file_extension": ".py",
   "mimetype": "text/x-python",
   "name": "python",
   "nbconvert_exporter": "python",
   "pygments_lexer": "ipython3",
   "version": "3.5.1"
  }
 },
 "nbformat": 4,
 "nbformat_minor": 2
}
