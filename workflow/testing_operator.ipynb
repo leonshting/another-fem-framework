{
 "cells": [
  {
   "cell_type": "code",
   "execution_count": 1,
   "metadata": {
    "collapsed": true,
    "deletable": true,
    "editable": true
   },
   "outputs": [],
   "source": [
    "import sys\n",
    "sys.path.insert(0,'/home/lshtanko/Programming/another-fem-framework/')\n",
    "#sys.path.insert(0,'/Users/marusy/Programming/another-fem-framework/')\n",
    "#sys.path.insert(0,'/Users/leonshting/Programming/Schlumberger/fem-framework/')"
   ]
  },
  {
   "cell_type": "code",
   "execution_count": 2,
   "metadata": {
    "collapsed": false,
    "deletable": true,
    "editable": true
   },
   "outputs": [],
   "source": [
    "from operator_assembler.assembly_interface import AssemblyInterface2D\n",
    "from operator_assembler.n_to_1_ddof_allocator import Nto1Allocator2D\n",
    "from grid.grid_manager import GridManager\n",
    "from grid.allocator_interface import InterfaceDofAllocator2D\n",
    "from grid.grid_domain import GridDomain\n",
    "from operator_assembler.matrix_assembler import MatrixAssembler2D\n",
    "from scipy.ndimage import imread\n",
    "from grid import cell, grid_layer, grid_manager\n",
    "import h5py\n",
    "import numpy as np\n",
    "\n",
    "from interpolant.cell_to_points import *\n",
    "from common import visual\n",
    "from common.tests import *\n",
    "from common.helpers import *\n",
    "from matplotlib import pyplot as plt\n",
    "from scipy.sparse import csr_matrix\n",
    "from scipy.sparse import linalg\n",
    "\n",
    "%matplotlib inline\n",
    "plt.rcParams['figure.figsize'] = 10, 7.5"
   ]
  },
  {
   "cell_type": "code",
   "execution_count": 3,
   "metadata": {
    "collapsed": true,
    "deletable": true,
    "editable": true
   },
   "outputs": [],
   "source": [
    "np.set_printoptions(linewidth=500)"
   ]
  },
  {
   "cell_type": "markdown",
   "metadata": {
    "deletable": true,
    "editable": true
   },
   "source": [
    "#### Bad cell"
   ]
  },
  {
   "cell_type": "code",
   "execution_count": null,
   "metadata": {
    "collapsed": true,
    "deletable": true,
    "editable": true
   },
   "outputs": [],
   "source": [
    "data_start = (16, 20)\n",
    "data_shape = (4, 4)\n",
    "data_end = tuple([i+j for i,j in zip(data_start, data_shape)])\n",
    "\n",
    "h5_data = h5py.File('../../../GM_L3D/600/state/viz_GM_1.h5')['index'][0]\n",
    "data = h5_data[data_start[0]:data_end[0], data_start[1]:data_end[1]]\n",
    "#data = imread('/Users/marusy/Programming/model/bhi2_labelled0000.tif')[data_start[0]:data_end[0], data_start[1]:data_end[1]]\n",
    "\n",
    "grid_domain = GridDomain(integer_size=data_shape, domain_size=(1.,1.))\n",
    "gm = GridManager()\n",
    "ifma = InterfaceDofAllocator2D(grid_manager=gm.fit(data=data))\n",
    "\n",
    "\n",
    "gm.draw_grid()"
   ]
  },
  {
   "cell_type": "code",
   "execution_count": 4,
   "metadata": {
    "collapsed": false,
    "deletable": true,
    "editable": true
   },
   "outputs": [],
   "source": [
    "cell15 = cell.Cell2D(size=(1,1), ll_vertex=(0,8))\n",
    "cell25 = cell.Cell2D(size=(1,1), ll_vertex=(0,9))\n",
    "\n",
    "cell14 = cell.Cell2D(size=(1,1), ll_vertex=(0,6))\n",
    "cell24 = cell.Cell2D(size=(1,1), ll_vertex=(0,7))\n",
    "\n",
    "cell13 = cell.Cell2D(size=(1,1), ll_vertex=(0,4))\n",
    "cell23 = cell.Cell2D(size=(1,1), ll_vertex=(0,5))\n",
    "\n",
    "cell12 = cell.Cell2D(size=(1,1), ll_vertex=(0,2))\n",
    "cell22 = cell.Cell2D(size=(1,1), ll_vertex=(0,3))\n",
    "\n",
    "cell1 = cell.Cell2D(size=(1,1), ll_vertex=(0,0))\n",
    "cell2 = cell.Cell2D(size=(1,1), ll_vertex=(0,1))\n",
    "\n",
    "cell3 = cell.Cell2D(size=(2,2), ll_vertex=(1,0))\n",
    "cell32 = cell.Cell2D(size=(2,2), ll_vertex=(1,2))\n",
    "cell33 = cell.Cell2D(size=(2,2), ll_vertex=(1,4))\n",
    "cell34 = cell.Cell2D(size=(2,2), ll_vertex=(1,6))\n",
    "cell35 = cell.Cell2D(size=(2,2), ll_vertex=(1,8))"
   ]
  },
  {
   "cell_type": "code",
   "execution_count": 5,
   "metadata": {
    "collapsed": true,
    "deletable": true,
    "editable": true
   },
   "outputs": [],
   "source": [
    "layer1 = grid_layer.GridLayer2D([c.ll_vertex for c in [cell1, cell2, cell12, cell22, cell13, cell23, cell14, cell24, cell15, cell25]], layer_number=0, index=[1,1], div_index=[1,1])\n",
    "layer2 = grid_layer.GridLayer2D([c.ll_vertex for c in [cell3, cell32, cell33, cell34, cell35]], layer_number=1, index=[1], div_index=[1])\n",
    "\n",
    "#layer1 = grid_layer.GridLayer2D([c.ll_vertex for c in [cell1, cell2]], layer_number=0, index=[1,1], div_index=[1,1])\n",
    "#layer2 = grid_layer.GridLayer2D([c.ll_vertex for c in [cell3]], layer_number=1, index=[1], div_index=[1])"
   ]
  },
  {
   "cell_type": "code",
   "execution_count": 6,
   "metadata": {
    "collapsed": true,
    "deletable": true,
    "editable": true
   },
   "outputs": [],
   "source": [
    "gm = grid_manager.GridManager(dim=2, method='coarse2to1')\n",
    "gm.grid_layers = [layer1, layer2]\n",
    "ifma = InterfaceDofAllocator2D(grid_manager=gm)"
   ]
  },
  {
   "cell_type": "code",
   "execution_count": 7,
   "metadata": {
    "collapsed": true,
    "deletable": true,
    "editable": true
   },
   "outputs": [],
   "source": [
    "ma = Nto1Allocator2D(grid_interface=ifma)\n",
    "ma._make_ddof_index()"
   ]
  },
  {
   "cell_type": "code",
   "execution_count": null,
   "metadata": {
    "collapsed": false,
    "deletable": true,
    "editable": true
   },
   "outputs": [],
   "source": [
    "#6 cells\n",
    "ma._vertex_ddof_index[((0, 3), (0, 4))] = (ma._vertex_ddof_index[((0, 3), (0, 4))][0], ma._vertex_ddof_index[((0, 0), (0, 0))][1])\n",
    "ma._vertex_ddof_index[((0, 3), (1, 4))] = (ma._vertex_ddof_index[((0, 3), (1, 4))][0], ma._vertex_ddof_index[((0, 0), (1, 0))][1])\n",
    "ma._vertex_ddof_index[((1, 2), (1, 4))] = (ma._vertex_ddof_index[((1, 2), (1, 4))][0], ma._vertex_ddof_index[((1, 0), (1, 0))][1])\n",
    "ma._vertex_ddof_index[((1, 2), (3, 4))] = (ma._vertex_ddof_index[((1, 2), (3, 4))][0], ma._vertex_ddof_index[((1, 0), (3, 0))][1])"
   ]
  },
  {
   "cell_type": "code",
   "execution_count": null,
   "metadata": {
    "collapsed": false,
    "deletable": true,
    "editable": true
   },
   "outputs": [],
   "source": [
    "#3 cells\n",
    "ma._vertex_ddof_index[((0, 1), (0, 2))] = (ma._vertex_ddof_index[((0, 1), (0, 2))][0], ma._vertex_ddof_index[((0, 0), (0, 0))][1])\n",
    "ma._vertex_ddof_index[((0, 1), (1, 2))] = (ma._vertex_ddof_index[((0, 1), (1, 2))][0], ma._vertex_ddof_index[((0, 0), (1, 0))][1])\n",
    "ma._vertex_ddof_index[((1, 0), (1, 2))] = (ma._vertex_ddof_index[((1, 0), (1, 2))][0], ma._vertex_ddof_index[((1, 0), (1, 0))][1])\n",
    "ma._vertex_ddof_index[((1, 0), (3, 2))] = (ma._vertex_ddof_index[((1, 0), (3, 2))][0], ma._vertex_ddof_index[((1, 0), (3, 0))][1])"
   ]
  },
  {
   "cell_type": "code",
   "execution_count": null,
   "metadata": {
    "collapsed": true
   },
   "outputs": [],
   "source": [
    "#6 cells\n",
    "edge_mapping = {((0, 4), (1, 4)): ((0, 0), (1, 0)), ((1, 4), (3, 4)): ((1, 0), (3, 0))}\n",
    "#3cells\n",
    "#edge_mapping = {((0, 2), (1, 2)): ((0, 0), (1, 0)), ((1, 2), (3, 2)): ((1, 0), (3, 0))}\n",
    "for (cell, edge), dd in ma._edge_ddof_index.items():\n",
    "    if edge_mapping.get(edge) is not None:\n",
    "        edge_slave = edge\n",
    "        edge_prim = edge_mapping[edge]\n",
    "        prim_cell = [i for i in list(ma._edge_ddof_index.keys()) if i[1] == edge_prim][0][0]\n",
    "        ma._edge_ddof_index[(cell, edge_slave)] = [(i[0],j[1])\n",
    "            for i,j in\n",
    "            zip(ma._edge_ddof_index[(cell, edge_slave)], ma._edge_ddof_index[(prim_cell, edge_prim)])\n",
    "        ]"
   ]
  },
  {
   "cell_type": "code",
   "execution_count": null,
   "metadata": {
    "collapsed": true
   },
   "outputs": [],
   "source": [
    "#6 cells\n",
    "ma._weak_edge_connections[ ((0, 2),\n",
    "  ((1, 2), (1, 3)))] = {((1, 2), ((1, 2), (1, 4))): [(0, 54),\n",
    "   (1, 74),\n",
    "   (2, 75),\n",
    "   (3, 61)]}\n",
    "\n",
    "ma._weak_edge_connections[((0, 3),\n",
    "  ((1, 3), (1, 4)))] = {((1, 2), ((1, 2), (1, 4))): [(0, 54),\n",
    "   (1, 74),\n",
    "   (2, 75),\n",
    "   (3, 61)]}\n",
    "\n",
    "ma._weak_edge_connections[((1, 2),\n",
    "  ((1, 2), (1, 4)))] = {((0, 2), ((1, 2), (1, 3))): [(12, 19),\n",
    "   (13, 34),\n",
    "   (14, 35),\n",
    "   (15, 31)], ((0, 3), ((1, 3), (1, 4))): [(12, 31),\n",
    "   (13, 46),\n",
    "   (14, 47),\n",
    "   (15, 9)]}"
   ]
  },
  {
   "cell_type": "code",
   "execution_count": null,
   "metadata": {
    "collapsed": false
   },
   "outputs": [],
   "source": [
    "#3cells\n",
    "ma._weak_edge_connections[((0, 0), ((1, 0), (1, 1)))] = {((1, 0), ((1, 0), (1, 2))): [(0, 37),\n",
    "   (1, 38),\n",
    "   (2, 39),\n",
    "   (3, 37)]}\n",
    "ma._weak_edge_connections[((0, 1), ((1, 1), (1, 2)))] = {((1, 0), ((1, 0), (1, 2))): [(0, 37),\n",
    "   (1, 38),\n",
    "   (2, 39),\n",
    "   (3, 37)]}\n",
    "\n",
    "ma._weak_edge_connections[((1, 0),((1, 0), (1, 2)))] = {((0, 0), ((1, 0), (1, 1))): [(12, 9),\n",
    "   (13, 10),\n",
    "   (14, 11),\n",
    "   (15, 3)], ((0, 1), ((1, 1), (1, 2))): [(12, 3),\n",
    "   (13, 22),\n",
    "   (14, 23),\n",
    "   (15, 9)]}"
   ]
  },
  {
   "cell_type": "code",
   "execution_count": 8,
   "metadata": {
    "collapsed": true,
    "deletable": true,
    "editable": true
   },
   "outputs": [],
   "source": [
    "grid_domain = GridDomain(domain_size=(3.,10.), integer_size=(3,10))\n",
    "grid_domain.make_pointwise_index(ma)"
   ]
  },
  {
   "cell_type": "code",
   "execution_count": null,
   "metadata": {
    "collapsed": false
   },
   "outputs": [],
   "source": [
    "grid_domain.pointwise_index"
   ]
  },
  {
   "cell_type": "code",
   "execution_count": 9,
   "metadata": {
    "collapsed": false,
    "deletable": true,
    "editable": true
   },
   "outputs": [],
   "source": [
    "ifma2 = AssemblyInterface2D(allocator=ma)\n",
    "MA = MatrixAssembler2D(assembly_interface=ifma2, grid_domain=grid_domain)"
   ]
  },
  {
   "cell_type": "code",
   "execution_count": 10,
   "metadata": {
    "collapsed": false,
    "deletable": true,
    "editable": true,
    "scrolled": true
   },
   "outputs": [
    {
     "name": "stdout",
     "output_type": "stream",
     "text": [
      "[(0, 4), (1, 42), (2, 43), (3, 44), (4, 45), (5, 40), (6, 0), (7, 50), (8, 51), (9, 52), (10, 53), (11, 36), (12, 1), (13, 54), (14, 55), (15, 56), (16, 57), (17, 37), (18, 2), (19, 58), (20, 59), (21, 60), (22, 61), (23, 38), (24, 3), (25, 62), (26, 63), (27, 64), (28, 65), (29, 39), (30, 5), (31, 46), (32, 47), (33, 48), (34, 49), (35, 41)] [(0, 10), (1, 6), (2, 7), (3, 8), (4, 9), (5, 4), (6, 11), (7, 20), (8, 21), (9, 22), (10, 23), (11, 0), (12, 12), (13, 24), (14, 25), (15, 26), (16, 27), (17, 1), (18, 13), (19, 28), (20, 29), (21, 30), (22, 31), (23, 2), (24, 14), (25, 32), (26, 33), (27, 34), (28, 35), (29, 3), (30, 15), (31, 16), (32, 17), (33, 18), (34, 19), (35, 5)]\n",
      "{0, 1, 2, 3, 4, 6, 7, 8, 9, 10, 11, 12, 13, 14, 20, 21, 22, 23, 24, 25, 26, 27, 28, 29, 30, 31, 32, 33, 34, 35, 36, 37, 38, 39, 40, 42, 43, 44, 45, 50, 51, 52, 53, 54, 55, 56, 57, 58, 59, 60, 61, 62, 63, 64, 65} {306, 307, 308, 309, 311, 312, 313, 314, 315, 316, 317, 318, 319, 320, 326, 327, 328, 329, 330, 331, 332, 333, 334, 335, 336, 337, 338, 339, 340, 341} [[321, 322, 323, 324, 325, 310]] [[15, 16, 17, 18, 19, 5, 46, 47, 48, 49, 41]]\n",
      "\r",
      " 0[(0, 70), (1, 102), (2, 103), (3, 104), (4, 105), (5, 100), (6, 66), (7, 110), (8, 111), (9, 112), (10, 113), (11, 96), (12, 67), (13, 114), (14, 115), (15, 116), (16, 117), (17, 97), (18, 68), (19, 118), (20, 119), (21, 120), (22, 121), (23, 98), (24, 69), (25, 122), (26, 123), (27, 124), (28, 125), (29, 99), (30, 71), (31, 106), (32, 107), (33, 108), (34, 109), (35, 101)] [(0, 40), (1, 72), (2, 73), (3, 74), (4, 75), (5, 70), (6, 36), (7, 80), (8, 81), (9, 82), (10, 83), (11, 66), (12, 37), (13, 84), (14, 85), (15, 86), (16, 87), (17, 67), (18, 38), (19, 88), (20, 89), (21, 90), (22, 91), (23, 68), (24, 39), (25, 92), (26, 93), (27, 94), (28, 95), (29, 69), (30, 41), (31, 76), (32, 77), (33, 78), (34, 79), (35, 71)]\n",
      "{36, 37, 38, 39, 40, 66, 67, 68, 69, 70, 72, 73, 74, 75, 80, 81, 82, 83, 84, 85, 86, 87, 88, 89, 90, 91, 92, 93, 94, 95, 96, 97, 98, 99, 100, 102, 103, 104, 105, 110, 111, 112, 113, 114, 115, 116, 117, 118, 119, 120, 121, 122, 123, 124, 125} {306, 307, 308, 309, 311, 342, 343, 344, 345, 347, 348, 349, 350, 351, 356, 357, 358, 359, 360, 361, 362, 363, 364, 365, 366, 367, 368, 369, 370, 371} [[310, 352, 353, 354, 355, 346]] [[41, 76, 77, 78, 79, 71, 106, 107, 108, 109, 101]]\n",
      "\r",
      " 1[(0, 130), (1, 162), (2, 163), (3, 164), (4, 165), (5, 160), (6, 126), (7, 170), (8, 171), (9, 172), (10, 173), (11, 156), (12, 127), (13, 174), (14, 175), (15, 176), (16, 177), (17, 157), (18, 128), (19, 178), (20, 179), (21, 180), (22, 181), (23, 158), (24, 129), (25, 182), (26, 183), (27, 184), (28, 185), (29, 159), (30, 131), (31, 166), (32, 167), (33, 168), (34, 169), (35, 161)] [(0, 100), (1, 132), (2, 133), (3, 134), (4, 135), (5, 130), (6, 96), (7, 140), (8, 141), (9, 142), (10, 143), (11, 126), (12, 97), (13, 144), (14, 145), (15, 146), (16, 147), (17, 127), (18, 98), (19, 148), (20, 149), (21, 150), (22, 151), (23, 128), (24, 99), (25, 152), (26, 153), (27, 154), (28, 155), (29, 129), (30, 101), (31, 136), (32, 137), (33, 138), (34, 139), (35, 131)]\n",
      "{96, 97, 98, 99, 100, 126, 127, 128, 129, 130, 132, 133, 134, 135, 140, 141, 142, 143, 144, 145, 146, 147, 148, 149, 150, 151, 152, 153, 154, 155, 156, 157, 158, 159, 160, 162, 163, 164, 165, 170, 171, 172, 173, 174, 175, 176, 177, 178, 179, 180, 181, 182, 183, 184, 185} {386, 387, 388, 389, 390, 391, 392, 393, 394, 395, 396, 397, 398, 399, 400, 401, 342, 343, 344, 345, 347, 372, 373, 374, 375, 377, 378, 379, 380, 381} [[346, 382, 383, 384, 385, 376]] [[101, 136, 137, 138, 139, 131, 166, 167, 168, 169, 161]]\n",
      "\r",
      " 2[(0, 160), (1, 192), (2, 193), (3, 194), (4, 195), (5, 190), (6, 156), (7, 200), (8, 201), (9, 202), (10, 203), (11, 186), (12, 157), (13, 204), (14, 205), (15, 206), (16, 207), (17, 187), (18, 158), (19, 208), (20, 209), (21, 210), (22, 211), (23, 188), (24, 159), (25, 212), (26, 213), (27, 214), (28, 215), (29, 189), (30, 161), (31, 196), (32, 197), (33, 198), (34, 199), (35, 191)] [(0, 190), (1, 222), (2, 223), (3, 224), (4, 225), (5, 220), (6, 186), (7, 230), (8, 231), (9, 232), (10, 233), (11, 216), (12, 187), (13, 234), (14, 235), (15, 236), (16, 237), (17, 217), (18, 188), (19, 238), (20, 239), (21, 240), (22, 241), (23, 218), (24, 189), (25, 242), (26, 243), (27, 244), (28, 245), (29, 219), (30, 191), (31, 226), (32, 227), (33, 228), (34, 229), (35, 221)]\n",
      "{156, 157, 158, 159, 160, 186, 187, 188, 189, 190, 192, 193, 194, 195, 200, 201, 202, 203, 204, 205, 206, 207, 208, 209, 210, 211, 212, 213, 214, 215, 216, 217, 218, 219, 220, 222, 223, 224, 225, 230, 231, 232, 233, 234, 235, 236, 237, 238, 239, 240, 241, 242, 243, 244, 245} {402, 403, 404, 405, 407, 408, 409, 410, 411, 416, 417, 418, 419, 420, 421, 422, 423, 424, 425, 426, 427, 428, 429, 430, 431, 372, 373, 374, 375, 377} [[376, 412, 413, 414, 415, 406]] [[161, 196, 197, 198, 199, 191, 226, 227, 228, 229, 221]]\n",
      "\r",
      " 3[(0, 250), (1, 276), (2, 277), (3, 278), (4, 279), (5, 280), (6, 246), (7, 290), (8, 291), (9, 292), (10, 293), (11, 281), (12, 247), (13, 294), (14, 295), (15, 296), (16, 297), (17, 282), (18, 248), (19, 298), (20, 299), (21, 300), (22, 301), (23, 283), (24, 249), (25, 302), (26, 303), (27, 304), (28, 305), (29, 284), (30, 251), (31, 286), (32, 287), (33, 288), (34, 289), (35, 285)] [(0, 220), (1, 252), (2, 253), (3, 254), (4, 255), (5, 250), (6, 216), (7, 260), (8, 261), (9, 262), (10, 263), (11, 246), (12, 217), (13, 264), (14, 265), (15, 266), (16, 267), (17, 247), (18, 218), (19, 268), (20, 269), (21, 270), (22, 271), (23, 248), (24, 219), (25, 272), (26, 273), (27, 274), (28, 275), (29, 249), (30, 221), (31, 256), (32, 257), (33, 258), (34, 259), (35, 251)]\n",
      "{260, 261, 262, 263, 264, 265, 266, 267, 268, 269, 270, 271, 272, 273, 274, 275, 276, 277, 278, 279, 280, 281, 282, 283, 284, 290, 291, 292, 293, 294, 295, 296, 297, 298, 299, 300, 301, 302, 303, 304, 305, 216, 217, 218, 219, 220, 246, 247, 248, 249, 250, 252, 253, 254, 255} {402, 403, 404, 405, 407, 432, 433, 434, 435, 437, 438, 439, 440, 441, 446, 447, 448, 449, 450, 451, 452, 453, 454, 455, 456, 457, 458, 459, 460, 461} [[406, 442, 443, 444, 445, 436]] [[221, 256, 257, 258, 259, 251, 286, 287, 288, 289, 285]]\n",
      "\r",
      " 4\r",
      " 5\r",
      " 6\r",
      " 7\r",
      " 8\r",
      " 9\r",
      " 10\r",
      " 11\r",
      " 12\r",
      " 13\r",
      " 14"
     ]
    }
   ],
   "source": [
    "deep = MA.assemble()"
   ]
  },
  {
   "cell_type": "code",
   "execution_count": null,
   "metadata": {
    "collapsed": false,
    "deletable": true,
    "editable": true
   },
   "outputs": [],
   "source": [
    "sine_test = grid_domain.vectorize_function(lambda x,y: np.sin(x+y))\n",
    "product = grid_domain.devectorize_vector(MA.assembled * sine_test)\n",
    "init = grid_domain.devectorize_function(lambda x,y: np.sin(x+y))\n",
    "\n",
    "visual.plot_surface_unstructured_w_dict(\n",
    "    point_val_dict=grid_domain.devectorize_vector(MA.assembled * sine_test),\n",
    "    plot_domain_shape=grid_domain.domain_size,\n",
    "    int_domain_shape=grid_domain.integer_size\n",
    ")\n",
    "\n",
    "visual.plot_surface_unstructured_w_dict(\n",
    "    point_val_dict=grid_domain.devectorize_function(lambda x,y: np.sin(x+y)),\n",
    "    plot_domain_shape=grid_domain.domain_size,\n",
    "    int_domain_shape=grid_domain.integer_size\n",
    ")"
   ]
  },
  {
   "cell_type": "code",
   "execution_count": 11,
   "metadata": {
    "collapsed": true,
    "deletable": true,
    "editable": true
   },
   "outputs": [],
   "source": [
    "def partial_diff_test3(pointnum, point, matrix, pointdict, mass_matrix=None,\n",
    "                      multiple_dofs_on_point=True, scale_factor=1):\n",
    "    x_der = 0\n",
    "    xx_der = 0\n",
    "    yy_der = 0\n",
    "    y_der = 0\n",
    "    xy_der = 0\n",
    "\n",
    "    if not multiple_dofs_on_point:\n",
    "        for k, v in pointdict.items():\n",
    "            dx = point[0] - k[0]\n",
    "            dy = point[1] - k[1]\n",
    "\n",
    "            x_der += dx * matrix[pointnum, v]\n",
    "            xx_der += matrix[pointnum, v] * dx ** 2 / 2\n",
    "            y_der += dy * matrix[pointnum, v]\n",
    "            yy_der += dy ** 2 / 2 * matrix[pointnum, v]\n",
    "            xy_der += dx * dy * matrix[pointnum, v]\n",
    "    else:\n",
    "        for k, vs in pointdict.items():\n",
    "            for v in vs:\n",
    "                dx = point[0] - k[0]\n",
    "                dy = point[1] - k[1]\n",
    "\n",
    "                x_der += dx * matrix[pointnum, v]\n",
    "                xx_der += matrix[pointnum, v] * dx ** 2 / 2\n",
    "                y_der += dy * matrix[pointnum, v]\n",
    "                yy_der += dy ** 2 / 2 * matrix[pointnum, v]\n",
    "                xy_der += dx * dy * matrix[pointnum, v]\n",
    "\n",
    "    if mass_matrix is not None:\n",
    "        print('Mass coef: {}'.format(mass_matrix[pointnum].sum()))\n",
    "\n",
    "    print('X derivative: {}'.format(x_der * scale_factor))\n",
    "    print('Y derivative: {}'.format(y_der * scale_factor))\n",
    "    print('XX derivative: {}'.format(xx_der * scale_factor))\n",
    "    print('YY derivative: {}'.format(yy_der * scale_factor))\n",
    "    print('XY_derivative: {}'.format(xy_der * scale_factor), end='\\n\\n')"
   ]
  },
  {
   "cell_type": "code",
   "execution_count": 12,
   "metadata": {
    "collapsed": true,
    "deletable": true,
    "editable": true
   },
   "outputs": [],
   "source": [
    "def partial_diff_test2(pointnum, point, matrix, pointdict, mass_matrix=None,\n",
    "                      multiple_dofs_on_point=True):\n",
    "    x_der = 0\n",
    "    xx_der = 0\n",
    "    yy_der = 0\n",
    "    y_der = 0\n",
    "    xy_der = 0\n",
    "\n",
    "    if not multiple_dofs_on_point:\n",
    "        for k, v in pointdict.items():\n",
    "            dx = point[0] - k[0]\n",
    "            dy = point[1] - k[1]\n",
    "\n",
    "            x_der += dx * matrix[pointnum, v]\n",
    "            xx_der += matrix[pointnum, v] * dx ** 2 / 2\n",
    "            y_der += dy * matrix[pointnum, v]\n",
    "            yy_der += dy ** 2 / 2 * matrix[pointnum, v]\n",
    "            xy_der += dx * dy * matrix[pointnum, v]\n",
    "    else:\n",
    "        for k, vs in pointdict.items():\n",
    "            for v in vs:\n",
    "                dx = point[0] - k[0]\n",
    "                dy = point[1] - k[1]\n",
    "\n",
    "                x_der += dx * matrix[pointnum, v]\n",
    "                xx_der += matrix[pointnum, v] * dx ** 2 / 2\n",
    "                y_der += dy * matrix[pointnum, v]\n",
    "                yy_der += dy ** 2 / 2 * matrix[pointnum, v]\n",
    "                xy_der += dx * dy * matrix[pointnum, v]\n",
    "\n",
    "    if mass_matrix is not None:\n",
    "        print('Mass coef: {}'.format(mass_matrix[pointnum].sum()))\n",
    "\n",
    "    print('X derivative: {}'.format(x_der))\n",
    "    print('Y derivative: {}'.format(y_der))\n",
    "    print('XX derivative: {}'.format(xx_der))\n",
    "    print('YY derivative: {}'.format(yy_der))\n",
    "    print('XY_derivative: {}'.format(xy_der), end='\\n\\n')\n",
    "    return (xx_der + yy_der)/2"
   ]
  },
  {
   "cell_type": "code",
   "execution_count": null,
   "metadata": {
    "collapsed": false,
    "deletable": true,
    "editable": true
   },
   "outputs": [],
   "source": [
    "mm = np.zeros(MA.half_glob.shape[0])\n",
    "for i in grid_domain.normal_index.keys():\n",
    "    print(i, end=' ')\n",
    "    mm[i] = partial_diff_test2(matrix=MA.half_glob, point=grid_domain.normal_index[i], pointnum=i, pointdict=grid_domain.pointwise_index)"
   ]
  },
  {
   "cell_type": "code",
   "execution_count": null,
   "metadata": {
    "collapsed": true,
    "deletable": true,
    "editable": true
   },
   "outputs": [],
   "source": [
    "MM = csr_matrix(np.diag(-1/mm))"
   ]
  },
  {
   "cell_type": "code",
   "execution_count": null,
   "metadata": {
    "collapsed": false,
    "deletable": true,
    "editable": true,
    "scrolled": true
   },
   "outputs": [],
   "source": [
    "for i in sorted([142, 158, 159, 154, 19, 34, 35, 31, 46, 47, 43]):\n",
    "    print(i, end=' ')\n",
    "    partial_diff_test(matrix=MA.half_glob, point=grid_domain.normal_index[i], pointnum=i, pointdict=grid_domain.pointwise_index)"
   ]
  },
  {
   "cell_type": "code",
   "execution_count": null,
   "metadata": {
    "collapsed": false,
    "deletable": true,
    "editable": true
   },
   "outputs": [],
   "source": [
    "2 * (0.007416255387549075 - 0.023370207540036145 + 0.0892035115259431)"
   ]
  },
  {
   "cell_type": "code",
   "execution_count": 23,
   "metadata": {
    "collapsed": false,
    "deletable": true,
    "editable": true,
    "scrolled": false
   },
   "outputs": [
    {
     "name": "stdout",
     "output_type": "stream",
     "text": [
      "310 X derivative: 0.00833302801058048\n",
      "Y derivative: 1.939362147940258e-07\n",
      "XX derivative: -0.0005555509630025775\n",
      "YY derivative: -0.0005568500612148363\n",
      "XY_derivative: -3.568870349245592e-12\n",
      "\n",
      "352 X derivative: -0.012976497701529352\n",
      "Y derivative: 7.082307442331271e-07\n",
      "XX derivative: 0.0008650178030095891\n",
      "YY derivative: 0.0008643426763478364\n",
      "XY_derivative: 5.2445245865646075e-12\n",
      "\n",
      "353 X derivative: 0.04214320801563697\n",
      "Y derivative: 1.256658749090653e-06\n",
      "XX derivative: -0.0028096186444540212\n",
      "YY derivative: -0.0028101692084408513\n",
      "XY_derivative: 2.526622442273526e-11\n",
      "\n",
      "354 X derivative: 0.04214343209913484\n",
      "Y derivative: -1.4443588412515666e-06\n",
      "XX derivative: -0.0028096758350916228\n",
      "YY derivative: -0.0028097017535536417\n",
      "XY_derivative: -5.654009277508047e-12\n",
      "\n",
      "355 X derivative: -0.012976096650456069\n",
      "Y derivative: -6.865353746795471e-07\n",
      "XX derivative: 0.0008651101561976906\n",
      "YY derivative: 0.0008644576953951478\n",
      "XY_derivative: -2.461022234928993e-13\n",
      "\n",
      "346 X derivative: 0.008333028010580482\n",
      "Y derivative: 1.9393621484051797e-07\n",
      "XX derivative: -0.0005555509630025775\n",
      "YY derivative: -0.000556850061214869\n",
      "XY_derivative: -3.5688703492455916e-12\n",
      "\n"
     ]
    }
   ],
   "source": [
    "for num,i in enumerate([310, 352, 353, 354, 355, 346]):\n",
    "    print(i, end=' ')\n",
    "    partial_diff_test3(matrix=MA.half_glob,\n",
    "                       point=grid_domain.normal_index[i],\n",
    "                       pointnum=i,\n",
    "                       pointdict=grid_domain.pointwise_index,\n",
    "                       scale_factor=1/w_ld[num] * MA.I_s2b[5][num]*w_rd[5]\n",
    "                       #scale_factor=1\n",
    ")"
   ]
  },
  {
   "cell_type": "code",
   "execution_count": 22,
   "metadata": {
    "collapsed": false
   },
   "outputs": [
    {
     "name": "stdout",
     "output_type": "stream",
     "text": [
      "131 X derivative: -0.03333420639203072\n",
      "Y derivative: 3.440175782867053e-07\n",
      "XX derivative: -0.0011110552091573556\n",
      "YY derivative: -0.0011101928953796485\n",
      "XY_derivative: -1.3645056015260279e-11\n",
      "\n"
     ]
    }
   ],
   "source": [
    "for num,i in enumerate([131]):\n",
    "    print(i, end=' ')\n",
    "    partial_diff_test3(matrix=MA.half_glob,\n",
    "                       point=grid_domain.normal_index[i],\n",
    "                       pointnum=i,\n",
    "                       pointdict=grid_domain.pointwise_index,\n",
    "                       scale_factor=1/2\n",
    ")"
   ]
  },
  {
   "cell_type": "code",
   "execution_count": null,
   "metadata": {
    "collapsed": false
   },
   "outputs": [],
   "source": [
    "MA.I_s2b"
   ]
  },
  {
   "cell_type": "code",
   "execution_count": null,
   "metadata": {
    "collapsed": false,
    "deletable": true,
    "editable": true
   },
   "outputs": [],
   "source": [
    "for num,i in enumerate([142, 158, 159, 154]):\n",
    "    print(i, end=' ')\n",
    "    partial_diff_test3(matrix=MM*MA.half_glob,\n",
    "                       point=grid_domain.normal_index[i],\n",
    "                       pointnum=i,\n",
    "                       pointdict=grid_domain.pointwise_index,\n",
    "                       scale_factor=1/w_ld[num] * MA.I_b2s.T[3][num] * w_rd[3]\n",
    ")"
   ]
  },
  {
   "cell_type": "code",
   "execution_count": null,
   "metadata": {
    "collapsed": false
   },
   "outputs": [],
   "source": [
    "w_ld"
   ]
  },
  {
   "cell_type": "code",
   "execution_count": 15,
   "metadata": {
    "collapsed": false,
    "deletable": true,
    "editable": true
   },
   "outputs": [
    {
     "name": "stdout",
     "output_type": "stream",
     "text": [
      "101 X derivative: -2.094349708809651e-06\n",
      "Y derivative: 1.1197951683212645e-06\n",
      "XX derivative: -0.0033332590611676555\n",
      "YY derivative: 0.00882773239035427\n",
      "XY_derivative: -4.957917565874049e-07\n",
      "\n",
      "136 X derivative: -1.3159327772577743e-06\n",
      "Y derivative: 0.047632575491180815\n",
      "XX derivative: -0.009462264974047799\n",
      "YY derivative: -0.017970763633895003\n",
      "XY_derivative: -1.4463834451833193e-06\n",
      "\n",
      "137 X derivative: 2.2981040737526243e-06\n",
      "Y derivative: -0.0426781678950671\n",
      "XX derivative: -0.013870246461415608\n",
      "YY derivative: -0.007252780659856188\n",
      "XY_derivative: 2.5436727417759483e-06\n",
      "\n",
      "138 X derivative: -4.428063639849364e-07\n",
      "Y derivative: 0.029948731836517244\n",
      "XX derivative: -0.01387178252317869\n",
      "YY derivative: -0.032299520383136486\n",
      "XY_derivative: -1.9422177495356362e-06\n",
      "\n",
      "139 X derivative: 1.8578000718767708e-07\n",
      "Y derivative: -0.02188738784080675\n",
      "XX derivative: -0.009461649473615667\n",
      "YY derivative: 0.0026976714136758033\n",
      "XY_derivative: 9.069946252102177e-07\n",
      "\n",
      "131 X derivative: 5.846445268165002e-07\n",
      "Y derivative: 3.579780216029642e-07\n",
      "XX derivative: -0.003333497562318635\n",
      "YY derivative: 0.0008338568062108743\n",
      "XY_derivative: -1.6983866323925611e-07\n",
      "\n",
      "166 X derivative: -3.0237352082822765e-06\n",
      "Y derivative: 0.02188690810108369\n",
      "XX derivative: -0.00946282403266524\n",
      "YY derivative: 0.002697389078099936\n",
      "XY_derivative: -1.8982478786335952e-06\n",
      "\n",
      "167 X derivative: 2.3549139570918504e-06\n",
      "Y derivative: -0.02994954957017312\n",
      "XX derivative: -0.013871346927325376\n",
      "YY derivative: -0.03229678811741177\n",
      "XY_derivative: 3.44426170484813e-06\n",
      "\n",
      "168 X derivative: -2.6832623998804305e-06\n",
      "Y derivative: 0.04267696760056725\n",
      "XX derivative: -0.013871933164862923\n",
      "YY derivative: -0.0072545381341884594\n",
      "XY_derivative: -3.082077594810523e-06\n",
      "\n",
      "169 X derivative: -9.781352703796447e-07\n",
      "Y derivative: -0.04763155617868771\n",
      "XX derivative: -0.009461444097565051\n",
      "YY derivative: -0.01797016165560929\n",
      "XY_derivative: 2.1395834251335772e-06\n",
      "\n",
      "161 X derivative: -2.0943497087960034e-06\n",
      "Y derivative: 1.1197951682723195e-06\n",
      "XX derivative: -0.0033332590611676602\n",
      "YY derivative: 0.008827732390354212\n",
      "XY_derivative: -4.957917565766301e-07\n",
      "\n"
     ]
    }
   ],
   "source": [
    "for num,i in enumerate([101, 136, 137, 138, 139, 131, 166, 167, 168, 169, 161]):\n",
    "    print(i, end=' ')\n",
    "    partial_diff_test3(matrix=MA.assembled,\n",
    "                       point=grid_domain.normal_index[i],\n",
    "                       pointnum=i,\n",
    "                       pointdict=grid_domain.pointwise_index,\n",
    "                       #scale_factor=1/w_ld[num] * MA.I_s2b[5][num]/2\n",
    "                       \n",
    "                       #scale_factor=1\n",
    "    )\n",
    "    #print('norma_val: ', 1/w_ld[num] * MA.I_s2b[5][num]/2)"
   ]
  },
  {
   "cell_type": "code",
   "execution_count": null,
   "metadata": {
    "collapsed": false
   },
   "outputs": [],
   "source": [
    "MA.I_b2s.T[3]"
   ]
  },
  {
   "cell_type": "code",
   "execution_count": null,
   "metadata": {
    "collapsed": false
   },
   "outputs": [],
   "source": [
    "w_ld"
   ]
  },
  {
   "cell_type": "code",
   "execution_count": null,
   "metadata": {
    "collapsed": false,
    "deletable": true,
    "editable": true
   },
   "outputs": [],
   "source": [
    "print(deep[0][1].T[5].nonzero())\n",
    "deep[0][1].T[5].toarray().flatten().take(deep[0][1].T[5].nonzero()[1])[1:]"
   ]
  },
  {
   "cell_type": "code",
   "execution_count": null,
   "metadata": {
    "collapsed": false,
    "deletable": true,
    "editable": true
   },
   "outputs": [],
   "source": [
    "print(deep[0][1][5].nonzero())\n",
    "deep[0][1][5].toarray().flatten().take(deep[0][1][5].nonzero()[1])"
   ]
  },
  {
   "cell_type": "code",
   "execution_count": null,
   "metadata": {
    "collapsed": false,
    "deletable": true,
    "editable": true
   },
   "outputs": [],
   "source": [
    "MA.I_s2b[5]"
   ]
  },
  {
   "cell_type": "code",
   "execution_count": null,
   "metadata": {
    "collapsed": false,
    "deletable": true,
    "editable": true
   },
   "outputs": [],
   "source": [
    "np.dot(np.dot(w_r, MA.I_s2b), np.linalg.inv(w_l))"
   ]
  },
  {
   "cell_type": "code",
   "execution_count": null,
   "metadata": {
    "collapsed": false,
    "deletable": true,
    "editable": true
   },
   "outputs": [],
   "source": [
    "MA.I_b2s.T"
   ]
  },
  {
   "cell_type": "code",
   "execution_count": 16,
   "metadata": {
    "collapsed": true,
    "deletable": true,
    "editable": true
   },
   "outputs": [],
   "source": [
    "c2p = Cell2PointsConverter(orders=[[5],[5,5]])"
   ]
  },
  {
   "cell_type": "code",
   "execution_count": 17,
   "metadata": {
    "collapsed": false,
    "deletable": true,
    "editable": true
   },
   "outputs": [
    {
     "ename": "NameError",
     "evalue": "name 'w_rd' is not defined",
     "output_type": "error",
     "traceback": [
      "\u001b[0;31m---------------------------------------------------------------------------\u001b[0m",
      "\u001b[0;31mNameError\u001b[0m                                 Traceback (most recent call last)",
      "\u001b[0;32m<ipython-input-17-6a0caa5f9c2a>\u001b[0m in \u001b[0;36m<module>\u001b[0;34m()\u001b[0m\n\u001b[0;32m----> 1\u001b[0;31m \u001b[0mw_rd\u001b[0m\u001b[0;34m\u001b[0m\u001b[0m\n\u001b[0m",
      "\u001b[0;31mNameError\u001b[0m: name 'w_rd' is not defined"
     ]
    }
   ],
   "source": [
    "w_rd"
   ]
  },
  {
   "cell_type": "code",
   "execution_count": 18,
   "metadata": {
    "collapsed": true,
    "deletable": true,
    "editable": true
   },
   "outputs": [],
   "source": [
    "w_ld, w_rd = c2p.get_weights()"
   ]
  },
  {
   "cell_type": "code",
   "execution_count": 19,
   "metadata": {
    "collapsed": false,
    "deletable": true,
    "editable": true
   },
   "outputs": [],
   "source": [
    "w_l, w_r = c2p.get_diag_weights()"
   ]
  },
  {
   "cell_type": "code",
   "execution_count": null,
   "metadata": {
    "collapsed": false,
    "deletable": true,
    "editable": true
   },
   "outputs": [],
   "source": [
    "grid_domain.normal_index[82]"
   ]
  },
  {
   "cell_type": "code",
   "execution_count": null,
   "metadata": {
    "collapsed": false,
    "deletable": true,
    "editable": true
   },
   "outputs": [],
   "source": [
    "for i in [81, 82, 83, 84, 85, 70]:\n",
    "    print(i, end=' ')\n",
    "    partial_diff_test(matrix=MA.assembled, point=grid_domain.normal_index[i], pointnum=i, pointdict=grid_domain.pointwise_index)"
   ]
  },
  {
   "cell_type": "code",
   "execution_count": null,
   "metadata": {
    "collapsed": false,
    "deletable": true,
    "editable": true
   },
   "outputs": [],
   "source": [
    "0.07337582303605292/ -0.018924022932711504"
   ]
  },
  {
   "cell_type": "code",
   "execution_count": null,
   "metadata": {
    "collapsed": true,
    "deletable": true,
    "editable": true
   },
   "outputs": [],
   "source": [
    "f = h5py.File('../datasources/1_10_globatto_matrices.h5')"
   ]
  },
  {
   "cell_type": "code",
   "execution_count": null,
   "metadata": {
    "collapsed": false,
    "deletable": true,
    "editable": true
   },
   "outputs": [],
   "source": [
    "sc = f['mass_matrices/base_M_order_5'][()]"
   ]
  },
  {
   "cell_type": "code",
   "execution_count": null,
   "metadata": {
    "collapsed": false,
    "deletable": true,
    "editable": true
   },
   "outputs": [],
   "source": [
    "mm_new = np.diag(sc.sum(axis=1))"
   ]
  },
  {
   "cell_type": "code",
   "execution_count": null,
   "metadata": {
    "collapsed": false,
    "deletable": true,
    "editable": true
   },
   "outputs": [],
   "source": [
    "mm_new"
   ]
  },
  {
   "cell_type": "code",
   "execution_count": null,
   "metadata": {
    "collapsed": false,
    "deletable": true,
    "editable": true
   },
   "outputs": [],
   "source": [
    "init_op = MA.half_glob * linalg.inv(deep[0][1])"
   ]
  },
  {
   "cell_type": "code",
   "execution_count": null,
   "metadata": {
    "collapsed": false,
    "deletable": true,
    "editable": true
   },
   "outputs": [],
   "source": [
    "init_op"
   ]
  },
  {
   "cell_type": "code",
   "execution_count": null,
   "metadata": {
    "collapsed": false,
    "deletable": true,
    "editable": true
   },
   "outputs": [],
   "source": [
    "MA.I_s2b[5]"
   ]
  },
  {
   "cell_type": "code",
   "execution_count": null,
   "metadata": {
    "collapsed": true,
    "deletable": true,
    "editable": true
   },
   "outputs": [],
   "source": []
  }
 ],
 "metadata": {
  "kernelspec": {
   "display_name": "Python 3",
   "language": "python",
   "name": "python3"
  },
  "language_info": {
   "codemirror_mode": {
    "name": "ipython",
    "version": 3
   },
   "file_extension": ".py",
   "mimetype": "text/x-python",
   "name": "python",
   "nbconvert_exporter": "python",
   "pygments_lexer": "ipython3",
   "version": "3.5.1"
  }
 },
 "nbformat": 4,
 "nbformat_minor": 2
}
