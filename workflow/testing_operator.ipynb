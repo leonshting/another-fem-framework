{
 "cells": [
  {
   "cell_type": "code",
   "execution_count": 1,
   "metadata": {
    "collapsed": true
   },
   "outputs": [],
   "source": [
    "import sys\n",
    "#sys.path.insert(0,'/home/lshtanko/Programming/another-fem-framework/')\n",
    "#sys.path.insert(0,'/Users/marusy/Programming/another-fem-framework/')\n",
    "sys.path.insert(0,'/Users/leonshting/Programming/Schlumberger/fem-framework/')"
   ]
  },
  {
   "cell_type": "code",
   "execution_count": 2,
   "metadata": {},
   "outputs": [],
   "source": [
    "#import h5py\n",
    "\n",
    "from operator_assembler.assembly_interface import AssemblyInterface2D\n",
    "from operator_assembler.n_to_1_ddof_allocator import Nto1Allocator2D\n",
    "from grid.grid_manager import GridManager\n",
    "from grid.allocator_interface import InterfaceDofAllocator2D\n",
    "from grid.grid_domain import GridDomain\n",
    "from operator_assembler.matrix_assembler import MatrixAssembler2D\n",
    "from scipy.ndimage import imread\n",
    "from grid import cell, grid_layer, grid_manager\n",
    "import h5py\n",
    "import numpy as np\n",
    "\n",
    "from common import visual\n",
    "from common.tests import *\n",
    "from common.helpers import *\n",
    "from matplotlib import pyplot as plt\n",
    "from scipy.sparse import csr_matrix\n",
    "from scipy.sparse import linalg\n",
    "\n",
    "%matplotlib inline"
   ]
  },
  {
   "cell_type": "markdown",
   "metadata": {},
   "source": [
    "#### Bad cell"
   ]
  },
  {
   "cell_type": "code",
   "execution_count": null,
   "metadata": {
    "collapsed": true
   },
   "outputs": [],
   "source": [
    "data_start = (16, 20)\n",
    "data_shape = (4, 4)\n",
    "data_end = tuple([i+j for i,j in zip(data_start, data_shape)])\n",
    "\n",
    "h5_data = h5py.File('../../../GM_L3D/600/state/viz_GM_1.h5')['index'][0]\n",
    "data = h5_data[data_start[0]:data_end[0], data_start[1]:data_end[1]]\n",
    "#data = imread('/Users/marusy/Programming/model/bhi2_labelled0000.tif')[data_start[0]:data_end[0], data_start[1]:data_end[1]]\n",
    "\n",
    "grid_domain = GridDomain(integer_size=data_shape, domain_size=(1.,1.))\n",
    "gm = GridManager()\n",
    "ifma = InterfaceDofAllocator2D(grid_manager=gm.fit(data=data))\n",
    "\n",
    "gm.draw_grid()"
   ]
  },
  {
   "cell_type": "code",
   "execution_count": 3,
   "metadata": {
    "collapsed": true
   },
   "outputs": [],
   "source": [
    "cell1 = cell.Cell2D(size=(1,1), ll_vertex=(0,0))\n",
    "cell2 = cell.Cell2D(size=(1,1), ll_vertex=(0,1))\n",
    "\n",
    "cell3 = cell.Cell2D(size=(2,2), ll_vertex=(1,0))"
   ]
  },
  {
   "cell_type": "code",
   "execution_count": 4,
   "metadata": {
    "collapsed": true
   },
   "outputs": [],
   "source": [
    "layer1 = grid_layer.GridLayer2D([c.ll_vertex for c in [cell1, cell2]], layer_number=0, index=[1,1], div_index=[1,1])\n",
    "layer2 = grid_layer.GridLayer2D([c.ll_vertex for c in [cell3]], layer_number=1, index=[1], div_index=[1])"
   ]
  },
  {
   "cell_type": "code",
   "execution_count": 5,
   "metadata": {
    "collapsed": true
   },
   "outputs": [],
   "source": [
    "gm = grid_manager.GridManager(dim=2, method='coarse2to1')\n",
    "gm.grid_layers = [layer1, layer2]\n",
    "ifma = InterfaceDofAllocator2D(grid_manager=gm)"
   ]
  },
  {
   "cell_type": "code",
   "execution_count": 6,
   "metadata": {
    "collapsed": true
   },
   "outputs": [],
   "source": [
    "ma = Nto1Allocator2D(grid_interface=ifma)\n",
    "ma._make_ddof_index()\n",
    "grid_domain = GridDomain(domain_size=(3.,2.), integer_size=(3,2))\n",
    "grid_domain.make_pointwise_index(ma)"
   ]
  },
  {
   "cell_type": "code",
   "execution_count": 7,
   "metadata": {},
   "outputs": [
    {
     "name": "stdout",
     "output_type": "stream",
     "text": [
      "[(0, 4), (1, 3), (2, 1), (3, 5), (4, 8), (5, 0), (6, 6), (7, 7), (8, 2)] [(0, 1), (1, 9), (2, 10), (3, 0), (4, 14), (5, 11), (6, 2), (7, 13), (8, 12)]\n",
      "[(0, 4), (1, 3), (2, 1), (3, 5), (4, 8), (5, 0), (6, 6), (7, 7), (8, 2)] [(0, 1), (1, 9), (2, 10), (3, 0), (4, 14), (5, 11), (6, 2), (7, 13), (8, 12)]\n",
      "{0, 1, 3, 4, 5, 8, 9, 10, 11, 14} {15, 17, 18, 19, 20, 23} [[21, 22, 16]] [[6, 7, 2, 13, 12]]\n",
      "\r",
      " 0\r",
      " 1\r",
      " 2"
     ]
    }
   ],
   "source": [
    "ifma2 = AssemblyInterface2D(allocator=ma)\n",
    "MA = MatrixAssembler2D(assembly_interface=ifma2, grid_domain=grid_domain)\n",
    "deep = MA.assemble()"
   ]
  },
  {
   "cell_type": "code",
   "execution_count": null,
   "metadata": {},
   "outputs": [],
   "source": [
    "sine_test = grid_domain.vectorize_function(lambda x,y: np.sin(x+y))\n",
    "product = grid_domain.devectorize_vector(MA.assembled * sine_test)\n",
    "init = grid_domain.devectorize_function(lambda x,y: np.sin(x+y))\n",
    "\n",
    "visual.plot_surface_unstructured_w_dict(\n",
    "    point_val_dict=grid_domain.devectorize_vector(MA.assembled * sine_test),\n",
    "    plot_domain_shape=grid_domain.domain_size,\n",
    "    int_domain_shape=grid_domain.integer_size\n",
    ")\n",
    "\n",
    "visual.plot_surface_unstructured_w_dict(\n",
    "    point_val_dict=grid_domain.devectorize_function(lambda x,y: np.sin(x+y)),\n",
    "    plot_domain_shape=grid_domain.domain_size,\n",
    "    int_domain_shape=grid_domain.integer_size\n",
    ")"
   ]
  },
  {
   "cell_type": "code",
   "execution_count": 9,
   "metadata": {},
   "outputs": [
    {
     "name": "stdout",
     "output_type": "stream",
     "text": [
      "4 X derivative: 0.16666666655555584\n",
      "Y derivative: 0.16127566994444165\n",
      "XX derivative: -0.02777777772222334\n",
      "YY derivative: -0.02718845836110879\n",
      "XY_derivative: 0.005390996722222451\n",
      "\n",
      "3 X derivative: 0.6666666672222228\n",
      "Y derivative: 0.006032346388885499\n",
      "XX derivative: -0.11111111138888706\n",
      "YY derivative: -0.10458619618055655\n",
      "XY_derivative: -0.006032346388888608\n",
      "\n",
      "1 X derivative: 0.3333333329999999\n",
      "Y derivative: 3.0531133177191805e-15\n",
      "XX derivative: -0.05555555538888876\n",
      "YY derivative: -0.06503437688888365\n",
      "XY_derivative: 4.163336342344337e-17\n",
      "\n",
      "5 X derivative: 2.7777777300563855e-10\n",
      "Y derivative: 0.6672685811111143\n",
      "XX derivative: -0.11111111118055361\n",
      "YY derivative: -0.1087683224444422\n",
      "XY_derivative: -0.00030095722222231447\n",
      "\n",
      "8 X derivative: -8.888928759720471e-10\n",
      "Y derivative: 0.015076902222212168\n",
      "XX derivative: -0.4444444442222254\n",
      "YY derivative: -0.4596157668888938\n",
      "XY_derivative: -0.007538451111110081\n",
      "\n",
      "0 X derivative: -1.0000024940060026e-09\n",
      "Y derivative: 1.0443035325380379e-14\n",
      "XX derivative: -0.22222222197222175\n",
      "YY derivative: -0.21284588788888154\n",
      "XY_derivative: -1.1969591984239969e-15\n",
      "\n",
      "21 X derivative: 0.3333333333333339\n",
      "Y derivative: 0.3299991269722169\n",
      "XX derivative: -0.1111111111111156\n",
      "YY derivative: -0.16400076196526847\n",
      "XY_derivative: 4.440892098500626e-16\n",
      "\n",
      "6 X derivative: -0.16666666666666696\n",
      "Y derivative: 0.206894131722222\n",
      "XX derivative: -0.0277777777777789\n",
      "YY derivative: -0.036591005861110505\n",
      "XY_derivative: -1.1102230246251565e-16\n",
      "\n",
      "7 X derivative: -0.6666666666666632\n",
      "Y derivative: -0.07388897638889197\n",
      "XX derivative: -0.11111111111110825\n",
      "YY derivative: -0.1333213677638893\n",
      "XY_derivative: -1.2490009027033011e-15\n",
      "\n",
      "2 X derivative: -0.33333333333333076\n",
      "Y derivative: 2.5951463200613034e-15\n",
      "XX derivative: -0.05555555555555483\n",
      "YY derivative: -7.453827777597483e-05\n",
      "XY_derivative: 1.2490009027033011e-15\n",
      "\n",
      "22 X derivative: 1.3333333333333344\n",
      "Y derivative: -6.4254157550180935e-15\n",
      "XX derivative: -0.444444444444437\n",
      "YY derivative: -0.3319967314722268\n",
      "XY_derivative: 5.273559366969494e-16\n",
      "\n",
      "9 X derivative: 0.6666666672222228\n",
      "Y derivative: -0.006032346388892284\n",
      "XX derivative: -0.11111111138888703\n",
      "YY derivative: -0.10458619618055669\n",
      "XY_derivative: 0.006032346388889175\n",
      "\n",
      "10 X derivative: 0.16666666655555515\n",
      "Y derivative: -0.16127566994443837\n",
      "XX derivative: -0.027777777722220984\n",
      "YY derivative: -0.027188458361107944\n",
      "XY_derivative: -0.005390996722222593\n",
      "\n",
      "14 X derivative: -8.888928759720471e-10\n",
      "Y derivative: -0.015076902222232264\n",
      "XX derivative: -0.4444444442222254\n",
      "YY derivative: -0.4596157668888936\n",
      "XY_derivative: 0.007538451111112163\n",
      "\n",
      "11 X derivative: 2.7777535827056e-10\n",
      "Y derivative: -0.667268581111104\n",
      "XX derivative: -0.11111111118055703\n",
      "YY derivative: -0.10876832244443967\n",
      "XY_derivative: 0.0003009572222211626\n",
      "\n",
      "13 X derivative: -0.6666666666666632\n",
      "Y derivative: 0.0738889763888861\n",
      "XX derivative: -0.11111111111110825\n",
      "YY derivative: -0.13332136776388948\n",
      "XY_derivative: -1.2490009027033011e-15\n",
      "\n",
      "16 X derivative: 0.3333333333333325\n",
      "Y derivative: -0.32999912697221034\n",
      "XX derivative: -0.11111111111110614\n",
      "YY derivative: -0.16400076196526533\n",
      "XY_derivative: -9.71445146547012e-16\n",
      "\n",
      "12 X derivative: -0.1666666666666638\n",
      "Y derivative: -0.20689413172221938\n",
      "XX derivative: -0.027777777777775924\n",
      "YY derivative: -0.0365910058611098\n",
      "XY_derivative: 1.3600232051658168e-15\n",
      "\n",
      "20 X derivative: 1.1102230246251565e-16\n",
      "Y derivative: 1.3349156685555614\n",
      "XX derivative: -0.4444444444444366\n",
      "YY derivative: -0.4532814706111029\n",
      "XY_derivative: 0.0015823352222222309\n",
      "\n",
      "23 X derivative: -7.993605777301127e-15\n",
      "Y derivative: -2.042810365310288e-14\n",
      "XX derivative: -1.7777777777777906\n",
      "YY derivative: -1.763268394222241\n",
      "XY_derivative: 4.385380947269368e-15\n",
      "\n",
      "15 X derivative: -4.9960036108132044e-15\n",
      "Y derivative: -1.334915668555541\n",
      "XX derivative: -0.44444444444445036\n",
      "YY derivative: -0.4532814706110927\n",
      "XY_derivative: -0.0015823352222266718\n",
      "\n",
      "19 X derivative: -0.3333333333333339\n",
      "Y derivative: 0.3333898453055555\n",
      "XX derivative: -0.1111111111111156\n",
      "YY derivative: -0.10209925909027523\n",
      "XY_derivative: 0.00011302394444401287\n",
      "\n",
      "18 X derivative: -1.3333333333333264\n",
      "Y derivative: -5.551115123125783e-15\n",
      "XX derivative: -0.44444444444443304\n",
      "YY derivative: -0.4625811726388907\n",
      "XY_derivative: -4.884981308350689e-15\n",
      "\n",
      "17 X derivative: -0.33333333333332765\n",
      "Y derivative: -0.3333898453055499\n",
      "XX derivative: -0.11111111111110372\n",
      "YY derivative: -0.10209925909027245\n",
      "XY_derivative: -0.00011302394443901687\n",
      "\n"
     ]
    }
   ],
   "source": [
    "for i in grid_domain.normal_index.keys():\n",
    "    print(i, end=' ')\n",
    "    partial_diff_test(matrix=MA.half_glob, point=grid_domain.normal_index[i], pointnum=i, pointdict=grid_domain.pointwise_index)"
   ]
  },
  {
   "cell_type": "code",
   "execution_count": null,
   "metadata": {},
   "outputs": [],
   "source": [
    "MA.half_glob[2].toarray().flatten()"
   ]
  },
  {
   "cell_type": "code",
   "execution_count": null,
   "metadata": {},
   "outputs": [],
   "source": [
    "deep[0][-1].toarray()[2]"
   ]
  },
  {
   "cell_type": "code",
   "execution_count": null,
   "metadata": {},
   "outputs": [],
   "source": [
    "deep[0][1][2].toarray()"
   ]
  },
  {
   "cell_type": "code",
   "execution_count": null,
   "metadata": {},
   "outputs": [],
   "source": [
    "MA.assembled[2].toarray().flatten()[-9:]"
   ]
  },
  {
   "cell_type": "code",
   "execution_count": null,
   "metadata": {},
   "outputs": [],
   "source": [
    "pipka[2].toarray().flatten()"
   ]
  },
  {
   "cell_type": "code",
   "execution_count": null,
   "metadata": {},
   "outputs": [],
   "source": [
    "partial_diff_test(matrix=deep[0][-1], point=grid_domain.normal_index[2], pointnum=2, pointdict=grid_domain.pointwise_index)"
   ]
  },
  {
   "cell_type": "code",
   "execution_count": null,
   "metadata": {
    "collapsed": true
   },
   "outputs": [],
   "source": [
    "dist = distributed_eye_easy(ma.get_cell_list_of_ddofs(cell=cell3), axis2shape=MA.assembly_interface.get_ddof_count())"
   ]
  },
  {
   "cell_type": "code",
   "execution_count": null,
   "metadata": {},
   "outputs": [],
   "source": [
    "pipka = dist.T * csr_matrix(MA._get_local_gg_matrix(distribution='lobatto', order=2)) * dist"
   ]
  },
  {
   "cell_type": "code",
   "execution_count": null,
   "metadata": {},
   "outputs": [],
   "source": [
    "mm = np.array(MA.assembled_mass.sum(axis=1)).flatten()"
   ]
  },
  {
   "cell_type": "code",
   "execution_count": null,
   "metadata": {},
   "outputs": [],
   "source": [
    "mm_sp = csr_matrix(np.diag(1/mm))"
   ]
  },
  {
   "cell_type": "code",
   "execution_count": null,
   "metadata": {
    "collapsed": true
   },
   "outputs": [],
   "source": [
    "op =  mm_sp * MA.assembled "
   ]
  },
  {
   "cell_type": "code",
   "execution_count": null,
   "metadata": {},
   "outputs": [],
   "source": [
    "grid_domain.normal_index"
   ]
  },
  {
   "cell_type": "code",
   "execution_count": null,
   "metadata": {},
   "outputs": [],
   "source": [
    "MA.assembly_interface.allocator.get_cell_list_of_ddofs(cell2)"
   ]
  },
  {
   "cell_type": "code",
   "execution_count": null,
   "metadata": {},
   "outputs": [],
   "source": [
    "plt.imshow(deep[0][-1].toarray(), interpolation='none')"
   ]
  },
  {
   "cell_type": "code",
   "execution_count": null,
   "metadata": {},
   "outputs": [],
   "source": [
    "MA.I_s2b"
   ]
  },
  {
   "cell_type": "code",
   "execution_count": null,
   "metadata": {
    "collapsed": true
   },
   "outputs": [],
   "source": []
  }
 ],
 "metadata": {
  "kernelspec": {
   "display_name": "Python 3",
   "language": "python",
   "name": "python3"
  },
  "language_info": {
   "codemirror_mode": {
    "name": "ipython",
    "version": 3
   },
   "file_extension": ".py",
   "mimetype": "text/x-python",
   "name": "python",
   "nbconvert_exporter": "python",
   "pygments_lexer": "ipython3",
   "version": "3.6.0"
  }
 },
 "nbformat": 4,
 "nbformat_minor": 2
}
