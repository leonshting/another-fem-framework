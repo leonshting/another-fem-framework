{
 "cells": [
  {
   "cell_type": "code",
   "execution_count": 1,
   "metadata": {
    "collapsed": true
   },
   "outputs": [],
   "source": [
    "import sys\n",
    "#sys.path.insert(0,'/home/lshtanko/Programming/another-fem-framework/')\n",
    "#sys.path.insert(0,'/Users/marusy/Programming/another-fem-framework/')\n",
    "sys.path.insert(0,'/Users/leonshting/Programming/Schlumberger/fem-framework/')"
   ]
  },
  {
   "cell_type": "code",
   "execution_count": 33,
   "metadata": {
    "collapsed": true
   },
   "outputs": [],
   "source": [
    "from operator_assembler.assembly_interface import AssemblyInterface2D\n",
    "from operator_assembler.n_to_1_ddof_allocator import Nto1Allocator2D\n",
    "from grid.grid_manager import GridManager\n",
    "from grid.allocator_interface import InterfaceDofAllocator2D\n",
    "from grid.grid_domain import GridDomain\n",
    "from operator_assembler.matrix_assembler import MatrixAssembler2D\n",
    "from scipy.ndimage import imread\n",
    "from grid import cell, grid_layer, grid_manager\n",
    "import h5py\n",
    "import numpy as np\n",
    "\n",
    "from interpolant.cell_to_points import *\n",
    "from common import visual\n",
    "from common.tests import *\n",
    "from common.helpers import *\n",
    "from matplotlib import pyplot as plt\n",
    "from scipy.sparse import csr_matrix, dok_matrix, coo_matrix\n",
    "from scipy.sparse import linalg\n",
    "\n",
    "from matplotlib.collections import  LineCollection\n",
    "\n",
    "%matplotlib inline\n",
    "plt.rcParams['figure.figsize'] = 15, 10"
   ]
  },
  {
   "cell_type": "code",
   "execution_count": 3,
   "metadata": {
    "collapsed": true
   },
   "outputs": [],
   "source": [
    "np.set_printoptions(linewidth=500)"
   ]
  },
  {
   "cell_type": "markdown",
   "metadata": {},
   "source": [
    "#### Bad cell"
   ]
  },
  {
   "cell_type": "code",
   "execution_count": 17,
   "metadata": {
    "collapsed": true
   },
   "outputs": [],
   "source": [
    "ran = 16\n",
    "data = np.ones((ran,ran))\n",
    "for i,j in itertools.product(range(ran), repeat=2):\n",
    "    if i>=j:\n",
    "        data[i,j] = 2"
   ]
  },
  {
   "cell_type": "code",
   "execution_count": 18,
   "metadata": {
    "collapsed": true
   },
   "outputs": [],
   "source": [
    "data_start = (150, 114)\n",
    "data_shape = (16, 16)\n",
    "data_end = tuple([i+j for i,j in zip(data_start, data_shape)])\n",
    "\n",
    "#h5_data = h5py.File('../../../GM_L3D/600/state/viz_GM_1.h5')['index'][0]\n",
    "#data = h5_data[data_start[0]:data_end[0], data_start[1]:data_end[1]]\n",
    "#data = imread('/Users/leonshting/Programming/Schlumberger/model/bhi2_labelled0000.tif')[data_start[0]:data_end[0], data_start[1]:data_end[1]]\n",
    "\n",
    "grid_domain = GridDomain(integer_size=data_shape, domain_size=(1.,1.))\n",
    "gm = GridManager(method_options={'max_coarsening_layer':100})\n",
    "ifma = InterfaceDofAllocator2D(grid_manager=gm.fit(data=data))"
   ]
  },
  {
   "cell_type": "code",
   "execution_count": null,
   "metadata": {
    "collapsed": true
   },
   "outputs": [],
   "source": [
    "cell15 = cell.Cell2D(size=(1,1), ll_vertex=(0,8))\n",
    "cell25 = cell.Cell2D(size=(1,1), ll_vertex=(0,9))\n",
    "\n",
    "cell14 = cell.Cell2D(size=(1,1), ll_vertex=(0,6))\n",
    "cell24 = cell.Cell2D(size=(1,1), ll_vertex=(0,7))\n",
    "\n",
    "cell13 = cell.Cell2D(size=(1,1), ll_vertex=(0,4))\n",
    "cell23 = cell.Cell2D(size=(1,1), ll_vertex=(0,5))\n",
    "\n",
    "cell12 = cell.Cell2D(size=(1,1), ll_vertex=(0,2))\n",
    "cell22 = cell.Cell2D(size=(1,1), ll_vertex=(0,3))\n",
    "\n",
    "cell1 = cell.Cell2D(size=(1,1), ll_vertex=(0,0))\n",
    "cell2 = cell.Cell2D(size=(1,1), ll_vertex=(0,1))\n",
    "\n",
    "cell3 = cell.Cell2D(size=(2,2), ll_vertex=(1,0))\n",
    "cell32 = cell.Cell2D(size=(2,2), ll_vertex=(1,2))\n",
    "cell33 = cell.Cell2D(size=(2,2), ll_vertex=(1,4))\n",
    "cell34 = cell.Cell2D(size=(2,2), ll_vertex=(1,6))\n",
    "cell35 = cell.Cell2D(size=(2,2), ll_vertex=(1,8))"
   ]
  },
  {
   "cell_type": "code",
   "execution_count": null,
   "metadata": {
    "collapsed": true
   },
   "outputs": [],
   "source": [
    "layer1 = grid_layer.GridLayer2D([c.ll_vertex for c in [cell1, cell2, cell12, cell22, cell13, cell23, cell14, cell24, cell15, cell25]], layer_number=0, index=[1,1], div_index=[1,1])\n",
    "layer2 = grid_layer.GridLayer2D([c.ll_vertex for c in [cell3, cell32, cell33, cell34, cell35]], layer_number=1, index=[1], div_index=[1])\n",
    "\n",
    "#layer1 = grid_layer.GridLayer2D([c.ll_vertex for c in [cell1, cell2]], layer_number=0, index=[1,1], div_index=[1,1])\n",
    "#layer2 = grid_layer.GridLayer2D([c.ll_vertex for c in [cell3]], layer_number=1, index=[1], div_index=[1])"
   ]
  },
  {
   "cell_type": "code",
   "execution_count": null,
   "metadata": {
    "collapsed": true
   },
   "outputs": [],
   "source": [
    "gm = grid_manager.GridManager(dim=2, method='coarse2to1')\n",
    "gm.grid_layers = [layer1, layer2]\n",
    "ifma = InterfaceDofAllocator2D(grid_manager=gm)\n",
    "\n",
    "## setting the order of BF\n",
    "#ifma._default_order = 3"
   ]
  },
  {
   "cell_type": "code",
   "execution_count": null,
   "metadata": {
    "collapsed": true
   },
   "outputs": [],
   "source": [
    "ma = Nto1Allocator2D(grid_interface=ifma)\n",
    "ma.make_complete_index()"
   ]
  },
  {
   "cell_type": "code",
   "execution_count": null,
   "metadata": {
    "collapsed": true
   },
   "outputs": [],
   "source": [
    "grid_domain = GridDomain(domain_size=(1.,1.), integer_size=(16,16))\n",
    "grid_domain.make_pointwise_index(ma)"
   ]
  },
  {
   "cell_type": "code",
   "execution_count": null,
   "metadata": {
    "collapsed": true
   },
   "outputs": [],
   "source": [
    "ifma2 = AssemblyInterface2D(allocator=ma)\n",
    "MA = MatrixAssembler2D(assembly_interface=ifma2, grid_domain=grid_domain)"
   ]
  },
  {
   "cell_type": "code",
   "execution_count": null,
   "metadata": {},
   "outputs": [],
   "source": [
    "MA.assemble_whole_dist(alpha=0.5)"
   ]
  },
  {
   "cell_type": "code",
   "execution_count": null,
   "metadata": {
    "collapsed": true
   },
   "outputs": [],
   "source": [
    "MA.assemble_glob_local(normed=False)"
   ]
  },
  {
   "cell_type": "code",
   "execution_count": null,
   "metadata": {
    "collapsed": true
   },
   "outputs": [],
   "source": [
    "MA.assemble_mass_glob_local()"
   ]
  },
  {
   "cell_type": "code",
   "execution_count": null,
   "metadata": {
    "collapsed": true
   },
   "outputs": [],
   "source": [
    "new = MA.unmerged * MA.whole_dist\n",
    "new_ass = MA.whole_dist.T * MA.unmerged * MA.whole_dist\n",
    "flux_new = MA.whole_dist.T * MA.unmerged"
   ]
  },
  {
   "cell_type": "code",
   "execution_count": null,
   "metadata": {},
   "outputs": [],
   "source": [
    "plt.spy(new_ass,markersize=1)"
   ]
  },
  {
   "cell_type": "code",
   "execution_count": null,
   "metadata": {},
   "outputs": [],
   "source": [
    "MA.unmerged.shape"
   ]
  },
  {
   "cell_type": "code",
   "execution_count": null,
   "metadata": {
    "collapsed": true
   },
   "outputs": [],
   "source": [
    "sine_test = grid_domain.vectorize_function(lambda x,y: np.sin(x+y))\n",
    "product = grid_domain.devectorize_vector(new_ass * sine_test)\n",
    "init = grid_domain.devectorize_function(lambda x,y: np.sin(x+y))\n",
    "\n",
    "visual.plot_surface_unstructured_w_dict(\n",
    "    point_val_dict=grid_domain.devectorize_vector(new_ass * sine_test),\n",
    "    plot_domain_shape=grid_domain.domain_size,\n",
    "    int_domain_shape=grid_domain.integer_size\n",
    ")\n",
    "\n",
    "#visual.plot_surface_unstructured_w_dict(\n",
    "#    point_val_dict=grid_domain.devectorize_function(lambda x,y: np.sin(x+y)),\n",
    "#    plot_domain_shape=grid_domain.domain_size,\n",
    "#    int_domain_shape=grid_domain.integer_size\n",
    "#)"
   ]
  },
  {
   "cell_type": "code",
   "execution_count": 23,
   "metadata": {},
   "outputs": [],
   "source": [
    "l = gm.grid_layers[1]"
   ]
  },
  {
   "cell_type": "code",
   "execution_count": 29,
   "metadata": {
    "collapsed": true
   },
   "outputs": [],
   "source": [
    "def divide_cell(cell):\n",
    "    from grid.cell import Cell2D\n",
    "    cells = []\n",
    "    start = cell.ll_vertex\n",
    "    step = cell.size[0]//2\n",
    "    for dx,dy in itertools.product([0,1], repeat=2):\n",
    "        new_cell = Cell2D(size=(step, step), ll_vertex=(start[0] + dx, start[1] + dy))\n",
    "        cells.append(new_cell)\n",
    "    return cells"
   ]
  },
  {
   "cell_type": "code",
   "execution_count": 36,
   "metadata": {},
   "outputs": [],
   "source": [
    "newshit = []\n",
    "for cell in l.iterate_cells():\n",
    "    if cell.ll_vertex[0] == cell.ll_vertex[1] - 2:\n",
    "        newshit.extend(divide_cell(cell))"
   ]
  },
  {
   "cell_type": "code",
   "execution_count": 40,
   "metadata": {},
   "outputs": [
    {
     "name": "stderr",
     "output_type": "stream",
     "text": [
      "/Library/Frameworks/Python.framework/Versions/3.6/lib/python3.6/site-packages/matplotlib/axes/_axes.py:545: UserWarning: No labelled objects found. Use label='...' kwarg on individual plots.\n",
      "  warnings.warn(\"No labelled objects found. \"\n"
     ]
    },
    {
     "ename": "AttributeError",
     "evalue": "'NoneType' object has no attribute 'set_visible'",
     "output_type": "error",
     "traceback": [
      "\u001b[0;31m---------------------------------------------------------------------------\u001b[0m",
      "\u001b[0;31mAttributeError\u001b[0m                            Traceback (most recent call last)",
      "\u001b[0;32m<ipython-input-40-281e69f1cfbd>\u001b[0m in \u001b[0;36m<module>\u001b[0;34m()\u001b[0m\n\u001b[1;32m      6\u001b[0m \u001b[0mlines\u001b[0m \u001b[0;34m=\u001b[0m \u001b[0mLineCollection\u001b[0m\u001b[0;34m(\u001b[0m\u001b[0mlines\u001b[0m\u001b[0;34m)\u001b[0m\u001b[0;34m\u001b[0m\u001b[0m\n\u001b[1;32m      7\u001b[0m \u001b[0max\u001b[0m\u001b[0;34m.\u001b[0m\u001b[0madd_collection\u001b[0m\u001b[0;34m(\u001b[0m\u001b[0mlines\u001b[0m\u001b[0;34m)\u001b[0m\u001b[0;34m\u001b[0m\u001b[0m\n\u001b[0;32m----> 8\u001b[0;31m \u001b[0max\u001b[0m\u001b[0;34m.\u001b[0m\u001b[0mlegend\u001b[0m\u001b[0;34m(\u001b[0m\u001b[0;34m)\u001b[0m\u001b[0;34m.\u001b[0m\u001b[0mset_visible\u001b[0m\u001b[0;34m(\u001b[0m\u001b[0;32mFalse\u001b[0m\u001b[0;34m)\u001b[0m\u001b[0;34m\u001b[0m\u001b[0m\n\u001b[0m\u001b[1;32m      9\u001b[0m \u001b[0max\u001b[0m\u001b[0;34m.\u001b[0m\u001b[0mimshow\u001b[0m\u001b[0;34m(\u001b[0m\u001b[0mdata\u001b[0m\u001b[0;34m,\u001b[0m \u001b[0mcmap\u001b[0m\u001b[0;34m=\u001b[0m\u001b[0;34m'BuPu'\u001b[0m\u001b[0;34m,\u001b[0m\u001b[0mextent\u001b[0m\u001b[0;34m=\u001b[0m\u001b[0;34m[\u001b[0m\u001b[0;36m16\u001b[0m\u001b[0;34m,\u001b[0m \u001b[0;36m0\u001b[0m\u001b[0;34m,\u001b[0m \u001b[0;36m0\u001b[0m\u001b[0;34m,\u001b[0m \u001b[0;36m16\u001b[0m\u001b[0;34m]\u001b[0m\u001b[0;34m)\u001b[0m\u001b[0;34m\u001b[0m\u001b[0m\n",
      "\u001b[0;31mAttributeError\u001b[0m: 'NoneType' object has no attribute 'set_visible'"
     ]
    },
    {
     "data": {
      "image/png": "[encoded data removed]",
      "text/plain": [
       "<matplotlib.figure.Figure at 0x11afbe160>"
      ]
     },
     "metadata": {},
     "output_type": "display_data"
    }
   ],
   "source": [
    "f,ax = gm.draw_grid()\n",
    "lines = []\n",
    "for cell in newshit:\n",
    "    for edge in cell.iterate_edges():\n",
    "        lines.append(edge)\n",
    "lines = LineCollection(lines)\n",
    "ax.add_collection(lines)\n",
    "ax.legend().set_visible(False)\n",
    "ax.imshow(data, cmap='BuPu',extent=[16, 0, 0, 16])\n"
   ]
  },
  {
   "cell_type": "code",
   "execution_count": 9,
   "metadata": {},
   "outputs": [],
   "source": [
    "\n"
   ]
  },
  {
   "cell_type": "code",
   "execution_count": null,
   "metadata": {},
   "outputs": [],
   "source": [
    "grid_domain.pointwise_index[(.125, 1.)]"
   ]
  },
  {
   "cell_type": "code",
   "execution_count": null,
   "metadata": {},
   "outputs": [],
   "source": [
    "for i in {21}:\n",
    "    print(i, end=' ')\n",
    "    partial_diff_test(matrix=flux_new,\n",
    "                      point=grid_domain.normal_index[i],\n",
    "                      pointnum=i,\n",
    "                      pointdict=grid_domain.pointwise_index,\n",
    "                      scale_factor=1\n",
    "                     )"
   ]
  },
  {
   "cell_type": "code",
   "execution_count": null,
   "metadata": {},
   "outputs": [],
   "source": [
    "for i in {23, 73}:\n",
    "    print(i, end=' ')\n",
    "    partial_diff_test(matrix=new_ass,\n",
    "                      point=grid_domain.normal_index[i],\n",
    "                      pointnum=i,\n",
    "                      pointdict=grid_domain.pointwise_index,\n",
    "                      scale_factor=1\n",
    "                     )"
   ]
  },
  {
   "cell_type": "code",
   "execution_count": null,
   "metadata": {},
   "outputs": [],
   "source": [
    "-0.010416681320460724 / -0.010875741644591074"
   ]
  },
  {
   "cell_type": "code",
   "execution_count": null,
   "metadata": {},
   "outputs": [],
   "source": [
    "-0.0416667252818429 / -0.0435029665783643"
   ]
  },
  {
   "cell_type": "code",
   "execution_count": null,
   "metadata": {},
   "outputs": [],
   "source": [
    "-0.1666669011273716 / -0.1740118663134572"
   ]
  },
  {
   "cell_type": "code",
   "execution_count": null,
   "metadata": {},
   "outputs": [],
   "source": [
    "for i in {23, 73}:\n",
    "    print(i, end=' ')\n",
    "    partial_diff_test(matrix=new_ass,\n",
    "                      point=grid_domain.normal_index[i],\n",
    "                      pointnum=i,\n",
    "                      pointdict=grid_domain.pointwise_index,\n",
    "                      scale_factor=1\n",
    "                     )"
   ]
  },
  {
   "cell_type": "code",
   "execution_count": null,
   "metadata": {
    "collapsed": true
   },
   "outputs": [],
   "source": [
    "w = np.array([0.042,  0.208,  0.208,  0.083,  0.208,  0.208,  0.042])\n",
    "w_t = concat_arrays_with_adjacency(w,w,)"
   ]
  },
  {
   "cell_type": "code",
   "execution_count": null,
   "metadata": {
    "collapsed": true
   },
   "outputs": [],
   "source": [
    "coefs = np.array([-0.026, 0.035, -0.008, -0.042, -0.069, 0.168, 0.801])\n",
    "coefs_t = np.hstack([coefs, coefs[:-1][::-1]])"
   ]
  },
  {
   "cell_type": "code",
   "execution_count": null,
   "metadata": {
    "collapsed": true
   },
   "outputs": [],
   "source": [
    "0.11/0.042"
   ]
  },
  {
   "cell_type": "code",
   "execution_count": null,
   "metadata": {
    "collapsed": true
   },
   "outputs": [],
   "source": [
    "sum(w_t*coefs_t)"
   ]
  },
  {
   "cell_type": "code",
   "execution_count": null,
   "metadata": {
    "collapsed": true
   },
   "outputs": [],
   "source": [
    "pipka = wdt.T * MA.unmerged"
   ]
  },
  {
   "cell_type": "code",
   "execution_count": null,
   "metadata": {
    "collapsed": true
   },
   "outputs": [],
   "source": [
    "wdt[247].sum(axis=1)"
   ]
  },
  {
   "cell_type": "code",
   "execution_count": null,
   "metadata": {
    "collapsed": true
   },
   "outputs": [],
   "source": [
    "MA.whole_dist[419].sum()"
   ]
  },
  {
   "cell_type": "code",
   "execution_count": null,
   "metadata": {
    "collapsed": true
   },
   "outputs": [],
   "source": [
    "np.argsort(np.array(MA.dist.sum(axis=1)).flatten())"
   ]
  },
  {
   "cell_type": "code",
   "execution_count": null,
   "metadata": {
    "collapsed": true
   },
   "outputs": [],
   "source": [
    "plt.imshow(MA.dist.toarray())"
   ]
  },
  {
   "cell_type": "code",
   "execution_count": null,
   "metadata": {
    "collapsed": true
   },
   "outputs": [],
   "source": []
  },
  {
   "cell_type": "code",
   "execution_count": null,
   "metadata": {
    "collapsed": true
   },
   "outputs": [],
   "source": [
    "a = np.array([0.5, 0.54])"
   ]
  },
  {
   "cell_type": "code",
   "execution_count": null,
   "metadata": {
    "collapsed": true
   },
   "outputs": [],
   "source": [
    "a**0.5"
   ]
  },
  {
   "cell_type": "code",
   "execution_count": null,
   "metadata": {
    "collapsed": true
   },
   "outputs": [],
   "source": [
    "new_eff"
   ]
  },
  {
   "cell_type": "code",
   "execution_count": null,
   "metadata": {
    "collapsed": true
   },
   "outputs": [],
   "source": []
  }
 ],
 "metadata": {
  "kernelspec": {
   "display_name": "Python 3",
   "language": "python",
   "name": "python3"
  },
  "language_info": {
   "codemirror_mode": {
    "name": "ipython",
    "version": 3
   },
   "file_extension": ".py",
   "mimetype": "text/x-python",
   "name": "python",
   "nbconvert_exporter": "python",
   "pygments_lexer": "ipython3",
   "version": "3.6.0"
  }
 },
 "nbformat": 4,
 "nbformat_minor": 2
}
