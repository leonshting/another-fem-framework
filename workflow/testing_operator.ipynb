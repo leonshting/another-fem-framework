{
 "cells": [
  {
   "cell_type": "code",
   "execution_count": 1,
   "metadata": {
    "collapsed": true,
    "deletable": true,
    "editable": true
   },
   "outputs": [],
   "source": [
    "import sys\n",
    "sys.path.insert(0,'/home/lshtanko/Programming/another-fem-framework/')\n",
    "#sys.path.insert(0,'/Users/marusy/Programming/another-fem-framework/')\n",
    "#sys.path.insert(0,'/Users/leonshting/Programming/Schlumberger/fem-framework/')"
   ]
  },
  {
   "cell_type": "code",
   "execution_count": 2,
   "metadata": {
    "collapsed": true,
    "deletable": true,
    "editable": true
   },
   "outputs": [],
   "source": [
    "from operator_assembler.assembly_interface import AssemblyInterface2D\n",
    "from operator_assembler.n_to_1_ddof_allocator import Nto1Allocator2D\n",
    "from grid.grid_manager import GridManager\n",
    "from grid.allocator_interface import InterfaceDofAllocator2D\n",
    "from grid.grid_domain import GridDomain\n",
    "from operator_assembler.matrix_assembler import MatrixAssembler2D\n",
    "from scipy.ndimage import imread\n",
    "from grid import cell, grid_layer, grid_manager\n",
    "import h5py\n",
    "import numpy as np\n",
    "\n",
    "from interpolant.cell_to_points import *\n",
    "from common import visual\n",
    "from common.tests import *\n",
    "from common.helpers import *\n",
    "from matplotlib import pyplot as plt\n",
    "from scipy.sparse import csr_matrix\n",
    "from scipy.sparse import linalg\n",
    "\n",
    "%matplotlib inline\n",
    "plt.rcParams['figure.figsize'] = 15, 10"
   ]
  },
  {
   "cell_type": "code",
   "execution_count": 3,
   "metadata": {
    "collapsed": true,
    "deletable": true,
    "editable": true
   },
   "outputs": [],
   "source": [
    "np.set_printoptions(linewidth=500)"
   ]
  },
  {
   "cell_type": "markdown",
   "metadata": {
    "deletable": true,
    "editable": true
   },
   "source": [
    "#### Bad cell"
   ]
  },
  {
   "cell_type": "code",
   "execution_count": null,
   "metadata": {
    "collapsed": true,
    "deletable": true,
    "editable": true
   },
   "outputs": [],
   "source": [
    "data_start = (16, 20)\n",
    "data_shape = (4, 4)\n",
    "data_end = tuple([i+j for i,j in zip(data_start, data_shape)])\n",
    "\n",
    "h5_data = h5py.File('../../../GM_L3D/600/state/viz_GM_1.h5')['index'][0]\n",
    "data = h5_data[data_start[0]:data_end[0], data_start[1]:data_end[1]]\n",
    "#data = imread('/Users/marusy/Programming/model/bhi2_labelled0000.tif')[data_start[0]:data_end[0], data_start[1]:data_end[1]]\n",
    "\n",
    "grid_domain = GridDomain(integer_size=data_shape, domain_size=(1.,1.))\n",
    "gm = GridManager()\n",
    "ifma = InterfaceDofAllocator2D(grid_manager=gm.fit(data=data))\n",
    "\n",
    "\n",
    "gm.draw_grid()"
   ]
  },
  {
   "cell_type": "code",
   "execution_count": 4,
   "metadata": {
    "collapsed": true,
    "deletable": true,
    "editable": true
   },
   "outputs": [],
   "source": [
    "cell15 = cell.Cell2D(size=(1,1), ll_vertex=(0,8))\n",
    "cell25 = cell.Cell2D(size=(1,1), ll_vertex=(0,9))\n",
    "\n",
    "cell14 = cell.Cell2D(size=(1,1), ll_vertex=(0,6))\n",
    "cell24 = cell.Cell2D(size=(1,1), ll_vertex=(0,7))\n",
    "\n",
    "cell13 = cell.Cell2D(size=(1,1), ll_vertex=(0,4))\n",
    "cell23 = cell.Cell2D(size=(1,1), ll_vertex=(0,5))\n",
    "\n",
    "cell12 = cell.Cell2D(size=(1,1), ll_vertex=(0,2))\n",
    "cell22 = cell.Cell2D(size=(1,1), ll_vertex=(0,3))\n",
    "\n",
    "cell1 = cell.Cell2D(size=(1,1), ll_vertex=(0,0))\n",
    "cell2 = cell.Cell2D(size=(1,1), ll_vertex=(0,1))\n",
    "\n",
    "cell3 = cell.Cell2D(size=(2,2), ll_vertex=(1,0))\n",
    "cell32 = cell.Cell2D(size=(2,2), ll_vertex=(1,2))\n",
    "cell33 = cell.Cell2D(size=(2,2), ll_vertex=(1,4))\n",
    "cell34 = cell.Cell2D(size=(2,2), ll_vertex=(1,6))\n",
    "cell35 = cell.Cell2D(size=(2,2), ll_vertex=(1,8))"
   ]
  },
  {
   "cell_type": "code",
   "execution_count": 5,
   "metadata": {
    "collapsed": true,
    "deletable": true,
    "editable": true
   },
   "outputs": [],
   "source": [
    "layer1 = grid_layer.GridLayer2D([c.ll_vertex for c in [cell1, cell2, cell12, cell22, cell13, cell23, cell14, cell24, cell15, cell25]], layer_number=0, index=[1,1], div_index=[1,1])\n",
    "layer2 = grid_layer.GridLayer2D([c.ll_vertex for c in [cell3, cell32, cell33, cell34, cell35]], layer_number=1, index=[1], div_index=[1])\n",
    "\n",
    "#layer1 = grid_layer.GridLayer2D([c.ll_vertex for c in [cell1, cell2]], layer_number=0, index=[1,1], div_index=[1,1])\n",
    "#layer2 = grid_layer.GridLayer2D([c.ll_vertex for c in [cell3]], layer_number=1, index=[1], div_index=[1])"
   ]
  },
  {
   "cell_type": "code",
   "execution_count": 6,
   "metadata": {
    "collapsed": true,
    "deletable": true,
    "editable": true
   },
   "outputs": [],
   "source": [
    "gm = grid_manager.GridManager(dim=2, method='coarse2to1')\n",
    "gm.grid_layers = [layer1, layer2]\n",
    "ifma = InterfaceDofAllocator2D(grid_manager=gm)"
   ]
  },
  {
   "cell_type": "code",
   "execution_count": 7,
   "metadata": {
    "collapsed": true,
    "deletable": true,
    "editable": true
   },
   "outputs": [],
   "source": [
    "ma = Nto1Allocator2D(grid_interface=ifma)\n",
    "ma._make_ddof_index()"
   ]
  },
  {
   "cell_type": "code",
   "execution_count": null,
   "metadata": {
    "collapsed": true,
    "deletable": true,
    "editable": true
   },
   "outputs": [],
   "source": [
    "#6 cells\n",
    "ma._vertex_ddof_index[((0, 3), (0, 4))] = (ma._vertex_ddof_index[((0, 3), (0, 4))][0], ma._vertex_ddof_index[((0, 0), (0, 0))][1])\n",
    "ma._vertex_ddof_index[((0, 3), (1, 4))] = (ma._vertex_ddof_index[((0, 3), (1, 4))][0], ma._vertex_ddof_index[((0, 0), (1, 0))][1])\n",
    "ma._vertex_ddof_index[((1, 2), (1, 4))] = (ma._vertex_ddof_index[((1, 2), (1, 4))][0], ma._vertex_ddof_index[((1, 0), (1, 0))][1])\n",
    "ma._vertex_ddof_index[((1, 2), (3, 4))] = (ma._vertex_ddof_index[((1, 2), (3, 4))][0], ma._vertex_ddof_index[((1, 0), (3, 0))][1])"
   ]
  },
  {
   "cell_type": "code",
   "execution_count": null,
   "metadata": {
    "collapsed": true,
    "deletable": true,
    "editable": true
   },
   "outputs": [],
   "source": [
    "#3 cells\n",
    "ma._vertex_ddof_index[((0, 1), (0, 2))] = (ma._vertex_ddof_index[((0, 1), (0, 2))][0], ma._vertex_ddof_index[((0, 0), (0, 0))][1])\n",
    "ma._vertex_ddof_index[((0, 1), (1, 2))] = (ma._vertex_ddof_index[((0, 1), (1, 2))][0], ma._vertex_ddof_index[((0, 0), (1, 0))][1])\n",
    "ma._vertex_ddof_index[((1, 0), (1, 2))] = (ma._vertex_ddof_index[((1, 0), (1, 2))][0], ma._vertex_ddof_index[((1, 0), (1, 0))][1])\n",
    "ma._vertex_ddof_index[((1, 0), (3, 2))] = (ma._vertex_ddof_index[((1, 0), (3, 2))][0], ma._vertex_ddof_index[((1, 0), (3, 0))][1])"
   ]
  },
  {
   "cell_type": "code",
   "execution_count": null,
   "metadata": {
    "collapsed": true,
    "deletable": true,
    "editable": true
   },
   "outputs": [],
   "source": [
    "#6 cells\n",
    "edge_mapping = {((0, 4), (1, 4)): ((0, 0), (1, 0)), ((1, 4), (3, 4)): ((1, 0), (3, 0))}\n",
    "#3cells\n",
    "#edge_mapping = {((0, 2), (1, 2)): ((0, 0), (1, 0)), ((1, 2), (3, 2)): ((1, 0), (3, 0))}\n",
    "for (cell, edge), dd in ma._edge_ddof_index.items():\n",
    "    if edge_mapping.get(edge) is not None:\n",
    "        edge_slave = edge\n",
    "        edge_prim = edge_mapping[edge]\n",
    "        prim_cell = [i for i in list(ma._edge_ddof_index.keys()) if i[1] == edge_prim][0][0]\n",
    "        ma._edge_ddof_index[(cell, edge_slave)] = [(i[0],j[1])\n",
    "            for i,j in\n",
    "            zip(ma._edge_ddof_index[(cell, edge_slave)], ma._edge_ddof_index[(prim_cell, edge_prim)])\n",
    "        ]"
   ]
  },
  {
   "cell_type": "code",
   "execution_count": null,
   "metadata": {
    "collapsed": true,
    "deletable": true,
    "editable": true
   },
   "outputs": [],
   "source": [
    "#6 cells\n",
    "ma._weak_edge_connections[ ((0, 2),\n",
    "  ((1, 2), (1, 3)))] = {((1, 2), ((1, 2), (1, 4))): [(0, 54),\n",
    "   (1, 74),\n",
    "   (2, 75),\n",
    "   (3, 61)]}\n",
    "\n",
    "ma._weak_edge_connections[((0, 3),\n",
    "  ((1, 3), (1, 4)))] = {((1, 2), ((1, 2), (1, 4))): [(0, 54),\n",
    "   (1, 74),\n",
    "   (2, 75),\n",
    "   (3, 61)]}\n",
    "\n",
    "ma._weak_edge_connections[((1, 2),\n",
    "  ((1, 2), (1, 4)))] = {((0, 2), ((1, 2), (1, 3))): [(12, 19),\n",
    "   (13, 34),\n",
    "   (14, 35),\n",
    "   (15, 31)], ((0, 3), ((1, 3), (1, 4))): [(12, 31),\n",
    "   (13, 46),\n",
    "   (14, 47),\n",
    "   (15, 9)]}"
   ]
  },
  {
   "cell_type": "code",
   "execution_count": null,
   "metadata": {
    "collapsed": true,
    "deletable": true,
    "editable": true
   },
   "outputs": [],
   "source": [
    "#3cells\n",
    "ma._weak_edge_connections[((0, 0), ((1, 0), (1, 1)))] = {((1, 0), ((1, 0), (1, 2))): [(0, 37),\n",
    "   (1, 38),\n",
    "   (2, 39),\n",
    "   (3, 37)]}\n",
    "ma._weak_edge_connections[((0, 1), ((1, 1), (1, 2)))] = {((1, 0), ((1, 0), (1, 2))): [(0, 37),\n",
    "   (1, 38),\n",
    "   (2, 39),\n",
    "   (3, 37)]}\n",
    "\n",
    "ma._weak_edge_connections[((1, 0),((1, 0), (1, 2)))] = {((0, 0), ((1, 0), (1, 1))): [(12, 9),\n",
    "   (13, 10),\n",
    "   (14, 11),\n",
    "   (15, 3)], ((0, 1), ((1, 1), (1, 2))): [(12, 3),\n",
    "   (13, 22),\n",
    "   (14, 23),\n",
    "   (15, 9)]}"
   ]
  },
  {
   "cell_type": "code",
   "execution_count": 8,
   "metadata": {
    "collapsed": true,
    "deletable": true,
    "editable": true
   },
   "outputs": [],
   "source": [
    "grid_domain = GridDomain(domain_size=(3.,10.), integer_size=(3,10))\n",
    "grid_domain.make_pointwise_index(ma)"
   ]
  },
  {
   "cell_type": "code",
   "execution_count": 9,
   "metadata": {
    "collapsed": true,
    "deletable": true,
    "editable": true
   },
   "outputs": [],
   "source": [
    "ifma2 = AssemblyInterface2D(allocator=ma)\n",
    "MA = MatrixAssembler2D(assembly_interface=ifma2, grid_domain=grid_domain)"
   ]
  },
  {
   "cell_type": "code",
   "execution_count": 10,
   "metadata": {
    "collapsed": false,
    "deletable": true,
    "editable": true,
    "scrolled": true
   },
   "outputs": [
    {
     "name": "stdout",
     "output_type": "stream",
     "text": [
      "[(0, 3), (1, 30), (2, 31), (3, 32), (4, 28), (5, 0), (6, 36), (7, 37), (8, 38), (9, 25), (10, 1), (11, 39), (12, 40), (13, 41), (14, 26), (15, 2), (16, 42), (17, 43), (18, 44), (19, 27), (20, 4), (21, 33), (22, 34), (23, 35), (24, 29)] [(0, 8), (1, 5), (2, 6), (3, 7), (4, 3), (5, 9), (6, 16), (7, 17), (8, 18), (9, 0), (10, 10), (11, 19), (12, 20), (13, 21), (14, 1), (15, 11), (16, 22), (17, 23), (18, 24), (19, 2), (20, 12), (21, 13), (22, 14), (23, 15), (24, 4)]\n",
      "{0, 1, 2, 3, 5, 6, 7, 8, 9, 10, 11, 16, 17, 18, 19, 20, 21, 22, 23, 24, 25, 26, 27, 28, 30, 31, 32, 36, 37, 38, 39, 40, 41, 42, 43, 44} {205, 206, 207, 209, 210, 211, 212, 213, 214, 215, 216, 221, 222, 223, 224, 225, 226, 227, 228, 229} [[217, 218, 219, 220, 208]] [[12, 13, 14, 15, 4, 33, 34, 35, 29]]\n",
      "\r",
      " 0[(0, 48), (1, 70), (2, 71), (3, 72), (4, 68), (5, 45), (6, 76), (7, 77), (8, 78), (9, 65), (10, 46), (11, 79), (12, 80), (13, 81), (14, 66), (15, 47), (16, 82), (17, 83), (18, 84), (19, 67), (20, 49), (21, 73), (22, 74), (23, 75), (24, 69)] [(0, 28), (1, 50), (2, 51), (3, 52), (4, 48), (5, 25), (6, 56), (7, 57), (8, 58), (9, 45), (10, 26), (11, 59), (12, 60), (13, 61), (14, 46), (15, 27), (16, 62), (17, 63), (18, 64), (19, 47), (20, 29), (21, 53), (22, 54), (23, 55), (24, 49)]\n",
      "{25, 26, 27, 28, 45, 46, 47, 48, 50, 51, 52, 56, 57, 58, 59, 60, 61, 62, 63, 64, 65, 66, 67, 68, 70, 71, 72, 76, 77, 78, 79, 80, 81, 82, 83, 84} {205, 206, 207, 209, 230, 231, 232, 234, 235, 236, 237, 241, 242, 243, 244, 245, 246, 247, 248, 249} [[208, 238, 239, 240, 233]] [[29, 53, 54, 55, 49, 73, 74, 75, 69]]\n",
      "\r",
      " 1[(0, 88), (1, 110), (2, 111), (3, 112), (4, 108), (5, 85), (6, 116), (7, 117), (8, 118), (9, 105), (10, 86), (11, 119), (12, 120), (13, 121), (14, 106), (15, 87), (16, 122), (17, 123), (18, 124), (19, 107), (20, 89), (21, 113), (22, 114), (23, 115), (24, 109)] [(0, 68), (1, 90), (2, 91), (3, 92), (4, 88), (5, 65), (6, 96), (7, 97), (8, 98), (9, 85), (10, 66), (11, 99), (12, 100), (13, 101), (14, 86), (15, 67), (16, 102), (17, 103), (18, 104), (19, 87), (20, 69), (21, 93), (22, 94), (23, 95), (24, 89)]\n",
      "{65, 66, 67, 68, 85, 86, 87, 88, 90, 91, 92, 96, 97, 98, 99, 100, 101, 102, 103, 104, 105, 106, 107, 108, 110, 111, 112, 116, 117, 118, 119, 120, 121, 122, 123, 124} {256, 257, 261, 262, 263, 264, 265, 266, 267, 268, 269, 230, 231, 232, 234, 250, 251, 252, 254, 255} [[233, 258, 259, 260, 253]] [[69, 93, 94, 95, 89, 113, 114, 115, 109]]\n",
      "\r",
      " 2[(0, 108), (1, 130), (2, 131), (3, 132), (4, 128), (5, 105), (6, 136), (7, 137), (8, 138), (9, 125), (10, 106), (11, 139), (12, 140), (13, 141), (14, 126), (15, 107), (16, 142), (17, 143), (18, 144), (19, 127), (20, 109), (21, 133), (22, 134), (23, 135), (24, 129)] [(0, 128), (1, 150), (2, 151), (3, 152), (4, 148), (5, 125), (6, 156), (7, 157), (8, 158), (9, 145), (10, 126), (11, 159), (12, 160), (13, 161), (14, 146), (15, 127), (16, 162), (17, 163), (18, 164), (19, 147), (20, 129), (21, 153), (22, 154), (23, 155), (24, 149)]\n",
      "{128, 130, 131, 132, 136, 137, 138, 139, 140, 141, 142, 143, 144, 145, 146, 147, 148, 150, 151, 152, 156, 157, 158, 159, 160, 161, 162, 163, 164, 105, 106, 107, 108, 125, 126, 127} {270, 271, 272, 274, 275, 276, 277, 281, 282, 283, 284, 285, 286, 287, 288, 289, 250, 251, 252, 254} [[253, 278, 279, 280, 273]] [[109, 133, 134, 135, 129, 153, 154, 155, 149]]\n",
      "\r",
      " 3[(0, 168), (1, 185), (2, 186), (3, 187), (4, 188), (5, 165), (6, 196), (7, 197), (8, 198), (9, 189), (10, 166), (11, 199), (12, 200), (13, 201), (14, 190), (15, 167), (16, 202), (17, 203), (18, 204), (19, 191), (20, 169), (21, 193), (22, 194), (23, 195), (24, 192)] [(0, 148), (1, 170), (2, 171), (3, 172), (4, 168), (5, 145), (6, 176), (7, 177), (8, 178), (9, 165), (10, 146), (11, 179), (12, 180), (13, 181), (14, 166), (15, 147), (16, 182), (17, 183), (18, 184), (19, 167), (20, 149), (21, 173), (22, 174), (23, 175), (24, 169)]\n",
      "{145, 146, 147, 148, 165, 166, 167, 168, 170, 171, 172, 176, 177, 178, 179, 180, 181, 182, 183, 184, 185, 186, 187, 188, 189, 190, 191, 196, 197, 198, 199, 200, 201, 202, 203, 204} {270, 271, 272, 274, 290, 291, 292, 294, 295, 296, 297, 301, 302, 303, 304, 305, 306, 307, 308, 309} [[273, 298, 299, 300, 293]] [[149, 173, 174, 175, 169, 193, 194, 195, 192]]\n",
      "\r",
      " 4\r",
      " 5\r",
      " 6\r",
      " 7\r",
      " 8\r",
      " 9\r",
      " 10\r",
      " 11\r",
      " 12\r",
      " 13\r",
      " 14"
     ]
    }
   ],
   "source": [
    "deep = MA.assemble()"
   ]
  },
  {
   "cell_type": "code",
   "execution_count": null,
   "metadata": {
    "collapsed": false,
    "deletable": true,
    "editable": true
   },
   "outputs": [],
   "source": [
    "sine_test = grid_domain.vectorize_function(lambda x,y: np.sin(x+y))\n",
    "product = grid_domain.devectorize_vector(MA.assembled * sine_test)\n",
    "init = grid_domain.devectorize_function(lambda x,y: np.sin(x+y))\n",
    "\n",
    "visual.plot_surface_unstructured_w_dict(\n",
    "    point_val_dict=grid_domain.devectorize_vector(MA.assembled * sine_test),\n",
    "    plot_domain_shape=grid_domain.domain_size,\n",
    "    int_domain_shape=grid_domain.integer_size\n",
    ")\n",
    "\n",
    "#visual.plot_surface_unstructured_w_dict(\n",
    "#    point_val_dict=grid_domain.devectorize_function(lambda x,y: np.sin(x+y)),\n",
    "#    plot_domain_shape=grid_domain.domain_size,\n",
    "#    int_domain_shape=grid_domain.integer_size\n",
    "#)"
   ]
  },
  {
   "cell_type": "code",
   "execution_count": 11,
   "metadata": {
    "collapsed": false,
    "deletable": true,
    "editable": true,
    "scrolled": false
   },
   "outputs": [
    {
     "name": "stdout",
     "output_type": "stream",
     "text": [
      "49 zero derivative: -0.2898385734120094\n",
      "X derivative: -0.09999999712962114\n",
      "Y derivative: -4.3067115700339256e-10\n",
      "XX derivative: -0.00499999996211298\n",
      "YY derivative: 0.04594448226287619\n",
      "XY_derivative: 4.257282635085766e-12\n",
      "\n"
     ]
    }
   ],
   "source": [
    "sums = {'XX': 0, 'YY': 0, 'X': 0, 'Y': 0, 'zero': 0}\n",
    "for num,i in enumerate([49]):\n",
    "    print(i, end=' ')\n",
    "    for k, v in partial_diff_test(matrix=MA.half_glob,\n",
    "                       point=grid_domain.normal_index[i],\n",
    "                       pointnum=i,\n",
    "                       pointdict=grid_domain.pointwise_index,\n",
    "                       scale_factor=1).items():\n",
    "        sums[k] += v"
   ]
  },
  {
   "cell_type": "code",
   "execution_count": 12,
   "metadata": {
    "collapsed": false,
    "deletable": true,
    "editable": true,
    "scrolled": true
   },
   "outputs": [
    {
     "name": "stdout",
     "output_type": "stream",
     "text": [
      "49 zero derivative: 2.339987961725837\n",
      "X derivative: 0.29119352496284795\n",
      "Y derivative: 5.808725528449097e-10\n",
      "XX derivative: -0.03661935287972292\n",
      "YY derivative: 0.3177406042197098\n",
      "XY_derivative: 1.0988932368285683e-09\n",
      "\n"
     ]
    }
   ],
   "source": [
    "for i in [49]:\n",
    "    print(i, end=' ')\n",
    "    partial_diff_test(matrix=MA.assembled,\n",
    "                      point=grid_domain.normal_index[i],\n",
    "                      pointnum=i,\n",
    "                      pointdict=grid_domain.pointwise_index)"
   ]
  },
  {
   "cell_type": "code",
   "execution_count": 13,
   "metadata": {
    "collapsed": false
   },
   "outputs": [
    {
     "data": {
      "image/png": "[encoded data removed]",
      "text/plain": [
       "<matplotlib.figure.Figure at 0x7f5ac4c66048>"
      ]
     },
     "metadata": {},
     "output_type": "display_data"
    }
   ],
   "source": [
    "for num,i in enumerate([49]):\n",
    "    visual.deps_partial_diff(\n",
    "        matrix=MA.half_glob,\n",
    "        pointnum=i, num2point_index=grid_domain.normal_index,\n",
    "        print_text=True\n",
    "    )\n"
   ]
  },
  {
   "cell_type": "code",
   "execution_count": null,
   "metadata": {
    "collapsed": false
   },
   "outputs": [],
   "source": [
    "for num,i in enumerate([49]):\n",
    "    visual.deps_partial_diff(\n",
    "        matrix=MA.assembled,\n",
    "        pointnum=i, num2point_index=grid_domain.normal_index,\n",
    "        print_text=True\n",
    "    )\n"
   ]
  },
  {
   "cell_type": "code",
   "execution_count": null,
   "metadata": {
    "collapsed": true
   },
   "outputs": [],
   "source": []
  }
 ],
 "metadata": {
  "kernelspec": {
   "display_name": "Python 3",
   "language": "python",
   "name": "python3"
  },
  "language_info": {
   "codemirror_mode": {
    "name": "ipython",
    "version": 3
   },
   "file_extension": ".py",
   "mimetype": "text/x-python",
   "name": "python",
   "nbconvert_exporter": "python",
   "pygments_lexer": "ipython3",
   "version": "3.5.1"
  }
 },
 "nbformat": 4,
 "nbformat_minor": 2
}
