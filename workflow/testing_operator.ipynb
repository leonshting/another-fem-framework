{
 "cells": [
  {
   "cell_type": "code",
   "execution_count": 1,
   "metadata": {
    "collapsed": true,
    "deletable": true,
    "editable": true
   },
   "outputs": [],
   "source": [
    "import sys\n",
    "sys.path.insert(0,'/home/lshtanko/Programming/another-fem-framework/')\n",
    "#sys.path.insert(0,'/Users/marusy/Programming/another-fem-framework/')"
   ]
  },
  {
   "cell_type": "code",
   "execution_count": 2,
   "metadata": {
    "collapsed": true,
    "deletable": true,
    "editable": true
   },
   "outputs": [],
   "source": [
    "#import h5py\n",
    "\n",
    "from operator_assembler.assembly_interface import AssemblyInterface2D\n",
    "from operator_assembler.n_to_1_ddof_allocator import Nto1Allocator2D\n",
    "from grid.grid_manager import GridManager\n",
    "from grid.allocator_interface import InterfaceDofAllocator2D\n",
    "from grid.grid_domain import GridDomain\n",
    "from operator_assembler.matrix_assembler import MatrixAssembler2D\n",
    "from scipy.ndimage import imread\n",
    "from grid import cell, grid_layer, grid_manager\n",
    "import h5py\n",
    "import numpy as np\n",
    "\n",
    "from common import visual\n",
    "from common.tests import *\n",
    "from common.helpers import *\n",
    "from matplotlib import pyplot as plt\n",
    "from scipy.sparse import csr_matrix\n",
    "from scipy.sparse import linalg\n",
    "\n",
    "%matplotlib inline"
   ]
  },
  {
   "cell_type": "markdown",
   "metadata": {
    "deletable": true,
    "editable": true
   },
   "source": [
    "#### Bad cell"
   ]
  },
  {
   "cell_type": "code",
   "execution_count": null,
   "metadata": {
    "collapsed": true,
    "deletable": true,
    "editable": true
   },
   "outputs": [],
   "source": [
    "data_start = (16, 20)\n",
    "data_shape = (4, 4)\n",
    "data_end = tuple([i+j for i,j in zip(data_start, data_shape)])\n",
    "\n",
    "h5_data = h5py.File('../../../GM_L3D/600/state/viz_GM_1.h5')['index'][0]\n",
    "data = h5_data[data_start[0]:data_end[0], data_start[1]:data_end[1]]\n",
    "#data = imread('/Users/marusy/Programming/model/bhi2_labelled0000.tif')[data_start[0]:data_end[0], data_start[1]:data_end[1]]\n",
    "\n",
    "grid_domain = GridDomain(integer_size=data_shape, domain_size=(1.,1.))\n",
    "gm = GridManager()\n",
    "ifma = InterfaceDofAllocator2D(grid_manager=gm.fit(data=data))\n",
    "\n",
    "gm.draw_grid()"
   ]
  },
  {
   "cell_type": "code",
   "execution_count": 3,
   "metadata": {
    "collapsed": true,
    "deletable": true,
    "editable": true
   },
   "outputs": [],
   "source": [
    "cell1 = cell.Cell2D(size=(1,1), ll_vertex=(0,0))\n",
    "cell2 = cell.Cell2D(size=(1,1), ll_vertex=(0,1))\n",
    "\n",
    "cell3 = cell.Cell2D(size=(2,2), ll_vertex=(1,0))"
   ]
  },
  {
   "cell_type": "code",
   "execution_count": 4,
   "metadata": {
    "collapsed": true,
    "deletable": true,
    "editable": true
   },
   "outputs": [],
   "source": [
    "layer1 = grid_layer.GridLayer2D([c.ll_vertex for c in [cell1, cell2]], layer_number=0, index=[1,1], div_index=[1,1])\n",
    "layer2 = grid_layer.GridLayer2D([c.ll_vertex for c in [cell3]], layer_number=1, index=[1], div_index=[1])"
   ]
  },
  {
   "cell_type": "code",
   "execution_count": 5,
   "metadata": {
    "collapsed": true,
    "deletable": true,
    "editable": true
   },
   "outputs": [],
   "source": [
    "gm = grid_manager.GridManager(dim=2, method='coarse2to1')\n",
    "gm.grid_layers = [layer1, layer2]\n",
    "ifma = InterfaceDofAllocator2D(grid_manager=gm)"
   ]
  },
  {
   "cell_type": "code",
   "execution_count": 6,
   "metadata": {
    "collapsed": true,
    "deletable": true,
    "editable": true
   },
   "outputs": [],
   "source": [
    "ma = Nto1Allocator2D(grid_interface=ifma)\n",
    "ma._make_ddof_index()\n",
    "grid_domain = GridDomain(domain_size=(3.,2.), integer_size=(3,2))\n",
    "grid_domain.make_pointwise_index(ma)"
   ]
  },
  {
   "cell_type": "code",
   "execution_count": 7,
   "metadata": {
    "collapsed": false,
    "deletable": true,
    "editable": true
   },
   "outputs": [
    {
     "name": "stdout",
     "output_type": "stream",
     "text": [
      "[(0, 2), (1, 16), (2, 17), (3, 18), (4, 0), (5, 24), (6, 25), (7, 19), (8, 1), (9, 26), (10, 27), (11, 20), (12, 3), (13, 22), (14, 23), (15, 21)] [(0, 6), (1, 4), (2, 5), (3, 2), (4, 7), (5, 12), (6, 13), (7, 0), (8, 8), (9, 14), (10, 15), (11, 1), (12, 9), (13, 10), (14, 11), (15, 3)]\n",
      "[(0, 2), (1, 16), (2, 17), (3, 18), (4, 0), (5, 24), (6, 25), (7, 19), (8, 1), (9, 26), (10, 27), (11, 20), (12, 3), (13, 22), (14, 23), (15, 21)] [(0, 6), (1, 4), (2, 5), (3, 2), (4, 7), (5, 12), (6, 13), (7, 0), (8, 8), (9, 14), (10, 15), (11, 1), (12, 9), (13, 10), (14, 11), (15, 3)]\n",
      "{0, 1, 2, 4, 5, 6, 7, 8, 12, 13, 14, 15, 16, 17, 18, 19, 20, 24, 25, 26, 27} {32, 33, 34, 35, 36, 40, 41, 42, 43, 28, 29, 31} [[37, 38, 39, 30]] [[9, 10, 11, 3, 22, 23, 21]]\n",
      "\r",
      " 0\r",
      " 1\r",
      " 2"
     ]
    }
   ],
   "source": [
    "ifma2 = AssemblyInterface2D(allocator=ma)\n",
    "MA = MatrixAssembler2D(assembly_interface=ifma2, grid_domain=grid_domain)\n",
    "deep = MA.assemble()"
   ]
  },
  {
   "cell_type": "code",
   "execution_count": null,
   "metadata": {
    "collapsed": false,
    "deletable": true,
    "editable": true
   },
   "outputs": [],
   "source": [
    "sine_test = grid_domain.vectorize_function(lambda x,y: np.sin(x+y))\n",
    "product = grid_domain.devectorize_vector(MA.assembled * sine_test)\n",
    "init = grid_domain.devectorize_function(lambda x,y: np.sin(x+y))\n",
    "\n",
    "visual.plot_surface_unstructured_w_dict(\n",
    "    point_val_dict=grid_domain.devectorize_vector(MA.assembled * sine_test),\n",
    "    plot_domain_shape=grid_domain.domain_size,\n",
    "    int_domain_shape=grid_domain.integer_size\n",
    ")\n",
    "\n",
    "visual.plot_surface_unstructured_w_dict(\n",
    "    point_val_dict=grid_domain.devectorize_function(lambda x,y: np.sin(x+y)),\n",
    "    plot_domain_shape=grid_domain.domain_size,\n",
    "    int_domain_shape=grid_domain.integer_size\n",
    ")"
   ]
  },
  {
   "cell_type": "code",
   "execution_count": 9,
   "metadata": {
    "collapsed": false,
    "deletable": true,
    "editable": true
   },
   "outputs": [
    {
     "name": "stdout",
     "output_type": "stream",
     "text": [
      "0 X derivative: 1.4326159342159528e-08\n",
      "Y derivative: -1.1560971222013272e-08\n",
      "XX derivative: -0.06944445258134024\n",
      "YY derivative: -0.07100851460213832\n",
      "XY_derivative: 1.9691274687205773e-09\n",
      "\n",
      "1 X derivative: -3.5501590542330597e-08\n",
      "Y derivative: 2.454490749537186e-09\n",
      "XX derivative: -0.06944444365495747\n",
      "YY derivative: -0.14856425286631894\n",
      "XY_derivative: -3.132565484786909e-09\n",
      "\n",
      "2 X derivative: 0.1666666661164693\n",
      "Y derivative: -8.648394639321211e-10\n",
      "XX derivative: -0.01388888740748527\n",
      "YY derivative: -0.010253045015680005\n",
      "XY_derivative: -1.0757421776280696e-10\n",
      "\n",
      "3 X derivative: -1.7669437302192392e-09\n",
      "Y derivative: -1.87534846679549e-09\n",
      "XX derivative: -0.020833321974344756\n",
      "YY derivative: 0.0611978813047196\n",
      "XY_derivative: -2.232580578742649e-09\n",
      "\n",
      "4 X derivative: 0.4166666641518922\n",
      "Y derivative: -0.0027072280989555945\n",
      "XX derivative: -0.034722217950292525\n",
      "YY derivative: -0.03710536215468046\n",
      "XY_derivative: 0.0027072342058133813\n",
      "\n",
      "5 X derivative: 0.4166666641696824\n",
      "Y derivative: 0.0014758840311768773\n",
      "XX derivative: -0.034722217956986025\n",
      "YY derivative: -0.03711351925631823\n",
      "XY_derivative: -0.001475900490219506\n",
      "\n",
      "6 X derivative: 0.08333333305550211\n",
      "Y derivative: 0.08536153779376088\n",
      "XX derivative: -0.006944443702345127\n",
      "YY derivative: -0.00446508960947265\n",
      "XY_derivative: -0.0020282036778799216\n",
      "\n",
      "7 X derivative: 7.168240199334486e-09\n",
      "Y derivative: 0.4125925424337792\n",
      "XX derivative: -0.03472222629185584\n",
      "YY derivative: -0.04009364409681636\n",
      "XY_derivative: 0.002948060639277569\n",
      "\n",
      "8 X derivative: -1.7746002833884944e-08\n",
      "Y derivative: 0.41507482646017707\n",
      "XX derivative: -0.03472222182615912\n",
      "YY derivative: -0.03147149409176344\n",
      "XY_derivative: 0.0004399744956404064\n",
      "\n",
      "9 X derivative: 7.804209917194882e-10\n",
      "Y derivative: 0.09931032010841102\n",
      "XX derivative: -0.010416661262598353\n",
      "YY derivative: -0.012209518254483673\n",
      "XY_derivative: 0.0022566206816896014\n",
      "\n",
      "10 X derivative: -4.428833420659639e-09\n",
      "Y derivative: 0.03134698309010921\n",
      "XX derivative: -0.052083304933293426\n",
      "YY derivative: -0.10460313310001447\n",
      "XY_derivative: -0.005670391610421902\n",
      "\n",
      "11 X derivative: -6.090214513254644e-09\n",
      "Y derivative: 0.0010973690250026813\n",
      "XX derivative: -0.05208330465951716\n",
      "YY derivative: -0.036082801912150686\n",
      "XY_derivative: 0.0033206443103082905\n",
      "\n",
      "12 X derivative: 3.7110693444468434e-08\n",
      "Y derivative: 0.004810858221199655\n",
      "XX derivative: -0.17361113192459499\n",
      "YY derivative: -0.1736436351729059\n",
      "XY_derivative: -0.0034811423396059558\n",
      "\n",
      "13 X derivative: 3.711480226972763e-08\n",
      "Y derivative: -0.0028543023983622073\n",
      "XX derivative: -0.1736111319274937\n",
      "YY derivative: -0.1660432598993044\n",
      "XY_derivative: 0.0020653278236637002\n",
      "\n",
      "14 X derivative: -8.686948538283445e-08\n",
      "Y derivative: 0.010460513410230105\n",
      "XX derivative: -0.1736111093963304\n",
      "YY derivative: -0.10769622926568818\n",
      "XY_derivative: -0.002891204086881774\n",
      "\n",
      "15 X derivative: -8.68743247339765e-08\n",
      "Y derivative: -0.0026265469507869565\n",
      "XX derivative: -0.17361110939791236\n",
      "YY derivative: -0.2084683284201292\n",
      "XY_derivative: 0.0007259349136748972\n",
      "\n",
      "16 X derivative: 0.4166666641518922\n",
      "Y derivative: -0.001475872845600433\n",
      "XX derivative: -0.03472221795029253\n",
      "YY derivative: -0.03711352347250703\n",
      "XY_derivative: 0.0014758978745678317\n",
      "\n",
      "17 X derivative: 0.41666666416968245\n",
      "Y derivative: 0.00270720821028915\n",
      "XX derivative: -0.03472221795698601\n",
      "YY derivative: -0.03710536176066626\n",
      "XY_derivative: -0.002707233243412769\n",
      "\n",
      "18 X derivative: 0.08333333306096716\n",
      "Y derivative: -0.08536152512880954\n",
      "XX derivative: -0.006944443705140149\n",
      "YY derivative: -0.004465085883000007\n",
      "XY_derivative: 0.0020282023371851893\n",
      "\n",
      "19 X derivative: 7.157919132416701e-09\n",
      "Y derivative: -0.41259248286068234\n",
      "XX derivative: -0.034722226289484404\n",
      "YY derivative: -0.04009362811021583\n",
      "XY_derivative: -0.002948059912859513\n",
      "\n",
      "20 X derivative: -1.775558767722063e-08\n",
      "Y derivative: -0.41507476769574597\n",
      "XX derivative: -0.03472222182879833\n",
      "YY derivative: -0.0314714777151406\n",
      "XY_derivative: -0.0004399740055902254\n",
      "\n",
      "21 X derivative: 7.84032970491122e-10\n",
      "Y derivative: -0.09931030791086046\n",
      "XX derivative: -0.010416661265322553\n",
      "YY derivative: -0.012209514285898008\n",
      "XY_derivative: -0.002256619822451938\n",
      "\n",
      "22 X derivative: -6.085318193793654e-09\n",
      "Y derivative: -0.0010973870569863028\n",
      "XX derivative: -0.05208330466383635\n",
      "YY derivative: -0.03608279825674932\n",
      "XY_derivative: -0.003320656341394647\n",
      "\n",
      "23 X derivative: -4.415372040211807e-09\n",
      "Y derivative: -0.03134699555066925\n",
      "XX derivative: -0.05208330494356418\n",
      "YY derivative: -0.10460313218500789\n",
      "XY_derivative: 0.005670386400845148\n",
      "\n",
      "24 X derivative: 3.7110693629216485e-08\n",
      "Y derivative: 0.002854348070237371\n",
      "XX derivative: -0.173611131924595\n",
      "YY derivative: -0.1660432838709744\n",
      "XY_derivative: -0.002065323420703487\n",
      "\n",
      "25 X derivative: 3.71148022454415e-08\n",
      "Y derivative: -0.0048109651268082865\n",
      "XX derivative: -0.17361113192749367\n",
      "YY derivative: -0.17364363669725494\n",
      "XY_derivative: 0.003481144830113636\n",
      "\n",
      "26 X derivative: -8.68694853932428e-08\n",
      "Y derivative: 0.002626656503740249\n",
      "XX derivative: -0.1736111093963304\n",
      "YY derivative: -0.20846835181830048\n",
      "XY_derivative: -0.0007259509017756259\n",
      "\n",
      "27 X derivative: -8.687432466458755e-08\n",
      "Y derivative: -0.010460593366674348\n",
      "XX derivative: -0.1736111093979123\n",
      "YY derivative: -0.10769621982866909\n",
      "XY_derivative: 0.0028911975760166145\n",
      "\n",
      "28 X derivative: 5.6510548920862824e-08\n",
      "Y derivative: -0.8343177805987366\n",
      "XX derivative: -0.13888890573870383\n",
      "YY derivative: -0.12496245448212741\n",
      "XY_derivative: -0.0005442361735254544\n",
      "\n",
      "29 X derivative: -5.651379697546588e-08\n",
      "Y derivative: -0.8333133469854459\n",
      "XX derivative: -0.13888890574157894\n",
      "YY derivative: -0.13484523634516668\n",
      "XY_derivative: 2.875429293372478e-05\n",
      "\n",
      "30 X derivative: -5.515702880543039e-09\n",
      "Y derivative: -0.1376435540732668\n",
      "XX derivative: -0.020833322288168823\n",
      "YY derivative: -0.025335161923938677\n",
      "XY_derivative: -0.00046130385350010017\n",
      "\n",
      "31 X derivative: -0.1666666413890286\n",
      "Y derivative: -0.16664042675202562\n",
      "XX derivative: -0.027777760925539935\n",
      "YY derivative: -0.030240100943469836\n",
      "XY_derivative: 5.24447326373384e-05\n",
      "\n",
      "32 X derivative: -0.8333332069772506\n",
      "Y derivative: 8.434250015337819e-05\n",
      "XX derivative: -0.13888880464724104\n",
      "YY derivative: -0.13643806365083222\n",
      "XY_derivative: 0.00016866059370021502\n",
      "\n",
      "33 X derivative: -0.8333332069728028\n",
      "Y derivative: -8.436337319097818e-05\n",
      "XX derivative: -0.13888880464793746\n",
      "YY derivative: -0.13643804649496383\n",
      "XY_derivative: -0.00016866094198610734\n",
      "\n",
      "34 X derivative: -0.1666666413924789\n",
      "Y derivative: 0.16664044609671405\n",
      "XX derivative: -0.02777776092715044\n",
      "YY derivative: -0.03024010874047072\n",
      "XY_derivative: -5.244745010750396e-05\n",
      "\n",
      "35 X derivative: 5.6531191065106734e-08\n",
      "Y derivative: 0.8343178831467283\n",
      "XX derivative: -0.1388889057481896\n",
      "YY derivative: -0.1249624970284978\n",
      "XY_derivative: 0.0005442356429646855\n",
      "\n",
      "36 X derivative: -5.649462736512234e-08\n",
      "Y derivative: 0.8333134533427272\n",
      "XX derivative: -0.13888890573102208\n",
      "YY derivative: -0.13484527864715726\n",
      "XY_derivative: -2.87501383742228e-05\n",
      "\n",
      "37 X derivative: -5.522470772345578e-09\n",
      "Y derivative: 0.13764356725042212\n",
      "XX derivative: -0.020833322282788468\n",
      "YY derivative: -0.02533516684961254\n",
      "XY_derivative: 0.000461305004034393\n",
      "\n",
      "38 X derivative: -9.267650702415864e-09\n",
      "Y derivative: -0.025706620113648243\n",
      "XX derivative: -0.10416660990625182\n",
      "YY derivative: -0.1008120492477858\n",
      "XY_derivative: 0.0010451692464121393\n",
      "\n",
      "39 X derivative: -9.249735644090151e-09\n",
      "Y derivative: 0.025706586766015584\n",
      "XX derivative: -0.10416660991971184\n",
      "YY derivative: -0.10081204081562324\n",
      "XY_derivative: -0.0010451890108792473\n",
      "\n",
      "40 X derivative: 2.82525314240778e-07\n",
      "Y derivative: 0.002534462842438079\n",
      "XX derivative: -0.6944445286704515\n",
      "YY derivative: -0.7104888662694722\n",
      "XY_derivative: 0.0014009747145440022\n",
      "\n",
      "41 X derivative: 2.825335315981281e-07\n",
      "Y derivative: -0.0025346107884762353\n",
      "XX derivative: -0.6944445286820462\n",
      "YY derivative: -0.7104887876094915\n",
      "XY_derivative: -0.0014009993074353688\n",
      "\n",
      "42 X derivative: -2.825308653697789e-07\n",
      "Y derivative: -0.000365018272491191\n",
      "XX derivative: -0.6944445286728189\n",
      "YY derivative: -0.698304973300303\n",
      "XY_derivative: -0.000528368789401712\n",
      "\n",
      "43 X derivative: -2.8254054396104067e-07\n",
      "Y derivative: 0.0003649184915797705\n",
      "XX derivative: -0.6944445286791466\n",
      "YY derivative: -0.6983048768847356\n",
      "XY_derivative: 0.0005283741754784181\n",
      "\n"
     ]
    }
   ],
   "source": [
    "for i in grid_domain.normal_index.keys():\n",
    "    print(i, end=' ')\n",
    "    partial_diff_test(matrix=MA.assembled, point=grid_domain.normal_index[i], pointnum=i, pointdict=grid_domain.pointwise_index)"
   ]
  },
  {
   "cell_type": "code",
   "execution_count": null,
   "metadata": {
    "collapsed": false
   },
   "outputs": [],
   "source": [
    "partial_diff_test(matrix=deep[0][-1], point=grid_domain.normal_index[2], pointnum=2, pointdict=grid_domain.pointwise_index)"
   ]
  },
  {
   "cell_type": "code",
   "execution_count": null,
   "metadata": {
    "collapsed": true,
    "deletable": true,
    "editable": true
   },
   "outputs": [],
   "source": [
    "dist = distributed_eye_easy(ma.get_cell_list_of_ddofs(cell=cell3), axis2shape=MA.assembly_interface.get_ddof_count())"
   ]
  },
  {
   "cell_type": "code",
   "execution_count": null,
   "metadata": {
    "collapsed": false,
    "deletable": true,
    "editable": true
   },
   "outputs": [],
   "source": [
    "pipka = dist.T * csr_matrix(MA._get_local_gg_matrix(distribution='lobatto', order=3)) * dist"
   ]
  },
  {
   "cell_type": "code",
   "execution_count": null,
   "metadata": {
    "collapsed": false,
    "deletable": true,
    "editable": true
   },
   "outputs": [],
   "source": [
    "mm = np.array(MA.assembled_mass.sum(axis=1)).flatten()"
   ]
  },
  {
   "cell_type": "code",
   "execution_count": null,
   "metadata": {
    "collapsed": false,
    "deletable": true,
    "editable": true
   },
   "outputs": [],
   "source": [
    "mm_sp = csr_matrix(np.diag(1/mm))"
   ]
  },
  {
   "cell_type": "code",
   "execution_count": null,
   "metadata": {
    "collapsed": true,
    "deletable": true,
    "editable": true
   },
   "outputs": [],
   "source": [
    "op =  mm_sp * MA.assembled "
   ]
  },
  {
   "cell_type": "code",
   "execution_count": null,
   "metadata": {
    "collapsed": false,
    "deletable": true,
    "editable": true
   },
   "outputs": [],
   "source": [
    "grid_domain.normal_index"
   ]
  },
  {
   "cell_type": "code",
   "execution_count": null,
   "metadata": {
    "collapsed": false,
    "deletable": true,
    "editable": true
   },
   "outputs": [],
   "source": [
    "MA.assembly_interface.allocator.get_cell_list_of_ddofs(cell2)"
   ]
  },
  {
   "cell_type": "code",
   "execution_count": null,
   "metadata": {
    "collapsed": false
   },
   "outputs": [],
   "source": [
    "plt.imshow(deep[0][-1].toarray(), interpolation='none')"
   ]
  },
  {
   "cell_type": "code",
   "execution_count": null,
   "metadata": {
    "collapsed": false
   },
   "outputs": [],
   "source": [
    "grid_domain.normal_index"
   ]
  },
  {
   "cell_type": "code",
   "execution_count": null,
   "metadata": {
    "collapsed": true
   },
   "outputs": [],
   "source": []
  }
 ],
 "metadata": {
  "kernelspec": {
   "display_name": "Python 3",
   "language": "python",
   "name": "python3"
  },
  "language_info": {
   "codemirror_mode": {
    "name": "ipython",
    "version": 3
   },
   "file_extension": ".py",
   "mimetype": "text/x-python",
   "name": "python",
   "nbconvert_exporter": "python",
   "pygments_lexer": "ipython3",
   "version": "3.5.1"
  }
 },
 "nbformat": 4,
 "nbformat_minor": 2
}
