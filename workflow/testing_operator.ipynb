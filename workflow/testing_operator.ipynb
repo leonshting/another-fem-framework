{
 "cells": [
  {
   "cell_type": "code",
   "execution_count": 1,
   "metadata": {
    "collapsed": true,
    "deletable": true,
    "editable": true
   },
   "outputs": [],
   "source": [
    "import sys\n",
    "sys.path.insert(0,'/home/lshtanko/Programming/another-fem-framework/')\n",
    "#sys.path.insert(0,'/Users/marusy/Programming/another-fem-framework/')\n",
    "#sys.path.insert(0,'/Users/leonshting/Programming/Schlumberger/fem-framework/')"
   ]
  },
  {
   "cell_type": "code",
   "execution_count": 2,
   "metadata": {
    "collapsed": false,
    "deletable": true,
    "editable": true
   },
   "outputs": [],
   "source": [
    "from operator_assembler.assembly_interface import AssemblyInterface2D\n",
    "from operator_assembler.n_to_1_ddof_allocator import Nto1Allocator2D\n",
    "from grid.grid_manager import GridManager\n",
    "from grid.allocator_interface import InterfaceDofAllocator2D\n",
    "from grid.grid_domain import GridDomain\n",
    "from operator_assembler.matrix_assembler import MatrixAssembler2D\n",
    "from scipy.ndimage import imread\n",
    "from grid import cell, grid_layer, grid_manager\n",
    "import h5py\n",
    "import numpy as np\n",
    "\n",
    "from interpolant.cell_to_points import *\n",
    "from common import visual\n",
    "from common.tests import *\n",
    "from common.helpers import *\n",
    "from matplotlib import pyplot as plt\n",
    "from scipy.sparse import csr_matrix\n",
    "from scipy.sparse import linalg\n",
    "\n",
    "%matplotlib inline\n",
    "plt.rcParams['figure.figsize'] = 15, 10"
   ]
  },
  {
   "cell_type": "code",
   "execution_count": 3,
   "metadata": {
    "collapsed": true,
    "deletable": true,
    "editable": true
   },
   "outputs": [],
   "source": [
    "np.set_printoptions(linewidth=500)"
   ]
  },
  {
   "cell_type": "markdown",
   "metadata": {
    "deletable": true,
    "editable": true
   },
   "source": [
    "#### Bad cell"
   ]
  },
  {
   "cell_type": "code",
   "execution_count": 4,
   "metadata": {
    "collapsed": false,
    "deletable": true,
    "editable": true
   },
   "outputs": [
    {
     "data": {
      "image/png": "[encoded data removed]",
      "text/plain": [
       "<matplotlib.figure.Figure at 0x7fb56b607518>"
      ]
     },
     "metadata": {},
     "output_type": "display_data"
    }
   ],
   "source": [
    "data_start = (133, 28)\n",
    "data_shape = (8, 8)\n",
    "data_end = tuple([i+j for i,j in zip(data_start, data_shape)])\n",
    "\n",
    "h5_data = h5py.File('../../../GM_L3D/600/state/viz_GM_1.h5')['index'][0]\n",
    "data = h5_data[data_start[0]:data_end[0], data_start[1]:data_end[1]]\n",
    "#data = imread('/Users/marusy/Programming/model/bhi2_labelled0000.tif')[data_start[0]:data_end[0], data_start[1]:data_end[1]]\n",
    "\n",
    "grid_domain = GridDomain(integer_size=data_shape, domain_size=(1.,1.))\n",
    "gm = GridManager()\n",
    "ifma = InterfaceDofAllocator2D(grid_manager=gm.fit(data=data))\n",
    "\n",
    "\n",
    "gm.draw_grid()"
   ]
  },
  {
   "cell_type": "code",
   "execution_count": 12,
   "metadata": {
    "collapsed": false
   },
   "outputs": [
    {
     "data": {
      "text/plain": [
       "{37, 259}"
      ]
     },
     "execution_count": 12,
     "metadata": {},
     "output_type": "execute_result"
    }
   ],
   "source": [
    "grid_domain.pointwise_index[(4.0,4.0)]"
   ]
  },
  {
   "cell_type": "code",
   "execution_count": null,
   "metadata": {
    "collapsed": true,
    "deletable": true,
    "editable": true
   },
   "outputs": [],
   "source": [
    "cell15 = cell.Cell2D(size=(1,1), ll_vertex=(0,8))\n",
    "cell25 = cell.Cell2D(size=(1,1), ll_vertex=(0,9))\n",
    "\n",
    "cell14 = cell.Cell2D(size=(1,1), ll_vertex=(0,6))\n",
    "cell24 = cell.Cell2D(size=(1,1), ll_vertex=(0,7))\n",
    "\n",
    "cell13 = cell.Cell2D(size=(1,1), ll_vertex=(0,4))\n",
    "cell23 = cell.Cell2D(size=(1,1), ll_vertex=(0,5))\n",
    "\n",
    "cell12 = cell.Cell2D(size=(1,1), ll_vertex=(0,2))\n",
    "cell22 = cell.Cell2D(size=(1,1), ll_vertex=(0,3))\n",
    "\n",
    "cell1 = cell.Cell2D(size=(1,1), ll_vertex=(0,0))\n",
    "cell2 = cell.Cell2D(size=(1,1), ll_vertex=(0,1))\n",
    "\n",
    "cell3 = cell.Cell2D(size=(2,2), ll_vertex=(1,0))\n",
    "cell32 = cell.Cell2D(size=(2,2), ll_vertex=(1,2))\n",
    "cell33 = cell.Cell2D(size=(2,2), ll_vertex=(1,4))\n",
    "cell34 = cell.Cell2D(size=(2,2), ll_vertex=(1,6))\n",
    "cell35 = cell.Cell2D(size=(2,2), ll_vertex=(1,8))"
   ]
  },
  {
   "cell_type": "code",
   "execution_count": null,
   "metadata": {
    "collapsed": true,
    "deletable": true,
    "editable": true
   },
   "outputs": [],
   "source": [
    "layer1 = grid_layer.GridLayer2D([c.ll_vertex for c in [cell1, cell2, cell12, cell22, cell13, cell23, cell14, cell24, cell15, cell25]], layer_number=0, index=[1,1], div_index=[1,1])\n",
    "layer2 = grid_layer.GridLayer2D([c.ll_vertex for c in [cell3, cell32, cell33, cell34, cell35]], layer_number=1, index=[1], div_index=[1])\n",
    "\n",
    "#layer1 = grid_layer.GridLayer2D([c.ll_vertex for c in [cell1, cell2]], layer_number=0, index=[1,1], div_index=[1,1])\n",
    "#layer2 = grid_layer.GridLayer2D([c.ll_vertex for c in [cell3]], layer_number=1, index=[1], div_index=[1])"
   ]
  },
  {
   "cell_type": "code",
   "execution_count": null,
   "metadata": {
    "collapsed": true,
    "deletable": true,
    "editable": true
   },
   "outputs": [],
   "source": [
    "gm = grid_manager.GridManager(dim=2, method='coarse2to1')\n",
    "gm.grid_layers = [layer1, layer2]\n",
    "ifma = InterfaceDofAllocator2D(grid_manager=gm)\n",
    "\n",
    "## setting the order of BF\n",
    "#ifma._default_order = 3"
   ]
  },
  {
   "cell_type": "code",
   "execution_count": 5,
   "metadata": {
    "collapsed": true,
    "deletable": true,
    "editable": true
   },
   "outputs": [],
   "source": [
    "ma = Nto1Allocator2D(grid_interface=ifma)\n",
    "ma._make_ddof_index()"
   ]
  },
  {
   "cell_type": "code",
   "execution_count": null,
   "metadata": {
    "collapsed": true,
    "deletable": true,
    "editable": true
   },
   "outputs": [],
   "source": [
    "#6 cells\n",
    "ma._vertex_ddof_index[((0, 3), (0, 4))] = (ma._vertex_ddof_index[((0, 3), (0, 4))][0], ma._vertex_ddof_index[((0, 0), (0, 0))][1])\n",
    "ma._vertex_ddof_index[((0, 3), (1, 4))] = (ma._vertex_ddof_index[((0, 3), (1, 4))][0], ma._vertex_ddof_index[((0, 0), (1, 0))][1])\n",
    "ma._vertex_ddof_index[((1, 2), (1, 4))] = (ma._vertex_ddof_index[((1, 2), (1, 4))][0], ma._vertex_ddof_index[((1, 0), (1, 0))][1])\n",
    "ma._vertex_ddof_index[((1, 2), (3, 4))] = (ma._vertex_ddof_index[((1, 2), (3, 4))][0], ma._vertex_ddof_index[((1, 0), (3, 0))][1])"
   ]
  },
  {
   "cell_type": "code",
   "execution_count": null,
   "metadata": {
    "collapsed": true,
    "deletable": true,
    "editable": true
   },
   "outputs": [],
   "source": [
    "#3 cells\n",
    "ma._vertex_ddof_index[((0, 1), (0, 2))] = (ma._vertex_ddof_index[((0, 1), (0, 2))][0], ma._vertex_ddof_index[((0, 0), (0, 0))][1])\n",
    "ma._vertex_ddof_index[((0, 1), (1, 2))] = (ma._vertex_ddof_index[((0, 1), (1, 2))][0], ma._vertex_ddof_index[((0, 0), (1, 0))][1])\n",
    "ma._vertex_ddof_index[((1, 0), (1, 2))] = (ma._vertex_ddof_index[((1, 0), (1, 2))][0], ma._vertex_ddof_index[((1, 0), (1, 0))][1])\n",
    "ma._vertex_ddof_index[((1, 0), (3, 2))] = (ma._vertex_ddof_index[((1, 0), (3, 2))][0], ma._vertex_ddof_index[((1, 0), (3, 0))][1])"
   ]
  },
  {
   "cell_type": "code",
   "execution_count": null,
   "metadata": {
    "collapsed": true,
    "deletable": true,
    "editable": true
   },
   "outputs": [],
   "source": [
    "#6 cells\n",
    "edge_mapping = {((0, 4), (1, 4)): ((0, 0), (1, 0)), ((1, 4), (3, 4)): ((1, 0), (3, 0))}\n",
    "#3cells\n",
    "#edge_mapping = {((0, 2), (1, 2)): ((0, 0), (1, 0)), ((1, 2), (3, 2)): ((1, 0), (3, 0))}\n",
    "for (cell, edge), dd in ma._edge_ddof_index.items():\n",
    "    if edge_mapping.get(edge) is not None:\n",
    "        edge_slave = edge\n",
    "        edge_prim = edge_mapping[edge]\n",
    "        prim_cell = [i for i in list(ma._edge_ddof_index.keys()) if i[1] == edge_prim][0][0]\n",
    "        ma._edge_ddof_index[(cell, edge_slave)] = [(i[0],j[1])\n",
    "            for i,j in\n",
    "            zip(ma._edge_ddof_index[(cell, edge_slave)], ma._edge_ddof_index[(prim_cell, edge_prim)])\n",
    "        ]"
   ]
  },
  {
   "cell_type": "code",
   "execution_count": null,
   "metadata": {
    "collapsed": true,
    "deletable": true,
    "editable": true
   },
   "outputs": [],
   "source": [
    "#6 cells\n",
    "ma._weak_edge_connections[ ((0, 2),\n",
    "  ((1, 2), (1, 3)))] = {((1, 2), ((1, 2), (1, 4))): [(0, 54),\n",
    "   (1, 74),\n",
    "   (2, 75),\n",
    "   (3, 61)]}\n",
    "\n",
    "ma._weak_edge_connections[((0, 3),\n",
    "  ((1, 3), (1, 4)))] = {((1, 2), ((1, 2), (1, 4))): [(0, 54),\n",
    "   (1, 74),\n",
    "   (2, 75),\n",
    "   (3, 61)]}\n",
    "\n",
    "ma._weak_edge_connections[((1, 2),\n",
    "  ((1, 2), (1, 4)))] = {((0, 2), ((1, 2), (1, 3))): [(12, 19),\n",
    "   (13, 34),\n",
    "   (14, 35),\n",
    "   (15, 31)], ((0, 3), ((1, 3), (1, 4))): [(12, 31),\n",
    "   (13, 46),\n",
    "   (14, 47),\n",
    "   (15, 9)]}"
   ]
  },
  {
   "cell_type": "code",
   "execution_count": null,
   "metadata": {
    "collapsed": true,
    "deletable": true,
    "editable": true
   },
   "outputs": [],
   "source": [
    "#3cells\n",
    "ma._weak_edge_connections[((0, 0), ((1, 0), (1, 1)))] = {((1, 0), ((1, 0), (1, 2))): [(0, 37),\n",
    "   (1, 38),\n",
    "   (2, 39),\n",
    "   (3, 37)]}\n",
    "ma._weak_edge_connections[((0, 1), ((1, 1), (1, 2)))] = {((1, 0), ((1, 0), (1, 2))): [(0, 37),\n",
    "   (1, 38),\n",
    "   (2, 39),\n",
    "   (3, 37)]}\n",
    "\n",
    "ma._weak_edge_connections[((1, 0),((1, 0), (1, 2)))] = {((0, 0), ((1, 0), (1, 1))): [(12, 9),\n",
    "   (13, 10),\n",
    "   (14, 11),\n",
    "   (15, 3)], ((0, 1), ((1, 1), (1, 2))): [(12, 3),\n",
    "   (13, 22),\n",
    "   (14, 23),\n",
    "   (15, 9)]}"
   ]
  },
  {
   "cell_type": "code",
   "execution_count": 6,
   "metadata": {
    "collapsed": false,
    "deletable": true,
    "editable": true
   },
   "outputs": [],
   "source": [
    "grid_domain = GridDomain(domain_size=(4.,4.), integer_size=(4,4))\n",
    "grid_domain.make_pointwise_index(ma)"
   ]
  },
  {
   "cell_type": "code",
   "execution_count": 7,
   "metadata": {
    "collapsed": true,
    "deletable": true,
    "editable": true
   },
   "outputs": [],
   "source": [
    "ifma2 = AssemblyInterface2D(allocator=ma)\n",
    "MA = MatrixAssembler2D(assembly_interface=ifma2, grid_domain=grid_domain)"
   ]
  },
  {
   "cell_type": "code",
   "execution_count": 8,
   "metadata": {
    "collapsed": true
   },
   "outputs": [],
   "source": [
    "MA.assemble_dist()"
   ]
  },
  {
   "cell_type": "code",
   "execution_count": 9,
   "metadata": {
    "collapsed": false
   },
   "outputs": [],
   "source": [
    "MA.assemble_glob_local()"
   ]
  },
  {
   "cell_type": "code",
   "execution_count": 10,
   "metadata": {
    "collapsed": false
   },
   "outputs": [],
   "source": [
    "new = MA.unmerged * MA.dist\n",
    "new_ass = MA.dist.T * MA.unmerged * MA.dist"
   ]
  },
  {
   "cell_type": "code",
   "execution_count": 11,
   "metadata": {
    "collapsed": false
   },
   "outputs": [
    {
     "data": {
      "text/plain": [
       "<matplotlib.image.AxesImage at 0x7fb5692303c8>"
      ]
     },
     "execution_count": 11,
     "metadata": {},
     "output_type": "execute_result"
    },
    {
     "data": {
      "image/png": "[encoded data removed]",
      "text/plain": [
       "<matplotlib.figure.Figure at 0x7fb5d49a5be0>"
      ]
     },
     "metadata": {},
     "output_type": "display_data"
    }
   ],
   "source": [
    "plt.imshow(new_ass.toarray(), interpolation='none')"
   ]
  },
  {
   "cell_type": "code",
   "execution_count": null,
   "metadata": {
    "collapsed": false,
    "deletable": true,
    "editable": true,
    "scrolled": true
   },
   "outputs": [],
   "source": [
    "deep = MA.assemble()"
   ]
  },
  {
   "cell_type": "code",
   "execution_count": null,
   "metadata": {
    "collapsed": false,
    "deletable": true,
    "editable": true
   },
   "outputs": [],
   "source": [
    "sine_test = grid_domain.vectorize_function(lambda x,y: np.sin(x+y))\n",
    "product = grid_domain.devectorize_vector(new_ass * sine_test)\n",
    "init = grid_domain.devectorize_function(lambda x,y: np.sin(x+y))\n",
    "\n",
    "visual.plot_surface_unstructured_w_dict(\n",
    "    point_val_dict=grid_domain.devectorize_vector(new_ass * sine_test),\n",
    "    plot_domain_shape=grid_domain.domain_size,\n",
    "    int_domain_shape=grid_domain.integer_size\n",
    ")\n",
    "\n",
    "#visual.plot_surface_unstructured_w_dict(\n",
    "#    point_val_dict=grid_domain.devectorize_function(lambda x,y: np.sin(x+y)),\n",
    "#    plot_domain_shape=grid_domain.domain_size,\n",
    "#    int_domain_shape=grid_domain.integer_size\n",
    "#)"
   ]
  },
  {
   "cell_type": "code",
   "execution_count": 13,
   "metadata": {
    "collapsed": false,
    "deletable": true,
    "editable": true,
    "scrolled": true
   },
   "outputs": [
    {
     "name": "stdout",
     "output_type": "stream",
     "text": [
      "37 zero derivative: -8.081729729880749e-14\n",
      "X derivative: -0.08333482410862753\n",
      "Y derivative: 0.0833348241068507\n",
      "XX derivative: -0.006945987998987172\n",
      "YY derivative: -0.006945987997705232\n",
      "XY_derivative: 9.111033110954709e-09\n",
      "\n"
     ]
    }
   ],
   "source": [
    "for i in [37]:\n",
    "    print(i, end=' ')\n",
    "    partial_diff_test(matrix=new,\n",
    "                      point=grid_domain.normal_index[i],\n",
    "                      pointnum=i,\n",
    "                      pointdict=grid_domain.pointwise_index)"
   ]
  },
  {
   "cell_type": "code",
   "execution_count": 17,
   "metadata": {
    "collapsed": false,
    "deletable": true,
    "editable": true
   },
   "outputs": [
    {
     "data": {
      "image/png": "[encoded data removed]",
      "text/plain": [
       "<matplotlib.figure.Figure at 0x7fb568ffaa90>"
      ]
     },
     "metadata": {},
     "output_type": "display_data"
    }
   ],
   "source": [
    "for num,i in enumerate([37]):\n",
    "    visual.deps_partial_diff(\n",
    "        matrix=new,\n",
    "        pointnum=i, num2point_index=grid_domain.normal_index,\n",
    "        print_text=True,\n",
    "        p2n_index = grid_domain.pointwise_index\n",
    "    )\n"
   ]
  },
  {
   "cell_type": "code",
   "execution_count": null,
   "metadata": {
    "collapsed": false
   },
   "outputs": [],
   "source": [
    "np.argsort(np.array(MA.dist.sum(axis=1)).flatten())"
   ]
  },
  {
   "cell_type": "code",
   "execution_count": null,
   "metadata": {
    "collapsed": false,
    "deletable": true,
    "editable": true
   },
   "outputs": [],
   "source": [
    "for num,i in enumerate([259]):\n",
    "    visual.deps_partial_diff(\n",
    "        matrix=MA.unmerged,\n",
    "        pointnum=i, num2point_index=grid_domain.normal_index,\n",
    "        print_text=True,\n",
    "        p2n_index = grid_domain.pointwise_index\n",
    "    )\n"
   ]
  },
  {
   "cell_type": "code",
   "execution_count": null,
   "metadata": {
    "collapsed": false,
    "deletable": true,
    "editable": true
   },
   "outputs": [],
   "source": [
    "plt.imshow(MA.dist.toarray())"
   ]
  },
  {
   "cell_type": "code",
   "execution_count": null,
   "metadata": {
    "collapsed": true
   },
   "outputs": [],
   "source": []
  }
 ],
 "metadata": {
  "kernelspec": {
   "display_name": "Python 3",
   "language": "python",
   "name": "python3"
  },
  "language_info": {
   "codemirror_mode": {
    "name": "ipython",
    "version": 3
   },
   "file_extension": ".py",
   "mimetype": "text/x-python",
   "name": "python",
   "nbconvert_exporter": "python",
   "pygments_lexer": "ipython3",
   "version": "3.5.1"
  }
 },
 "nbformat": 4,
 "nbformat_minor": 2
}
