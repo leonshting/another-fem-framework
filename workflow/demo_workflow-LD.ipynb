{
 "cells": [
  {
   "cell_type": "code",
   "execution_count": 1,
   "metadata": {
    "collapsed": true,
    "deletable": true,
    "editable": true
   },
   "outputs": [],
   "source": [
    "import os\n",
    "import sys"
   ]
  },
  {
   "cell_type": "code",
   "execution_count": 2,
   "metadata": {
    "collapsed": true,
    "deletable": true,
    "editable": true
   },
   "outputs": [],
   "source": [
    "#sys.path.insert(0, '/Users/marusy/Programming/another-fem-framework/')\n",
    "sys.path.insert(0, '/home/lshtanko/Programming/another-fem-framework/')\n",
    "#sys.path.insert(0, '/Users/leonshting/Programming/Schlumberger/fem-framework/')"
   ]
  },
  {
   "cell_type": "code",
   "execution_count": 3,
   "metadata": {
    "collapsed": true,
    "deletable": true,
    "editable": true
   },
   "outputs": [],
   "source": [
    "import numpy as np\n",
    "from interpolant.cell_to_points import Cell2PointsConverter\n",
    "from interpolant.strict import StrictSolve\n",
    "from interpolant.opt import OptSolve\n",
    "from common.helpers import *\n",
    "from interpolant.helpers import *\n",
    "from matplotlib import pyplot as plt\n",
    "%matplotlib inline"
   ]
  },
  {
   "cell_type": "code",
   "execution_count": 4,
   "metadata": {
    "collapsed": true,
    "deletable": true,
    "editable": true
   },
   "outputs": [],
   "source": [
    "np.set_printoptions(linewidth=500, precision=3)"
   ]
  },
  {
   "cell_type": "code",
   "execution_count": 5,
   "metadata": {
    "collapsed": true,
    "deletable": true,
    "editable": true
   },
   "outputs": [],
   "source": [
    "c2p = Cell2PointsConverter(orders=[[3],[3,3]])"
   ]
  },
  {
   "cell_type": "code",
   "execution_count": 18,
   "metadata": {
    "collapsed": false
   },
   "outputs": [
    {
     "data": {
      "text/plain": [
       "[array([ 0.   ,  0.276,  0.724,  1.   ]),\n",
       " array([ 0.   ,  0.138,  0.362,  0.5  ,  0.638,  0.862,  1.   ])]"
      ]
     },
     "execution_count": 18,
     "metadata": {},
     "output_type": "execute_result"
    }
   ],
   "source": [
    "_p=c2p.get_points()\n",
    "_p"
   ]
  },
  {
   "cell_type": "code",
   "execution_count": 9,
   "metadata": {
    "collapsed": false
   },
   "outputs": [
    {
     "data": {
      "text/plain": [
       "[array([[ 0.083,  0.   ,  0.   ,  0.   ],\n",
       "        [ 0.   ,  0.417,  0.   ,  0.   ],\n",
       "        [ 0.   ,  0.   ,  0.417,  0.   ],\n",
       "        [ 0.   ,  0.   ,  0.   ,  0.083]]),\n",
       " array([[ 0.042,  0.   ,  0.   ,  0.   ,  0.   ,  0.   ,  0.   ],\n",
       "        [ 0.   ,  0.208,  0.   ,  0.   ,  0.   ,  0.   ,  0.   ],\n",
       "        [ 0.   ,  0.   ,  0.208,  0.   ,  0.   ,  0.   ,  0.   ],\n",
       "        [ 0.   ,  0.   ,  0.   ,  0.083,  0.   ,  0.   ,  0.   ],\n",
       "        [ 0.   ,  0.   ,  0.   ,  0.   ,  0.208,  0.   ,  0.   ],\n",
       "        [ 0.   ,  0.   ,  0.   ,  0.   ,  0.   ,  0.208,  0.   ],\n",
       "        [ 0.   ,  0.   ,  0.   ,  0.   ,  0.   ,  0.   ,  0.042]])]"
      ]
     },
     "execution_count": 9,
     "metadata": {},
     "output_type": "execute_result"
    }
   ],
   "source": [
    "c2p.get_diag_weights()"
   ]
  },
  {
   "cell_type": "code",
   "execution_count": 28,
   "metadata": {
    "collapsed": false
   },
   "outputs": [
    {
     "data": {
      "text/plain": [
       "(-8.4624568602587047e-08, -1.2903394186469797e-08)"
      ]
     },
     "execution_count": 28,
     "metadata": {},
     "output_type": "execute_result"
    }
   ],
   "source": [
    "_w=c2p.get_weights()\n",
    "o=5\n",
    "(1/o-np.sum(_w[0]*_p[0]**(o-1)))*o, (1/o-np.sum(_w[1]*_p[1]**(o-1)))*o"
   ]
  },
  {
   "cell_type": "code",
   "execution_count": 31,
   "metadata": {
    "collapsed": true,
    "deletable": true,
    "editable": true
   },
   "outputs": [],
   "source": [
    "strict_solve = StrictSolve(points=c2p.get_points(), weights=c2p.get_diag_weights(), verbose=True)"
   ]
  },
  {
   "cell_type": "code",
   "execution_count": null,
   "metadata": {
    "collapsed": false,
    "deletable": true,
    "editable": true
   },
   "outputs": [],
   "source": [
    "c2p.get_points()"
   ]
  },
  {
   "cell_type": "code",
   "execution_count": 30,
   "metadata": {
    "collapsed": false,
    "deletable": true,
    "editable": true
   },
   "outputs": [
    {
     "name": "stdout",
     "output_type": "stream",
     "text": [
      "Number of equations: 11\n",
      "Number of degrees of freedom: 28\n",
      "Strictly stitched_power: 0\n",
      "Start solving strict part\n",
      "End solving strict part\n",
      "NullspaceRank: 18\n"
     ]
    }
   ],
   "source": [
    "strict_solve.fit_strict(max_power=strict_solve.get_max_pow(unrisky=True), method='sympy')"
   ]
  },
  {
   "cell_type": "code",
   "execution_count": null,
   "metadata": {
    "collapsed": true,
    "deletable": true,
    "editable": true
   },
   "outputs": [],
   "source": [
    "interps = strict_solve.get_interpolants()\n",
    "wgths = strict_solve.get_weight_matrices()"
   ]
  },
  {
   "cell_type": "code",
   "execution_count": null,
   "metadata": {
    "collapsed": true,
    "deletable": true,
    "editable": true
   },
   "outputs": [],
   "source": [
    "opt_solve = OptSolve(matrices=interps,\n",
    "                     points=c2p.get_points(),\n",
    "                     strict_power=strict_solve.get_max_pow(unrisky=True),\n",
    "                     weights_matrices=wgths,\n",
    "                     verbose=True\n",
    "                    )"
   ]
  },
  {
   "cell_type": "code",
   "execution_count": null,
   "metadata": {
    "collapsed": false,
    "deletable": true,
    "editable": true
   },
   "outputs": [],
   "source": [
    "opt_solve.fit_opt(constraints=True, tr_fun_option='chebyshev', orders_forwards=2)"
   ]
  },
  {
   "cell_type": "code",
   "execution_count": null,
   "metadata": {
    "collapsed": true,
    "deletable": true,
    "editable": true
   },
   "outputs": [],
   "source": [
    "opt_solve.restart_opt(tolerance=1e-3)"
   ]
  },
  {
   "cell_type": "code",
   "execution_count": null,
   "metadata": {
    "collapsed": false,
    "deletable": true,
    "editable": true
   },
   "outputs": [],
   "source": [
    "I_rl = np.array(opt_solve.I_rl_subbed).astype(np.float64)\n",
    "I_lr = np.array(opt_solve.I_lr_subbed).astype(np.float64)"
   ]
  },
  {
   "cell_type": "code",
   "execution_count": null,
   "metadata": {
    "collapsed": true,
    "deletable": true,
    "editable": true
   },
   "outputs": [],
   "source": [
    "tr_f = np.vectorize(lambda x: (x-0.5)*x*(x-1))"
   ]
  },
  {
   "cell_type": "code",
   "execution_count": null,
   "metadata": {
    "collapsed": false,
    "deletable": true,
    "editable": true,
    "scrolled": true
   },
   "outputs": [],
   "source": [
    "eps_l, eps_r = convergence_test(I_lr=new_int1,\n",
    "                                I_rl=new_int2,\n",
    "                                p_l=opt_solve.points[0],\n",
    "                                p_r=opt_solve.points[1],\n",
    "                                init_size=(0,1),\n",
    "                                tr_f=tr_f,\n",
    "                                weights=[np.array(strict_solve.W_l), np.array(strict_solve.W_r)],\n",
    "                                div_lim=7)"
   ]
  },
  {
   "cell_type": "code",
   "execution_count": null,
   "metadata": {
    "collapsed": true,
    "deletable": true,
    "editable": true
   },
   "outputs": [],
   "source": [
    "explosion_test(I_lr=I_lr,\n",
    "               I_rl=I_rl,\n",
    "               p_l=opt_solve.points[0],\n",
    "               p_r=opt_solve.points[1],\n",
    "               tr_f=tr_f,\n",
    "               reps=3)"
   ]
  },
  {
   "cell_type": "code",
   "execution_count": null,
   "metadata": {
    "collapsed": true,
    "deletable": true,
    "editable": true
   },
   "outputs": [],
   "source": [
    "plt.semilogy(range(len(eps_l)), eps_l)\n",
    "plt.semilogy(range(len(eps_r)), eps_r)\n",
    "plt.semilogy(np.linspace(0, len(eps_r)), float(eps_r[0])*np.exp(-np.linspace(0, len(eps_r))))\n",
    "plt.semilogy(np.linspace(0, len(eps_r)), float(eps_r[0])*np.exp(-2*np.linspace(0, len(eps_r))))"
   ]
  },
  {
   "cell_type": "code",
   "execution_count": null,
   "metadata": {
    "collapsed": true,
    "deletable": true,
    "editable": true
   },
   "outputs": [],
   "source": [
    "np.linalg.eigvals(np.dot(new_int1, new_int2))"
   ]
  },
  {
   "cell_type": "code",
   "execution_count": null,
   "metadata": {
    "collapsed": true,
    "deletable": true,
    "editable": true
   },
   "outputs": [],
   "source": [
    "np.linalg.eigvals(np.dot(I_lr, I_rl))"
   ]
  },
  {
   "cell_type": "code",
   "execution_count": null,
   "metadata": {
    "collapsed": true,
    "deletable": true,
    "editable": true
   },
   "outputs": [],
   "source": [
    "new_int1 = (I_lr + I_lr[::-1,::-1])/2"
   ]
  },
  {
   "cell_type": "code",
   "execution_count": null,
   "metadata": {
    "collapsed": true,
    "deletable": true,
    "editable": true
   },
   "outputs": [],
   "source": [
    "new_int2 = (I_rl + I_rl[::-1, ::-1])/2"
   ]
  },
  {
   "cell_type": "code",
   "execution_count": null,
   "metadata": {
    "collapsed": true,
    "deletable": true,
    "editable": true
   },
   "outputs": [],
   "source": [
    "c2p.get_weights()[0]"
   ]
  },
  {
   "cell_type": "code",
   "execution_count": null,
   "metadata": {
    "collapsed": true,
    "deletable": true,
    "editable": true
   },
   "outputs": [],
   "source": [
    "np.dot(I_rl, c2p.get_weights()[1]).sum()"
   ]
  },
  {
   "cell_type": "code",
   "execution_count": null,
   "metadata": {
    "collapsed": true,
    "deletable": true,
    "editable": true
   },
   "outputs": [],
   "source": [
    "np.dot(np.dot(c2p.get_diag_weights()[1], new_int1), np.linalg.inv(c2p.get_diag_weights()[0])).T"
   ]
  },
  {
   "cell_type": "code",
   "execution_count": null,
   "metadata": {
    "collapsed": false,
    "deletable": true,
    "editable": true
   },
   "outputs": [],
   "source": [
    "new_int2"
   ]
  },
  {
   "cell_type": "code",
   "execution_count": null,
   "metadata": {
    "collapsed": true,
    "deletable": true,
    "editable": true
   },
   "outputs": [],
   "source": [
    "new_int2= np.array([[ 0.47913998,  0.6452334 , -0.21919967,  0.02834773,  0.39265603,\n",
    "        -0.39775608,  0.07157862],\n",
    "       [ 0.03097077,  0.37368352,  0.51547025,  0.09433045, -0.05016152,\n",
    "         0.07682102, -0.04111448],\n",
    "       [-0.04111448,  0.07682102, -0.05016152,  0.09433045,  0.51547025,\n",
    "         0.37368352,  0.03097077],\n",
    "       [ 0.07157862, -0.39775608,  0.39265603,  0.02834773, -0.21919967,\n",
    "         0.6452334 ,  0.47913998]])"
   ]
  },
  {
   "cell_type": "code",
   "execution_count": null,
   "metadata": {
    "collapsed": true,
    "deletable": true,
    "editable": true
   },
   "outputs": [],
   "source": [
    "new_int1 = np.array([[ 0.95827995,  0.30970766, -0.41114484,  0.14315723],\n",
    "       [ 0.25809336,  0.74736704,  0.15364203, -0.15910243],\n",
    "       [-0.08767987,  1.03094049, -0.10032303,  0.15706241],\n",
    "       [ 0.02834773,  0.47165227,  0.47165227,  0.02834773],\n",
    "       [ 0.15706241, -0.10032303,  1.03094049, -0.08767987],\n",
    "       [-0.15910243,  0.15364203,  0.74736704,  0.25809336],\n",
    "       [ 0.14315723, -0.41114484,  0.30970766,  0.95827995]])"
   ]
  },
  {
   "cell_type": "code",
   "execution_count": null,
   "metadata": {
    "collapsed": true,
    "deletable": true,
    "editable": true
   },
   "outputs": [],
   "source": [
    "new_int1"
   ]
  },
  {
   "cell_type": "code",
   "execution_count": null,
   "metadata": {
    "collapsed": true,
    "deletable": true,
    "editable": true
   },
   "outputs": [],
   "source": [
    "new_int2"
   ]
  },
  {
   "cell_type": "code",
   "execution_count": null,
   "metadata": {
    "collapsed": true,
    "deletable": true,
    "editable": true
   },
   "outputs": [],
   "source": [
    "new_int1 = np.array([[ 1.   ,  0.   ,  0.   ],\n",
    "       [ 0.375,  0.75 , -0.125],\n",
    "       [ 0.   ,  1.   ,  0.   ],\n",
    "       [-0.125,  0.75 ,  0.375],\n",
    "       [ 0.   ,  0.   ,  1.   ]])\n",
    "\n"
   ]
  },
  {
   "cell_type": "code",
   "execution_count": null,
   "metadata": {
    "collapsed": true,
    "deletable": true,
    "editable": true
   },
   "outputs": [],
   "source": [
    "new_int2 = np.dot(np.dot(c2p.get_diag_weights()[1], new_int1), np.linalg.inv(c2p.get_diag_weights()[0])).T"
   ]
  },
  {
   "cell_type": "code",
   "execution_count": null,
   "metadata": {
    "collapsed": true,
    "deletable": true,
    "editable": true
   },
   "outputs": [],
   "source": [
    "new_int1"
   ]
  },
  {
   "cell_type": "code",
   "execution_count": null,
   "metadata": {
    "collapsed": true,
    "deletable": true,
    "editable": true
   },
   "outputs": [],
   "source": [
    "new_int2"
   ]
  },
  {
   "cell_type": "code",
   "execution_count": null,
   "metadata": {
    "collapsed": true,
    "deletable": true,
    "editable": true
   },
   "outputs": [],
   "source": [
    "new_int1 = normalize((new_int1 + new_int2.T)/2)"
   ]
  },
  {
   "cell_type": "code",
   "execution_count": null,
   "metadata": {
    "collapsed": true,
    "deletable": true,
    "editable": true
   },
   "outputs": [],
   "source": [
    "def normalize(v):\n",
    "    norm=np.linalg.norm(v, ord=1, axis=-1)\n",
    "    return (v.T/norm).T"
   ]
  },
  {
   "cell_type": "code",
   "execution_count": null,
   "metadata": {
    "collapsed": true,
    "deletable": true,
    "editable": true
   },
   "outputs": [],
   "source": [
    "from common.polynom_factory import polynom_factory\n",
    "\n",
    "def get_href_constrain_matrix(order, inversed=False, distribution='uniform'):\n",
    "    glob_func_on_loc_mesh = np.zeros((order+1, order+1))\n",
    "    funcs_prim, glob_grid = polynom_factory(dim=1, order=order,size=(0,2), distribution=distribution)\n",
    "    funcs, local_grid = polynom_factory(dim=1, order=order,size=(0,1), distribution=distribution)\n",
    "    for num1, i in enumerate(local_grid):\n",
    "        for num2, prim_f in enumerate(funcs_prim):\n",
    "            glob_func_on_loc_mesh[num1, num2] = prim_f.subs({'x_1':i[0]})\n",
    "    if(inversed):\n",
    "        return np.linalg.inv(glob_func_on_loc_mesh)\n",
    "    else:\n",
    "        return glob_func_on_loc_mesh"
   ]
  },
  {
   "cell_type": "code",
   "execution_count": null,
   "metadata": {
    "collapsed": true,
    "deletable": true,
    "editable": true
   },
   "outputs": [],
   "source": [
    "a =get_href_constrain_matrix(distribution='globatto', order=4)\n",
    "b = np.vstack((a, a[1:][::-1,::-1]))"
   ]
  },
  {
   "cell_type": "code",
   "execution_count": null,
   "metadata": {
    "collapsed": false,
    "deletable": true,
    "editable": true
   },
   "outputs": [],
   "source": [
    "a[1:][::-1, ::-1]"
   ]
  },
  {
   "cell_type": "code",
   "execution_count": null,
   "metadata": {
    "collapsed": false,
    "deletable": true,
    "editable": true
   },
   "outputs": [],
   "source": [
    "a[1:][::-1, ::-1]"
   ]
  },
  {
   "cell_type": "code",
   "execution_count": null,
   "metadata": {
    "collapsed": false,
    "deletable": true,
    "editable": true
   },
   "outputs": [],
   "source": [
    "b"
   ]
  },
  {
   "cell_type": "code",
   "execution_count": null,
   "metadata": {
    "collapsed": false,
    "deletable": true,
    "editable": true
   },
   "outputs": [],
   "source": [
    "c2p.get_weights()"
   ]
  },
  {
   "cell_type": "code",
   "execution_count": null,
   "metadata": {
    "collapsed": true,
    "deletable": true,
    "editable": true
   },
   "outputs": [],
   "source": [
    "from common import polynom_factory"
   ]
  },
  {
   "cell_type": "code",
   "execution_count": null,
   "metadata": {
    "collapsed": false,
    "deletable": true,
    "editable": true
   },
   "outputs": [],
   "source": []
  },
  {
   "cell_type": "code",
   "execution_count": null,
   "metadata": {
    "collapsed": true,
    "deletable": true,
    "editable": true
   },
   "outputs": [],
   "source": []
  }
 ],
 "metadata": {
  "kernelspec": {
   "display_name": "Python 3",
   "language": "python",
   "name": "python3"
  },
  "language_info": {
   "codemirror_mode": {
    "name": "ipython",
    "version": 3
   },
   "file_extension": ".py",
   "mimetype": "text/x-python",
   "name": "python",
   "nbconvert_exporter": "python",
   "pygments_lexer": "ipython3",
   "version": "3.5.1"
  }
 },
 "nbformat": 4,
 "nbformat_minor": 1
}
